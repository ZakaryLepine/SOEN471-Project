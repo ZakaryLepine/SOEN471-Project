{
 "cells": [
  {
   "cell_type": "code",
   "execution_count": 1,
   "id": "5c8e3b1c817d6a84",
   "metadata": {
    "ExecuteTime": {
     "end_time": "2024-03-28T20:40:30.775319Z",
     "start_time": "2024-03-28T20:39:54.151190Z"
    },
    "collapsed": false,
    "jupyter": {
     "outputs_hidden": false
    }
   },
   "outputs": [
    {
     "name": "stdout",
     "output_type": "stream",
     "text": [
      "Defaulting to user installation because normal site-packages is not writeable\n",
      "Requirement already satisfied: seaborn in /home/umang/.local/lib/python3.10/site-packages (0.13.0)\n",
      "Requirement already satisfied: matplotlib!=3.6.1,>=3.3 in /usr/local/lib/python3.10/dist-packages (from seaborn) (3.8.1)\n",
      "Requirement already satisfied: pandas>=1.2 in /home/umang/.local/lib/python3.10/site-packages (from seaborn) (2.1.2)\n",
      "Requirement already satisfied: numpy!=1.24.0,>=1.20 in /usr/local/lib/python3.10/dist-packages (from seaborn) (1.26.1)\n",
      "Requirement already satisfied: contourpy>=1.0.1 in /usr/local/lib/python3.10/dist-packages (from matplotlib!=3.6.1,>=3.3->seaborn) (1.2.0)\n",
      "Requirement already satisfied: pillow>=8 in /usr/local/lib/python3.10/dist-packages (from matplotlib!=3.6.1,>=3.3->seaborn) (10.0.1)\n",
      "Requirement already satisfied: python-dateutil>=2.7 in /usr/local/lib/python3.10/dist-packages (from matplotlib!=3.6.1,>=3.3->seaborn) (2.8.2)\n",
      "Requirement already satisfied: kiwisolver>=1.3.1 in /usr/local/lib/python3.10/dist-packages (from matplotlib!=3.6.1,>=3.3->seaborn) (1.4.5)\n",
      "Requirement already satisfied: fonttools>=4.22.0 in /usr/local/lib/python3.10/dist-packages (from matplotlib!=3.6.1,>=3.3->seaborn) (4.44.0)\n",
      "Requirement already satisfied: pyparsing>=2.3.1 in /usr/lib/python3/dist-packages (from matplotlib!=3.6.1,>=3.3->seaborn) (2.4.7)\n",
      "Requirement already satisfied: cycler>=0.10 in /usr/local/lib/python3.10/dist-packages (from matplotlib!=3.6.1,>=3.3->seaborn) (0.12.1)\n",
      "Requirement already satisfied: packaging>=20.0 in /usr/local/lib/python3.10/dist-packages (from matplotlib!=3.6.1,>=3.3->seaborn) (23.2)\n",
      "Requirement already satisfied: tzdata>=2022.1 in /home/umang/.local/lib/python3.10/site-packages (from pandas>=1.2->seaborn) (2023.3)\n",
      "Requirement already satisfied: pytz>=2020.1 in /home/umang/.local/lib/python3.10/site-packages (from pandas>=1.2->seaborn) (2023.3.post1)\n",
      "Requirement already satisfied: six>=1.5 in /usr/lib/python3/dist-packages (from python-dateutil>=2.7->matplotlib!=3.6.1,>=3.3->seaborn) (1.16.0)\n",
      "Defaulting to user installation because normal site-packages is not writeable\n",
      "Requirement already satisfied: nltk in /home/umang/.local/lib/python3.10/site-packages (3.8.1)\n",
      "Requirement already satisfied: click in /home/umang/.local/lib/python3.10/site-packages (from nltk) (8.1.7)\n",
      "Requirement already satisfied: tqdm in /home/umang/.local/lib/python3.10/site-packages (from nltk) (4.66.2)\n",
      "Requirement already satisfied: regex>=2021.8.3 in /home/umang/.local/lib/python3.10/site-packages (from nltk) (2023.12.25)\n",
      "Requirement already satisfied: joblib in /home/umang/.local/lib/python3.10/site-packages (from nltk) (1.3.2)\n",
      "Defaulting to user installation because normal site-packages is not writeable\n",
      "Requirement already satisfied: wordcloud in /home/umang/.local/lib/python3.10/site-packages (1.9.3)\n",
      "Requirement already satisfied: matplotlib in /usr/local/lib/python3.10/dist-packages (from wordcloud) (3.8.1)\n",
      "Requirement already satisfied: pillow in /usr/local/lib/python3.10/dist-packages (from wordcloud) (10.0.1)\n",
      "Requirement already satisfied: numpy>=1.6.1 in /usr/local/lib/python3.10/dist-packages (from wordcloud) (1.26.1)\n",
      "Requirement already satisfied: pyparsing>=2.3.1 in /usr/lib/python3/dist-packages (from matplotlib->wordcloud) (2.4.7)\n",
      "Requirement already satisfied: fonttools>=4.22.0 in /usr/local/lib/python3.10/dist-packages (from matplotlib->wordcloud) (4.44.0)\n",
      "Requirement already satisfied: python-dateutil>=2.7 in /usr/local/lib/python3.10/dist-packages (from matplotlib->wordcloud) (2.8.2)\n",
      "Requirement already satisfied: kiwisolver>=1.3.1 in /usr/local/lib/python3.10/dist-packages (from matplotlib->wordcloud) (1.4.5)\n",
      "Requirement already satisfied: packaging>=20.0 in /usr/local/lib/python3.10/dist-packages (from matplotlib->wordcloud) (23.2)\n",
      "Requirement already satisfied: cycler>=0.10 in /usr/local/lib/python3.10/dist-packages (from matplotlib->wordcloud) (0.12.1)\n",
      "Requirement already satisfied: contourpy>=1.0.1 in /usr/local/lib/python3.10/dist-packages (from matplotlib->wordcloud) (1.2.0)\n",
      "Requirement already satisfied: six>=1.5 in /usr/lib/python3/dist-packages (from python-dateutil>=2.7->matplotlib->wordcloud) (1.16.0)\n"
     ]
    }
   ],
   "source": [
    "!pip install seaborn\n",
    "!pip install nltk\n",
    "!pip install wordcloud"
   ]
  },
  {
   "cell_type": "code",
   "execution_count": 2,
   "id": "initial_id",
   "metadata": {
    "ExecuteTime": {
     "end_time": "2024-03-28T20:40:44.329018Z",
     "start_time": "2024-03-28T20:40:30.783515Z"
    }
   },
   "outputs": [],
   "source": [
    "import pandas as pd\n",
    "import numpy as np\n",
    "import matplotlib.pyplot as plt\n",
    "import seaborn as sns\n",
    "import re\n",
    "from nltk.tokenize import word_tokenize\n",
    "from nltk.stem import WordNetLemmatizer\n",
    "from nltk.corpus import stopwords\n",
    "from wordcloud import WordCloud"
   ]
  },
  {
   "cell_type": "code",
   "execution_count": 3,
   "id": "58be404e-eb80-479b-8ee5-633a73fea693",
   "metadata": {},
   "outputs": [],
   "source": [
    "import os.path as path\n",
    "from pyspark.sql import SparkSession\n",
    "from pyspark.sql import column\n",
    "from pyspark.sql.functions import *\n",
    "import matplotlib.pyplot as plt\n",
    "from pyspark.ml.feature import StringIndexer, VectorAssembler,OneHotEncoder\n",
    "from pyspark.ml import Pipeline\n",
    "from pyspark.mllib.util import MLUtils\n",
    "from pyspark.mllib.evaluation import MulticlassMetrics\n",
    "from pyspark.ml.evaluation import MulticlassClassificationEvaluator\n",
    "from pyspark.ml.classification import DecisionTreeClassifier\n",
    "from pyspark.ml.tuning import ParamGridBuilder, CrossValidator"
   ]
  },
  {
   "cell_type": "code",
   "execution_count": 4,
   "id": "80e95008-2ae6-40c8-bc78-cc92118eb66d",
   "metadata": {},
   "outputs": [
    {
     "name": "stderr",
     "output_type": "stream",
     "text": [
      "24/04/03 19:42:48 WARN Utils: Your hostname, DESKTOP-968IKC4 resolves to a loopback address: 127.0.1.1; using 172.31.102.226 instead (on interface eth0)\n",
      "24/04/03 19:42:48 WARN Utils: Set SPARK_LOCAL_IP if you need to bind to another address\n",
      "WARNING: An illegal reflective access operation has occurred\n",
      "WARNING: Illegal reflective access by org.apache.spark.unsafe.Platform (file:/home/umang/.local/lib/python3.10/site-packages/pyspark/jars/spark-unsafe_2.12-3.2.2.jar) to constructor java.nio.DirectByteBuffer(long,int)\n",
      "WARNING: Please consider reporting this to the maintainers of org.apache.spark.unsafe.Platform\n",
      "WARNING: Use --illegal-access=warn to enable warnings of further illegal reflective access operations\n",
      "WARNING: All illegal access operations will be denied in a future release\n",
      "Using Spark's default log4j profile: org/apache/spark/log4j-defaults.properties\n",
      "Setting default log level to \"WARN\".\n",
      "To adjust logging level use sc.setLogLevel(newLevel). For SparkR, use setLogLevel(newLevel).\n",
      "24/04/03 19:42:49 WARN NativeCodeLoader: Unable to load native-hadoop library for your platform... using builtin-java classes where applicable\n"
     ]
    }
   ],
   "source": [
    "def init_spark():\n",
    "  return SparkSession \\\n",
    "        .builder \\\n",
    "        .appName(\"Big data project\") \\\n",
    "        .config(\"spark.executor.memory\", \"16g\") \\\n",
    "        .config(\"spark.driver.memory\", \"16g\") \\\n",
    "        .getOrCreate()\n",
    "\n",
    "spark = init_spark()"
   ]
  },
  {
   "cell_type": "code",
   "execution_count": 5,
   "id": "19654b49-0406-435c-8ca1-0b30c6ab91bb",
   "metadata": {},
   "outputs": [],
   "source": [
    "def get_data_dataframe(dir=\"final_dataset.csv\"):\n",
    "    # Specify the directory where the CSV files are saved\n",
    "    csv_directory = dir\n",
    "    \n",
    "    # Read the CSV files back into a DataFrame\n",
    "    final_df_read = spark.read.option(\"header\", \"true\").option(\"multiline\", \"true\").csv(csv_directory)\n",
    "    \n",
    "    # Add a random column to shuffle data randomly\n",
    "    shuffled_df = final_df_read.withColumn(\"rand\", rand())\n",
    "    shuffled_df = shuffled_df.orderBy(\"rand\")\n",
    "    final_df_read = shuffled_df.drop(\"rand\")\n",
    "    return final_df_read\n",
    "\n"
   ]
  },
  {
   "cell_type": "code",
   "execution_count": 6,
   "id": "bfc7f32c-2b4e-463e-af66-2d6e3fa7972b",
   "metadata": {},
   "outputs": [],
   "source": [
    "df=get_data_dataframe(\"final_dataset_all_imdb.csv\").limit(20000)\n"
   ]
  },
  {
   "cell_type": "code",
   "execution_count": 7,
   "id": "92d518e7-324e-4739-aa7b-9c117590c377",
   "metadata": {},
   "outputs": [
    {
     "data": {
      "text/plain": [
       "['movie_id',\n",
       " 'movie_name',\n",
       " 'genre',\n",
       " 'description',\n",
       " 'director',\n",
       " 'actor1',\n",
       " 'actor2',\n",
       " 'actor3']"
      ]
     },
     "execution_count": 7,
     "metadata": {},
     "output_type": "execute_result"
    }
   ],
   "source": [
    "df.columns"
   ]
  },
  {
   "cell_type": "code",
   "execution_count": 8,
   "id": "96318541-5cdd-4628-a452-32ec642eaf7c",
   "metadata": {},
   "outputs": [
    {
     "data": {
      "text/plain": [
       "[Row(movie_id='tt4519400', movie_name='Check Point', genre='action', description='Port City North Carolina: During a routine camp out, a local vagrant, a former marine discovers plans for an invasion in America. When he tries to notify the local Sheriff about his ...                See full summary\\xa0»', director='Thomas J. Churchill', actor1='Kenny Johnson', actor2='Bill Goldberg', actor3='William Forsythe'),\n",
       " Row(movie_id='tt1417108', movie_name='Torrente 4', genre='action', description='The rude, lewd and crude Spanish ex-police officer Torrente finds himself facing jail time. Can he survive a twisted irony that places him where he has put so many others, both guilty and innocent?', director='Santiago Segura', actor1='Santiago Segura', actor2='Carlos Areces', actor3='Goyo Jiménez')]"
      ]
     },
     "execution_count": 8,
     "metadata": {},
     "output_type": "execute_result"
    }
   ],
   "source": [
    "df.take(2)"
   ]
  },
  {
   "cell_type": "code",
   "execution_count": 9,
   "id": "cbc9754f-d96b-4693-9686-751f8ae24571",
   "metadata": {},
   "outputs": [],
   "source": [
    "# df.drop(\"director\",\"actor2\",\"actor3\")"
   ]
  },
  {
   "cell_type": "code",
   "execution_count": 10,
   "id": "a8c1bf1b-3c52-4f7c-9485-3c39bb138d07",
   "metadata": {},
   "outputs": [
    {
     "name": "stderr",
     "output_type": "stream",
     "text": [
      "[nltk_data] Downloading package punkt to /home/umang/nltk_data...\n",
      "[nltk_data]   Package punkt is already up-to-date!\n",
      "[nltk_data] Downloading package stopwords to /home/umang/nltk_data...\n",
      "[nltk_data]   Package stopwords is already up-to-date!\n",
      "[nltk_data] Downloading package wordnet to /home/umang/nltk_data...\n",
      "[nltk_data]   Package wordnet is already up-to-date!\n"
     ]
    }
   ],
   "source": [
    "import nltk\n",
    "nltk.download('punkt')\n",
    "nltk.download('stopwords')\n",
    "nltk.download('wordnet')\n",
    "\n",
    "stopword = set(stopwords.words('english'))\n",
    "\n",
    "def preprocessing(text):\n",
    "    # Convert text to lowercase\n",
    "    text = text.lower()\n",
    "    \n",
    "    # Remove punctuation using regular expressions\n",
    "    text = re.sub(r'[^\\w\\s]', '', text)\n",
    "    \n",
    "    # Remove specific characters #, @, and $\n",
    "    text = re.sub(r'[#@\\$]', '', text)\n",
    "    \n",
    "    # tokenize and convert to list\n",
    "    tokens = word_tokenize(text)\n",
    "    \n",
    "    ## Lemmatize it \n",
    "    lemmatizer  = WordNetLemmatizer()\n",
    "    \n",
    "    ## lemmatize each token\n",
    "   # text = [lemmatizer.lemmatize(token) for token in tokens]\n",
    "    text = text.split()\n",
    "    \n",
    "    text = [word for word in text if word not in stopword]\n",
    "    \n",
    "    \n",
    "    return \" \".join(text) "
   ]
  },
  {
   "cell_type": "code",
   "execution_count": 11,
   "id": "d3312b75-5150-4bff-917f-f20cf13cbc1e",
   "metadata": {},
   "outputs": [],
   "source": [
    "# pdd=df.toPandas()\n",
    "# # pdd.drop_duplicates(inplace = True)\n",
    "# # pdd.dropna( inplace = True )\n",
    "# pdd.size"
   ]
  },
  {
   "cell_type": "code",
   "execution_count": 12,
   "id": "67e71c1d-ea5e-43e0-ae62-b592c7c5d314",
   "metadata": {},
   "outputs": [],
   "source": [
    "from pyspark.ml.feature import RegexTokenizer, StopWordsRemover, CountVectorizer, IDF, StringIndexer\n",
    "from pyspark.ml.feature import VectorAssembler\n",
    "from pyspark.ml.classification import RandomForestClassifier,RandomForestClassificationModel"
   ]
  },
  {
   "cell_type": "code",
   "execution_count": null,
   "id": "ab36f563-9453-4c4a-80ed-bdceb3f04750",
   "metadata": {},
   "outputs": [],
   "source": []
  },
  {
   "cell_type": "code",
   "execution_count": 13,
   "id": "232f0be3-65ec-4978-a4f6-0fc0b8738442",
   "metadata": {},
   "outputs": [],
   "source": [
    "# df=combined_train_df"
   ]
  },
  {
   "cell_type": "code",
   "execution_count": 14,
   "id": "358a2add-d7c9-4a4c-8b74-e715dc2e2a97",
   "metadata": {},
   "outputs": [],
   "source": [
    "# df\n",
    "# "
   ]
  },
  {
   "cell_type": "code",
   "execution_count": 15,
   "id": "24c1171c-2197-4e1b-8807-e3cf72246aaa",
   "metadata": {},
   "outputs": [],
   "source": [
    "# Remove duplicate rows\n",
    "df = df.dropDuplicates()\n",
    "\n",
    "# Remove rows with null values\n",
    "# df_no_null = df_no_duplicates.dropna()\n"
   ]
  },
  {
   "cell_type": "code",
   "execution_count": 16,
   "id": "40158697-09ab-4cb8-a585-1d36049adb37",
   "metadata": {},
   "outputs": [
    {
     "data": {
      "text/plain": [
       "20000"
      ]
     },
     "execution_count": 16,
     "metadata": {},
     "output_type": "execute_result"
    }
   ],
   "source": [
    "df.count()"
   ]
  },
  {
   "cell_type": "code",
   "execution_count": 17,
   "id": "b97c2339-01f6-400a-9a1e-c12aefa016c6",
   "metadata": {},
   "outputs": [],
   "source": [
    "# df=df_no_duplicates"
   ]
  },
  {
   "cell_type": "code",
   "execution_count": 18,
   "id": "302eb5e8-9b6b-49db-b83c-682eab8786fb",
   "metadata": {},
   "outputs": [],
   "source": [
    "# df = df.select([sum (col(c).isNull().cast(\"int\")).alias(c) for c in df.columns])\n",
    "\n",
    "# # Show the count of null values for each column\n",
    "# df.show()\n"
   ]
  },
  {
   "cell_type": "code",
   "execution_count": 19,
   "id": "b43824c7-7de8-4c77-b2d8-631bf0eb668a",
   "metadata": {},
   "outputs": [],
   "source": [
    "df = df.dropna()"
   ]
  },
  {
   "cell_type": "code",
   "execution_count": 20,
   "id": "78f91e52-916f-4acf-9dc7-177fd0642708",
   "metadata": {},
   "outputs": [
    {
     "name": "stderr",
     "output_type": "stream",
     "text": [
      "                                                                                \r"
     ]
    }
   ],
   "source": [
    "# df = df.select([sum (col(c).isNull().cast(\"int\")).alias(c) for c in df.columns])\n",
    "\n",
    "# # Show the count of null values for each column\n",
    "# df.show()\n",
    "# Tokenization, stop word removal, and TF-IDF transformation for text data\n",
    "director_indexer = StringIndexer(inputCol=\"director\", outputCol=\"director_indexed\")\n",
    "actor1_indexer = StringIndexer(inputCol=\"actor1\", outputCol=\"actor1_indexed\")\n",
    "actor2_indexer = StringIndexer(inputCol=\"actor2\", outputCol=\"actor2_indexed\")\n",
    "actor3_indexer = StringIndexer(inputCol=\"actor3\", outputCol=\"actor3_indexed\")\n",
    "\n",
    "tokenizer = RegexTokenizer(inputCol=\"description\", outputCol=\"words\", pattern=\"\\\\W\")\n",
    "remover = StopWordsRemover(inputCol=\"words\", outputCol=\"filtered_words\")\n",
    "vectorizer = CountVectorizer(inputCol=\"filtered_words\", outputCol=\"raw_features\")\n",
    "idf = IDF(inputCol=\"raw_features\", outputCol=\"description_clean\")\n",
    "\n",
    "# Encoding genre labels\n",
    "genre_indexer = StringIndexer(inputCol=\"genre\", outputCol=\"label\")\n",
    "\n",
    "assembler = VectorAssembler(inputCols=[\"description_clean\"], outputCol=\"features\")\n",
    "\n",
    "\n",
    "pipeline = Pipeline(stages=[director_indexer,actor1_indexer,actor2_indexer,actor3_indexer,tokenizer,remover,vectorizer, idf,genre_indexer,assembler])\n",
    "transformed_df = pipeline.fit(df).transform(df)\n",
    "# Combine the preprocessed text features with the genre labels\n",
    "# combined_train_df = genre_indexer.fit(transformed_train_df).transform(transformed_train_df)\n"
   ]
  },
  {
   "cell_type": "code",
   "execution_count": 21,
   "id": "f6dead36-bbb6-4ae1-b138-6ed713802b1b",
   "metadata": {},
   "outputs": [],
   "source": [
    "df=transformed_df"
   ]
  },
  {
   "cell_type": "code",
   "execution_count": 22,
   "id": "20c2799e-0e3a-4a06-87c3-a8861a234f6c",
   "metadata": {},
   "outputs": [
    {
     "name": "stderr",
     "output_type": "stream",
     "text": [
      "24/04/03 19:43:02 WARN DAGScheduler: Broadcasting large task binary with size 4.4 MiB\n",
      "                                                                                \r"
     ]
    },
    {
     "name": "stdout",
     "output_type": "stream",
     "text": [
      "Training set count: 15339\n"
     ]
    },
    {
     "name": "stderr",
     "output_type": "stream",
     "text": [
      "24/04/03 19:43:03 WARN DAGScheduler: Broadcasting large task binary with size 4.4 MiB\n"
     ]
    },
    {
     "name": "stdout",
     "output_type": "stream",
     "text": [
      "Testing set count: 3763\n"
     ]
    }
   ],
   "source": [
    "# Split the data into training and testing sets\n",
    "train_df, test_df = df.randomSplit([0.8, 0.2], seed=42)\n",
    "\n",
    "# Show the number of rows in each set\n",
    "print(\"Training set count:\", train_df.count())\n",
    "print(\"Testing set count:\", test_df.count())"
   ]
  },
  {
   "cell_type": "code",
   "execution_count": 23,
   "id": "ef336288-2735-41dc-a3ff-03bc5ab579ba",
   "metadata": {},
   "outputs": [
    {
     "name": "stderr",
     "output_type": "stream",
     "text": [
      "24/04/03 19:43:04 WARN DAGScheduler: Broadcasting large task binary with size 4.5 MiB\n",
      "                                                                                \r"
     ]
    },
    {
     "name": "stdout",
     "output_type": "stream",
     "text": [
      "+---------+-----+\n",
      "|    genre|count|\n",
      "+---------+-----+\n",
      "|adventure| 3088|\n",
      "|    crime| 3155|\n",
      "|   action| 2989|\n",
      "|  romance| 3149|\n",
      "|   horror| 2958|\n",
      "+---------+-----+\n",
      "\n"
     ]
    },
    {
     "name": "stderr",
     "output_type": "stream",
     "text": [
      "24/04/03 19:43:04 WARN DAGScheduler: Broadcasting large task binary with size 4.5 MiB\n"
     ]
    },
    {
     "name": "stdout",
     "output_type": "stream",
     "text": [
      "       genre  count\n",
      "0  adventure   3088\n",
      "1      crime   3155\n",
      "2     action   2989\n",
      "3    romance   3149\n",
      "4     horror   2958\n"
     ]
    },
    {
     "name": "stderr",
     "output_type": "stream",
     "text": [
      "                                                                                \r"
     ]
    },
    {
     "data": {
      "image/png": "[encoded data removed]",
      "text/plain": [
       "<Figure size 800x600 with 1 Axes>"
      ]
     },
     "metadata": {},
     "output_type": "display_data"
    },
    {
     "name": "stderr",
     "output_type": "stream",
     "text": [
      "24/04/03 19:43:05 WARN DAGScheduler: Broadcasting large task binary with size 4.5 MiB\n"
     ]
    },
    {
     "name": "stdout",
     "output_type": "stream",
     "text": [
      "+---------+-----+\n",
      "|    genre|count|\n",
      "+---------+-----+\n",
      "|adventure|  748|\n",
      "|   action|  746|\n",
      "|    crime|  760|\n",
      "|  romance|  768|\n",
      "|   horror|  741|\n",
      "+---------+-----+\n",
      "\n"
     ]
    },
    {
     "name": "stderr",
     "output_type": "stream",
     "text": [
      "24/04/03 19:43:06 WARN DAGScheduler: Broadcasting large task binary with size 4.5 MiB\n"
     ]
    },
    {
     "name": "stdout",
     "output_type": "stream",
     "text": [
      "       genre  count\n",
      "0  adventure    748\n",
      "1     action    746\n",
      "2      crime    760\n",
      "3    romance    768\n",
      "4     horror    741\n"
     ]
    },
    {
     "data": {
      "image/png": "[encoded data removed]",
      "text/plain": [
       "<Figure size 800x600 with 1 Axes>"
      ]
     },
     "metadata": {},
     "output_type": "display_data"
    }
   ],
   "source": [
    "def print_class_distribution(df):\n",
    "    # Group the DataFrame by the \"genre\" column and count the occurrences of each genre\n",
    "    genre_counts = df.groupBy(\"genre\").count()\n",
    "    # Show the genre counts\n",
    "    genre_counts.show()\n",
    "    class_counts = genre_counts.toPandas()\n",
    "    print(class_counts)\n",
    "    plt.figure(figsize=(8, 6))\n",
    "    sns.barplot(x=\"genre\", y=\"count\", data=class_counts)\n",
    "    plt.title(\"Class Distribution\")\n",
    "    plt.xlabel(\"Class\")\n",
    "    plt.ylabel(\"Count\")\n",
    "    plt.show()\n",
    "    \n",
    "\n",
    "# def show_class_frequency_distribution(df):\n",
    "#        # Plot class distribution\n",
    "#     plt.figure(figsize=(8, 6))\n",
    "#     sns.barplot(x=\"class\", y=\"count\", data=class_counts)\n",
    "#     plt.title(\"Class Distribution\")\n",
    "#     plt.xlabel(\"Class\")\n",
    "#     plt.ylabel(\"Count\")\n",
    "#     plt.show()\n",
    "#     plt.savefig(plots_dir + '/class_distribution.jpeg', dpi=300, bbox_inches='tight')\n",
    "    #plt.show()\n",
    "print_class_distribution(train_df)\n",
    "print_class_distribution(test_df)"
   ]
  },
  {
   "cell_type": "code",
   "execution_count": 24,
   "id": "4ea2740a-8119-4bc7-abf4-22b7f4d379e4",
   "metadata": {},
   "outputs": [
    {
     "data": {
      "text/plain": [
       "DataFrame[movie_id: string, movie_name: string, genre: string, description: string, director: string, actor1: string, actor2: string, actor3: string, director_indexed: double, actor1_indexed: double, actor2_indexed: double, actor3_indexed: double, words: array<string>, filtered_words: array<string>, raw_features: vector, description_clean: vector, label: double, features: vector]"
      ]
     },
     "execution_count": 24,
     "metadata": {},
     "output_type": "execute_result"
    }
   ],
   "source": [
    "df"
   ]
  },
  {
   "cell_type": "code",
   "execution_count": 25,
   "id": "8eb32f3a-969c-4313-a1a3-ca1d572af4f0",
   "metadata": {},
   "outputs": [],
   "source": [
    "# show_class_frequency_distribution(\"./"
   ]
  },
  {
   "cell_type": "code",
   "execution_count": 26,
   "id": "6d406242-3993-4f3d-90ce-ab7c725de230",
   "metadata": {},
   "outputs": [],
   "source": [
    "def print_and_return_mapping_of_index_to_label(df,predicting='genre'):\n",
    "    # Collect distinct pairs of (label, genre)\n",
    "    label_genre_mapping = df.select(\"label\", predicting).distinct().collect()\n",
    "    map={}\n",
    "    # Print the mapping\n",
    "    for mapping in label_genre_mapping:\n",
    "        print(\"Label %s is mapped to genre '%s'\" % (mapping.label, mapping.genre))\n",
    "        map[mapping.label]= mapping.genre\n",
    "    return map"
   ]
  },
  {
   "cell_type": "code",
   "execution_count": 27,
   "id": "f5f28439-27b8-43b1-8c43-5b995d7909eb",
   "metadata": {},
   "outputs": [
    {
     "name": "stdout",
     "output_type": "stream",
     "text": [
      "Label 3.0 is mapped to genre 'action'\n",
      "Label 1.0 is mapped to genre 'crime'\n",
      "Label 2.0 is mapped to genre 'adventure'\n",
      "Label 4.0 is mapped to genre 'horror'\n",
      "Label 0.0 is mapped to genre 'romance'\n"
     ]
    }
   ],
   "source": [
    "mapping=print_and_return_mapping_of_index_to_label(df)"
   ]
  },
  {
   "cell_type": "code",
   "execution_count": 28,
   "id": "a67e479b-c6d3-4b5e-8dab-ab337d1fd6b6",
   "metadata": {},
   "outputs": [
    {
     "data": {
      "text/plain": [
       "{3.0: 'action', 1.0: 'crime', 2.0: 'adventure', 4.0: 'horror', 0.0: 'romance'}"
      ]
     },
     "execution_count": 28,
     "metadata": {},
     "output_type": "execute_result"
    }
   ],
   "source": [
    "mapping"
   ]
  },
  {
   "cell_type": "code",
   "execution_count": 29,
   "id": "0500c0f4-61da-40a0-bbe1-4a89f0b99182",
   "metadata": {},
   "outputs": [],
   "source": [
    "# Train the model\n",
    "# model = pipeline.fit(train_df)\n",
    "# Define the Random Forest classifier\n",
    "rf_classifier = RandomForestClassifier(labelCol=\"label\", featuresCol=\"features\",maxBins=50000,)\n",
    "\n",
    "\n",
    "\n",
    "# Make predictions\n",
    "# predictions = model.transform(test_df)"
   ]
  },
  {
   "cell_type": "code",
   "execution_count": 31,
   "id": "ef3808de-e191-48da-abfc-a0493dff72fe",
   "metadata": {},
   "outputs": [
    {
     "name": "stderr",
     "output_type": "stream",
     "text": [
      "24/04/03 19:43:30 WARN DAGScheduler: Broadcasting large task binary with size 2.6 MiB\n",
      "24/04/03 19:43:30 WARN DAGScheduler: Broadcasting large task binary with size 2.6 MiB\n",
      "24/04/03 19:43:30 WARN DecisionTreeMetadata: DecisionTree reducing maxBins from 50000 to 19102 (= number of training instances)\n",
      "24/04/03 19:43:30 WARN DAGScheduler: Broadcasting large task binary with size 2.9 MiB\n",
      "24/04/03 19:43:44 WARN DAGScheduler: Broadcasting large task binary with size 3.3 MiB\n",
      "24/04/03 19:43:48 WARN DAGScheduler: Broadcasting large task binary with size 3.4 MiB\n",
      "24/04/03 19:43:49 WARN DAGScheduler: Broadcasting large task binary with size 3.4 MiB\n",
      "24/04/03 19:43:49 WARN DAGScheduler: Broadcasting large task binary with size 3.4 MiB\n",
      "24/04/03 19:43:50 WARN DAGScheduler: Broadcasting large task binary with size 3.5 MiB\n"
     ]
    }
   ],
   "source": [
    "# Train the Random Forest classifier large task binary with size 5.1 MiB\n",
    "# 24/04/03 19:32:39 WARN DAGScheduler: Broadcasting large task binary with size 5.2 MiB\n",
    "# 24/04/03 19:32:41 WARN DAGScheduler: Broadcasting large task binary with size 5.4 MiB\n",
    "# 24/04/03 19:32:41 WARN DAGScheduler: Broadcasting large task binary with size 5.6 MiB\n",
    "# 24/04/03 19:32:43 WARN DAGScheduler: Broadcasting large task binary with size 5.7 MiB\n",
    "                                                                                \n",
    "\n",
    "model = rf_classifier.fit(df)"
   ]
  },
  {
   "cell_type": "code",
   "execution_count": null,
   "id": "3035a813-b0cf-407c-9731-e25fc904c2b8",
   "metadata": {},
   "outputs": [],
   "source": [
    "# rfc_path = \"models/rfc\"\n",
    "\n",
    "# rfc_model_path = \"models/rfc_model\"\n"
   ]
  },
  {
   "cell_type": "code",
   "execution_count": null,
   "id": "933cf887-fa09-480b-94c3-864b50563520",
   "metadata": {},
   "outputs": [],
   "source": [
    "# rf_classifier.save(rfc_path)\n",
    "# model.save(rfc_model_path)"
   ]
  },
  {
   "cell_type": "code",
   "execution_count": null,
   "id": "d9c677ab-1c1e-4c81-9cd6-90949430cef4",
   "metadata": {},
   "outputs": [],
   "source": [
    "# model = RandomForestClassificationModel.load(rfc_model_path)"
   ]
  },
  {
   "cell_type": "code",
   "execution_count": 32,
   "id": "95bb5a43-b60a-41ed-95fa-c2930bea8933",
   "metadata": {},
   "outputs": [],
   "source": [
    "evaluator = MulticlassClassificationEvaluator(labelCol=\"label\", predictionCol=\"prediction\", metricName=\"accuracy\")"
   ]
  },
  {
   "cell_type": "code",
   "execution_count": 33,
   "id": "c77f1552-821b-4623-950c-e96054f1820f",
   "metadata": {},
   "outputs": [
    {
     "name": "stderr",
     "output_type": "stream",
     "text": [
      "24/04/03 19:44:07 WARN DAGScheduler: Broadcasting large task binary with size 4.6 MiB\n"
     ]
    },
    {
     "name": "stdout",
     "output_type": "stream",
     "text": [
      "Accuracy: 0.36938612808929044\n"
     ]
    }
   ],
   "source": [
    "predictions = model.transform(test_df)\n",
    "\n",
    "accuracy = evaluator.evaluate(predictions)\n",
    "print(\"Accuracy:\", accuracy)"
   ]
  },
  {
   "cell_type": "code",
   "execution_count": 34,
   "id": "015aa503-b77d-4bd9-85d7-d6dfa6c824e8",
   "metadata": {},
   "outputs": [
    {
     "name": "stdout",
     "output_type": "stream",
     "text": [
      "(28334,[3,4,5,6,9,13,16,19,22,24,25,28,32,42,50,51,55,56,69,70,71,83,85,90,91,93,96,97,100,105,108,116,119,120,130,137,140,145,151,152,156,159,161,170,172,178,179,185,188,202,203,207,208,212,217,222,223,226,229,240,244,251,254,261,266,269,272,275,277,283,309,315,324,327,331,334,336,342,354,356,362,367,371,385,389,393,395,402,417,419,423,439,445,446,447,458,482,491,494,510,514,531,535,543,546,549,556,569,570,579,636,651,662,667,670,689,753,756,770,779,785,793,798,813,875,887,890,924,932,934,945,977,999,1006,1013,1022,1044,1045,1054,1074,1076,1083,1103,1120,1129,1209,1215,1216,1238,1258,1269,1278,1288,1299,1329,1354,1413,1433,1462,1469,1532,1564,1590,1597,1626,1707,1739,1746,1786,1809,1897,1907,1975,1979,1992,1999,2019,2027,2043,2099,2116,2145,2160,2273,2274,2471,2474,2746,2769,2784,2870,2872,2886,2911,2922,3011,3059,3104,3159,3195,3358,3379,3402,3479,3591,3630,3657,3739,3798,3909,3955,4111,4137,4254,4509,4762,4971,5073,5390,5428,5597,5607,5646,6178,6801,7575,8397,9265,9778,9824,10884,11018,11225,11434,11609,12360,13566,14251,14552,15270,15743,15955,19834,22034,22469,23182,23699,24469,26849,27526],[0.0005339099385900136,0.004262499458541552,0.00046693855837182737,0.011466886199272008,0.021847757576897282,0.005754260178339847,0.011125677559953771,0.0005261553620485681,0.016681416306908226,0.007650096017665954,0.028354640266068,0.0015686800223828185,0.0008962972088927261,0.027304181761402528,0.0005399437043031147,0.005890177626090893,0.023396105840057198,0.007510679699116802,0.006898418880426918,0.0009099934824093732,0.002166197035172715,0.018279248117590362,0.005423827503797043,0.011599985515942103,0.009037431373993985,0.011152525240662193,0.0006263628893726695,0.0020787245949452342,0.00034827755209887527,0.011592676532117872,0.0010845199400180204,0.0039503819568954155,0.010920466402471263,0.002995016471748361,0.00043666714596061026,0.007083502197248704,0.04299378454383149,0.0017295443408403023,0.02486239786529961,0.02882857402453813,0.026784078434885682,0.0017996546992552693,0.0095845351474902,0.010430605815402613,0.03105116198509818,0.0009169919196870089,0.0011272411411433127,0.014087273574747965,0.008193478422406357,0.0004884670426319683,0.0003031879142887484,0.023197341154646545,0.000856482536537916,0.0030895455065899765,0.007462136336896157,0.0008480771576072515,0.008542239025259291,0.0004714086697903584,0.00033630508749655033,0.004200465087526996,0.0007243840996207997,0.003561394952214403,0.004124698465002516,0.0006357165944764085,0.0014193820999067388,0.004139333006249341,0.001594208145610166,0.01360869047586839,0.008359821049019138,0.0022077416160279145,0.00040402764874208826,0.000341191794615497,0.01266983579126145,0.0009315919453110762,0.0072151821613418935,0.005883540817372083,0.00988051415373839,0.013006221674357209,0.0011022494692068136,0.013360498812614618,0.0005458398410945146,0.002680152153357824,0.0002431566248972904,0.008288107807447717,0.0021417034205928626,0.013528355116020725,0.0012328897898185968,0.015281866717212642,0.00028560361872291117,0.00948050386994169,0.0047865159987972245,0.0009305987619394337,0.006870873062984114,0.007091094045449908,0.002954696289665446,0.0005041340496224727,0.015248415148651832,0.00042482984219673574,0.001620773512060332,0.006521305717959144,0.0010497857314009668,0.009864944404677261,0.005530763651110818,0.00030141896333770883,0.003062656388969263,0.0012136365043925717,0.0006006182052349998,0.007750078614933276,0.001776823844517076,0.00353124700818507,0.0007524137041591877,0.002125744079386793,0.0007548801774280706,0.006327974005212744,0.0004983595062196695,0.0005381427810704282,0.0015060113989351204,0.015034404135208327,0.00013209300614251725,0.0006836455442851123,0.0066790039867305785,0.0007162943849544702,0.005459864564222881,0.0006031183573503849,0.0025663666668648694,0.0002581835391517763,0.0006500801208338059,0.0009815788825825078,0.0011619347714266778,0.0072722165185075726,0.005475294539598914,0.002793797984921422,0.007151373847156044,0.0023173915377791123,0.0017520962686197006,0.0004354651533771239,0.0033224326703752733,0.0004832837980457364,0.0014495635193318137,0.001020349843899522,0.00043388122003096155,0.006765767601183142,0.005880466563485934,0.0007146875803877924,0.001297856155275362,0.0017364029761429952,0.0022581775034760526,0.003121025680494105,0.0012837832485981643,0.00324750990949018,0.00046288988547778964,0.000497772225739404,0.001566997807738799,0.0004669437184042463,0.0004860084255758122,0.004984489184100125,0.0006427063539565097,0.0011628007551092894,0.011381272037682827,0.0008995448399531987,0.0004656113902101037,0.0004160446531397352,0.002355140975858562,0.0005383839389745842,0.0003924886311836982,0.00047553152740978957,0.0027495586328504656,0.0013872451467012853,0.0002965178419826273,0.0008257243496576842,0.0057903556662357554,0.007805150837354733,0.00010367131590035206,0.00020290747571542967,0.00040064533329136096,0.0012986552406083912,0.0008067657740885113,0.0004520858193493554,0.0010171300693477116,0.0009935347234017974,0.0010548340961277743,0.00048435144125493585,0.000781990477025931,0.0003403619028797676,0.00043448445026453335,0.0008099113820226589,0.0006534476299250193,0.0005752720968370216,0.00529651959799422,0.0011615976629391856,0.0022624893698302505,0.0007761151637930158,0.0014777690300968665,0.000814327011947275,0.0007545213596942345,0.0007670239497892563,0.0011675182967361424,0.0019519523978862856,0.00044292471723942137,0.0008843537817512191,0.0015381634775091214,0.0004941028205130965,0.0017416792285014577,0.0005624551374112275,0.0001264862937820627,0.001142481959351591,0.0009498875352464888,0.0011180881762784933,0.003647727128584886,0.0005018523871545747,0.00031789351067628097,0.0009419598331182549,0.00043562322505218945,0.0006879430268148737,0.0012963942142529747,0.0007025908339064114,0.0004304136092756704,4.115268261999915e-05,0.00048671429368108674,0.0004605644912187498,0.0005447560686354862,0.0006805151487824049,0.0007079455539110899,0.0012457150023060526,0.0015808974691551812,0.0004377384054771992,0.0004606478986444334,0.0009823209008898986,0.0002594702505297237,0.0010091113964411501,0.000824675890061452,0.0011520158477771535,0.0004710703919046396,0.00021953996844214908,0.0007447343286810845,0.0004834390692011499,0.0013670789992300948,0.0014243458632922058,0.001710552173696607,0.00046932319240015506,0.0012598606138188111,0.0008359666257790866,0.0007047362274081988,0.0009479702033341857,0.0007846582844529496,0.0010910792115875242,0.0007108220842851539,0.0003863559963214565,0.0014772998533262682,0.00048280806047677587])\n"
     ]
    }
   ],
   "source": [
    "fi=model.featureImportances\n",
    "print(fi)"
   ]
  },
  {
   "cell_type": "code",
   "execution_count": 35,
   "id": "b0b2ac87-54a6-4890-9cf2-17f87dae05bf",
   "metadata": {},
   "outputs": [
    {
     "name": "stdout",
     "output_type": "stream",
     "text": [
      "Feature movie_id: 0.0\n",
      "Feature movie_name: 0.0\n",
      "Feature genre: 0.0\n",
      "Feature description: 0.0005339099385900136\n",
      "Feature director: 0.004262499458541552\n",
      "Feature actor1: 0.00046693855837182737\n",
      "Feature actor2: 0.011466886199272008\n",
      "Feature actor3: 0.0\n",
      "Feature director_indexed: 0.0\n",
      "Feature actor1_indexed: 0.021847757576897282\n",
      "Feature actor2_indexed: 0.0\n",
      "Feature actor3_indexed: 0.0\n",
      "Feature words: 0.0\n",
      "Feature filtered_words: 0.005754260178339847\n",
      "Feature raw_features: 0.0\n",
      "Feature description_clean: 0.0\n",
      "Feature features: 0.011125677559953771\n"
     ]
    },
    {
     "ename": "IndexError",
     "evalue": "list index out of range",
     "output_type": "error",
     "traceback": [
      "\u001b[0;31m---------------------------------------------------------------------------\u001b[0m",
      "\u001b[0;31mIndexError\u001b[0m                                Traceback (most recent call last)",
      "Cell \u001b[0;32mIn[35], line 3\u001b[0m\n\u001b[1;32m      1\u001b[0m feature_columns \u001b[38;5;241m=\u001b[39m [col \u001b[38;5;28;01mfor\u001b[39;00m col \u001b[38;5;129;01min\u001b[39;00m df\u001b[38;5;241m.\u001b[39mcolumns \u001b[38;5;28;01mif\u001b[39;00m col \u001b[38;5;241m!=\u001b[39m \u001b[38;5;124m'\u001b[39m\u001b[38;5;124mlabel\u001b[39m\u001b[38;5;124m'\u001b[39m] \n\u001b[1;32m      2\u001b[0m \u001b[38;5;28;01mfor\u001b[39;00m i, importance \u001b[38;5;129;01min\u001b[39;00m \u001b[38;5;28menumerate\u001b[39m(fi):\n\u001b[0;32m----> 3\u001b[0m     \u001b[38;5;28mprint\u001b[39m(\u001b[38;5;124m\"\u001b[39m\u001b[38;5;124mFeature \u001b[39m\u001b[38;5;132;01m{}\u001b[39;00m\u001b[38;5;124m: \u001b[39m\u001b[38;5;132;01m{}\u001b[39;00m\u001b[38;5;124m\"\u001b[39m\u001b[38;5;241m.\u001b[39mformat(\u001b[43mfeature_columns\u001b[49m\u001b[43m[\u001b[49m\u001b[43mi\u001b[49m\u001b[43m]\u001b[49m,importance))\n",
      "\u001b[0;31mIndexError\u001b[0m: list index out of range"
     ]
    }
   ],
   "source": [
    "feature_columns = [col for col in df.columns if col != 'label'] \n",
    "for i, importance in enumerate(fi):\n",
    "    print(\"Feature {}: {}\".format(feature_columns[i],importance))"
   ]
  },
  {
   "cell_type": "code",
   "execution_count": 38,
   "id": "48e0e2c6-883d-461c-84e7-8750bef6dde8",
   "metadata": {},
   "outputs": [],
   "source": [
    "# plt.figure(figsize=(10, 6))\n",
    "# plt.barh(range(len(feature_columns)), fi.toArray(), align='center')\n",
    "# plt.yticks(range(len(feature_names)), feature_names)\n",
    "# plt.xlabel('Feature Importance')\n",
    "# plt.ylabel('Feature')\n",
    "# plt.title('Feature Importances')\n",
    "# plt.show()"
   ]
  },
  {
   "cell_type": "code",
   "execution_count": null,
   "id": "b0d9bfc5-14b6-4312-90be-edd3b21dec58",
   "metadata": {},
   "outputs": [],
   "source": []
  },
  {
   "cell_type": "code",
   "execution_count": 39,
   "id": "a725488e-9494-4994-856a-4b2bf2646346",
   "metadata": {},
   "outputs": [
    {
     "name": "stderr",
     "output_type": "stream",
     "text": [
      "24/04/03 19:44:26 WARN DAGScheduler: Broadcasting large task binary with size 4.6 MiB\n",
      "                                                                                \r"
     ]
    },
    {
     "data": {
      "text/plain": [
       "[Row(genre='adventure', label=2.0, prediction=0.0),\n",
       " Row(genre='action', label=3.0, prediction=0.0),\n",
       " Row(genre='action', label=3.0, prediction=4.0),\n",
       " Row(genre='crime', label=1.0, prediction=0.0),\n",
       " Row(genre='romance', label=0.0, prediction=0.0),\n",
       " Row(genre='romance', label=0.0, prediction=0.0),\n",
       " Row(genre='crime', label=1.0, prediction=0.0),\n",
       " Row(genre='romance', label=0.0, prediction=0.0),\n",
       " Row(genre='adventure', label=2.0, prediction=0.0),\n",
       " Row(genre='adventure', label=2.0, prediction=0.0),\n",
       " Row(genre='romance', label=0.0, prediction=0.0),\n",
       " Row(genre='romance', label=0.0, prediction=2.0),\n",
       " Row(genre='romance', label=0.0, prediction=0.0),\n",
       " Row(genre='adventure', label=2.0, prediction=0.0),\n",
       " Row(genre='horror', label=4.0, prediction=0.0),\n",
       " Row(genre='adventure', label=2.0, prediction=1.0),\n",
       " Row(genre='romance', label=0.0, prediction=1.0),\n",
       " Row(genre='adventure', label=2.0, prediction=2.0),\n",
       " Row(genre='adventure', label=2.0, prediction=0.0),\n",
       " Row(genre='crime', label=1.0, prediction=0.0),\n",
       " Row(genre='romance', label=0.0, prediction=0.0),\n",
       " Row(genre='action', label=3.0, prediction=1.0),\n",
       " Row(genre='crime', label=1.0, prediction=0.0),\n",
       " Row(genre='crime', label=1.0, prediction=1.0),\n",
       " Row(genre='romance', label=0.0, prediction=0.0),\n",
       " Row(genre='crime', label=1.0, prediction=1.0),\n",
       " Row(genre='romance', label=0.0, prediction=0.0),\n",
       " Row(genre='adventure', label=2.0, prediction=2.0),\n",
       " Row(genre='romance', label=0.0, prediction=0.0),\n",
       " Row(genre='crime', label=1.0, prediction=0.0)]"
      ]
     },
     "execution_count": 39,
     "metadata": {},
     "output_type": "execute_result"
    }
   ],
   "source": [
    "predictions.select(\"genre\",\"label\",\"prediction\").head(30)"
   ]
  },
  {
   "cell_type": "code",
   "execution_count": 40,
   "id": "bcf261ca-feec-44bf-a33b-d682d9c9014e",
   "metadata": {},
   "outputs": [],
   "source": [
    "\n",
    "\n",
    "def print_statistis(predictions):\n",
    "\n",
    "    # Compute raw scores on the test set\n",
    "    predictionAndLabels = predictions.rdd.map(lambda lp: (lp.prediction, lp.label))\n",
    "    \n",
    "    # Instantiate metrics object\n",
    "    metrics = MulticlassMetrics(predictionAndLabels)\n",
    "    confusion_matrix = metrics.confusionMatrix().toArray()\n",
    "    \n",
    "    # Overall statistics\n",
    "    precision = metrics.precision(1.0)\n",
    "    recall = metrics.recall(1.0)\n",
    "    f1Score = metrics.fMeasure(1.0)\n",
    "    total_predictions = confusion_matrix.sum(axis=1)\n",
    "    print(\"Summary Stats\")\n",
    "    print(\"Precision = %s\" % precision)\n",
    "    print(\"Recall = %s\" % recall)\n",
    "    print(\"F1 Score = %s\" % f1Score)\n",
    "    \n",
    "    # Statistics by class\n",
    "    labels = predictions.rdd.map(lambda lp: lp.label).distinct().collect()\n",
    "    accuracies = {}\n",
    "    for label in sorted(labels):\n",
    "        # print(\"______________________\"+mapping[label]+\"_____________________\")\n",
    "        print(\"Class %s precision = %s\" % (label, metrics.precision(label)))\n",
    "        print(\"Class %s recall = %s\" % (label, metrics.recall(label)))\n",
    "        print(\"Class %s F1 Measure = %s\" % (label, metrics.fMeasure(label, beta=1.0)))\n",
    "        \n",
    "    \n",
    "    # Calculate the accuracy for each label\n",
    "    print(total_predictions)\n",
    "    for label in range(len(total_predictions)):\n",
    "        correct_predictions = confusion_matrix[label, label]\n",
    "        accuracy = correct_predictions / total_predictions[label]\n",
    "        accuracies[label] = accuracy\n",
    "    \n",
    "    # Print accuracies for each label\n",
    "    for label, accuracy in accuracies.items():\n",
    "        print(\"Accuracy for label %s: %s\" % (label, accuracy))\n"
   ]
  },
  {
   "cell_type": "code",
   "execution_count": 41,
   "id": "c2554d92-a669-412f-b66c-f2e716abf29e",
   "metadata": {},
   "outputs": [
    {
     "name": "stderr",
     "output_type": "stream",
     "text": [
      "/home/umang/.local/lib/python3.10/site-packages/pyspark/sql/context.py:125: FutureWarning: Deprecated in 3.0.0. Use SparkSession.builder.getOrCreate() instead.\n",
      "  warnings.warn(\n",
      "24/04/03 19:44:27 WARN DAGScheduler: Broadcasting large task binary with size 4.6 MiB\n",
      "24/04/03 19:44:28 WARN DAGScheduler: Broadcasting large task binary with size 4.6 MiB\n",
      "24/04/03 19:45:36 WARN DAGScheduler: Broadcasting large task binary with size 4.6 MiB\n"
     ]
    },
    {
     "name": "stdout",
     "output_type": "stream",
     "text": [
      "Summary Stats\n",
      "Precision = 0.47106325706594887\n",
      "Recall = 0.4605263157894737\n",
      "F1 Score = 0.4657351962741184\n"
     ]
    },
    {
     "name": "stderr",
     "output_type": "stream",
     "text": [
      "[Stage 69:>                                                         (0 + 1) / 1]\r"
     ]
    },
    {
     "name": "stdout",
     "output_type": "stream",
     "text": [
      "Class 0.0 precision = 0.2876647834274953\n",
      "Class 0.0 recall = 0.7955729166666666\n",
      "Class 0.0 F1 Measure = 0.42254495159059474\n",
      "Class 1.0 precision = 0.47106325706594887\n",
      "Class 1.0 recall = 0.4605263157894737\n",
      "Class 1.0 F1 Measure = 0.4657351962741184\n",
      "Class 2.0 precision = 0.42704626334519574\n",
      "Class 2.0 recall = 0.32085561497326204\n",
      "Class 2.0 F1 Measure = 0.36641221374045807\n",
      "Class 3.0 precision = 0.3469387755102041\n",
      "Class 3.0 recall = 0.022788203753351208\n",
      "Class 3.0 F1 Measure = 0.042767295597484274\n",
      "Class 4.0 precision = 0.6035087719298246\n",
      "Class 4.0 recall = 0.2321187584345479\n",
      "Class 4.0 F1 Measure = 0.3352826510721248\n",
      "[768. 760. 748. 746. 741.]\n",
      "Accuracy for label 0: 0.7955729166666666\n",
      "Accuracy for label 1: 0.4605263157894737\n",
      "Accuracy for label 2: 0.32085561497326204\n",
      "Accuracy for label 3: 0.022788203753351208\n",
      "Accuracy for label 4: 0.2321187584345479\n"
     ]
    },
    {
     "name": "stderr",
     "output_type": "stream",
     "text": [
      "                                                                                \r"
     ]
    }
   ],
   "source": [
    "print_statistis(predictions)\n"
   ]
  },
  {
   "cell_type": "code",
   "execution_count": null,
   "id": "74c03928-f265-4532-8411-ec1bc70f09ee",
   "metadata": {},
   "outputs": [],
   "source": []
  },
  {
   "cell_type": "code",
   "execution_count": 42,
   "id": "ff0fcbb4-0dda-47c9-82a3-d59dad4b5b0f",
   "metadata": {},
   "outputs": [
    {
     "name": "stderr",
     "output_type": "stream",
     "text": [
      "24/04/03 19:46:46 WARN DAGScheduler: Broadcasting large task binary with size 4.6 MiB\n",
      "24/04/03 19:46:47 WARN DAGScheduler: Broadcasting large task binary with size 4.6 MiB\n",
      "                                                                                \r"
     ]
    }
   ],
   "source": [
    "predictionAndLabels = predictions.rdd.map(lambda lp: (lp.prediction, lp.label))\n",
    "    \n",
    "    # Instantiate metrics object\n",
    "metrics = MulticlassMetrics(predictionAndLabels)\n",
    "confusion_matrix = metrics.confusionMatrix().toArray()\n",
    "# confusion_matrix_pd = confusion_matrix.toPandas()\n",
    "\n",
    "# Create the confusion matrix plot using Seaborn\n"
   ]
  },
  {
   "cell_type": "code",
   "execution_count": null,
   "id": "c7ebbd77-5544-4708-b1f2-ec9a4363e7b6",
   "metadata": {},
   "outputs": [],
   "source": []
  },
  {
   "cell_type": "code",
   "execution_count": 43,
   "id": "ed06b2fa-9e5e-4529-aab6-8996d186e603",
   "metadata": {},
   "outputs": [],
   "source": [
    "confusion_matrix_df = pd.DataFrame(confusion_matrix, index=[mapping[i] for i in range(confusion_matrix.shape[0])], columns=[mapping[i] for i in range(confusion_matrix.shape[1])])\n"
   ]
  },
  {
   "cell_type": "code",
   "execution_count": 44,
   "id": "33e9914b-bfe7-4708-ad6b-d6a2c69cd51f",
   "metadata": {},
   "outputs": [
    {
     "data": {
      "image/png": "[encoded data removed]",
      "text/plain": [
       "<Figure size 640x480 with 2 Axes>"
      ]
     },
     "metadata": {},
     "output_type": "display_data"
    }
   ],
   "source": [
    "sns.heatmap(confusion_matrix_df, annot=True, fmt=\"g\", cmap=\"Blues\")\n",
    "\n",
    "# Add labels and title\n",
    "plt.xlabel(\"Actual Label\")\n",
    "plt.ylabel(\"Predicted Label\")\n",
    "plt.title(\"Confusion Matrix\")\n",
    "\n",
    "# Show plot\n",
    "plt.show()"
   ]
  },
  {
   "cell_type": "code",
   "execution_count": 45,
   "id": "21085ef8-064b-4b44-8aae-6d0575238edb",
   "metadata": {},
   "outputs": [],
   "source": [
    "from pyspark.mllib.evaluation import BinaryClassificationMetrics\n",
    "\n",
    "# Scala version implements .roc() and .pr()\n",
    "# Python: https://spark.apache.org/docs/latest/api/python/_modules/pyspark/mllib/common.html\n",
    "# Scala: https://spark.apache.org/docs/latest/api/java/org/apache/spark/mllib/evaluation/BinaryClassificationMetrics.html\n",
    "class CurveMetrics(BinaryClassificationMetrics):\n",
    "    def __init__(self, *args):\n",
    "        super(CurveMetrics, self).__init__(*args)\n",
    "\n",
    "    def _to_list(self, rdd):\n",
    "        points = []\n",
    "        # Note this collect could be inefficient for large datasets \n",
    "        # considering there may be one probability per datapoint (at most)\n",
    "        # The Scala version takes a numBins parameter, \n",
    "        # but it doesn't seem possible to pass this from Python to Java\n",
    "        for row in rdd.collect():\n",
    "            # Results are returned as type scala.Tuple2, \n",
    "            # which doesn't appear to have a py4j mapping\n",
    "            points += [(float(row._1()), float(row._2()))]\n",
    "        return points\n",
    "\n",
    "    def get_curve(self, method):\n",
    "        rdd = getattr(self._java_model, method)().toJavaRDD()\n",
    "        return self._to_list(rdd)"
   ]
  },
  {
   "cell_type": "code",
   "execution_count": 46,
   "id": "6541031b-9f5f-4b57-93bd-27437636df8a",
   "metadata": {},
   "outputs": [
    {
     "name": "stderr",
     "output_type": "stream",
     "text": [
      "/home/umang/.local/lib/python3.10/site-packages/pyspark/sql/context.py:125: FutureWarning: Deprecated in 3.0.0. Use SparkSession.builder.getOrCreate() instead.\n",
      "  warnings.warn(\n",
      "24/04/03 19:47:58 WARN DAGScheduler: Broadcasting large task binary with size 4.6 MiB\n",
      "24/04/03 19:47:59 WARN DAGScheduler: Broadcasting large task binary with size 4.6 MiB\n"
     ]
    },
    {
     "data": {
      "text/plain": [
       "[<matplotlib.lines.Line2D at 0x7f1240826230>]"
      ]
     },
     "execution_count": 46,
     "metadata": {},
     "output_type": "execute_result"
    },
    {
     "data": {
      "image/png": "[encoded data removed]",
      "text/plain": [
       "<Figure size 640x480 with 1 Axes>"
      ]
     },
     "metadata": {},
     "output_type": "display_data"
    }
   ],
   "source": [
    "\n",
    "# Returns as a list (false positive rate, true positive rate)\n",
    "preds = predictions.select('label','prediction').rdd.map(lambda row: (float(row['prediction']), float(row['label'])))\n",
    "points = CurveMetrics(preds).get_curve('roc')\n",
    "\n",
    "plt.figure()\n",
    "x_val = [x[0] for x in points]\n",
    "y_val = [x[1] for x in points]\n",
    "# plt.title(title)\n",
    "plt.xlabel(\"FPR\")\n",
    "plt.ylabel(\"TPR\")\n",
    "plt.plot(x_val, y_val)"
   ]
  },
  {
   "cell_type": "code",
   "execution_count": null,
   "id": "c9f3f35a-48b5-4280-84b5-6ffeaf35a1fd",
   "metadata": {},
   "outputs": [],
   "source": []
  }
 ],
 "metadata": {
  "kernelspec": {
   "display_name": "Python 3 (ipykernel)",
   "language": "python",
   "name": "python3"
  },
  "language_info": {
   "codemirror_mode": {
    "name": "ipython",
    "version": 3
   },
   "file_extension": ".py",
   "mimetype": "text/x-python",
   "name": "python",
   "nbconvert_exporter": "python",
   "pygments_lexer": "ipython3",
   "version": "3.10.12"
  }
 },
 "nbformat": 4,
 "nbformat_minor": 5
}
