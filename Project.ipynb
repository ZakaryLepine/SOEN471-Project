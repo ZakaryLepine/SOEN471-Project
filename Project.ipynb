{
 "cells": [
  {
   "cell_type": "markdown",
   "metadata": {
    "id": "fS78XPa6zejQ"
   },
   "source": [
    "**title.basics.tsv.gz**\n",
    "- tconst (string) - alphanumeric unique identifier of the title\n",
    "- titleType (string) - the type/format of the title (e.g. movie, short, tvseries, tvepisode, video, etc)\n",
    "- primaryTitle (string) - the more popular title / the title used by the filmmakers on promotional materials at the point of release\n",
    "- startYear (YYYY) - represents the release year of a title. In the case of TV Series, it is the series start year\n",
    "- runtimeMinutes - primary runtime of the title, in minutes\n",
    "- genres (string array) - includes up to three genres associated with the title\n",
    "\n",
    "**title.crew.tsv.gz**\n",
    "- tconst (string) - alphanumeric unique identifier of the title\n",
    "- directors (array of nconsts) - director(s) of the given title\n",
    "- writers (array of nconsts) - writer(s) of the given title\n",
    "\n",
    "**title.ratings.tsv.gz**\n",
    "- tconst (string) - alphanumeric unique identifier of the title\n",
    "- averageRating - weighted average of all the individual user ratings\n",
    "\n",
    "**name.basics.tsv.gz**\n",
    "- nconst (string) - alphanumeric unique identifier of the name/person\n",
    "- primaryName (string) - name by which the person is most often credited\n",
    "\n",
    "**title.principals.tsv.gz**\n",
    "- tconst (string) - alphanumeric unique identifier of the title\n",
    "- nconst (string) - alphanumeric unique identifier of the name/person\n",
    "- category (string) - the category of job that person was in\n",
    "- job (string) - the specific job title if applicable, else '\\N'"
   ]
  },
  {
   "cell_type": "markdown",
   "metadata": {
    "id": "lu49tqKvw3UJ",
    "jp-MarkdownHeadingCollapsed": true
   },
   "source": [
    "# Setup"
   ]
  },
  {
   "cell_type": "markdown",
   "metadata": {
    "id": "HRDNYu253vyn"
   },
   "source": [
    "Pip installs"
   ]
  },
  {
   "cell_type": "code",
   "execution_count": 1,
   "metadata": {
    "colab": {
     "base_uri": "https://localhost:8080/"
    },
    "id": "LGLV2FuZ3xWB",
    "outputId": "1d5d7c73-8686-4239-b15a-15b9a204b757"
   },
   "outputs": [
    {
     "name": "stdout",
     "output_type": "stream",
     "text": [
      "Defaulting to user installation because normal site-packages is not writeable\n",
      "Requirement already satisfied: pyspark in /home/umang/.local/lib/python3.10/site-packages (3.2.2)\n",
      "Requirement already satisfied: py4j==0.10.9.5 in /home/umang/.local/lib/python3.10/site-packages (from pyspark) (0.10.9.5)\n"
     ]
    }
   ],
   "source": [
    "!pip install pyspark"
   ]
  },
  {
   "cell_type": "markdown",
   "metadata": {
    "id": "ddk7h3vrxarD"
   },
   "source": [
    "Python imports"
   ]
  },
  {
   "cell_type": "code",
   "execution_count": 99,
   "metadata": {
    "id": "UvigWpk-xYRl"
   },
   "outputs": [],
   "source": [
    "import os.path as path\n",
    "from pyspark.sql import SparkSession\n",
    "from pyspark.sql import column\n",
    "from pyspark.sql.functions import *\n",
    "import matplotlib.pyplot as plt"
   ]
  },
  {
   "cell_type": "code",
   "execution_count": 3,
   "metadata": {
    "colab": {
     "base_uri": "https://localhost:8080/"
    },
    "id": "cHfuFFb6w1Ql",
    "outputId": "e93d05c5-7272-47e2-dd4e-95175fff4b46"
   },
   "outputs": [],
   "source": [
    "title_basics_dataset = \"title.basics.tsv\"\n",
    "\n",
    "title_crew_dataset = \"title.crew.tsv\"\n",
    "\n",
    "title_ratings_dataset = \"title.ratings.tsv\"\n",
    "\n",
    "name_basics_dataset = \"name.basics.tsv\"\n",
    "\n",
    "title_principals_dataset = \"title.principals.tsv\"\n",
    "\n",
    "if not(path.isfile(title_basics_dataset)):\n",
    "  !wget https://datasets.imdbws.com/title.basics.tsv.gz\n",
    "  !gzip -d title.basics.tsv.gz\n",
    "\n",
    "if not(path.isfile(title_crew_dataset)):\n",
    "  !wget https://datasets.imdbws.com/title.crew.tsv.gz\n",
    "  !gzip -d title.crew.tsv.gz\n",
    "\n",
    "if not(path.isfile(title_ratings_dataset)):\n",
    "  !wget https://datasets.imdbws.com/title.ratings.tsv.gz\n",
    "  !gzip -d title.ratings.tsv.gz\n",
    "\n",
    "if not(path.isfile(name_basics_dataset)):\n",
    "  !wget https://datasets.imdbws.com/name.basics.tsv.gz\n",
    "  !gzip -d name.basics.tsv.gz\n",
    "\n",
    "if not(path.isfile(title_principals_dataset)):\n",
    "  !wget https://datasets.imdbws.com/title.principals.tsv.gz\n",
    "  !gzip -d title.principals.tsv.gz"
   ]
  },
  {
   "cell_type": "markdown",
   "metadata": {
    "id": "1irAm4LfxC8L"
   },
   "source": [
    "# Preparing Dataset"
   ]
  },
  {
   "cell_type": "markdown",
   "metadata": {
    "id": "r5Lir8bR4E4V"
   },
   "source": [
    "Helpers"
   ]
  },
  {
   "cell_type": "code",
   "execution_count": 4,
   "metadata": {
    "id": "WlU9Z7yX4Gqz"
   },
   "outputs": [
    {
     "name": "stderr",
     "output_type": "stream",
     "text": [
      "24/03/19 15:52:20 WARN Utils: Your hostname, DESKTOP-968IKC4 resolves to a loopback address: 127.0.1.1; using 172.31.102.226 instead (on interface eth0)\n",
      "24/03/19 15:52:20 WARN Utils: Set SPARK_LOCAL_IP if you need to bind to another address\n",
      "WARNING: An illegal reflective access operation has occurred\n",
      "WARNING: Illegal reflective access by org.apache.spark.unsafe.Platform (file:/home/umang/.local/lib/python3.10/site-packages/pyspark/jars/spark-unsafe_2.12-3.2.2.jar) to constructor java.nio.DirectByteBuffer(long,int)\n",
      "WARNING: Please consider reporting this to the maintainers of org.apache.spark.unsafe.Platform\n",
      "WARNING: Use --illegal-access=warn to enable warnings of further illegal reflective access operations\n",
      "WARNING: All illegal access operations will be denied in a future release\n",
      "Using Spark's default log4j profile: org/apache/spark/log4j-defaults.properties\n",
      "Setting default log level to \"WARN\".\n",
      "To adjust logging level use sc.setLogLevel(newLevel). For SparkR, use setLogLevel(newLevel).\n",
      "24/03/19 15:52:21 WARN NativeCodeLoader: Unable to load native-hadoop library for your platform... using builtin-java classes where applicable\n"
     ]
    }
   ],
   "source": [
    "def init_spark():\n",
    "  return SparkSession \\\n",
    "        .builder \\\n",
    "        .appName(\"Spark\") \\\n",
    "        .config(\"spark.executor.memory\", \"8g\") \\\n",
    "        .config(\"spark.driver.memory\", \"8g\") \\\n",
    "        .getOrCreate()\n",
    "\n",
    "spark = init_spark()\n"
   ]
  },
  {
   "cell_type": "markdown",
   "metadata": {
    "id": "MYMxKb0gxKCo"
   },
   "source": [
    "Create base dataframes"
   ]
  },
  {
   "cell_type": "code",
   "execution_count": 5,
   "metadata": {},
   "outputs": [
    {
     "data": {
      "text/html": [
       "\n",
       "            <div>\n",
       "                <p><b>SparkSession - in-memory</b></p>\n",
       "                \n",
       "        <div>\n",
       "            <p><b>SparkContext</b></p>\n",
       "\n",
       "            <p><a href=\"http://172.31.102.226:4040\">Spark UI</a></p>\n",
       "\n",
       "            <dl>\n",
       "              <dt>Version</dt>\n",
       "                <dd><code>v3.2.2</code></dd>\n",
       "              <dt>Master</dt>\n",
       "                <dd><code>local[*]</code></dd>\n",
       "              <dt>AppName</dt>\n",
       "                <dd><code>Spark</code></dd>\n",
       "            </dl>\n",
       "        </div>\n",
       "        \n",
       "            </div>\n",
       "        "
      ],
      "text/plain": [
       "<pyspark.sql.session.SparkSession at 0x7f8606e72c20>"
      ]
     },
     "execution_count": 5,
     "metadata": {},
     "output_type": "execute_result"
    }
   ],
   "source": [
    "spark"
   ]
  },
  {
   "cell_type": "code",
   "execution_count": 6,
   "metadata": {
    "id": "zRxYx6sYxNVv"
   },
   "outputs": [],
   "source": [
    "title_basics_df = spark.read.option(\"delimiter\", \"\\t\").option(\"header\", True).csv(title_basics_dataset)\n",
    "\n",
    "title_crew_df = spark.read.option(\"delimiter\", \"\\t\").option(\"header\", True).csv(title_crew_dataset)\n",
    "\n",
    "title_ratings_df = spark.read.option(\"delimiter\", \"\\t\").option(\"header\", True).csv(title_ratings_dataset)\n",
    "\n",
    "name_basics_df = spark.read.option(\"delimiter\", \"\\t\").option(\"header\", True).csv(name_basics_dataset)\n",
    "\n",
    "title_principals_df = spark.read.option(\"delimiter\", \"\\t\").option(\"header\", True).csv(title_principals_dataset)"
   ]
  },
  {
   "cell_type": "code",
   "execution_count": 7,
   "metadata": {
    "colab": {
     "base_uri": "https://localhost:8080/"
    },
    "id": "9u-SRnRH7ana",
    "outputId": "d70edbc7-83a6-4064-f347-df74e3cb331d"
   },
   "outputs": [
    {
     "name": "stdout",
     "output_type": "stream",
     "text": [
      "+---------+---------+--------------------+--------------------+-------+---------+-------+--------------+--------------------+\n",
      "|   tconst|titleType|        primaryTitle|       originalTitle|isAdult|startYear|endYear|runtimeMinutes|              genres|\n",
      "+---------+---------+--------------------+--------------------+-------+---------+-------+--------------+--------------------+\n",
      "|tt0000001|    short|          Carmencita|          Carmencita|      0|     1894|     \\N|             1|   Documentary,Short|\n",
      "|tt0000002|    short|Le clown et ses c...|Le clown et ses c...|      0|     1892|     \\N|             5|     Animation,Short|\n",
      "|tt0000003|    short|      Pauvre Pierrot|      Pauvre Pierrot|      0|     1892|     \\N|             4|Animation,Comedy,...|\n",
      "|tt0000004|    short|         Un bon bock|         Un bon bock|      0|     1892|     \\N|            12|     Animation,Short|\n",
      "|tt0000005|    short|    Blacksmith Scene|    Blacksmith Scene|      0|     1893|     \\N|             1|        Comedy,Short|\n",
      "|tt0000006|    short|   Chinese Opium Den|   Chinese Opium Den|      0|     1894|     \\N|             1|               Short|\n",
      "|tt0000007|    short|Corbett and Court...|Corbett and Court...|      0|     1894|     \\N|             1|         Short,Sport|\n",
      "|tt0000008|    short|Edison Kinetoscop...|Edison Kinetoscop...|      0|     1894|     \\N|             1|   Documentary,Short|\n",
      "|tt0000009|    movie|          Miss Jerry|          Miss Jerry|      0|     1894|     \\N|            45|             Romance|\n",
      "|tt0000010|    short| Leaving the Factory|La sortie de l'us...|      0|     1895|     \\N|             1|   Documentary,Short|\n",
      "|tt0000011|    short|Akrobatisches Pot...|Akrobatisches Pot...|      0|     1895|     \\N|             1|   Documentary,Short|\n",
      "|tt0000012|    short|The Arrival of a ...|L'arrivée d'un tr...|      0|     1896|     \\N|             1|   Documentary,Short|\n",
      "|tt0000013|    short|The Photographica...|Le débarquement d...|      0|     1895|     \\N|             1|   Documentary,Short|\n",
      "|tt0000014|    short| The Waterer Watered|   L'arroseur arrosé|      0|     1895|     \\N|             1|        Comedy,Short|\n",
      "|tt0000015|    short| Autour d'une cabine| Autour d'une cabine|      0|     1894|     \\N|             2|     Animation,Short|\n",
      "|tt0000016|    short|Boat Leaving the ...|Barque sortant du...|      0|     1895|     \\N|             1|   Documentary,Short|\n",
      "|tt0000017|    short|Italienischer Bau...|Italienischer Bau...|      0|     1895|     \\N|             1|   Documentary,Short|\n",
      "|tt0000018|    short|Das boxende Känguruh|Das boxende Känguruh|      0|     1895|     \\N|             1|               Short|\n",
      "|tt0000019|    short|    The Clown Barber|    The Clown Barber|      0|     1898|     \\N|            \\N|        Comedy,Short|\n",
      "|tt0000020|    short|      The Derby 1895|      The Derby 1895|      0|     1895|     \\N|             1|Documentary,Short...|\n",
      "+---------+---------+--------------------+--------------------+-------+---------+-------+--------------+--------------------+\n",
      "only showing top 20 rows\n",
      "\n",
      "+---------+-------------------+---------+\n",
      "|   tconst|          directors|  writers|\n",
      "+---------+-------------------+---------+\n",
      "|tt0000001|          nm0005690|       \\N|\n",
      "|tt0000002|          nm0721526|       \\N|\n",
      "|tt0000003|          nm0721526|       \\N|\n",
      "|tt0000004|          nm0721526|       \\N|\n",
      "|tt0000005|          nm0005690|       \\N|\n",
      "|tt0000006|          nm0005690|       \\N|\n",
      "|tt0000007|nm0005690,nm0374658|       \\N|\n",
      "|tt0000008|          nm0005690|       \\N|\n",
      "|tt0000009|          nm0085156|nm0085156|\n",
      "|tt0000010|          nm0525910|       \\N|\n",
      "|tt0000011|          nm0804434|       \\N|\n",
      "|tt0000012|nm0525908,nm0525910|       \\N|\n",
      "|tt0000013|          nm0525910|       \\N|\n",
      "|tt0000014|          nm0525910|       \\N|\n",
      "|tt0000015|          nm0721526|       \\N|\n",
      "|tt0000016|          nm0525910|       \\N|\n",
      "|tt0000017|nm1587194,nm0804434|       \\N|\n",
      "|tt0000018|          nm0804434|       \\N|\n",
      "|tt0000019|          nm0932055|       \\N|\n",
      "|tt0000020|          nm0010291|       \\N|\n",
      "+---------+-------------------+---------+\n",
      "only showing top 20 rows\n",
      "\n",
      "+---------+-------------+--------+\n",
      "|   tconst|averageRating|numVotes|\n",
      "+---------+-------------+--------+\n",
      "|tt0000001|          5.7|    2036|\n",
      "|tt0000002|          5.7|     272|\n",
      "|tt0000003|          6.5|    1984|\n",
      "|tt0000004|          5.4|     178|\n",
      "|tt0000005|          6.2|    2744|\n",
      "|tt0000006|          5.0|     183|\n",
      "|tt0000007|          5.4|     852|\n",
      "|tt0000008|          5.4|    2181|\n",
      "|tt0000009|          5.3|     209|\n",
      "|tt0000010|          6.8|    7502|\n",
      "|tt0000011|          5.2|     385|\n",
      "|tt0000012|          7.4|   12793|\n",
      "|tt0000013|          5.7|    1945|\n",
      "|tt0000014|          7.1|    5799|\n",
      "|tt0000015|          6.1|    1154|\n",
      "|tt0000016|          5.9|    1563|\n",
      "|tt0000017|          4.6|     342|\n",
      "|tt0000018|          5.2|     622|\n",
      "|tt0000019|          5.1|      32|\n",
      "|tt0000020|          4.7|     374|\n",
      "+---------+-------------+--------+\n",
      "only showing top 20 rows\n",
      "\n",
      "+---------+-------------------+---------+---------+--------------------+--------------------+\n",
      "|   nconst|        primaryName|birthYear|deathYear|   primaryProfession|      knownForTitles|\n",
      "+---------+-------------------+---------+---------+--------------------+--------------------+\n",
      "|nm0000001|       Fred Astaire|     1899|     1987|actor,miscellaneo...|tt0072308,tt00504...|\n",
      "|nm0000002|      Lauren Bacall|     1924|     2014|actress,soundtrac...|tt0037382,tt00752...|\n",
      "|nm0000003|    Brigitte Bardot|     1934|       \\N|actress,music_dep...|tt0057345,tt00491...|\n",
      "|nm0000004|       John Belushi|     1949|     1982|actor,writer,musi...|tt0072562,tt00779...|\n",
      "|nm0000005|     Ingmar Bergman|     1918|     2007|writer,director,a...|tt0050986,tt00839...|\n",
      "|nm0000006|     Ingrid Bergman|     1915|     1982|actress,producer,...|tt0034583,tt00368...|\n",
      "|nm0000007|    Humphrey Bogart|     1899|     1957|actor,producer,mi...|tt0034583,tt00425...|\n",
      "|nm0000008|      Marlon Brando|     1924|     2004|actor,director,wr...|tt0078788,tt00686...|\n",
      "|nm0000009|     Richard Burton|     1925|     1984|actor,producer,di...|tt0061184,tt00878...|\n",
      "|nm0000010|       James Cagney|     1899|     1986|actor,director,pr...|tt0029870,tt00318...|\n",
      "|nm0000011|        Gary Cooper|     1901|     1961|actor,stunts,prod...|tt0044706,tt00341...|\n",
      "|nm0000012|        Bette Davis|     1908|     1989|actress,make_up_d...|tt0042192,tt00566...|\n",
      "|nm0000013|          Doris Day|     1922|     2019|actress,producer,...|tt0048317,tt00455...|\n",
      "|nm0000014|Olivia de Havilland|     1916|     2020|actress,soundtrac...|tt0031381,tt00414...|\n",
      "|nm0000015|         James Dean|     1931|     1955|actor,miscellaneo...|tt0048028,tt00485...|\n",
      "|nm0000016|    Georges Delerue|     1925|     1992|composer,music_de...|tt0091763,tt00963...|\n",
      "|nm0000017|   Marlene Dietrich|     1901|     1992|actress,music_dep...|tt0051201,tt00550...|\n",
      "|nm0000018|       Kirk Douglas|     1916|     2020|actor,producer,di...|tt0080736,tt00543...|\n",
      "|nm0000019|   Federico Fellini|     1920|     1993|writer,director,a...|tt0056801,tt00507...|\n",
      "|nm0000020|        Henry Fonda|     1905|     1982|actor,producer,mi...|tt0050083,tt00828...|\n",
      "+---------+-------------------+---------+---------+--------------------+--------------------+\n",
      "only showing top 20 rows\n",
      "\n",
      "+---------+--------+---------+---------------+--------------------+--------------+\n",
      "|   tconst|ordering|   nconst|       category|                 job|    characters|\n",
      "+---------+--------+---------+---------------+--------------------+--------------+\n",
      "|tt0000001|       1|nm1588970|           self|                  \\N|      [\"Self\"]|\n",
      "|tt0000001|       2|nm0005690|       director|                  \\N|            \\N|\n",
      "|tt0000001|       3|nm0005690|       producer|            producer|            \\N|\n",
      "|tt0000001|       4|nm0374658|cinematographer|director of photo...|            \\N|\n",
      "|tt0000002|       1|nm0721526|       director|                  \\N|            \\N|\n",
      "|tt0000002|       2|nm1335271|       composer|                  \\N|            \\N|\n",
      "|tt0000003|       1|nm0721526|       director|                  \\N|            \\N|\n",
      "|tt0000003|       2|nm1770680|       producer|            producer|            \\N|\n",
      "|tt0000003|       3|nm0721526|       producer|            producer|            \\N|\n",
      "|tt0000003|       4|nm1335271|       composer|                  \\N|            \\N|\n",
      "|tt0000003|       5|nm5442200|         editor|              editor|            \\N|\n",
      "|tt0000004|       1|nm0721526|       director|                  \\N|            \\N|\n",
      "|tt0000004|       2|nm1335271|       composer|                  \\N|            \\N|\n",
      "|tt0000005|       1|nm0443482|          actor|                  \\N|[\"Blacksmith\"]|\n",
      "|tt0000005|       2|nm0653042|          actor|                  \\N| [\"Assistant\"]|\n",
      "|tt0000005|       3|nm0249379|       producer|            producer|            \\N|\n",
      "|tt0000007|       1|nm0179163|          actor|                  \\N|            \\N|\n",
      "|tt0000007|       2|nm0183947|          actor|                  \\N|            \\N|\n",
      "|tt0000007|       3|nm0005690|       director|                  \\N|            \\N|\n",
      "|tt0000007|       4|nm0374658|       director|                  \\N|            \\N|\n",
      "+---------+--------+---------+---------------+--------------------+--------------+\n",
      "only showing top 20 rows\n",
      "\n"
     ]
    }
   ],
   "source": [
    "title_basics_df.show()\n",
    "title_crew_df.show()\n",
    "title_ratings_df.show()\n",
    "name_basics_df.show()\n",
    "title_principals_df.show()"
   ]
  },
  {
   "cell_type": "markdown",
   "metadata": {
    "id": "9D0DmZBMtv-_",
    "jp-MarkdownHeadingCollapsed": true
   },
   "source": [
    "## Filters"
   ]
  },
  {
   "cell_type": "markdown",
   "metadata": {
    "id": "cMId6SyA9ZMl"
   },
   "source": [
    "Filter entries for only movie entries"
   ]
  },
  {
   "cell_type": "code",
   "execution_count": 8,
   "metadata": {
    "id": "uDq_NnP4-FFn"
   },
   "outputs": [],
   "source": [
    "title_basics_df = title_basics_df.filter(title_basics_df.titleType == \"movie\")\n",
    "#title_basics_df.show()"
   ]
  },
  {
   "cell_type": "markdown",
   "metadata": {
    "id": "Pbsch7OA_vVB"
   },
   "source": [
    "Remove entries where the genres is null (\\N)"
   ]
  },
  {
   "cell_type": "code",
   "execution_count": 9,
   "metadata": {
    "id": "pZuAjCXp_yx6"
   },
   "outputs": [],
   "source": [
    "title_basics_df = title_basics_df.filter(title_basics_df.genres != \"\\\\N\")\n",
    "#title_basics_df.show()"
   ]
  },
  {
   "cell_type": "markdown",
   "metadata": {
    "id": "KK7j2P6otyw7"
   },
   "source": [
    "## Integration"
   ]
  },
  {
   "cell_type": "markdown",
   "metadata": {
    "id": "6zSQYii-BctZ"
   },
   "source": [
    "Separate genres and keep single genre"
   ]
  },
  {
   "cell_type": "markdown",
   "metadata": {
    "id": "lgIOI3tuyQwa"
   },
   "source": [
    "Cases:\n",
    "\n",
    "| In 0 | In 1 | In 2 |\n",
    "|------|------|------|\n",
    "| T    | T    | T    |\n",
    "| T    | T    | F    |\n",
    "| T    | F    | T    |\n",
    "| F    | T    | T    |\n",
    "| T    | T    | F    |\n",
    "| T    | F    | T    |\n",
    "| F    | T    | T    |\n",
    "| F    | F    | F    |"
   ]
  },
  {
   "cell_type": "code",
   "execution_count": 10,
   "metadata": {
    "colab": {
     "base_uri": "https://localhost:8080/",
     "height": 71
    },
    "id": "wuLOW7hzBe2l",
    "outputId": "22732afb-8ae9-405c-abc1-28683a8631a8"
   },
   "outputs": [
    {
     "data": {
      "text/plain": [
       "'\\n#title_basics_df.groupBy(\\'genres\\').count().orderBy(desc(\"count\")).show()\\n\\nintermediate_df = title_basics_df.withColumn(\"genre1\", genre_column.getItem(0))\\n\\ngenre_rows1 = intermediate_df.where((intermediate_df.genre1 == \"Drama\") | (intermediate_df.genre1 == \"Comedy\") | (intermediate_df.genre1 == \"Horror\") | (intermediate_df.genre1 == \"Thriller\") | (intermediate_df.genre1 == \"Romance\") | (intermediate_df.genre1 == \"Action\")).groupBy(\\'genre1\\').count().orderBy(\"genre1\").take(6)\\n\\nintermediate_df = title_basics_df.withColumn(\"genre2\", genre_column.getItem(1))\\n\\ngenre_rows2 = intermediate_df.where((intermediate_df.genre2 == \"Drama\") | (intermediate_df.genre2 == \"Comedy\") | (intermediate_df.genre2 == \"Horror\") | (intermediate_df.genre2 == \"Thriller\") | (intermediate_df.genre2 == \"Romance\") | (intermediate_df.genre2 == \"Action\")).groupBy(\\'genre2\\').count().orderBy(\"genre2\").take(6)\\n\\nintermediate_df = title_basics_df.withColumn(\"genre3\", genre_column.getItem(2))\\n\\ngenre_rows3 = intermediate_df.where((intermediate_df.genre3 == \"Drama\") | (intermediate_df.genre3 == \"Comedy\") | (intermediate_df.genre3 == \"Horror\") | (intermediate_df.genre3 == \"Thriller\") | (intermediate_df.genre3 == \"Romance\") | (intermediate_df.genre3 == \"Action\")).groupBy(\\'genre3\\').count().orderBy(\"genre3\").take(6)\\n\\nfor row in genre_rows1:\\n  if (row[\"genre1\"] == \"Action\"):\\n    action_entry_count = action_entry_count + row[\"count\"]\\n\\n  if (row[\"genre1\"] == \"Comedy\"):\\n    comedy_entry_count = comedy_entry_count + row[\"count\"]\\n\\n  if (row[\"genre1\"] == \"Drama\"):\\n    drama_entry_count = drama_entry_count + row[\"count\"]\\n\\n  if (row[\"genre1\"] == \"Horror\"):\\n    horror_entry_count = horror_entry_count + row[\"count\"]\\n\\n  if (row[\"genre1\"] == \"Romance\"):\\n    romance_entry_count = romance_entry_count + row[\"count\"]\\n\\n  if (row[\"genre1\"] == \"Thriller\"):\\n    thriller_entry_count = thriller_entry_count + row[\"count\"]\\n\\nfor row in genre_rows2:\\n  if (row[\"genre2\"] == \"Action\"):\\n    action_entry_count = action_entry_count + row[\"count\"]\\n\\n  if (row[\"genre2\"] == \"Comedy\"):\\n    comedy_entry_count = comedy_entry_count + row[\"count\"]\\n\\n  if (row[\"genre2\"] == \"Drama\"):\\n    drama_entry_count = drama_entry_count + row[\"count\"]\\n\\n  if (row[\"genre2\"] == \"Horror\"):\\n    horror_entry_count = horror_entry_count + row[\"count\"]\\n\\n  if (row[\"genre2\"] == \"Romance\"):\\n    romance_entry_count = romance_entry_count + row[\"count\"]\\n\\n  if (row[\"genre2\"] == \"Thriller\"):\\n    thriller_entry_count = thriller_entry_count + row[\"count\"]\\n\\nfor row in genre_rows3:\\n  if (row[\"genre3\"] == \"Action\"):\\n    action_entry_count = action_entry_count + row[\"count\"]\\n\\n  if (row[\"genre3\"] == \"Comedy\"):\\n    comedy_entry_count = comedy_entry_count + row[\"count\"]\\n\\n  if (row[\"genre3\"] == \"Drama\"):\\n    drama_entry_count = drama_entry_count + row[\"count\"]\\n\\n  if (row[\"genre3\"] == \"Horror\"):\\n    horror_entry_count = horror_entry_count + row[\"count\"]\\n\\n  if (row[\"genre3\"] == \"Romance\"):\\n    romance_entry_count = romance_entry_count + row[\"count\"]\\n\\n  if (row[\"genre3\"] == \"Thriller\"):\\n    thriller_entry_count = thriller_entry_count + row[\"count\"]\\n\\ngenre_count_dic = {\"Action\": action_entry_count, \"Comedy\": comedy_entry_count, \"Drama\": drama_entry_count, \"Horror\": horror_entry_count, \"Romance\": romance_entry_count, \"Thriller\": thriller_entry_count}\\nsorted_genre_count_dic = dict(sorted(genre_count_dic.items(), key=lambda item: item[1], reverse=True))\\nprint(sorted_genre_count_dic)\\n\\ngenre_column = split(title_basics_df[\"genres\"], \",\")\\n\\ntitle_basics_df = title_basics_df.withColumn(\"genre\", genre_column.getItem(0) if [genre_column.getItem(0), genre_column.getItem(1), genre_column.getItem(2)].index(\"Drama\") == 0 else        genre_column.getItem(0) if [genre_column.getItem(0), genre_column.getItem(1), genre_column.getItem(2)].index(\"Comedy\") == 0 else        genre_column.getItem(0) if [genre_column.getItem(0), genre_column.getItem(1), genre_column.getItem(2)].index(\"Action\") == 0 else        genre_column.getItem(0) if [genre_column.getItem(0), genre_column.getItem(1), genre_column.getItem(2)].index(\"Romance\") == 0 else        genre_column.getItem(0) if [genre_column.getItem(0), genre_column.getItem(1), genre_column.getItem(2)].index(\"Thriller\") == 0 else        genre_column.getItem(0) if [genre_column.getItem(0), genre_column.getItem(1), genre_column.getItem(2)].index(\"Horror\") == 0 else        genre_column.getItem(1) if [genre_column.getItem(0), genre_column.getItem(1), genre_column.getItem(2)].index(\"Drama\") == 1 else        genre_column.getItem(1) if [genre_column.getItem(0), genre_column.getItem(1), genre_column.getItem(2)].index(\"Comedy\") == 1 else        genre_column.getItem(1) if [genre_column.getItem(0), genre_column.getItem(1), genre_column.getItem(2)].index(\"Action\") == 1 else        genre_column.getItem(1) if [genre_column.getItem(0), genre_column.getItem(1), genre_column.getItem(2)].index(\"Romance\") == 1 else        genre_column.getItem(1) if [genre_column.getItem(0), genre_column.getItem(1), genre_column.getItem(2)].index(\"Thriller\") == 1 else        genre_column.getItem(1) if [genre_column.getItem(0), genre_column.getItem(1), genre_column.getItem(2)].index(\"Horror\") == 1 else        genre_column.getItem(2) if [genre_column.getItem(0), genre_column.getItem(1), genre_column.getItem(2)].index(\"Drama\") == 2 else        genre_column.getItem(2) if [genre_column.getItem(0), genre_column.getItem(1), genre_column.getItem(2)].index(\"Comedy\") == 2 else        genre_column.getItem(2) if [genre_column.getItem(0), genre_column.getItem(1), genre_column.getItem(2)].index(\"Action\") == 2 else        genre_column.getItem(2) if [genre_column.getItem(0), genre_column.getItem(1), genre_column.getItem(2)].index(\"Romance\") == 2 else        genre_column.getItem(2) if [genre_column.getItem(0), genre_column.getItem(1), genre_column.getItem(2)].index(\"Thriller\") == 2 else        genre_column.getItem(2) if [genre_column.getItem(0), genre_column.getItem(1), genre_column.getItem(2)].index(\"Horror\") == 2 else None)\\n'"
      ]
     },
     "execution_count": 10,
     "metadata": {},
     "output_type": "execute_result"
    }
   ],
   "source": [
    "#When there are multiple genres:\n",
    "#if only 1 from the list is in the genre column -> pick genre from list\n",
    "#if multiple genres from the list is in the genre column -> weigh by count?\n",
    "drama_entry_count = 0\n",
    "comedy_entry_count = 0\n",
    "horror_entry_count = 0\n",
    "romance_entry_count = 0\n",
    "action_entry_count = 0\n",
    "thriller_entry_count = 0\n",
    "\n",
    "genre_column = split(title_basics_df[\"genres\"], \",\")\n",
    "\n",
    "genres_to_keep = [\"Drama\", \"Comedy\", \"Horror\", \"Thriller\", \"Romance\", \"Action\"]\n",
    "\n",
    "test = title_basics_df.filter(genre_column.getItem(0).isin(genres_to_keep))\n",
    "#test = title_basics_df.filter(genre_column.getItem(0).isin(genres_to_keep))\n",
    "test = test.withColumn(\"genre\", genre_column.getItem(0))\n",
    "\n",
    "test2 = title_basics_df.filter((genre_column.getItem(1).isin(genres_to_keep)) & ~(genre_column.getItem(0).isin(genres_to_keep) ))\n",
    "#test2 = title_basics_df.filter(genre_column.getItem(1).isin(genres_to_keep))\n",
    "test2 = test2.withColumn(\"genre\", genre_column.getItem(1))\n",
    "\n",
    "test3 = title_basics_df.filter((genre_column.getItem(2).isin(genres_to_keep)) & ~(genre_column.getItem(0).isin(genres_to_keep) | genre_column.getItem(1).isin(genres_to_keep)))\n",
    "#test3 = title_basics_df.filter(genre_column.getItem(2).isin(genres_to_keep))\n",
    "test3 = test3.withColumn(\"genre\", genre_column.getItem(2))\n",
    "\n",
    "title_basics_df = test.union(test2).union(test3)\n",
    "#title_basics_df.show()\n",
    "\n",
    "'''\n",
    "#title_basics_df.groupBy('genres').count().orderBy(desc(\"count\")).show()\n",
    "\n",
    "intermediate_df = title_basics_df.withColumn(\"genre1\", genre_column.getItem(0))\n",
    "\n",
    "genre_rows1 = intermediate_df.where((intermediate_df.genre1 == \"Drama\") | (intermediate_df.genre1 == \"Comedy\") | (intermediate_df.genre1 == \"Horror\") | (intermediate_df.genre1 == \"Thriller\") | (intermediate_df.genre1 == \"Romance\") | (intermediate_df.genre1 == \"Action\")).groupBy('genre1').count().orderBy(\"genre1\").take(6)\n",
    "\n",
    "intermediate_df = title_basics_df.withColumn(\"genre2\", genre_column.getItem(1))\n",
    "\n",
    "genre_rows2 = intermediate_df.where((intermediate_df.genre2 == \"Drama\") | (intermediate_df.genre2 == \"Comedy\") | (intermediate_df.genre2 == \"Horror\") | (intermediate_df.genre2 == \"Thriller\") | (intermediate_df.genre2 == \"Romance\") | (intermediate_df.genre2 == \"Action\")).groupBy('genre2').count().orderBy(\"genre2\").take(6)\n",
    "\n",
    "intermediate_df = title_basics_df.withColumn(\"genre3\", genre_column.getItem(2))\n",
    "\n",
    "genre_rows3 = intermediate_df.where((intermediate_df.genre3 == \"Drama\") | (intermediate_df.genre3 == \"Comedy\") | (intermediate_df.genre3 == \"Horror\") | (intermediate_df.genre3 == \"Thriller\") | (intermediate_df.genre3 == \"Romance\") | (intermediate_df.genre3 == \"Action\")).groupBy('genre3').count().orderBy(\"genre3\").take(6)\n",
    "\n",
    "for row in genre_rows1:\n",
    "  if (row[\"genre1\"] == \"Action\"):\n",
    "    action_entry_count = action_entry_count + row[\"count\"]\n",
    "\n",
    "  if (row[\"genre1\"] == \"Comedy\"):\n",
    "    comedy_entry_count = comedy_entry_count + row[\"count\"]\n",
    "\n",
    "  if (row[\"genre1\"] == \"Drama\"):\n",
    "    drama_entry_count = drama_entry_count + row[\"count\"]\n",
    "\n",
    "  if (row[\"genre1\"] == \"Horror\"):\n",
    "    horror_entry_count = horror_entry_count + row[\"count\"]\n",
    "\n",
    "  if (row[\"genre1\"] == \"Romance\"):\n",
    "    romance_entry_count = romance_entry_count + row[\"count\"]\n",
    "\n",
    "  if (row[\"genre1\"] == \"Thriller\"):\n",
    "    thriller_entry_count = thriller_entry_count + row[\"count\"]\n",
    "\n",
    "for row in genre_rows2:\n",
    "  if (row[\"genre2\"] == \"Action\"):\n",
    "    action_entry_count = action_entry_count + row[\"count\"]\n",
    "\n",
    "  if (row[\"genre2\"] == \"Comedy\"):\n",
    "    comedy_entry_count = comedy_entry_count + row[\"count\"]\n",
    "\n",
    "  if (row[\"genre2\"] == \"Drama\"):\n",
    "    drama_entry_count = drama_entry_count + row[\"count\"]\n",
    "\n",
    "  if (row[\"genre2\"] == \"Horror\"):\n",
    "    horror_entry_count = horror_entry_count + row[\"count\"]\n",
    "\n",
    "  if (row[\"genre2\"] == \"Romance\"):\n",
    "    romance_entry_count = romance_entry_count + row[\"count\"]\n",
    "\n",
    "  if (row[\"genre2\"] == \"Thriller\"):\n",
    "    thriller_entry_count = thriller_entry_count + row[\"count\"]\n",
    "\n",
    "for row in genre_rows3:\n",
    "  if (row[\"genre3\"] == \"Action\"):\n",
    "    action_entry_count = action_entry_count + row[\"count\"]\n",
    "\n",
    "  if (row[\"genre3\"] == \"Comedy\"):\n",
    "    comedy_entry_count = comedy_entry_count + row[\"count\"]\n",
    "\n",
    "  if (row[\"genre3\"] == \"Drama\"):\n",
    "    drama_entry_count = drama_entry_count + row[\"count\"]\n",
    "\n",
    "  if (row[\"genre3\"] == \"Horror\"):\n",
    "    horror_entry_count = horror_entry_count + row[\"count\"]\n",
    "\n",
    "  if (row[\"genre3\"] == \"Romance\"):\n",
    "    romance_entry_count = romance_entry_count + row[\"count\"]\n",
    "\n",
    "  if (row[\"genre3\"] == \"Thriller\"):\n",
    "    thriller_entry_count = thriller_entry_count + row[\"count\"]\n",
    "\n",
    "genre_count_dic = {\"Action\": action_entry_count, \"Comedy\": comedy_entry_count, \"Drama\": drama_entry_count, \"Horror\": horror_entry_count, \"Romance\": romance_entry_count, \"Thriller\": thriller_entry_count}\n",
    "sorted_genre_count_dic = dict(sorted(genre_count_dic.items(), key=lambda item: item[1], reverse=True))\n",
    "print(sorted_genre_count_dic)\n",
    "\n",
    "genre_column = split(title_basics_df[\"genres\"], \",\")\n",
    "\n",
    "title_basics_df = title_basics_df.withColumn(\"genre\", genre_column.getItem(0) if [genre_column.getItem(0), genre_column.getItem(1), genre_column.getItem(2)].index(\"Drama\") == 0 else \\\n",
    "       genre_column.getItem(0) if [genre_column.getItem(0), genre_column.getItem(1), genre_column.getItem(2)].index(\"Comedy\") == 0 else \\\n",
    "       genre_column.getItem(0) if [genre_column.getItem(0), genre_column.getItem(1), genre_column.getItem(2)].index(\"Action\") == 0 else \\\n",
    "       genre_column.getItem(0) if [genre_column.getItem(0), genre_column.getItem(1), genre_column.getItem(2)].index(\"Romance\") == 0 else \\\n",
    "       genre_column.getItem(0) if [genre_column.getItem(0), genre_column.getItem(1), genre_column.getItem(2)].index(\"Thriller\") == 0 else \\\n",
    "       genre_column.getItem(0) if [genre_column.getItem(0), genre_column.getItem(1), genre_column.getItem(2)].index(\"Horror\") == 0 else \\\n",
    "       genre_column.getItem(1) if [genre_column.getItem(0), genre_column.getItem(1), genre_column.getItem(2)].index(\"Drama\") == 1 else \\\n",
    "       genre_column.getItem(1) if [genre_column.getItem(0), genre_column.getItem(1), genre_column.getItem(2)].index(\"Comedy\") == 1 else \\\n",
    "       genre_column.getItem(1) if [genre_column.getItem(0), genre_column.getItem(1), genre_column.getItem(2)].index(\"Action\") == 1 else \\\n",
    "       genre_column.getItem(1) if [genre_column.getItem(0), genre_column.getItem(1), genre_column.getItem(2)].index(\"Romance\") == 1 else \\\n",
    "       genre_column.getItem(1) if [genre_column.getItem(0), genre_column.getItem(1), genre_column.getItem(2)].index(\"Thriller\") == 1 else \\\n",
    "       genre_column.getItem(1) if [genre_column.getItem(0), genre_column.getItem(1), genre_column.getItem(2)].index(\"Horror\") == 1 else \\\n",
    "       genre_column.getItem(2) if [genre_column.getItem(0), genre_column.getItem(1), genre_column.getItem(2)].index(\"Drama\") == 2 else \\\n",
    "       genre_column.getItem(2) if [genre_column.getItem(0), genre_column.getItem(1), genre_column.getItem(2)].index(\"Comedy\") == 2 else \\\n",
    "       genre_column.getItem(2) if [genre_column.getItem(0), genre_column.getItem(1), genre_column.getItem(2)].index(\"Action\") == 2 else \\\n",
    "       genre_column.getItem(2) if [genre_column.getItem(0), genre_column.getItem(1), genre_column.getItem(2)].index(\"Romance\") == 2 else \\\n",
    "       genre_column.getItem(2) if [genre_column.getItem(0), genre_column.getItem(1), genre_column.getItem(2)].index(\"Thriller\") == 2 else \\\n",
    "       genre_column.getItem(2) if [genre_column.getItem(0), genre_column.getItem(1), genre_column.getItem(2)].index(\"Horror\") == 2 else None)\n",
    "'''"
   ]
  },
  {
   "cell_type": "code",
   "execution_count": 11,
   "metadata": {},
   "outputs": [
    {
     "name": "stdout",
     "output_type": "stream",
     "text": [
      "+---------+-------------------+---------+\n",
      "|   tconst|          directors|  writers|\n",
      "+---------+-------------------+---------+\n",
      "|tt0000001|          nm0005690|       \\N|\n",
      "|tt0000002|          nm0721526|       \\N|\n",
      "|tt0000003|          nm0721526|       \\N|\n",
      "|tt0000004|          nm0721526|       \\N|\n",
      "|tt0000005|          nm0005690|       \\N|\n",
      "|tt0000006|          nm0005690|       \\N|\n",
      "|tt0000007|nm0005690,nm0374658|       \\N|\n",
      "|tt0000008|          nm0005690|       \\N|\n",
      "|tt0000009|          nm0085156|nm0085156|\n",
      "|tt0000010|          nm0525910|       \\N|\n",
      "|tt0000011|          nm0804434|       \\N|\n",
      "|tt0000012|nm0525908,nm0525910|       \\N|\n",
      "|tt0000013|          nm0525910|       \\N|\n",
      "|tt0000014|          nm0525910|       \\N|\n",
      "|tt0000015|          nm0721526|       \\N|\n",
      "|tt0000016|          nm0525910|       \\N|\n",
      "|tt0000017|nm1587194,nm0804434|       \\N|\n",
      "|tt0000018|          nm0804434|       \\N|\n",
      "|tt0000019|          nm0932055|       \\N|\n",
      "|tt0000020|          nm0010291|       \\N|\n",
      "+---------+-------------------+---------+\n",
      "only showing top 20 rows\n",
      "\n"
     ]
    }
   ],
   "source": [
    "title_crew_df.show()"
   ]
  },
  {
   "cell_type": "code",
   "execution_count": 12,
   "metadata": {},
   "outputs": [],
   "source": [
    "director_column = split(title_crew_df[\"directors\"], \",\")"
   ]
  },
  {
   "cell_type": "code",
   "execution_count": null,
   "metadata": {},
   "outputs": [],
   "source": []
  },
  {
   "cell_type": "markdown",
   "metadata": {
    "id": "8c135HEGBfL-"
   },
   "source": [
    "Separate directors and keep single director"
   ]
  },
  {
   "cell_type": "code",
   "execution_count": 13,
   "metadata": {
    "id": "GV9SKRBhBh4Q"
   },
   "outputs": [],
   "source": [
    "director_column = split(title_crew_df[\"directors\"], \",\")\n",
    "title_crew_df = title_crew_df.withColumn(\"director\", director_column.getItem(0))\n",
    "#title_crew_df.show()\n",
    "title_crew_df = title_crew_df.drop(\"directors\")\n",
    "#title_crew_df.show()"
   ]
  },
  {
   "cell_type": "code",
   "execution_count": 14,
   "metadata": {},
   "outputs": [
    {
     "name": "stdout",
     "output_type": "stream",
     "text": [
      "+---------+---------+---------+\n",
      "|   tconst|  writers| director|\n",
      "+---------+---------+---------+\n",
      "|tt0000001|       \\N|nm0005690|\n",
      "|tt0000002|       \\N|nm0721526|\n",
      "|tt0000003|       \\N|nm0721526|\n",
      "|tt0000004|       \\N|nm0721526|\n",
      "|tt0000005|       \\N|nm0005690|\n",
      "|tt0000006|       \\N|nm0005690|\n",
      "|tt0000007|       \\N|nm0005690|\n",
      "|tt0000008|       \\N|nm0005690|\n",
      "|tt0000009|nm0085156|nm0085156|\n",
      "|tt0000010|       \\N|nm0525910|\n",
      "|tt0000011|       \\N|nm0804434|\n",
      "|tt0000012|       \\N|nm0525908|\n",
      "|tt0000013|       \\N|nm0525910|\n",
      "|tt0000014|       \\N|nm0525910|\n",
      "|tt0000015|       \\N|nm0721526|\n",
      "|tt0000016|       \\N|nm0525910|\n",
      "|tt0000017|       \\N|nm1587194|\n",
      "|tt0000018|       \\N|nm0804434|\n",
      "|tt0000019|       \\N|nm0932055|\n",
      "|tt0000020|       \\N|nm0010291|\n",
      "+---------+---------+---------+\n",
      "only showing top 20 rows\n",
      "\n"
     ]
    }
   ],
   "source": [
    "title_crew_df.show()"
   ]
  },
  {
   "cell_type": "markdown",
   "metadata": {
    "id": "sf-Ktzz5BiIr"
   },
   "source": [
    "Separate writers and keep single writer"
   ]
  },
  {
   "cell_type": "code",
   "execution_count": 15,
   "metadata": {
    "id": "6FdVhv6-BkQm"
   },
   "outputs": [],
   "source": [
    "writer_column = split(title_crew_df[\"writers\"], \",\")\n",
    "title_crew_df = title_crew_df.withColumn(\"writer\", writer_column.getItem(0))\n",
    "#title_crew_df.show()\n",
    "title_crew_df = title_crew_df.drop(\"writers\")\n",
    "#title_crew_df.show()"
   ]
  },
  {
   "cell_type": "markdown",
   "metadata": {
    "id": "qbb0T_t_9S8X"
   },
   "source": [
    "Get director names"
   ]
  },
  {
   "cell_type": "code",
   "execution_count": 16,
   "metadata": {
    "id": "EdLgizgBgfFH"
   },
   "outputs": [],
   "source": [
    "director_df = title_crew_df.select(\"director\", \"tconst\")\n",
    "renamed_director_df = director_df.withColumnRenamed(\"director\", \"nconst\")\n",
    "\n",
    "director_id_name_df = renamed_director_df.join(name_basics_df, on=\"nconst\").select(\"tconst\", \"primaryName\")\n",
    "director_id_name_df = director_id_name_df.withColumnRenamed(\"primaryName\", \"directorPrimaryName\")\n",
    "#director_id_name_df.show()"
   ]
  },
  {
   "cell_type": "markdown",
   "metadata": {
    "id": "-UBj9JgFqoQ1"
   },
   "source": [
    "Get writer names"
   ]
  },
  {
   "cell_type": "code",
   "execution_count": 17,
   "metadata": {
    "id": "LVm79uwbhT4S"
   },
   "outputs": [],
   "source": [
    "writer_df = title_crew_df.select(\"writer\", \"tconst\")\n",
    "renamed_writer_df = writer_df.withColumnRenamed(\"writer\", \"nconst\")\n",
    "\n",
    "writer_id_name_df = renamed_writer_df.join(name_basics_df, on=\"nconst\").select(\"tconst\", \"primaryName\")\n",
    "writer_id_name_df = writer_id_name_df.withColumnRenamed(\"primaryName\", \"writerPrimaryName\")\n",
    "#writer_id_name_df.show()"
   ]
  },
  {
   "cell_type": "code",
   "execution_count": 18,
   "metadata": {
    "id": "BRBe2t6ixFp4"
   },
   "outputs": [],
   "source": [
    "title_basics_and_title_crew_and_title_ratings_df = title_basics_df.join(title_ratings_df, on=\"tconst\").join(director_id_name_df, on=\"tconst\").join(writer_id_name_df, on=\"tconst\")\n",
    "#title_basics_and_title_crew_and_title_ratings_df.show()"
   ]
  },
  {
   "cell_type": "code",
   "execution_count": 23,
   "metadata": {},
   "outputs": [
    {
     "data": {
      "text/plain": [
       "['tconst',\n",
       " 'titleType',\n",
       " 'primaryTitle',\n",
       " 'originalTitle',\n",
       " 'isAdult',\n",
       " 'startYear',\n",
       " 'endYear',\n",
       " 'runtimeMinutes',\n",
       " 'genres',\n",
       " 'genre',\n",
       " 'averageRating',\n",
       " 'numVotes',\n",
       " 'directorPrimaryName',\n",
       " 'writerPrimaryName']"
      ]
     },
     "execution_count": 23,
     "metadata": {},
     "output_type": "execute_result"
    }
   ],
   "source": [
    "title_basics_and_title_crew_and_title_ratings_df.columns"
   ]
  },
  {
   "cell_type": "markdown",
   "metadata": {
    "id": "EB-7f259cxHO"
   },
   "source": [
    "Get actor names"
   ]
  },
  {
   "cell_type": "code",
   "execution_count": 35,
   "metadata": {
    "id": "tKPv94eZcy-5"
   },
   "outputs": [],
   "source": [
    "person_df = title_principals_df.select(\"tconst\", \"nconst\", \"category\")\n",
    "#person_df.show()\n",
    "\n",
    "actor_df = person_df.filter(person_df.category == \"actor\")\n",
    "#person_df = person_df.filter((person_df.category == \"self\") | (person_df.category == \"cinematographer\") | (person_df.category == \"composer\") | (person_df.category == \"producer\") | (person_df.category == \"editor\") | (person_df.category == \"actor\"))\n",
    "#actor_df.show()\n",
    "\n",
    "actor_df = actor_df.join(name_basics_df, on=\"nconst\").select(\"tconst\", \"primaryName\")\n",
    "actor_id_name_df = actor_df.withColumnRenamed(\"primaryName\", \"actorPrimaryName\")\n",
    "#actor_id_name_df.show()\n",
    "title_basics_and_title_crew_and_title_ratings_actor_df = actor_id_name_df.groupBy(\"tconst\").agg(collect_list('actorPrimaryName').alias(\"actors\"))\n",
    "title_basics_and_title_crew_and_title_ratings_actor_df = title_basics_and_title_crew_and_title_ratings_actor_df.withColumn(\"actor1\", title_basics_and_title_crew_and_title_ratings_actor_df.actors[0])\n",
    "title_basics_and_title_crew_and_title_ratings_actor_df = title_basics_and_title_crew_and_title_ratings_actor_df.withColumn(\"actor2\", title_basics_and_title_crew_and_title_ratings_actor_df.actors[1])\n",
    "title_basics_and_title_crew_and_title_ratings_actor_df = title_basics_and_title_crew_and_title_ratings_actor_df.withColumn(\"actor3\", title_basics_and_title_crew_and_title_ratings_actor_df.actors[2])\n",
    "title_basics_and_title_crew_and_title_ratings_actor_df = title_basics_and_title_crew_and_title_ratings_actor_df.withColumn(\"actor4\", title_basics_and_title_crew_and_title_ratings_actor_df.actors[3])\n",
    "title_basics_and_title_crew_and_title_ratings_actor_df = title_basics_and_title_crew_and_title_ratings_df.join(actor_id_name_df, on=\"tconst\")\n",
    "#.groupBy(\"actorPrimaryName\").pivot(\"tconst\").agg(first(\"actorPrimaryName\"))\n",
    "#(nth_value(\"actorPrimaryName\", 0).alias(\"actor1\"), nth_value(\"actorPrimaryName\", 1).alias(\"actor2\"), nth_value(\"actorPrimaryName\", 2).alias(\"actor3\"), nth_value(\"actorPrimaryName\", 3).alias(\"actor4\"))\n",
    "#test.show()\n",
    "#title_basics_and_title_crew_and_title_ratings_actor_df = title_basics_and_title_crew_and_title_ratings_df.join(actor_id_name_df, on=\"tconst\")\n",
    "#title_basics_and_title_crew_and_title_ratings_actor_df.show()"
   ]
  },
  {
   "cell_type": "code",
   "execution_count": 36,
   "metadata": {},
   "outputs": [
    {
     "data": {
      "text/plain": [
       "['tconst',\n",
       " 'titleType',\n",
       " 'primaryTitle',\n",
       " 'originalTitle',\n",
       " 'isAdult',\n",
       " 'startYear',\n",
       " 'endYear',\n",
       " 'runtimeMinutes',\n",
       " 'genres',\n",
       " 'genre',\n",
       " 'averageRating',\n",
       " 'numVotes',\n",
       " 'directorPrimaryName',\n",
       " 'writerPrimaryName',\n",
       " 'actorPrimaryName']"
      ]
     },
     "execution_count": 36,
     "metadata": {},
     "output_type": "execute_result"
    }
   ],
   "source": [
    "title_basics_and_title_crew_and_title_ratings_actor_df.columns"
   ]
  },
  {
   "cell_type": "code",
   "execution_count": 67,
   "metadata": {
    "id": "-UjODokEsyKC"
   },
   "outputs": [],
   "source": [
    "final_df = title_basics_and_title_crew_and_title_ratings_actor_df.drop('titleType', 'originalTitle', 'isAdult', 'endYear', 'genres', 'numVotes', 'tconst', \"actors\")\n",
    "final_df = final_df.withColumnRenamed('primaryTitle', 'title')\n",
    "final_df = final_df.withColumnRenamed('startYear', 'year')\n",
    "final_df = final_df.withColumnRenamed('runtimeMinutes', 'runtime')\n",
    "final_df = final_df.withColumnRenamed('averageRating', 'rating')\n",
    "final_df = final_df.withColumnRenamed('directorPrimaryName', 'director')\n",
    "final_df = final_df.withColumnRenamed('writerPrimaryName', 'writer')\n",
    "# final_df.show()\n",
    "# final_df.persist()\n",
    "# final_df.repartition(1).write.option(\"header\", \"true\").save(\"mydata.csv\")\n"
   ]
  },
  {
   "cell_type": "code",
   "execution_count": 68,
   "metadata": {},
   "outputs": [],
   "source": [
    "# movies releaed after 2021 to reduce data\n",
    "final_df=final_df.filter(final_df.year.cast(\"int\") > 2021)"
   ]
  },
  {
   "cell_type": "code",
   "execution_count": 69,
   "metadata": {},
   "outputs": [
    {
     "data": {
      "text/plain": [
       "DataFrame[tconst: string, titleType: string, primaryTitle: string, originalTitle: string, isAdult: string, startYear: string, endYear: string, runtimeMinutes: string, genres: string, genre: string, averageRating: string, numVotes: string, directorPrimaryName: string, writerPrimaryName: string, actorPrimaryName: string]"
      ]
     },
     "execution_count": 69,
     "metadata": {},
     "output_type": "execute_result"
    }
   ],
   "source": [
    "title_basics_and_title_crew_and_title_ratings_actor_df"
   ]
  },
  {
   "cell_type": "code",
   "execution_count": 70,
   "metadata": {},
   "outputs": [
    {
     "data": {
      "text/plain": [
       "['title',\n",
       " 'year',\n",
       " 'runtime',\n",
       " 'genre',\n",
       " 'rating',\n",
       " 'director',\n",
       " 'writer',\n",
       " 'actorPrimaryName']"
      ]
     },
     "execution_count": 70,
     "metadata": {},
     "output_type": "execute_result"
    }
   ],
   "source": [
    "final_df.columns"
   ]
  },
  {
   "cell_type": "code",
   "execution_count": 71,
   "metadata": {},
   "outputs": [],
   "source": [
    "# final_df_sample = final_df.sample(fraction=0.1, seed=42)  # Sample 10% of the data\n",
    "# final_df_sample.show(2)"
   ]
  },
  {
   "cell_type": "code",
   "execution_count": 72,
   "metadata": {},
   "outputs": [
    {
     "name": "stderr",
     "output_type": "stream",
     "text": [
      "                                                                                \r"
     ]
    }
   ],
   "source": [
    "final_df.write.option(\"header\", \"true\").csv(\"final_dataset.csv\")\n"
   ]
  },
  {
   "cell_type": "code",
   "execution_count": 73,
   "metadata": {},
   "outputs": [
    {
     "data": {
      "text/plain": [
       "78551"
      ]
     },
     "execution_count": 73,
     "metadata": {},
     "output_type": "execute_result"
    }
   ],
   "source": [
    "# Specify the directory where the CSV files are saved\n",
    "csv_directory = \"final_dataset.csv\"\n",
    "\n",
    "# Read the CSV files back into a DataFrame\n",
    "final_df_read = spark.read.option(\"header\", \"true\").csv(csv_directory)\n",
    "\n",
    "# Show the first few rows of the DataFrame\n",
    "final_df_read.count()"
   ]
  },
  {
   "cell_type": "code",
   "execution_count": 74,
   "metadata": {},
   "outputs": [
    {
     "data": {
      "text/plain": [
       "['title',\n",
       " 'year',\n",
       " 'runtime',\n",
       " 'genre',\n",
       " 'rating',\n",
       " 'director',\n",
       " 'writer',\n",
       " 'actorPrimaryName']"
      ]
     },
     "execution_count": 74,
     "metadata": {},
     "output_type": "execute_result"
    }
   ],
   "source": [
    "final_df_read.columns"
   ]
  },
  {
   "cell_type": "code",
   "execution_count": 75,
   "metadata": {},
   "outputs": [
    {
     "data": {
      "text/plain": [
       "[Row(title='Socialist Realism', year='2023', runtime='78', genre='Drama', rating='7.6', director='Raúl Ruiz', writer='Cesare Pavese', actorPrimaryName='Waldo Rojas')]"
      ]
     },
     "execution_count": 75,
     "metadata": {},
     "output_type": "execute_result"
    }
   ],
   "source": [
    "final_df_read.head(1)"
   ]
  },
  {
   "cell_type": "code",
   "execution_count": null,
   "metadata": {},
   "outputs": [],
   "source": []
  },
  {
   "cell_type": "code",
   "execution_count": 102,
   "metadata": {},
   "outputs": [
    {
     "name": "stdout",
     "output_type": "stream",
     "text": [
      "Training set count: 63044\n",
      "Testing set count: 15507\n"
     ]
    }
   ],
   "source": [
    "# Split the data into training and testing sets\n",
    "train_df, test_df = final_df_read.randomSplit([0.8, 0.2], seed=42)\n",
    "\n",
    "# Show the number of rows in each set\n",
    "print(\"Training set count:\", train_df.count())\n",
    "print(\"Testing set count:\", test_df.count())"
   ]
  },
  {
   "cell_type": "markdown",
   "metadata": {},
   "source": [
    "# Replacing Null Values With Zero"
   ]
  },
  {
   "cell_type": "code",
   "execution_count": 103,
   "metadata": {},
   "outputs": [],
   "source": [
    "def show_null_values_distribution(train_df):\n",
    "    null_value_list = list()\n",
    "    for col_ in train_df.columns:\n",
    "        null_value_list.append(train_df.filter(train_df[col_]==\"\\\\N\").count())                     \n",
    "    plt.rcParams[\"figure.figsize\"] = (10,6)\n",
    "    columns = [col_ for col_ in train_df.columns]\n",
    "    \n",
    "    plt.figure(figsize=(10, 6))\n",
    "    plt.bar(columns, null_value_list, color='skyblue')\n",
    "    plt.xlabel('Columns')\n",
    "    plt.ylabel('Number of Null Values')\n",
    "    plt.ylim(0, train_df.count())\n",
    "    plt.title('Distribution of Null Values in Columns')\n",
    "    plt.xticks(rotation=45, ha='right')\n",
    "    plt.tight_layout()\n",
    "    plt.show()"
   ]
  },
  {
   "cell_type": "code",
   "execution_count": 104,
   "metadata": {},
   "outputs": [
    {
     "data": {
      "text/plain": [
       "[0, 0, 7773, 0, 0, 0, 0, 0]"
      ]
     },
     "execution_count": 104,
     "metadata": {},
     "output_type": "execute_result"
    }
   ],
   "source": [
    "null_value_list"
   ]
  },
  {
   "cell_type": "code",
   "execution_count": 105,
   "metadata": {},
   "outputs": [
    {
     "data": {
      "image/png": "[encoded data removed]",
      "text/plain": [
       "<Figure size 1000x600 with 1 Axes>"
      ]
     },
     "metadata": {},
     "output_type": "display_data"
    }
   ],
   "source": [
    "show_null_values_distribution(train_df)"
   ]
  },
  {
   "cell_type": "code",
   "execution_count": 107,
   "metadata": {},
   "outputs": [
    {
     "data": {
      "image/png": "[encoded data removed]",
      "text/plain": [
       "<Figure size 1000x600 with 1 Axes>"
      ]
     },
     "metadata": {},
     "output_type": "display_data"
    }
   ],
   "source": [
    "train_df = train_df.withColumn(\"runtime\", when(train_df[\"runtime\"] == \"\\\\N\", 0).otherwise(train_df[\"runtime\"]))\n",
    "show_null_values_distribution(train_df)"
   ]
  },
  {
   "cell_type": "markdown",
   "metadata": {},
   "source": [
    "# Drop Duplicates"
   ]
  },
  {
   "cell_type": "code",
   "execution_count": 110,
   "metadata": {},
   "outputs": [
    {
     "name": "stdout",
     "output_type": "stream",
     "text": [
      "63044\n",
      "61976\n"
     ]
    }
   ],
   "source": [
    "print(train_df.count())\n",
    "train_df=train_df.dropDuplicates()\n",
    "print(train_df.count())"
   ]
  },
  {
   "cell_type": "code",
   "execution_count": null,
   "metadata": {},
   "outputs": [],
   "source": []
  }
 ],
 "metadata": {
  "colab": {
   "collapsed_sections": [
    "9D0DmZBMtv-_"
   ],
   "provenance": []
  },
  "kernelspec": {
   "display_name": "Python 3 (ipykernel)",
   "language": "python",
   "name": "python3"
  },
  "language_info": {
   "codemirror_mode": {
    "name": "ipython",
    "version": 3
   },
   "file_extension": ".py",
   "mimetype": "text/x-python",
   "name": "python",
   "nbconvert_exporter": "python",
   "pygments_lexer": "ipython3",
   "version": "3.10.12"
  }
 },
 "nbformat": 4,
 "nbformat_minor": 4
}
