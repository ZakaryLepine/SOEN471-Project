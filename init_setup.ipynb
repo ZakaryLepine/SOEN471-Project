{
 "cells": [
  {
   "cell_type": "markdown",
   "metadata": {
    "id": "fS78XPa6zejQ"
   },
   "source": [
    "**title.basics.tsv.gz**\n",
    "- tconst (string) - alphanumeric unique identifier of the title\n",
    "- titleType (string) - the type/format of the title (e.g. movie, short, tvseries, tvepisode, video, etc)\n",
    "- primaryTitle (string) - the more popular title / the title used by the filmmakers on promotional materials at the point of release\n",
    "- startYear (YYYY) - represents the release year of a title. In the case of TV Series, it is the series start year\n",
    "- runtimeMinutes - primary runtime of the title, in minutes\n",
    "- genres (string array) - includes up to three genres associated with the title\n",
    "\n",
    "**title.crew.tsv.gz**\n",
    "- tconst (string) - alphanumeric unique identifier of the title\n",
    "- directors (array of nconsts) - director(s) of the given title\n",
    "- writers (array of nconsts) - writer(s) of the given title\n",
    "\n",
    "**title.ratings.tsv.gz**\n",
    "- tconst (string) - alphanumeric unique identifier of the title\n",
    "- averageRating - weighted average of all the individual user ratings\n",
    "\n",
    "**name.basics.tsv.gz**\n",
    "- nconst (string) - alphanumeric unique identifier of the name/person\n",
    "- primaryName (string) - name by which the person is most often credited\n",
    "\n",
    "**title.principals.tsv.gz**\n",
    "- tconst (string) - alphanumeric unique identifier of the title\n",
    "- nconst (string) - alphanumeric unique identifier of the name/person\n",
    "- category (string) - the category of job that person was in\n",
    "- job (string) - the specific job title if applicable, else '\\N'"
   ]
  },
  {
   "cell_type": "markdown",
   "metadata": {
    "id": "lu49tqKvw3UJ"
   },
   "source": [
    "# Setup"
   ]
  },
  {
   "cell_type": "markdown",
   "metadata": {
    "id": "HRDNYu253vyn"
   },
   "source": [
    "Pip installs"
   ]
  },
  {
   "cell_type": "code",
   "execution_count": 1,
   "metadata": {
    "colab": {
     "base_uri": "https://localhost:8080/"
    },
    "id": "LGLV2FuZ3xWB",
    "outputId": "7e728c6f-5af1-4ab0-ac23-8af3801cf27d"
   },
   "outputs": [
    {
     "name": "stdout",
     "output_type": "stream",
     "text": [
      "Defaulting to user installation because normal site-packages is not writeable\n",
      "Requirement already satisfied: pyspark in /home/umang/.local/lib/python3.10/site-packages (3.2.2)\n",
      "Requirement already satisfied: py4j==0.10.9.5 in /home/umang/.local/lib/python3.10/site-packages (from pyspark) (0.10.9.5)\n"
     ]
    }
   ],
   "source": [
    "!pip install pyspark"
   ]
  },
  {
   "cell_type": "markdown",
   "metadata": {
    "id": "ddk7h3vrxarD"
   },
   "source": [
    "Python imports"
   ]
  },
  {
   "cell_type": "code",
   "execution_count": 135,
   "metadata": {
    "id": "UvigWpk-xYRl"
   },
   "outputs": [],
   "source": [
    "import os.path as path\n",
    "from pyspark.sql import SparkSession\n",
    "from pyspark.sql import column\n",
    "from pyspark.sql.functions import *\n",
    "import matplotlib.pyplot as plt"
   ]
  },
  {
   "cell_type": "code",
   "execution_count": 136,
   "metadata": {
    "id": "cHfuFFb6w1Ql"
   },
   "outputs": [],
   "source": [
    "title_basics_dataset = \"title.basics.tsv\"\n",
    "\n",
    "title_crew_dataset = \"title.crew.tsv\"\n",
    "\n",
    "title_ratings_dataset = \"title.ratings.tsv\"\n",
    "\n",
    "name_basics_dataset = \"name.basics.tsv\"\n",
    "\n",
    "title_principals_dataset = \"title.principals.tsv\"\n",
    "\n",
    "movie_description_dataset1 = \"movies_metadata.csv\"\n",
    "\n",
    "movie_description_dataset2 = \"mpst_full_data.csv\"\n",
    "\n",
    "\n",
    "if not(path.isfile(title_basics_dataset)):\n",
    "  !wget https://datasets.imdbws.com/title.basics.tsv.gz\n",
    "  !gzip -d title.basics.tsv.gz\n",
    "\n",
    "if not(path.isfile(title_crew_dataset)):\n",
    "  !wget https://datasets.imdbws.com/title.crew.tsv.gz\n",
    "  !gzip -d title.crew.tsv.gz\n",
    "\n",
    "if not(path.isfile(title_ratings_dataset)):\n",
    "  !wget https://datasets.imdbws.com/title.ratings.tsv.gz\n",
    "  !gzip -d title.ratings.tsv.gz\n",
    "\n",
    "if not(path.isfile(name_basics_dataset)):\n",
    "  !wget https://datasets.imdbws.com/name.basics.tsv.gz\n",
    "  !gzip -d name.basics.tsv.gz\n",
    "\n",
    "if not(path.isfile(title_principals_dataset)):\n",
    "  !wget https://datasets.imdbws.com/title.principals.tsv.gz\n",
    "  !gzip -d title.principals.tsv.gz\n",
    "\n",
    "if not(path.isfile(movie_description_dataset1)):\n",
    "  !wget https://raw.githubusercontent.com/ZakaryLepine/SOEN471-Project-Datasets/main/movies_metadata.csv\n",
    "\n",
    "if not(path.isfile(movie_description_dataset2)):\n",
    "  !wget https://raw.githubusercontent.com/ZakaryLepine/SOEN471-Project-Datasets/main/mpst_full_data.csv"
   ]
  },
  {
   "cell_type": "markdown",
   "metadata": {
    "id": "1irAm4LfxC8L"
   },
   "source": [
    "# Preparing Dataset"
   ]
  },
  {
   "cell_type": "markdown",
   "metadata": {
    "id": "r5Lir8bR4E4V"
   },
   "source": [
    "Helpers"
   ]
  },
  {
   "cell_type": "code",
   "execution_count": 137,
   "metadata": {
    "id": "WlU9Z7yX4Gqz"
   },
   "outputs": [],
   "source": [
    "def init_spark():\n",
    "  return SparkSession \\\n",
    "        .builder \\\n",
    "        .appName(\"Spark\") \\\n",
    "        .config(\"spark.executor.memory\", \"8g\") \\\n",
    "        .config(\"spark.driver.memory\", \"8g\") \\\n",
    "        .getOrCreate()\n",
    "\n",
    "spark = init_spark()\n"
   ]
  },
  {
   "cell_type": "markdown",
   "metadata": {
    "id": "MYMxKb0gxKCo"
   },
   "source": [
    "Create base dataframes"
   ]
  },
  {
   "cell_type": "code",
   "execution_count": 138,
   "metadata": {
    "colab": {
     "base_uri": "https://localhost:8080/",
     "height": 219
    },
    "id": "V96f6paZZd39",
    "outputId": "b9588ed5-abaa-4890-d6ab-d9927d8ff379"
   },
   "outputs": [
    {
     "data": {
      "text/html": [
       "\n",
       "            <div>\n",
       "                <p><b>SparkSession - in-memory</b></p>\n",
       "                \n",
       "        <div>\n",
       "            <p><b>SparkContext</b></p>\n",
       "\n",
       "            <p><a href=\"http://172.31.102.226:4040\">Spark UI</a></p>\n",
       "\n",
       "            <dl>\n",
       "              <dt>Version</dt>\n",
       "                <dd><code>v3.2.2</code></dd>\n",
       "              <dt>Master</dt>\n",
       "                <dd><code>local[*]</code></dd>\n",
       "              <dt>AppName</dt>\n",
       "                <dd><code>Spark</code></dd>\n",
       "            </dl>\n",
       "        </div>\n",
       "        \n",
       "            </div>\n",
       "        "
      ],
      "text/plain": [
       "<pyspark.sql.session.SparkSession at 0x7f8c605fd870>"
      ]
     },
     "execution_count": 138,
     "metadata": {},
     "output_type": "execute_result"
    }
   ],
   "source": [
    "spark"
   ]
  },
  {
   "cell_type": "code",
   "execution_count": 139,
   "metadata": {
    "id": "zRxYx6sYxNVv"
   },
   "outputs": [],
   "source": [
    "title_basics_df = spark.read.option(\"delimiter\", \"\\t\").option(\"header\", True).csv(title_basics_dataset)\n",
    "\n",
    "title_crew_df = spark.read.option(\"delimiter\", \"\\t\").option(\"header\", True).csv(title_crew_dataset)\n",
    "\n",
    "title_ratings_df = spark.read.option(\"delimiter\", \"\\t\").option(\"header\", True).csv(title_ratings_dataset)\n",
    "\n",
    "name_basics_df = spark.read.option(\"delimiter\", \"\\t\").option(\"header\", True).csv(name_basics_dataset)\n",
    "\n",
    "title_principals_df = spark.read.option(\"delimiter\", \"\\t\").option(\"header\", True).csv(title_principals_dataset)\n",
    "\n",
    "movie_description_df1 = spark.read.option(\"delimiter\", \",\").option(\"header\", True).csv(movie_description_dataset1)\n",
    "\n",
    "movie_description_df2 = spark.read.option(\"delimiter\", \",\").option(\"header\", True).csv(movie_description_dataset2)"
   ]
  },
  {
   "cell_type": "code",
   "execution_count": 140,
   "metadata": {},
   "outputs": [
    {
     "data": {
      "text/plain": [
       "['adult',\n",
       " 'belongs_to_collection',\n",
       " 'budget',\n",
       " 'genres',\n",
       " 'homepage',\n",
       " 'id',\n",
       " 'imdb_id',\n",
       " 'original_language',\n",
       " 'original_title',\n",
       " 'overview',\n",
       " 'popularity',\n",
       " 'poster_path',\n",
       " 'production_companies',\n",
       " 'production_countries',\n",
       " 'release_date',\n",
       " 'revenue',\n",
       " 'runtime',\n",
       " 'spoken_languages',\n",
       " 'status',\n",
       " 'tagline',\n",
       " 'title',\n",
       " 'video',\n",
       " 'vote_average',\n",
       " 'vote_count']"
      ]
     },
     "execution_count": 140,
     "metadata": {},
     "output_type": "execute_result"
    }
   ],
   "source": [
    "movie_description_df1.columns"
   ]
  },
  {
   "cell_type": "code",
   "execution_count": 141,
   "metadata": {},
   "outputs": [],
   "source": [
    "# movie_description_df2.count()"
   ]
  },
  {
   "cell_type": "code",
   "execution_count": 142,
   "metadata": {
    "colab": {
     "base_uri": "https://localhost:8080/"
    },
    "id": "9u-SRnRH7ana",
    "outputId": "b6fa0c53-73b5-425b-fdc6-5a877a678813"
   },
   "outputs": [
    {
     "name": "stdout",
     "output_type": "stream",
     "text": [
      "+---------+---------+--------------------+--------------------+-------+---------+-------+--------------+--------------------+\n",
      "|   tconst|titleType|        primaryTitle|       originalTitle|isAdult|startYear|endYear|runtimeMinutes|              genres|\n",
      "+---------+---------+--------------------+--------------------+-------+---------+-------+--------------+--------------------+\n",
      "|tt0000001|    short|          Carmencita|          Carmencita|      0|     1894|     \\N|             1|   Documentary,Short|\n",
      "|tt0000002|    short|Le clown et ses c...|Le clown et ses c...|      0|     1892|     \\N|             5|     Animation,Short|\n",
      "|tt0000003|    short|      Pauvre Pierrot|      Pauvre Pierrot|      0|     1892|     \\N|             4|Animation,Comedy,...|\n",
      "|tt0000004|    short|         Un bon bock|         Un bon bock|      0|     1892|     \\N|            12|     Animation,Short|\n",
      "|tt0000005|    short|    Blacksmith Scene|    Blacksmith Scene|      0|     1893|     \\N|             1|        Comedy,Short|\n",
      "|tt0000006|    short|   Chinese Opium Den|   Chinese Opium Den|      0|     1894|     \\N|             1|               Short|\n",
      "|tt0000007|    short|Corbett and Court...|Corbett and Court...|      0|     1894|     \\N|             1|         Short,Sport|\n",
      "|tt0000008|    short|Edison Kinetoscop...|Edison Kinetoscop...|      0|     1894|     \\N|             1|   Documentary,Short|\n",
      "|tt0000009|    movie|          Miss Jerry|          Miss Jerry|      0|     1894|     \\N|            45|             Romance|\n",
      "|tt0000010|    short| Leaving the Factory|La sortie de l'us...|      0|     1895|     \\N|             1|   Documentary,Short|\n",
      "|tt0000011|    short|Akrobatisches Pot...|Akrobatisches Pot...|      0|     1895|     \\N|             1|   Documentary,Short|\n",
      "|tt0000012|    short|The Arrival of a ...|L'arrivée d'un tr...|      0|     1896|     \\N|             1|   Documentary,Short|\n",
      "|tt0000013|    short|The Photographica...|Le débarquement d...|      0|     1895|     \\N|             1|   Documentary,Short|\n",
      "|tt0000014|    short| The Waterer Watered|   L'arroseur arrosé|      0|     1895|     \\N|             1|        Comedy,Short|\n",
      "|tt0000015|    short| Autour d'une cabine| Autour d'une cabine|      0|     1894|     \\N|             2|     Animation,Short|\n",
      "|tt0000016|    short|Boat Leaving the ...|Barque sortant du...|      0|     1895|     \\N|             1|   Documentary,Short|\n",
      "|tt0000017|    short|Italienischer Bau...|Italienischer Bau...|      0|     1895|     \\N|             1|   Documentary,Short|\n",
      "|tt0000018|    short|Das boxende Känguruh|Das boxende Känguruh|      0|     1895|     \\N|             1|               Short|\n",
      "|tt0000019|    short|    The Clown Barber|    The Clown Barber|      0|     1898|     \\N|            \\N|        Comedy,Short|\n",
      "|tt0000020|    short|      The Derby 1895|      The Derby 1895|      0|     1895|     \\N|             1|Documentary,Short...|\n",
      "+---------+---------+--------------------+--------------------+-------+---------+-------+--------------+--------------------+\n",
      "only showing top 20 rows\n",
      "\n",
      "+---------+-------------------+---------+\n",
      "|   tconst|          directors|  writers|\n",
      "+---------+-------------------+---------+\n",
      "|tt0000001|          nm0005690|       \\N|\n",
      "|tt0000002|          nm0721526|       \\N|\n",
      "|tt0000003|          nm0721526|       \\N|\n",
      "|tt0000004|          nm0721526|       \\N|\n",
      "|tt0000005|          nm0005690|       \\N|\n",
      "|tt0000006|          nm0005690|       \\N|\n",
      "|tt0000007|nm0005690,nm0374658|       \\N|\n",
      "|tt0000008|          nm0005690|       \\N|\n",
      "|tt0000009|          nm0085156|nm0085156|\n",
      "|tt0000010|          nm0525910|       \\N|\n",
      "|tt0000011|          nm0804434|       \\N|\n",
      "|tt0000012|nm0525908,nm0525910|       \\N|\n",
      "|tt0000013|          nm0525910|       \\N|\n",
      "|tt0000014|          nm0525910|       \\N|\n",
      "|tt0000015|          nm0721526|       \\N|\n",
      "|tt0000016|          nm0525910|       \\N|\n",
      "|tt0000017|nm1587194,nm0804434|       \\N|\n",
      "|tt0000018|          nm0804434|       \\N|\n",
      "|tt0000019|          nm0932055|       \\N|\n",
      "|tt0000020|          nm0010291|       \\N|\n",
      "+---------+-------------------+---------+\n",
      "only showing top 20 rows\n",
      "\n",
      "+---------+-------------+--------+\n",
      "|   tconst|averageRating|numVotes|\n",
      "+---------+-------------+--------+\n",
      "|tt0000001|          5.7|    2036|\n",
      "|tt0000002|          5.7|     272|\n",
      "|tt0000003|          6.5|    1984|\n",
      "|tt0000004|          5.4|     178|\n",
      "|tt0000005|          6.2|    2744|\n",
      "|tt0000006|          5.0|     183|\n",
      "|tt0000007|          5.4|     852|\n",
      "|tt0000008|          5.4|    2181|\n",
      "|tt0000009|          5.3|     209|\n",
      "|tt0000010|          6.8|    7502|\n",
      "|tt0000011|          5.2|     385|\n",
      "|tt0000012|          7.4|   12793|\n",
      "|tt0000013|          5.7|    1945|\n",
      "|tt0000014|          7.1|    5799|\n",
      "|tt0000015|          6.1|    1154|\n",
      "|tt0000016|          5.9|    1563|\n",
      "|tt0000017|          4.6|     342|\n",
      "|tt0000018|          5.2|     622|\n",
      "|tt0000019|          5.1|      32|\n",
      "|tt0000020|          4.7|     374|\n",
      "+---------+-------------+--------+\n",
      "only showing top 20 rows\n",
      "\n",
      "+---------+-------------------+---------+---------+--------------------+--------------------+\n",
      "|   nconst|        primaryName|birthYear|deathYear|   primaryProfession|      knownForTitles|\n",
      "+---------+-------------------+---------+---------+--------------------+--------------------+\n",
      "|nm0000001|       Fred Astaire|     1899|     1987|actor,miscellaneo...|tt0072308,tt00504...|\n",
      "|nm0000002|      Lauren Bacall|     1924|     2014|actress,soundtrac...|tt0037382,tt00752...|\n",
      "|nm0000003|    Brigitte Bardot|     1934|       \\N|actress,music_dep...|tt0057345,tt00491...|\n",
      "|nm0000004|       John Belushi|     1949|     1982|actor,writer,musi...|tt0072562,tt00779...|\n",
      "|nm0000005|     Ingmar Bergman|     1918|     2007|writer,director,a...|tt0050986,tt00839...|\n",
      "|nm0000006|     Ingrid Bergman|     1915|     1982|actress,producer,...|tt0034583,tt00368...|\n",
      "|nm0000007|    Humphrey Bogart|     1899|     1957|actor,producer,mi...|tt0034583,tt00425...|\n",
      "|nm0000008|      Marlon Brando|     1924|     2004|actor,director,wr...|tt0078788,tt00686...|\n",
      "|nm0000009|     Richard Burton|     1925|     1984|actor,producer,di...|tt0061184,tt00878...|\n",
      "|nm0000010|       James Cagney|     1899|     1986|actor,director,pr...|tt0029870,tt00318...|\n",
      "|nm0000011|        Gary Cooper|     1901|     1961|actor,stunts,prod...|tt0044706,tt00341...|\n",
      "|nm0000012|        Bette Davis|     1908|     1989|actress,make_up_d...|tt0042192,tt00566...|\n",
      "|nm0000013|          Doris Day|     1922|     2019|actress,producer,...|tt0048317,tt00455...|\n",
      "|nm0000014|Olivia de Havilland|     1916|     2020|actress,soundtrac...|tt0031381,tt00414...|\n",
      "|nm0000015|         James Dean|     1931|     1955|actor,miscellaneo...|tt0048028,tt00485...|\n",
      "|nm0000016|    Georges Delerue|     1925|     1992|composer,music_de...|tt0091763,tt00963...|\n",
      "|nm0000017|   Marlene Dietrich|     1901|     1992|actress,music_dep...|tt0051201,tt00550...|\n",
      "|nm0000018|       Kirk Douglas|     1916|     2020|actor,producer,di...|tt0080736,tt00543...|\n",
      "|nm0000019|   Federico Fellini|     1920|     1993|writer,director,a...|tt0056801,tt00507...|\n",
      "|nm0000020|        Henry Fonda|     1905|     1982|actor,producer,mi...|tt0050083,tt00828...|\n",
      "+---------+-------------------+---------+---------+--------------------+--------------------+\n",
      "only showing top 20 rows\n",
      "\n",
      "+---------+--------+---------+---------------+--------------------+--------------+\n",
      "|   tconst|ordering|   nconst|       category|                 job|    characters|\n",
      "+---------+--------+---------+---------------+--------------------+--------------+\n",
      "|tt0000001|       1|nm1588970|           self|                  \\N|      [\"Self\"]|\n",
      "|tt0000001|       2|nm0005690|       director|                  \\N|            \\N|\n",
      "|tt0000001|       3|nm0005690|       producer|            producer|            \\N|\n",
      "|tt0000001|       4|nm0374658|cinematographer|director of photo...|            \\N|\n",
      "|tt0000002|       1|nm0721526|       director|                  \\N|            \\N|\n",
      "|tt0000002|       2|nm1335271|       composer|                  \\N|            \\N|\n",
      "|tt0000003|       1|nm0721526|       director|                  \\N|            \\N|\n",
      "|tt0000003|       2|nm1770680|       producer|            producer|            \\N|\n",
      "|tt0000003|       3|nm0721526|       producer|            producer|            \\N|\n",
      "|tt0000003|       4|nm1335271|       composer|                  \\N|            \\N|\n",
      "|tt0000003|       5|nm5442200|         editor|              editor|            \\N|\n",
      "|tt0000004|       1|nm0721526|       director|                  \\N|            \\N|\n",
      "|tt0000004|       2|nm1335271|       composer|                  \\N|            \\N|\n",
      "|tt0000005|       1|nm0443482|          actor|                  \\N|[\"Blacksmith\"]|\n",
      "|tt0000005|       2|nm0653042|          actor|                  \\N| [\"Assistant\"]|\n",
      "|tt0000005|       3|nm0249379|       producer|            producer|            \\N|\n",
      "|tt0000007|       1|nm0179163|          actor|                  \\N|            \\N|\n",
      "|tt0000007|       2|nm0183947|          actor|                  \\N|            \\N|\n",
      "|tt0000007|       3|nm0005690|       director|                  \\N|            \\N|\n",
      "|tt0000007|       4|nm0374658|       director|                  \\N|            \\N|\n",
      "+---------+--------+---------+---------------+--------------------+--------------+\n",
      "only showing top 20 rows\n",
      "\n",
      "+-----+---------------------+--------+--------------------+--------------------+-----+---------+-----------------+--------------------+--------------------+----------+--------------------+--------------------+--------------------+--------------------+--------------------+--------------------+--------------------+--------+--------------------+--------------------+--------+--------------------+-----------------+\n",
      "|adult|belongs_to_collection|  budget|              genres|            homepage|   id|  imdb_id|original_language|      original_title|            overview|popularity|         poster_path|production_companies|production_countries|        release_date|             revenue|             runtime|    spoken_languages|  status|             tagline|               title|   video|        vote_average|       vote_count|\n",
      "+-----+---------------------+--------+--------------------+--------------------+-----+---------+-----------------+--------------------+--------------------+----------+--------------------+--------------------+--------------------+--------------------+--------------------+--------------------+--------------------+--------+--------------------+--------------------+--------+--------------------+-----------------+\n",
      "|False| {'id': 10194, 'na...|30000000|[{'id': 16, 'name...|http://toystory.d...|  862|tt0114709|               en|           Toy Story|Led by Woody, And...| 21.946943|/rhIRbceoE9lR4veE...|[{'name': 'Pixar ...|[{'iso_3166_1': '...|          1995-10-30|           373554033|                81.0|[{'iso_639_1': 'e...|Released|                null|           Toy Story|   False|                 7.7|             5415|\n",
      "|False|                 null|65000000|[{'id': 12, 'name...|                null| 8844|tt0113497|               en|             Jumanji|When siblings Jud...| 17.015539|/vzmL6fP7aPKNKPRT...|[{'name': 'TriSta...|[{'iso_3166_1': '...|          1995-12-15|           262797249|               104.0|[{'iso_639_1': 'e...|Released|Roll the dice and...|             Jumanji|   False|                 6.9|             2413|\n",
      "|False| {'id': 119050, 'n...|       0|[{'id': 10749, 'n...|                null|15602|tt0113228|               en|    Grumpier Old Men|A family wedding ...|   11.7129|/6ksm1sjKMFLbO7UY...|[{'name': 'Warner...|[{'iso_3166_1': '...|          1995-12-22|                   0|               101.0|[{'iso_639_1': 'e...|Released|Still Yelling. St...|    Grumpier Old Men|   False|                 6.5|               92|\n",
      "|False|                 null|16000000|[{'id': 35, 'name...|                null|31357|tt0114885|               en|   Waiting to Exhale|\"Cheated on, mist...|    Bernie| Glo and Robin ta...| determined to fi...|            3.859495|/16XOMpEaLWkrcPqS...|[{'name': 'Twenti...|[{'iso_3166_1': '...|          1995-12-22|81452156|               127.0|[{'iso_639_1': 'e...|Released|Friends are the p...|Waiting to Exhale|\n",
      "|False| {'id': 96871, 'na...|       0|[{'id': 35, 'name...|                null|11862|tt0113041|               en|Father of the Bri...|Just when George ...|  8.387519|/e64sOI48hQXyru7n...|[{'name': 'Sandol...|[{'iso_3166_1': '...|          1995-02-10|            76578911|               106.0|[{'iso_639_1': 'e...|Released|Just When His Wor...|Father of the Bri...|   False|                 5.7|              173|\n",
      "|False|                 null|60000000|[{'id': 28, 'name...|                null|  949|tt0113277|               en|                Heat|Obsessive master ...| 17.924927|/zMyfPUelumio3tiD...|[{'name': 'Regenc...|[{'iso_3166_1': '...|          1995-12-15|           187436818|               170.0|[{'iso_639_1': 'e...|Released|A Los Angeles Cri...|                Heat|   False|                 7.7|             1886|\n",
      "|False|                 null|58000000|[{'id': 35, 'name...|                null|11860|tt0114319|               en|             Sabrina|An ugly duckling ...|  6.677277|/jQh15y5YB7bWz1Nt...|[{'name': 'Paramo...|[{'iso_3166_1': '...|          1995-12-15|                   0|               127.0|[{'iso_639_1': 'f...|Released|You are cordially...|             Sabrina|   False|                 6.2|              141|\n",
      "|False|                 null|       0|[{'id': 28, 'name...|                null|45325|tt0112302|               en|        Tom and Huck|A mischievous you...|  2.561161|/sGO5Qa55p7wTu7FJ...|[{'name': 'Walt D...|[{'iso_3166_1': '...|          1995-12-22|                   0|                97.0|[{'iso_639_1': 'e...|Released|The Original Bad ...|        Tom and Huck|   False|                 5.4|               45|\n",
      "|False|                 null|35000000|[{'id': 28, 'name...|                null| 9091|tt0114576|               en|        Sudden Death|International act...|   5.23158|/eoWvKD60lT95Ss1M...|[{'name': 'Univer...|[{'iso_3166_1': '...|          1995-12-22|            64350171|               106.0|[{'iso_639_1': 'e...|Released|Terror goes into ...|        Sudden Death|   False|                 5.5|              174|\n",
      "|False| {'id': 645, 'name...|58000000|[{'id': 12, 'name...|http://www.mgm.co...|  710|tt0113189|               en|           GoldenEye|James Bond must u...| 14.686036|/5c0ovjT41KnYIHYu...|[{'name': 'United...|[{'iso_3166_1': '...|          1995-11-16|           352194034|               130.0|[{'iso_639_1': 'e...|Released|No limits. No fea...|           GoldenEye|   False|                 6.6|             1194|\n",
      "|False|                 null|62000000|[{'id': 35, 'name...|                null| 9087|tt0112346|               en|The American Pres...|Widowed U.S. pres...|  6.318445|/lymPNGLZgPHuqM29...|[{'name': 'Columb...|[{'iso_3166_1': '...|          1995-11-17|           107879496|               106.0|[{'iso_639_1': 'e...|Released|Why can't the mos...|The American Pres...|   False|                 6.5|              199|\n",
      "|False|                 null|       0|[{'id': 35, 'name...|                null|12110|tt0112896|               en|Dracula: Dead and...|When a lawyer sho...|  5.430331|/xve4cgfYItnOhtzL...|[{'name': 'Columb...|[{'iso_3166_1': '...|          1995-12-22|                   0|                88.0|[{'iso_639_1': 'e...|Released|                null|Dracula: Dead and...|   False|                 5.7|              210|\n",
      "|False| {'id': 117693, 'n...|       0|[{'id': 10751, 'n...|                null|21032|tt0112453|               en|               Balto|An outcast half-w...| 12.140733|/gV5PCAVCPNxlOLFM...|[{'name': 'Univer...|[{'iso_3166_1': '...|          1995-12-22|            11348324|                78.0|[{'iso_639_1': 'e...|Released|Part Dog. Part Wo...|               Balto|   False|                 7.1|              423|\n",
      "|False|                 null|44000000|[{'id': 36, 'name...|                null|10858|tt0113987|               en|               Nixon|An all-star cast ...|     5.092|/cICkmCEiXRhvZmbu...|[{'name': 'Hollyw...|[{'iso_3166_1': '...|          1995-12-22|            13681765|               192.0|[{'iso_639_1': 'e...|Released|Triumphant in Vic...|               Nixon|   False|                 7.1|               72|\n",
      "|False|                 null|98000000|[{'id': 28, 'name...|                null| 1408|tt0112760|               en|    Cutthroat Island|Morgan Adams and ...|  7.284477|/odM9973kIv9hcjfH...|[{'name': 'Le Stu...|[{'iso_3166_1': '...|          1995-12-22|            10017322|               119.0|[{'iso_639_1': 'e...|Released|The Course Has Be...|    Cutthroat Island|   False|                 5.7|              137|\n",
      "|False|                 null|52000000|[{'id': 18, 'name...|                null|  524|tt0112641|               en|              Casino|The life of the g...| 10.137389|/xo517ibXBDdYQY81...|[{'name': 'Univer...|[{'iso_3166_1': '...|          1995-11-22|           116112375|               178.0|[{'iso_639_1': 'e...|Released|No one stays at t...|              Casino|   False|                 7.8|             1343|\n",
      "|False|                 null|16500000|[{'id': 18, 'name...|                null| 4584|tt0114388|               en|Sense and Sensibi...|Rich Mr. Dashwood...| 10.673167|/lA9HTy84Bb6ZwNey...|[{'name': 'Columb...|[{'iso_3166_1': '...|          1995-12-13|           135000000|               136.0|[{'iso_639_1': 'e...|Released|Lose your heart a...|Sense and Sensibi...|   False|                 7.2|              364|\n",
      "|False|                 null| 4000000|[{'id': 80, 'name...|                null|    5|tt0113101|               en|          Four Rooms|It's Ted the Bell...|  9.026586|/eQs5hh9rxrk1m4xH...|[{'name': 'Mirama...|[{'iso_3166_1': '...|          1995-12-09|             4300000|                98.0|[{'iso_639_1': 'e...|Released|Twelve outrageous...|          Four Rooms|   False|                 6.5|              539|\n",
      "|False| {'id': 3167, 'nam...|30000000|[{'id': 80, 'name...|                null| 9273|tt0112281|               en|Ace Ventura: When...|Summoned from an ...|  8.205448|/wRlGnJhEzcxBjvWt...|[{'name': 'O Ente...|[{'iso_3166_1': '...|          1995-11-10|           212385533|                90.0|[{'iso_639_1': 'e...|Released|New animals. New ...|Ace Ventura: When...|   False|                 6.1|             1128|\n",
      "|False|                 null|60000000|[{'id': 28, 'name...|                null|11517|tt0113845|               en|         Money Train|A vengeful New Yo...|  7.337906|/jSozzzVOR2kfXgTU...|[{'name': 'Columb...|[{'iso_3166_1': '...|          1995-11-21|            35431113|               103.0|[{'iso_639_1': 'e...|Released|Get on, or GET OU...|         Money Train|   False|                 5.4|              224|\n",
      "+-----+---------------------+--------+--------------------+--------------------+-----+---------+-----------------+--------------------+--------------------+----------+--------------------+--------------------+--------------------+--------------------+--------------------+--------------------+--------------------+--------+--------------------+--------------------+--------+--------------------+-----------------+\n",
      "only showing top 20 rows\n",
      "\n",
      "+--------------------+--------------------+--------------------+--------------------+--------------------+--------------------+\n",
      "|             imdb_id|               title|       plot_synopsis|                tags|               split|     synopsis_source|\n",
      "+--------------------+--------------------+--------------------+--------------------+--------------------+--------------------+\n",
      "|           tt0057603|I tre volti della...|\"Note: this synop...| mostly likely ca...| the concierge ap...| as she has appar...|\n",
      "|           tt1733125|Dungeons & Dragon...|Two thousand year...|            violence|               train|                imdb|\n",
      "|           tt0033045|The Shop Around t...|Matuschek's, a gi...|                null|                null|                null|\n",
      "|Klara Novak (Marg...| but this daily a...| and while Alfred...| they dream of so...| caring and unkno...| and the store is...|\n",
      "|Alfred reveals hi...|            romantic|                test|                imdb|                null|                null|\n",
      "|           tt0113862|  Mr. Holland's Opus|\"Glenn Holland, n...| he soon finds th...| he meets Vice Pr...| who comments on ...|\n",
      "|           tt0086250|            Scarface|\"In May 1980, a C...| they notice a ta...| which identifies...| and detain him i...|\n",
      "|           tt1315981|        A Single Man|\"George Falconer ...| reminding him of...| but he leaves.Th...| right after the ...|\n",
      "|           tt0249380|           Baise-moi|Baise-moi tells t...|                null|                null|                null|\n",
      "|             One day| Manu and her friend|       a drug addict| are accosted in ...| who take them to...|             screams|\n",
      "|           Meanwhile| Nadine returns h...| whom she strangl...| before leaving w...|       a drug dealer|     in another town|\n",
      "|    Later that night| having missed th...| Nadine meets Man...| if Nadine will d...| and embark on a ...|                null|\n",
      "|    In need of money| the girls hold u...| they are pulled ...| whom they kill. ...| who was also bei...| flees with them....|\n",
      "|  During their spree| the duo's crimes...| and become a poi...| with some people...| and others afrai...| she is shot by t...|\n",
      "|           tt0408790|          Flightplan|\"Kyle Pratt (Jodi...|\"\" against flight...| leaving the audi...| he sneaks back i...|\n",
      "|In this movie app...|mystery, suspense...|               train|                imdb|                null|                null|\n",
      "|           tt0021079|       Little Caesar|\"Small-time Itali...| Jr.) move from N...| while Joe wants ...| but Rico (whom t...|\n",
      "|           tt1615065|             Savages|\"The movie begins...| while Chon handl...| but Chon is the ...| and sells to mar...|\n",
      "|           tt0089606|   Mitt liv som hund|\"The action takes...| jag kan inte få ...|                null|                null|\n",
      "|In the town he en...| an assertive tom...|           likes him| and shows it by ...| a man who contin...| and Mr. Arvidsso...|\n",
      "+--------------------+--------------------+--------------------+--------------------+--------------------+--------------------+\n",
      "only showing top 20 rows\n",
      "\n"
     ]
    }
   ],
   "source": [
    "title_basics_df.show()\n",
    "title_crew_df.show()\n",
    "title_ratings_df.show()\n",
    "name_basics_df.show()\n",
    "title_principals_df.show()\n",
    "movie_description_df1.show()\n",
    "movie_description_df2.show()"
   ]
  },
  {
   "cell_type": "markdown",
   "metadata": {
    "id": "9D0DmZBMtv-_"
   },
   "source": [
    "## Filters"
   ]
  },
  {
   "cell_type": "markdown",
   "metadata": {
    "id": "cMId6SyA9ZMl"
   },
   "source": [
    "Filter entries for only movie entries"
   ]
  },
  {
   "cell_type": "code",
   "execution_count": 143,
   "metadata": {
    "id": "uDq_NnP4-FFn"
   },
   "outputs": [],
   "source": [
    "title_basics_df = title_basics_df.filter(title_basics_df.titleType == \"movie\")\n",
    "#title_basics_df.show()"
   ]
  },
  {
   "cell_type": "markdown",
   "metadata": {
    "id": "Pbsch7OA_vVB"
   },
   "source": [
    "Remove entries where the genres is null (\\N)"
   ]
  },
  {
   "cell_type": "code",
   "execution_count": 144,
   "metadata": {
    "id": "pZuAjCXp_yx6"
   },
   "outputs": [],
   "source": [
    "title_basics_df = title_basics_df.filter(title_basics_df.genres != \"\\\\N\")\n",
    "#title_basics_df.show()"
   ]
  },
  {
   "cell_type": "markdown",
   "metadata": {
    "id": "KK7j2P6otyw7"
   },
   "source": [
    "## Integration"
   ]
  },
  {
   "cell_type": "markdown",
   "metadata": {
    "id": "6zSQYii-BctZ"
   },
   "source": [
    "Separate genres and keep single genre"
   ]
  },
  {
   "cell_type": "markdown",
   "metadata": {
    "id": "lgIOI3tuyQwa"
   },
   "source": [
    "Cases:\n",
    "\n",
    "| In 0 | In 1 | In 2 |\n",
    "|------|------|------|\n",
    "| T    | T    | T    |\n",
    "| T    | T    | F    |\n",
    "| T    | F    | T    |\n",
    "| F    | T    | T    |\n",
    "| T    | T    | F    |\n",
    "| T    | F    | T    |\n",
    "| F    | T    | T    |\n",
    "| F    | F    | F    |"
   ]
  },
  {
   "cell_type": "code",
   "execution_count": 145,
   "metadata": {
    "colab": {
     "base_uri": "https://localhost:8080/",
     "height": 88
    },
    "id": "wuLOW7hzBe2l",
    "outputId": "66386ba3-4fde-4c3d-8564-e1361f69112d"
   },
   "outputs": [
    {
     "data": {
      "text/plain": [
       "'\\n#title_basics_df.groupBy(\\'genres\\').count().orderBy(desc(\"count\")).show()\\n\\nintermediate_df = title_basics_df.withColumn(\"genre1\", genre_column.getItem(0))\\n\\ngenre_rows1 = intermediate_df.where((intermediate_df.genre1 == \"Drama\") | (intermediate_df.genre1 == \"Comedy\") | (intermediate_df.genre1 == \"Horror\") | (intermediate_df.genre1 == \"Thriller\") | (intermediate_df.genre1 == \"Romance\") | (intermediate_df.genre1 == \"Action\")).groupBy(\\'genre1\\').count().orderBy(\"genre1\").take(6)\\n\\nintermediate_df = title_basics_df.withColumn(\"genre2\", genre_column.getItem(1))\\n\\ngenre_rows2 = intermediate_df.where((intermediate_df.genre2 == \"Drama\") | (intermediate_df.genre2 == \"Comedy\") | (intermediate_df.genre2 == \"Horror\") | (intermediate_df.genre2 == \"Thriller\") | (intermediate_df.genre2 == \"Romance\") | (intermediate_df.genre2 == \"Action\")).groupBy(\\'genre2\\').count().orderBy(\"genre2\").take(6)\\n\\nintermediate_df = title_basics_df.withColumn(\"genre3\", genre_column.getItem(2))\\n\\ngenre_rows3 = intermediate_df.where((intermediate_df.genre3 == \"Drama\") | (intermediate_df.genre3 == \"Comedy\") | (intermediate_df.genre3 == \"Horror\") | (intermediate_df.genre3 == \"Thriller\") | (intermediate_df.genre3 == \"Romance\") | (intermediate_df.genre3 == \"Action\")).groupBy(\\'genre3\\').count().orderBy(\"genre3\").take(6)\\n\\nfor row in genre_rows1:\\n  if (row[\"genre1\"] == \"Action\"):\\n    action_entry_count = action_entry_count + row[\"count\"]\\n\\n  if (row[\"genre1\"] == \"Comedy\"):\\n    comedy_entry_count = comedy_entry_count + row[\"count\"]\\n\\n  if (row[\"genre1\"] == \"Drama\"):\\n    drama_entry_count = drama_entry_count + row[\"count\"]\\n\\n  if (row[\"genre1\"] == \"Horror\"):\\n    horror_entry_count = horror_entry_count + row[\"count\"]\\n\\n  if (row[\"genre1\"] == \"Romance\"):\\n    romance_entry_count = romance_entry_count + row[\"count\"]\\n\\n  if (row[\"genre1\"] == \"Thriller\"):\\n    thriller_entry_count = thriller_entry_count + row[\"count\"]\\n\\nfor row in genre_rows2:\\n  if (row[\"genre2\"] == \"Action\"):\\n    action_entry_count = action_entry_count + row[\"count\"]\\n\\n  if (row[\"genre2\"] == \"Comedy\"):\\n    comedy_entry_count = comedy_entry_count + row[\"count\"]\\n\\n  if (row[\"genre2\"] == \"Drama\"):\\n    drama_entry_count = drama_entry_count + row[\"count\"]\\n\\n  if (row[\"genre2\"] == \"Horror\"):\\n    horror_entry_count = horror_entry_count + row[\"count\"]\\n\\n  if (row[\"genre2\"] == \"Romance\"):\\n    romance_entry_count = romance_entry_count + row[\"count\"]\\n\\n  if (row[\"genre2\"] == \"Thriller\"):\\n    thriller_entry_count = thriller_entry_count + row[\"count\"]\\n\\nfor row in genre_rows3:\\n  if (row[\"genre3\"] == \"Action\"):\\n    action_entry_count = action_entry_count + row[\"count\"]\\n\\n  if (row[\"genre3\"] == \"Comedy\"):\\n    comedy_entry_count = comedy_entry_count + row[\"count\"]\\n\\n  if (row[\"genre3\"] == \"Drama\"):\\n    drama_entry_count = drama_entry_count + row[\"count\"]\\n\\n  if (row[\"genre3\"] == \"Horror\"):\\n    horror_entry_count = horror_entry_count + row[\"count\"]\\n\\n  if (row[\"genre3\"] == \"Romance\"):\\n    romance_entry_count = romance_entry_count + row[\"count\"]\\n\\n  if (row[\"genre3\"] == \"Thriller\"):\\n    thriller_entry_count = thriller_entry_count + row[\"count\"]\\n\\ngenre_count_dic = {\"Action\": action_entry_count, \"Comedy\": comedy_entry_count, \"Drama\": drama_entry_count, \"Horror\": horror_entry_count, \"Romance\": romance_entry_count, \"Thriller\": thriller_entry_count}\\nsorted_genre_count_dic = dict(sorted(genre_count_dic.items(), key=lambda item: item[1], reverse=True))\\nprint(sorted_genre_count_dic)\\n\\ngenre_column = split(title_basics_df[\"genres\"], \",\")\\n\\ntitle_basics_df = title_basics_df.withColumn(\"genre\", genre_column.getItem(0) if [genre_column.getItem(0), genre_column.getItem(1), genre_column.getItem(2)].index(\"Drama\") == 0 else        genre_column.getItem(0) if [genre_column.getItem(0), genre_column.getItem(1), genre_column.getItem(2)].index(\"Comedy\") == 0 else        genre_column.getItem(0) if [genre_column.getItem(0), genre_column.getItem(1), genre_column.getItem(2)].index(\"Action\") == 0 else        genre_column.getItem(0) if [genre_column.getItem(0), genre_column.getItem(1), genre_column.getItem(2)].index(\"Romance\") == 0 else        genre_column.getItem(0) if [genre_column.getItem(0), genre_column.getItem(1), genre_column.getItem(2)].index(\"Thriller\") == 0 else        genre_column.getItem(0) if [genre_column.getItem(0), genre_column.getItem(1), genre_column.getItem(2)].index(\"Horror\") == 0 else        genre_column.getItem(1) if [genre_column.getItem(0), genre_column.getItem(1), genre_column.getItem(2)].index(\"Drama\") == 1 else        genre_column.getItem(1) if [genre_column.getItem(0), genre_column.getItem(1), genre_column.getItem(2)].index(\"Comedy\") == 1 else        genre_column.getItem(1) if [genre_column.getItem(0), genre_column.getItem(1), genre_column.getItem(2)].index(\"Action\") == 1 else        genre_column.getItem(1) if [genre_column.getItem(0), genre_column.getItem(1), genre_column.getItem(2)].index(\"Romance\") == 1 else        genre_column.getItem(1) if [genre_column.getItem(0), genre_column.getItem(1), genre_column.getItem(2)].index(\"Thriller\") == 1 else        genre_column.getItem(1) if [genre_column.getItem(0), genre_column.getItem(1), genre_column.getItem(2)].index(\"Horror\") == 1 else        genre_column.getItem(2) if [genre_column.getItem(0), genre_column.getItem(1), genre_column.getItem(2)].index(\"Drama\") == 2 else        genre_column.getItem(2) if [genre_column.getItem(0), genre_column.getItem(1), genre_column.getItem(2)].index(\"Comedy\") == 2 else        genre_column.getItem(2) if [genre_column.getItem(0), genre_column.getItem(1), genre_column.getItem(2)].index(\"Action\") == 2 else        genre_column.getItem(2) if [genre_column.getItem(0), genre_column.getItem(1), genre_column.getItem(2)].index(\"Romance\") == 2 else        genre_column.getItem(2) if [genre_column.getItem(0), genre_column.getItem(1), genre_column.getItem(2)].index(\"Thriller\") == 2 else        genre_column.getItem(2) if [genre_column.getItem(0), genre_column.getItem(1), genre_column.getItem(2)].index(\"Horror\") == 2 else None)\\n'"
      ]
     },
     "execution_count": 145,
     "metadata": {},
     "output_type": "execute_result"
    }
   ],
   "source": [
    "#When there are multiple genres:\n",
    "#if only 1 from the list is in the genre column -> pick genre from list\n",
    "#if multiple genres from the list is in the genre column -> weigh by count?\n",
    "drama_entry_count = 0\n",
    "comedy_entry_count = 0\n",
    "horror_entry_count = 0\n",
    "romance_entry_count = 0\n",
    "action_entry_count = 0\n",
    "thriller_entry_count = 0\n",
    "\n",
    "genre_column = split(title_basics_df[\"genres\"], \",\")\n",
    "\n",
    "genres_to_keep = [\"Drama\", \"Comedy\", \"Horror\", \"Action\"]\n",
    "# genres_to_keep = [\"Drama\", \"Comedy\", \"Horror\", \"Thriller\", \"Romance\", \"Action\"]\n",
    "\n",
    "test = title_basics_df.filter(genre_column.getItem(0).isin(genres_to_keep))\n",
    "#test = title_basics_df.filter(genre_column.getItem(0).isin(genres_to_keep))\n",
    "test = test.withColumn(\"genre\", genre_column.getItem(0))\n",
    "\n",
    "test2 = title_basics_df.filter((genre_column.getItem(1).isin(genres_to_keep)) & ~(genre_column.getItem(0).isin(genres_to_keep) ))\n",
    "#test2 = title_basics_df.filter(genre_column.getItem(1).isin(genres_to_keep))\n",
    "test2 = test2.withColumn(\"genre\", genre_column.getItem(1))\n",
    "\n",
    "test3 = title_basics_df.filter((genre_column.getItem(2).isin(genres_to_keep)) & ~(genre_column.getItem(0).isin(genres_to_keep) | genre_column.getItem(1).isin(genres_to_keep)))\n",
    "#test3 = title_basics_df.filter(genre_column.getItem(2).isin(genres_to_keep))\n",
    "test3 = test3.withColumn(\"genre\", genre_column.getItem(2))\n",
    "\n",
    "title_basics_df = test.union(test2).union(test3)\n",
    "#title_basics_df.show()\n",
    "\n",
    "'''\n",
    "#title_basics_df.groupBy('genres').count().orderBy(desc(\"count\")).show()\n",
    "\n",
    "intermediate_df = title_basics_df.withColumn(\"genre1\", genre_column.getItem(0))\n",
    "\n",
    "genre_rows1 = intermediate_df.where((intermediate_df.genre1 == \"Drama\") | (intermediate_df.genre1 == \"Comedy\") | (intermediate_df.genre1 == \"Horror\") | (intermediate_df.genre1 == \"Thriller\") | (intermediate_df.genre1 == \"Romance\") | (intermediate_df.genre1 == \"Action\")).groupBy('genre1').count().orderBy(\"genre1\").take(6)\n",
    "\n",
    "intermediate_df = title_basics_df.withColumn(\"genre2\", genre_column.getItem(1))\n",
    "\n",
    "genre_rows2 = intermediate_df.where((intermediate_df.genre2 == \"Drama\") | (intermediate_df.genre2 == \"Comedy\") | (intermediate_df.genre2 == \"Horror\") | (intermediate_df.genre2 == \"Thriller\") | (intermediate_df.genre2 == \"Romance\") | (intermediate_df.genre2 == \"Action\")).groupBy('genre2').count().orderBy(\"genre2\").take(6)\n",
    "\n",
    "intermediate_df = title_basics_df.withColumn(\"genre3\", genre_column.getItem(2))\n",
    "\n",
    "genre_rows3 = intermediate_df.where((intermediate_df.genre3 == \"Drama\") | (intermediate_df.genre3 == \"Comedy\") | (intermediate_df.genre3 == \"Horror\") | (intermediate_df.genre3 == \"Thriller\") | (intermediate_df.genre3 == \"Romance\") | (intermediate_df.genre3 == \"Action\")).groupBy('genre3').count().orderBy(\"genre3\").take(6)\n",
    "\n",
    "for row in genre_rows1:\n",
    "  if (row[\"genre1\"] == \"Action\"):\n",
    "    action_entry_count = action_entry_count + row[\"count\"]\n",
    "\n",
    "  if (row[\"genre1\"] == \"Comedy\"):\n",
    "    comedy_entry_count = comedy_entry_count + row[\"count\"]\n",
    "\n",
    "  if (row[\"genre1\"] == \"Drama\"):\n",
    "    drama_entry_count = drama_entry_count + row[\"count\"]\n",
    "\n",
    "  if (row[\"genre1\"] == \"Horror\"):\n",
    "    horror_entry_count = horror_entry_count + row[\"count\"]\n",
    "\n",
    "  if (row[\"genre1\"] == \"Romance\"):\n",
    "    romance_entry_count = romance_entry_count + row[\"count\"]\n",
    "\n",
    "  if (row[\"genre1\"] == \"Thriller\"):\n",
    "    thriller_entry_count = thriller_entry_count + row[\"count\"]\n",
    "\n",
    "for row in genre_rows2:\n",
    "  if (row[\"genre2\"] == \"Action\"):\n",
    "    action_entry_count = action_entry_count + row[\"count\"]\n",
    "\n",
    "  if (row[\"genre2\"] == \"Comedy\"):\n",
    "    comedy_entry_count = comedy_entry_count + row[\"count\"]\n",
    "\n",
    "  if (row[\"genre2\"] == \"Drama\"):\n",
    "    drama_entry_count = drama_entry_count + row[\"count\"]\n",
    "\n",
    "  if (row[\"genre2\"] == \"Horror\"):\n",
    "    horror_entry_count = horror_entry_count + row[\"count\"]\n",
    "\n",
    "  if (row[\"genre2\"] == \"Romance\"):\n",
    "    romance_entry_count = romance_entry_count + row[\"count\"]\n",
    "\n",
    "  if (row[\"genre2\"] == \"Thriller\"):\n",
    "    thriller_entry_count = thriller_entry_count + row[\"count\"]\n",
    "\n",
    "for row in genre_rows3:\n",
    "  if (row[\"genre3\"] == \"Action\"):\n",
    "    action_entry_count = action_entry_count + row[\"count\"]\n",
    "\n",
    "  if (row[\"genre3\"] == \"Comedy\"):\n",
    "    comedy_entry_count = comedy_entry_count + row[\"count\"]\n",
    "\n",
    "  if (row[\"genre3\"] == \"Drama\"):\n",
    "    drama_entry_count = drama_entry_count + row[\"count\"]\n",
    "\n",
    "  if (row[\"genre3\"] == \"Horror\"):\n",
    "    horror_entry_count = horror_entry_count + row[\"count\"]\n",
    "\n",
    "  if (row[\"genre3\"] == \"Romance\"):\n",
    "    romance_entry_count = romance_entry_count + row[\"count\"]\n",
    "\n",
    "  if (row[\"genre3\"] == \"Thriller\"):\n",
    "    thriller_entry_count = thriller_entry_count + row[\"count\"]\n",
    "\n",
    "genre_count_dic = {\"Action\": action_entry_count, \"Comedy\": comedy_entry_count, \"Drama\": drama_entry_count, \"Horror\": horror_entry_count, \"Romance\": romance_entry_count, \"Thriller\": thriller_entry_count}\n",
    "sorted_genre_count_dic = dict(sorted(genre_count_dic.items(), key=lambda item: item[1], reverse=True))\n",
    "print(sorted_genre_count_dic)\n",
    "\n",
    "genre_column = split(title_basics_df[\"genres\"], \",\")\n",
    "\n",
    "title_basics_df = title_basics_df.withColumn(\"genre\", genre_column.getItem(0) if [genre_column.getItem(0), genre_column.getItem(1), genre_column.getItem(2)].index(\"Drama\") == 0 else \\\n",
    "       genre_column.getItem(0) if [genre_column.getItem(0), genre_column.getItem(1), genre_column.getItem(2)].index(\"Comedy\") == 0 else \\\n",
    "       genre_column.getItem(0) if [genre_column.getItem(0), genre_column.getItem(1), genre_column.getItem(2)].index(\"Action\") == 0 else \\\n",
    "       genre_column.getItem(0) if [genre_column.getItem(0), genre_column.getItem(1), genre_column.getItem(2)].index(\"Romance\") == 0 else \\\n",
    "       genre_column.getItem(0) if [genre_column.getItem(0), genre_column.getItem(1), genre_column.getItem(2)].index(\"Thriller\") == 0 else \\\n",
    "       genre_column.getItem(0) if [genre_column.getItem(0), genre_column.getItem(1), genre_column.getItem(2)].index(\"Horror\") == 0 else \\\n",
    "       genre_column.getItem(1) if [genre_column.getItem(0), genre_column.getItem(1), genre_column.getItem(2)].index(\"Drama\") == 1 else \\\n",
    "       genre_column.getItem(1) if [genre_column.getItem(0), genre_column.getItem(1), genre_column.getItem(2)].index(\"Comedy\") == 1 else \\\n",
    "       genre_column.getItem(1) if [genre_column.getItem(0), genre_column.getItem(1), genre_column.getItem(2)].index(\"Action\") == 1 else \\\n",
    "       genre_column.getItem(1) if [genre_column.getItem(0), genre_column.getItem(1), genre_column.getItem(2)].index(\"Romance\") == 1 else \\\n",
    "       genre_column.getItem(1) if [genre_column.getItem(0), genre_column.getItem(1), genre_column.getItem(2)].index(\"Thriller\") == 1 else \\\n",
    "       genre_column.getItem(1) if [genre_column.getItem(0), genre_column.getItem(1), genre_column.getItem(2)].index(\"Horror\") == 1 else \\\n",
    "       genre_column.getItem(2) if [genre_column.getItem(0), genre_column.getItem(1), genre_column.getItem(2)].index(\"Drama\") == 2 else \\\n",
    "       genre_column.getItem(2) if [genre_column.getItem(0), genre_column.getItem(1), genre_column.getItem(2)].index(\"Comedy\") == 2 else \\\n",
    "       genre_column.getItem(2) if [genre_column.getItem(0), genre_column.getItem(1), genre_column.getItem(2)].index(\"Action\") == 2 else \\\n",
    "       genre_column.getItem(2) if [genre_column.getItem(0), genre_column.getItem(1), genre_column.getItem(2)].index(\"Romance\") == 2 else \\\n",
    "       genre_column.getItem(2) if [genre_column.getItem(0), genre_column.getItem(1), genre_column.getItem(2)].index(\"Thriller\") == 2 else \\\n",
    "       genre_column.getItem(2) if [genre_column.getItem(0), genre_column.getItem(1), genre_column.getItem(2)].index(\"Horror\") == 2 else None)\n",
    "'''"
   ]
  },
  {
   "cell_type": "code",
   "execution_count": 146,
   "metadata": {
    "colab": {
     "base_uri": "https://localhost:8080/"
    },
    "id": "EThjJMxkZd4B",
    "outputId": "1b5a469f-48da-496a-b6cd-4b706ce66a38"
   },
   "outputs": [
    {
     "name": "stdout",
     "output_type": "stream",
     "text": [
      "+---------+-------------------+---------+\n",
      "|   tconst|          directors|  writers|\n",
      "+---------+-------------------+---------+\n",
      "|tt0000001|          nm0005690|       \\N|\n",
      "|tt0000002|          nm0721526|       \\N|\n",
      "|tt0000003|          nm0721526|       \\N|\n",
      "|tt0000004|          nm0721526|       \\N|\n",
      "|tt0000005|          nm0005690|       \\N|\n",
      "|tt0000006|          nm0005690|       \\N|\n",
      "|tt0000007|nm0005690,nm0374658|       \\N|\n",
      "|tt0000008|          nm0005690|       \\N|\n",
      "|tt0000009|          nm0085156|nm0085156|\n",
      "|tt0000010|          nm0525910|       \\N|\n",
      "|tt0000011|          nm0804434|       \\N|\n",
      "|tt0000012|nm0525908,nm0525910|       \\N|\n",
      "|tt0000013|          nm0525910|       \\N|\n",
      "|tt0000014|          nm0525910|       \\N|\n",
      "|tt0000015|          nm0721526|       \\N|\n",
      "|tt0000016|          nm0525910|       \\N|\n",
      "|tt0000017|nm1587194,nm0804434|       \\N|\n",
      "|tt0000018|          nm0804434|       \\N|\n",
      "|tt0000019|          nm0932055|       \\N|\n",
      "|tt0000020|          nm0010291|       \\N|\n",
      "+---------+-------------------+---------+\n",
      "only showing top 20 rows\n",
      "\n"
     ]
    }
   ],
   "source": [
    "title_crew_df.show()"
   ]
  },
  {
   "cell_type": "code",
   "execution_count": 147,
   "metadata": {
    "id": "SuMb81YZZd4B"
   },
   "outputs": [],
   "source": [
    "director_column = split(title_crew_df[\"directors\"], \",\")"
   ]
  },
  {
   "cell_type": "markdown",
   "metadata": {
    "id": "8c135HEGBfL-"
   },
   "source": [
    "Separate directors and keep single director"
   ]
  },
  {
   "cell_type": "code",
   "execution_count": 148,
   "metadata": {
    "id": "GV9SKRBhBh4Q"
   },
   "outputs": [],
   "source": [
    "director_column = split(title_crew_df[\"directors\"], \",\")\n",
    "title_crew_df = title_crew_df.withColumn(\"director\", director_column.getItem(0))\n",
    "#title_crew_df.show()\n",
    "title_crew_df = title_crew_df.drop(\"directors\")\n",
    "#title_crew_df.show()"
   ]
  },
  {
   "cell_type": "code",
   "execution_count": 149,
   "metadata": {
    "colab": {
     "base_uri": "https://localhost:8080/"
    },
    "id": "OhOrWR3MZd4B",
    "outputId": "c598bcf2-319d-490e-f628-6ad87ad98dc4"
   },
   "outputs": [
    {
     "name": "stdout",
     "output_type": "stream",
     "text": [
      "+---------+---------+---------+\n",
      "|   tconst|  writers| director|\n",
      "+---------+---------+---------+\n",
      "|tt0000001|       \\N|nm0005690|\n",
      "|tt0000002|       \\N|nm0721526|\n",
      "|tt0000003|       \\N|nm0721526|\n",
      "|tt0000004|       \\N|nm0721526|\n",
      "|tt0000005|       \\N|nm0005690|\n",
      "|tt0000006|       \\N|nm0005690|\n",
      "|tt0000007|       \\N|nm0005690|\n",
      "|tt0000008|       \\N|nm0005690|\n",
      "|tt0000009|nm0085156|nm0085156|\n",
      "|tt0000010|       \\N|nm0525910|\n",
      "|tt0000011|       \\N|nm0804434|\n",
      "|tt0000012|       \\N|nm0525908|\n",
      "|tt0000013|       \\N|nm0525910|\n",
      "|tt0000014|       \\N|nm0525910|\n",
      "|tt0000015|       \\N|nm0721526|\n",
      "|tt0000016|       \\N|nm0525910|\n",
      "|tt0000017|       \\N|nm1587194|\n",
      "|tt0000018|       \\N|nm0804434|\n",
      "|tt0000019|       \\N|nm0932055|\n",
      "|tt0000020|       \\N|nm0010291|\n",
      "+---------+---------+---------+\n",
      "only showing top 20 rows\n",
      "\n"
     ]
    }
   ],
   "source": [
    "title_crew_df.show()"
   ]
  },
  {
   "cell_type": "markdown",
   "metadata": {
    "id": "sf-Ktzz5BiIr"
   },
   "source": [
    "Separate writers and keep single writer"
   ]
  },
  {
   "cell_type": "code",
   "execution_count": 150,
   "metadata": {
    "id": "6FdVhv6-BkQm"
   },
   "outputs": [],
   "source": [
    "writer_column = split(title_crew_df[\"writers\"], \",\")\n",
    "title_crew_df = title_crew_df.withColumn(\"writer\", writer_column.getItem(0))\n",
    "#title_crew_df.show()\n",
    "title_crew_df = title_crew_df.drop(\"writers\")\n",
    "#title_crew_df.show()"
   ]
  },
  {
   "cell_type": "markdown",
   "metadata": {
    "id": "qbb0T_t_9S8X"
   },
   "source": [
    "Get director names"
   ]
  },
  {
   "cell_type": "code",
   "execution_count": 151,
   "metadata": {
    "id": "EdLgizgBgfFH"
   },
   "outputs": [],
   "source": [
    "director_df = title_crew_df.select(\"director\", \"tconst\")\n",
    "renamed_director_df = director_df.withColumnRenamed(\"director\", \"nconst\")\n",
    "\n",
    "director_id_name_df = renamed_director_df.join(name_basics_df, on=\"nconst\").select(\"tconst\", \"primaryName\")\n",
    "director_id_name_df = director_id_name_df.withColumnRenamed(\"primaryName\", \"directorPrimaryName\")\n",
    "#director_id_name_df.show()"
   ]
  },
  {
   "cell_type": "markdown",
   "metadata": {
    "id": "-UBj9JgFqoQ1"
   },
   "source": [
    "Get writer names"
   ]
  },
  {
   "cell_type": "code",
   "execution_count": 152,
   "metadata": {
    "id": "LVm79uwbhT4S"
   },
   "outputs": [],
   "source": [
    "writer_df = title_crew_df.select(\"writer\", \"tconst\")\n",
    "renamed_writer_df = writer_df.withColumnRenamed(\"writer\", \"nconst\")\n",
    "\n",
    "writer_id_name_df = renamed_writer_df.join(name_basics_df, on=\"nconst\").select(\"tconst\", \"primaryName\")\n",
    "writer_id_name_df = writer_id_name_df.withColumnRenamed(\"primaryName\", \"writerPrimaryName\")\n",
    "#writer_id_name_df.show()"
   ]
  },
  {
   "cell_type": "code",
   "execution_count": 153,
   "metadata": {
    "id": "BRBe2t6ixFp4"
   },
   "outputs": [],
   "source": [
    "title_basics_and_title_crew_and_title_ratings_df = title_basics_df.join(title_ratings_df, on=\"tconst\").join(director_id_name_df, on=\"tconst\").join(writer_id_name_df, on=\"tconst\")\n",
    "#title_basics_and_title_crew_and_title_ratings_df.show()"
   ]
  },
  {
   "cell_type": "code",
   "execution_count": 154,
   "metadata": {
    "colab": {
     "base_uri": "https://localhost:8080/"
    },
    "id": "w4rBzZXDZd4D",
    "outputId": "52729bd8-0664-46d3-82fd-5da72eb9d128"
   },
   "outputs": [
    {
     "data": {
      "text/plain": [
       "['tconst',\n",
       " 'titleType',\n",
       " 'primaryTitle',\n",
       " 'originalTitle',\n",
       " 'isAdult',\n",
       " 'startYear',\n",
       " 'endYear',\n",
       " 'runtimeMinutes',\n",
       " 'genres',\n",
       " 'genre',\n",
       " 'averageRating',\n",
       " 'numVotes',\n",
       " 'directorPrimaryName',\n",
       " 'writerPrimaryName']"
      ]
     },
     "execution_count": 154,
     "metadata": {},
     "output_type": "execute_result"
    }
   ],
   "source": [
    "title_basics_and_title_crew_and_title_ratings_df.columns"
   ]
  },
  {
   "cell_type": "code",
   "execution_count": 155,
   "metadata": {},
   "outputs": [],
   "source": [
    "# title_basics_and_title_crew_and_title_ratings_df.count()"
   ]
  },
  {
   "cell_type": "markdown",
   "metadata": {
    "id": "EB-7f259cxHO"
   },
   "source": [
    "Get actor names"
   ]
  },
  {
   "cell_type": "code",
   "execution_count": 156,
   "metadata": {
    "id": "tKPv94eZcy-5"
   },
   "outputs": [],
   "source": [
    "person_df = title_principals_df.select(\"tconst\", \"nconst\", \"category\")\n",
    "#person_df.show()\n",
    "\n",
    "actor_df = person_df.filter(person_df.category == \"actor\")\n",
    "#person_df = person_df.filter((person_df.category == \"self\") | (person_df.category == \"cinematographer\") | (person_df.category == \"composer\") | (person_df.category == \"producer\") | (person_df.category == \"editor\") | (person_df.category == \"actor\"))\n",
    "#actor_df.show()\n",
    "\n",
    "actor_df = actor_df.join(name_basics_df, on=\"nconst\").select(\"tconst\", \"primaryName\")\n",
    "actor_id_name_df = actor_df.withColumnRenamed(\"primaryName\", \"actorPrimaryName\")\n",
    "#actor_id_name_df.show()\n",
    "title_basics_and_title_crew_and_title_ratings_actor_df = actor_id_name_df.groupBy(\"tconst\").agg(collect_list('actorPrimaryName').alias(\"actors\"))\n",
    "title_basics_and_title_crew_and_title_ratings_actor_df = title_basics_and_title_crew_and_title_ratings_actor_df.withColumn(\"actor1\", title_basics_and_title_crew_and_title_ratings_actor_df.actors[0])\n",
    "title_basics_and_title_crew_and_title_ratings_actor_df = title_basics_and_title_crew_and_title_ratings_actor_df.withColumn(\"actor2\", title_basics_and_title_crew_and_title_ratings_actor_df.actors[1])\n",
    "title_basics_and_title_crew_and_title_ratings_actor_df = title_basics_and_title_crew_and_title_ratings_actor_df.withColumn(\"actor3\", title_basics_and_title_crew_and_title_ratings_actor_df.actors[2])\n",
    "title_basics_and_title_crew_and_title_ratings_actor_df = title_basics_and_title_crew_and_title_ratings_actor_df.withColumn(\"actor4\", title_basics_and_title_crew_and_title_ratings_actor_df.actors[3])\n",
    "title_basics_and_title_crew_and_title_ratings_actor_df = title_basics_and_title_crew_and_title_ratings_df.join(title_basics_and_title_crew_and_title_ratings_actor_df, on=\"tconst\")\n",
    "#.groupBy(\"actorPrimaryName\").pivot(\"tconst\").agg(first(\"actorPrimaryName\"))\n",
    "#(nth_value(\"actorPrimaryName\", 0).alias(\"actor1\"), nth_value(\"actorPrimaryName\", 1).alias(\"actor2\"), nth_value(\"actorPrimaryName\", 2).alias(\"actor3\"), nth_value(\"actorPrimaryName\", 3).alias(\"actor4\"))\n",
    "#test.show()\n",
    "#title_basics_and_title_crew_and_title_ratings_actor_df = title_basics_and_title_crew_and_title_ratings_df.join(actor_id_name_df, on=\"tconst\")\n",
    "#title_basics_and_title_crew_and_title_ratings_actor_df.show()"
   ]
  },
  {
   "cell_type": "code",
   "execution_count": 157,
   "metadata": {},
   "outputs": [],
   "source": [
    "# title_basics_and_title_crew_and_title_ratings_actor_df.count()"
   ]
  },
  {
   "cell_type": "code",
   "execution_count": 158,
   "metadata": {},
   "outputs": [
    {
     "data": {
      "text/plain": [
       "['imdb_id', 'title', 'plot_synopsis', 'tags', 'split', 'synopsis_source']"
      ]
     },
     "execution_count": 158,
     "metadata": {},
     "output_type": "execute_result"
    }
   ],
   "source": [
    "movie_description_df2.columns"
   ]
  },
  {
   "cell_type": "code",
   "execution_count": 159,
   "metadata": {},
   "outputs": [
    {
     "data": {
      "text/plain": [
       "['tconst',\n",
       " 'titleType',\n",
       " 'primaryTitle',\n",
       " 'originalTitle',\n",
       " 'isAdult',\n",
       " 'startYear',\n",
       " 'endYear',\n",
       " 'runtimeMinutes',\n",
       " 'genres',\n",
       " 'genre',\n",
       " 'averageRating',\n",
       " 'numVotes',\n",
       " 'directorPrimaryName',\n",
       " 'writerPrimaryName',\n",
       " 'actors',\n",
       " 'actor1',\n",
       " 'actor2',\n",
       " 'actor3',\n",
       " 'actor4']"
      ]
     },
     "execution_count": 159,
     "metadata": {},
     "output_type": "execute_result"
    }
   ],
   "source": [
    "title_basics_and_title_crew_and_title_ratings_actor_df.columns"
   ]
  },
  {
   "cell_type": "code",
   "execution_count": 160,
   "metadata": {},
   "outputs": [
    {
     "data": {
      "text/plain": [
       "Row(imdb_id='tt0057603', title='I tre volti della paura', plot_synopsis='\"Note: this synopsis is for the orginal Italian release with the segments in this certain order.Boris Karloff introduces three horror tales of the macabre and the supernatural known as the \\'Three Faces of Fear\\'.THE TELEPHONERosy (Michele Mercier) is an attractive, high-priced Parisian call-girl who returns to her spacious, basement apartment after an evening out when she immediately gets beset by a series of strange phone calls. The caller soon identified himself as Frank, her ex-pimp who has recently escaped from prison. Rosy is terrified for it was her testimony that landed the man in jail. Looking for solace, Rosy phones her lesbian lover Mary (Lynda Alfonsi). The two women have been estranged for some time, but Rosy is certain that she is the only one who can help her. Mary agrees to come over that night. Seconds later, Frank calls again, promising that no matter who she calls for protection, he will have his revenge. Unknown to Rosy, Mary is the caller impersonating Frank. Marry arrives at Rosy\\'s apartment soon after, and does her best to calm Rosy\\'s nerves. She gives the panic-struck woman a tranquillizer and puts her to bed.Later that night as Rosy sleeps, Mary gets up out of bed, and pens a note of confession: she was the one making the strange phone calls when she learned of Franks escape from prison. Knowing that Rosy would call on her for help, she explains that she felt it was her way of coming back into her life after their breakup. While she is busy writing, she fails to notice an intruder in the apartment. This time it is Frank, for real. He creeps up behind Mary and strangles her to death with one of Rosys nylon stockings. The sound of the struggle awaken Rosy and she gasps in fright. The murderous pimp realizes that he just killed the wrong woman, and slowly makes his way to Rosy\\'s bed. However, earlier that night, Rosy had placed a butcher knife under her pillow at Mary\\'s suggestion. Rosy seizes the knife and stabs Frank with it as he\\'s beginning to strangle her. Rosy drops the knife and breaks down in hysteria, surrounded by the two corpses of her former lovers.THE WURDALAKIn 19th Century Russia, Vladimir D\\'Urfe is a young nobleman on a long trip. During the course of his journey, he finds a beheaded corpse with a knife plunged into its heart. He withdraws the blade and takes it as a souvenir.Later that night, Vladimir stops at a small rural cottage to ask for shelter. He notices several daggers hanging up on one of the walls, and a vacant space that happens to fit the one he has discovered. Vladimir is surprised by the entrance of Giorgio (Glauco Onorato), who explains that the knife belongs to his father, who has not been seen for five days. Giorgio offers a room to the young count, and subsequently introduces him to the rest of the family: his wife (Rika Dialina), their young son Ivan, Giorgio\\'s younger brother Pietro (Massimo Righi), and sister Sdenka (Susy Anderson). It subsequently transpires that they are eagerly anticipating the arrival of their father, Gorcha, as well as the reason for his absence: he has gone to do battle with the outlaw and dreaded wurdalak Ali Beg. Vladimir is confused by the term, and Sdenka explains that a wurdalak is a walking cadaver who feeds on the blood of the living, preferably close friends and family members. Giorgio and Pietro are certain that the corpse Vladimir had discovered is that of Ali Beg, but also realize that there is a strong possibility that their father has been infected by the blood curse too. They warn the count to leave, but he decides to stay and await the old mans return.At the stroke of midnight, Gorcha (Boris Karloff) returns to the cottage. His sour demeanor and unkempt appearance bode the worse, and the two brothers are torn: they realize that it is their duty to kill Gorcha before he feeds on the family, but their love for him makes it difficult to reach a decision. Later that night, both Ivan and Pietro are attacked by Gorcha who drains them of blood, and then flees the cottage. Giorgio stakes and beheads Pietro to prevent him from reviving as a wurdalak. But he is prevented from doing so to Ivan when his wife threatens to commit suicide. Reluntantly, he agrees to bury the child without taking the necessary precautions.That same night, the child rises from his grave and begs to be invited into the cottage. The mother runs to her son\\'s aid, stabbing Giorgio when he attempts to stop her, only to be greeted at the front door by Gorcha. The old man bits and infects his daughter-in-law, who then does the same for her husband. Vladimir and Sdenka flee from the cottage and go on the run and hide out in the ruins of an abandoned cathedral as dawn breaks. Vladimir is optimistic that a long and happy life lies with them. But Sdenka is reluctant to relinquish her family ties. She believes that she is meant to stay with the family.Sdenka\\'s fears about her family are confirmed when that evening, Gorcha and her siblings show up at the abandoned Abby. As Vladimir sleeps, Sdenka is lured into their loving arms where they bite to death. Awakened by her screams, Vladimir rushes to her aid, but the family has already taken her home, forcing the lover to follow suite. The young nobleman finds her, lying motionless on her bed. Sdenka awakens, and a distinct change is visible on her face. No longer caring, Vladimir embraces her, and she bites and infects him too.THE DROP OF WATERIn Victorian London, England, Nurse Helen Chester (Jacqueline Pierreux) is called to a large house to prepare the corpse of an elderly medium for her burial. As she dressed the body, she notices an elaborate diamond ring on its finger. Tempted by greed, Nurse Chester steals it. As she does, a glass tips over, and drops of water begin to splash on the floor. She is also assailed by a fly, no doubt attracted by the odor of the body. Unsettled but pleased by her acquisition, she finishes the job and returns home to her small East End flat.After returning home, Nurse Chester is assailed by strange events. The buzzing fly returns and continues to pester her. Then the lights in her apartment go out, and the sounds of the dripping water continues with maddening regularity. She sees the old womans corpse lying on her bed, and coming towards her. The terrified woman begs for forgiveness, but she ultimately strangles herself, imaging that the medium\\'s hands are gripping her throat.The next morning, the concierge (Harriet White Medin) discovers Nurse Chester\\'s body and calls the police. The investigator on the scene (Gustavo de Nardo) quickly concludes that its a simple case and that Nurse Chester \"\"died of fright\"\". The pathologist arrives on the scene to examine the body before it\\'s taken away and he notes that the only sign of violence is a small bruise on her left finger', tags=' mostly likely caused when someone pried a ring from her finger. As the doctor makes this observation', split=' the concierge appears distressed', synopsis_source=' as she has apparently took the ring from the dead Nurse Chester')"
      ]
     },
     "execution_count": 160,
     "metadata": {},
     "output_type": "execute_result"
    }
   ],
   "source": [
    "movie_description_df2.head()"
   ]
  },
  {
   "cell_type": "markdown",
   "metadata": {
    "id": "69wN6U3PW4nB"
   },
   "source": [
    "Get movie description"
   ]
  },
  {
   "cell_type": "code",
   "execution_count": 121,
   "metadata": {
    "id": "IFN6qvJCW95P"
   },
   "outputs": [],
   "source": [
    "movie_description_df2 = movie_description_df2.withColumnRenamed(\"imdb_id\", \"tconst\")\n",
    "movie_description_df2=movie_description_df2.drop('title')\n",
    "# movie_description_df1 = movie_description_df1.filter(movie_description_df1.overview.isNotNull())\n",
    "# movie_description_df1 = movie_description_df1.withColumnRenamed(\"original_title\", \"primaryTitle\")\n",
    "title_basics_and_title_crew_and_title_ratings_actor_df = title_basics_and_title_crew_and_title_ratings_actor_df.join(movie_description_df2, on=\"tconst\")"
   ]
  },
  {
   "cell_type": "code",
   "execution_count": 161,
   "metadata": {},
   "outputs": [],
   "source": [
    "# movie_description_df2 = movie_description_df2.withColumnRenamed(\"imdb_id\", \"tconst\")\n",
    "# movie_description_df2=movie_description_df2.drop('title')\n",
    "movie_description_df1 = movie_description_df1.filter(movie_description_df1.overview.isNotNull())\n",
    "movie_description_df1 = movie_description_df1.withColumnRenamed(\"original_title\", \"primaryTitle\")\n",
    "title_basics_and_title_crew_and_title_ratings_actor_df = title_basics_and_title_crew_and_title_ratings_actor_df.join(movie_description_df1, on=\"primaryTitle\")"
   ]
  },
  {
   "cell_type": "code",
   "execution_count": 162,
   "metadata": {
    "colab": {
     "base_uri": "https://localhost:8080/"
    },
    "id": "T0aV5BmlZd4E",
    "outputId": "ccd228c4-22d2-482b-c4b0-96f499c49afe"
   },
   "outputs": [
    {
     "data": {
      "text/plain": [
       "['primaryTitle',\n",
       " 'tconst',\n",
       " 'titleType',\n",
       " 'originalTitle',\n",
       " 'isAdult',\n",
       " 'startYear',\n",
       " 'endYear',\n",
       " 'runtimeMinutes',\n",
       " 'genres',\n",
       " 'genre',\n",
       " 'averageRating',\n",
       " 'numVotes',\n",
       " 'directorPrimaryName',\n",
       " 'writerPrimaryName',\n",
       " 'actors',\n",
       " 'actor1',\n",
       " 'actor2',\n",
       " 'actor3',\n",
       " 'actor4',\n",
       " 'adult',\n",
       " 'belongs_to_collection',\n",
       " 'budget',\n",
       " 'genres',\n",
       " 'homepage',\n",
       " 'id',\n",
       " 'imdb_id',\n",
       " 'original_language',\n",
       " 'overview',\n",
       " 'popularity',\n",
       " 'poster_path',\n",
       " 'production_companies',\n",
       " 'production_countries',\n",
       " 'release_date',\n",
       " 'revenue',\n",
       " 'runtime',\n",
       " 'spoken_languages',\n",
       " 'status',\n",
       " 'tagline',\n",
       " 'title',\n",
       " 'video',\n",
       " 'vote_average',\n",
       " 'vote_count']"
      ]
     },
     "execution_count": 162,
     "metadata": {},
     "output_type": "execute_result"
    }
   ],
   "source": [
    "title_basics_and_title_crew_and_title_ratings_actor_df.columns"
   ]
  },
  {
   "cell_type": "code",
   "execution_count": 163,
   "metadata": {},
   "outputs": [
    {
     "name": "stderr",
     "output_type": "stream",
     "text": [
      "                                                                                \r"
     ]
    },
    {
     "data": {
      "text/plain": [
       "41311"
      ]
     },
     "execution_count": 163,
     "metadata": {},
     "output_type": "execute_result"
    }
   ],
   "source": [
    "title_basics_and_title_crew_and_title_ratings_actor_df.count()"
   ]
  },
  {
   "cell_type": "code",
   "execution_count": 164,
   "metadata": {},
   "outputs": [
    {
     "name": "stderr",
     "output_type": "stream",
     "text": [
      "[Stage 885:====================================================>  (21 + 1) / 22]\r"
     ]
    },
    {
     "name": "stdout",
     "output_type": "stream",
     "text": [
      "+------+-----+\n",
      "| genre|count|\n",
      "+------+-----+\n",
      "| Drama|19906|\n",
      "|Horror| 3360|\n",
      "|Comedy|11629|\n",
      "|Action| 6416|\n",
      "+------+-----+\n",
      "\n"
     ]
    },
    {
     "name": "stderr",
     "output_type": "stream",
     "text": [
      "                                                                                \r"
     ]
    }
   ],
   "source": [
    "def print_class_distribution(df):\n",
    "    # Group the DataFrame by the \"genre\" column and count the occurrences of each genre\n",
    "    genre_counts = df.groupBy(\"genre\").count()\n",
    "    \n",
    "    # Show the genre counts\n",
    "    genre_counts.show()\n",
    "print_class_distribution(title_basics_and_title_crew_and_title_ratings_actor_df)"
   ]
  },
  {
   "cell_type": "code",
   "execution_count": 125,
   "metadata": {
    "id": "-UjODokEsyKC"
   },
   "outputs": [],
   "source": [
    "final_df = title_basics_and_title_crew_and_title_ratings_actor_df.drop('titleType', 'originalTitle', 'isAdult', 'endYear', 'genres', 'numVotes', 'tconst', \"actors\")\n",
    "final_df = final_df.withColumnRenamed('primaryTitle', 'title')\n",
    "final_df = final_df.withColumnRenamed('startYear', 'year')\n",
    "final_df = final_df.withColumnRenamed('runtimeMinutes', 'runtime')\n",
    "final_df = final_df.withColumnRenamed('averageRating', 'rating')\n",
    "final_df = final_df.withColumnRenamed('directorPrimaryName', 'director')\n",
    "final_df = final_df.withColumnRenamed('writerPrimaryName', 'writer')\n",
    "final_df = final_df.withColumnRenamed('plot_synopsis', 'plot')\n",
    "\n",
    "# final_df.show()\n",
    "# final_df.persist()\n",
    "# final_df.repartition(1).write.option(\"header\", \"true\").save(\"mydata.csv\")\n"
   ]
  },
  {
   "cell_type": "code",
   "execution_count": 126,
   "metadata": {},
   "outputs": [
    {
     "data": {
      "text/plain": [
       "['title',\n",
       " 'year',\n",
       " 'runtime',\n",
       " 'genre',\n",
       " 'rating',\n",
       " 'director',\n",
       " 'writer',\n",
       " 'actor1',\n",
       " 'actor2',\n",
       " 'actor3',\n",
       " 'actor4',\n",
       " 'plot',\n",
       " 'tags',\n",
       " 'split',\n",
       " 'synopsis_source']"
      ]
     },
     "execution_count": 126,
     "metadata": {},
     "output_type": "execute_result"
    }
   ],
   "source": [
    "final_df.columns"
   ]
  },
  {
   "cell_type": "code",
   "execution_count": 127,
   "metadata": {
    "id": "eF-UPI_-Zd4E"
   },
   "outputs": [],
   "source": [
    "# movies releaed after 2021 to reduce data\n",
    "# final_df=final_df.filter(final_df.year.cast(\"int\") > 2021)"
   ]
  },
  {
   "cell_type": "code",
   "execution_count": 128,
   "metadata": {
    "id": "uCuV9jZKvuMi"
   },
   "outputs": [],
   "source": [
    "# Remove rows with null actor1 to actor4\n",
    "final_df = final_df.filter(final_df.actor1.isNotNull())\n",
    "final_df = final_df.filter(final_df.actor2.isNotNull())\n",
    "final_df = final_df.filter(final_df.actor3.isNotNull())\n",
    "final_df = final_df.filter(final_df.actor4.isNotNull())"
   ]
  },
  {
   "cell_type": "code",
   "execution_count": 129,
   "metadata": {
    "colab": {
     "base_uri": "https://localhost:8080/"
    },
    "id": "LMUcahJ6Zd4E",
    "outputId": "5dd18867-13ce-49a7-8ee7-6d39245e39d4"
   },
   "outputs": [
    {
     "data": {
      "text/plain": [
       "DataFrame[tconst: string, titleType: string, primaryTitle: string, originalTitle: string, isAdult: string, startYear: string, endYear: string, runtimeMinutes: string, genres: string, genre: string, averageRating: string, numVotes: string, directorPrimaryName: string, writerPrimaryName: string, actors: array<string>, actor1: string, actor2: string, actor3: string, actor4: string, plot_synopsis: string, tags: string, split: string, synopsis_source: string]"
      ]
     },
     "execution_count": 129,
     "metadata": {},
     "output_type": "execute_result"
    }
   ],
   "source": [
    "title_basics_and_title_crew_and_title_ratings_actor_df"
   ]
  },
  {
   "cell_type": "code",
   "execution_count": 130,
   "metadata": {
    "colab": {
     "base_uri": "https://localhost:8080/"
    },
    "id": "AWoEkJ42Zd4F",
    "outputId": "61f11e7b-5b2b-4149-d6a7-2ea02228a86d"
   },
   "outputs": [
    {
     "data": {
      "text/plain": [
       "['title',\n",
       " 'year',\n",
       " 'runtime',\n",
       " 'genre',\n",
       " 'rating',\n",
       " 'director',\n",
       " 'writer',\n",
       " 'actor1',\n",
       " 'actor2',\n",
       " 'actor3',\n",
       " 'actor4',\n",
       " 'plot',\n",
       " 'tags',\n",
       " 'split',\n",
       " 'synopsis_source']"
      ]
     },
     "execution_count": 130,
     "metadata": {},
     "output_type": "execute_result"
    }
   ],
   "source": [
    "final_df.columns"
   ]
  },
  {
   "cell_type": "code",
   "execution_count": 131,
   "metadata": {
    "colab": {
     "base_uri": "https://localhost:8080/"
    },
    "id": "y2fEJsk6f9Mg",
    "outputId": "b7ff10b5-e614-4a11-9226-de701f8280c8"
   },
   "outputs": [
    {
     "name": "stderr",
     "output_type": "stream",
     "text": [
      "ERROR:root:KeyboardInterrupt while sending command.][Stage 747:> (0 + 0) / 22]\n",
      "Traceback (most recent call last):\n",
      "  File \"/home/umang/.local/lib/python3.10/site-packages/py4j/java_gateway.py\", line 1038, in send_command\n",
      "    response = connection.send_command(command)\n",
      "  File \"/home/umang/.local/lib/python3.10/site-packages/py4j/clientserver.py\", line 511, in send_command\n",
      "    answer = smart_decode(self.stream.readline()[:-1])\n",
      "  File \"/usr/lib/python3.10/socket.py\", line 705, in readinto\n",
      "    return self._sock.recv_into(b)\n",
      "KeyboardInterrupt\n",
      "[Stage 741:==========>    (21 + 8) / 29][Stage 747:=>             (2 + 12) / 22]\r"
     ]
    },
    {
     "ename": "KeyboardInterrupt",
     "evalue": "",
     "output_type": "error",
     "traceback": [
      "\u001b[0;31m---------------------------------------------------------------------------\u001b[0m",
      "\u001b[0;31mKeyboardInterrupt\u001b[0m                         Traceback (most recent call last)",
      "Cell \u001b[0;32mIn[131], line 1\u001b[0m\n\u001b[0;32m----> 1\u001b[0m \u001b[43mfinal_df\u001b[49m\u001b[38;5;241;43m.\u001b[39;49m\u001b[43mhead\u001b[49m\u001b[43m(\u001b[49m\u001b[43m)\u001b[49m\n",
      "File \u001b[0;32m~/.local/lib/python3.10/site-packages/pyspark/sql/dataframe.py:1603\u001b[0m, in \u001b[0;36mDataFrame.head\u001b[0;34m(self, n)\u001b[0m\n\u001b[1;32m   1576\u001b[0m \u001b[38;5;250m\u001b[39m\u001b[38;5;124;03m\"\"\"Returns the first ``n`` rows.\u001b[39;00m\n\u001b[1;32m   1577\u001b[0m \n\u001b[1;32m   1578\u001b[0m \u001b[38;5;124;03m.. versionadded:: 1.3.0\u001b[39;00m\n\u001b[0;32m   (...)\u001b[0m\n\u001b[1;32m   1600\u001b[0m \u001b[38;5;124;03m[Row(age=2, name='Alice')]\u001b[39;00m\n\u001b[1;32m   1601\u001b[0m \u001b[38;5;124;03m\"\"\"\u001b[39;00m\n\u001b[1;32m   1602\u001b[0m \u001b[38;5;28;01mif\u001b[39;00m n \u001b[38;5;129;01mis\u001b[39;00m \u001b[38;5;28;01mNone\u001b[39;00m:\n\u001b[0;32m-> 1603\u001b[0m     rs \u001b[38;5;241m=\u001b[39m \u001b[38;5;28;43mself\u001b[39;49m\u001b[38;5;241;43m.\u001b[39;49m\u001b[43mhead\u001b[49m\u001b[43m(\u001b[49m\u001b[38;5;241;43m1\u001b[39;49m\u001b[43m)\u001b[49m\n\u001b[1;32m   1604\u001b[0m     \u001b[38;5;28;01mreturn\u001b[39;00m rs[\u001b[38;5;241m0\u001b[39m] \u001b[38;5;28;01mif\u001b[39;00m rs \u001b[38;5;28;01melse\u001b[39;00m \u001b[38;5;28;01mNone\u001b[39;00m\n\u001b[1;32m   1605\u001b[0m \u001b[38;5;28;01mreturn\u001b[39;00m \u001b[38;5;28mself\u001b[39m\u001b[38;5;241m.\u001b[39mtake(n)\n",
      "File \u001b[0;32m~/.local/lib/python3.10/site-packages/pyspark/sql/dataframe.py:1605\u001b[0m, in \u001b[0;36mDataFrame.head\u001b[0;34m(self, n)\u001b[0m\n\u001b[1;32m   1603\u001b[0m     rs \u001b[38;5;241m=\u001b[39m \u001b[38;5;28mself\u001b[39m\u001b[38;5;241m.\u001b[39mhead(\u001b[38;5;241m1\u001b[39m)\n\u001b[1;32m   1604\u001b[0m     \u001b[38;5;28;01mreturn\u001b[39;00m rs[\u001b[38;5;241m0\u001b[39m] \u001b[38;5;28;01mif\u001b[39;00m rs \u001b[38;5;28;01melse\u001b[39;00m \u001b[38;5;28;01mNone\u001b[39;00m\n\u001b[0;32m-> 1605\u001b[0m \u001b[38;5;28;01mreturn\u001b[39;00m \u001b[38;5;28;43mself\u001b[39;49m\u001b[38;5;241;43m.\u001b[39;49m\u001b[43mtake\u001b[49m\u001b[43m(\u001b[49m\u001b[43mn\u001b[49m\u001b[43m)\u001b[49m\n",
      "File \u001b[0;32m~/.local/lib/python3.10/site-packages/pyspark/sql/dataframe.py:744\u001b[0m, in \u001b[0;36mDataFrame.take\u001b[0;34m(self, num)\u001b[0m\n\u001b[1;32m    734\u001b[0m \u001b[38;5;28;01mdef\u001b[39;00m \u001b[38;5;21mtake\u001b[39m(\u001b[38;5;28mself\u001b[39m, num):\n\u001b[1;32m    735\u001b[0m \u001b[38;5;250m    \u001b[39m\u001b[38;5;124;03m\"\"\"Returns the first ``num`` rows as a :class:`list` of :class:`Row`.\u001b[39;00m\n\u001b[1;32m    736\u001b[0m \n\u001b[1;32m    737\u001b[0m \u001b[38;5;124;03m    .. versionadded:: 1.3.0\u001b[39;00m\n\u001b[0;32m   (...)\u001b[0m\n\u001b[1;32m    742\u001b[0m \u001b[38;5;124;03m    [Row(age=2, name='Alice'), Row(age=5, name='Bob')]\u001b[39;00m\n\u001b[1;32m    743\u001b[0m \u001b[38;5;124;03m    \"\"\"\u001b[39;00m\n\u001b[0;32m--> 744\u001b[0m     \u001b[38;5;28;01mreturn\u001b[39;00m \u001b[38;5;28;43mself\u001b[39;49m\u001b[38;5;241;43m.\u001b[39;49m\u001b[43mlimit\u001b[49m\u001b[43m(\u001b[49m\u001b[43mnum\u001b[49m\u001b[43m)\u001b[49m\u001b[38;5;241;43m.\u001b[39;49m\u001b[43mcollect\u001b[49m\u001b[43m(\u001b[49m\u001b[43m)\u001b[49m\n",
      "File \u001b[0;32m~/.local/lib/python3.10/site-packages/pyspark/sql/dataframe.py:693\u001b[0m, in \u001b[0;36mDataFrame.collect\u001b[0;34m(self)\u001b[0m\n\u001b[1;32m    683\u001b[0m \u001b[38;5;250m\u001b[39m\u001b[38;5;124;03m\"\"\"Returns all the records as a list of :class:`Row`.\u001b[39;00m\n\u001b[1;32m    684\u001b[0m \n\u001b[1;32m    685\u001b[0m \u001b[38;5;124;03m.. versionadded:: 1.3.0\u001b[39;00m\n\u001b[0;32m   (...)\u001b[0m\n\u001b[1;32m    690\u001b[0m \u001b[38;5;124;03m[Row(age=2, name='Alice'), Row(age=5, name='Bob')]\u001b[39;00m\n\u001b[1;32m    691\u001b[0m \u001b[38;5;124;03m\"\"\"\u001b[39;00m\n\u001b[1;32m    692\u001b[0m \u001b[38;5;28;01mwith\u001b[39;00m SCCallSiteSync(\u001b[38;5;28mself\u001b[39m\u001b[38;5;241m.\u001b[39m_sc) \u001b[38;5;28;01mas\u001b[39;00m css:\n\u001b[0;32m--> 693\u001b[0m     sock_info \u001b[38;5;241m=\u001b[39m \u001b[38;5;28;43mself\u001b[39;49m\u001b[38;5;241;43m.\u001b[39;49m\u001b[43m_jdf\u001b[49m\u001b[38;5;241;43m.\u001b[39;49m\u001b[43mcollectToPython\u001b[49m\u001b[43m(\u001b[49m\u001b[43m)\u001b[49m\n\u001b[1;32m    694\u001b[0m \u001b[38;5;28;01mreturn\u001b[39;00m \u001b[38;5;28mlist\u001b[39m(_load_from_socket(sock_info, BatchedSerializer(PickleSerializer())))\n",
      "File \u001b[0;32m~/.local/lib/python3.10/site-packages/py4j/java_gateway.py:1320\u001b[0m, in \u001b[0;36mJavaMember.__call__\u001b[0;34m(self, *args)\u001b[0m\n\u001b[1;32m   1313\u001b[0m args_command, temp_args \u001b[38;5;241m=\u001b[39m \u001b[38;5;28mself\u001b[39m\u001b[38;5;241m.\u001b[39m_build_args(\u001b[38;5;241m*\u001b[39margs)\n\u001b[1;32m   1315\u001b[0m command \u001b[38;5;241m=\u001b[39m proto\u001b[38;5;241m.\u001b[39mCALL_COMMAND_NAME \u001b[38;5;241m+\u001b[39m\\\n\u001b[1;32m   1316\u001b[0m     \u001b[38;5;28mself\u001b[39m\u001b[38;5;241m.\u001b[39mcommand_header \u001b[38;5;241m+\u001b[39m\\\n\u001b[1;32m   1317\u001b[0m     args_command \u001b[38;5;241m+\u001b[39m\\\n\u001b[1;32m   1318\u001b[0m     proto\u001b[38;5;241m.\u001b[39mEND_COMMAND_PART\n\u001b[0;32m-> 1320\u001b[0m answer \u001b[38;5;241m=\u001b[39m \u001b[38;5;28;43mself\u001b[39;49m\u001b[38;5;241;43m.\u001b[39;49m\u001b[43mgateway_client\u001b[49m\u001b[38;5;241;43m.\u001b[39;49m\u001b[43msend_command\u001b[49m\u001b[43m(\u001b[49m\u001b[43mcommand\u001b[49m\u001b[43m)\u001b[49m\n\u001b[1;32m   1321\u001b[0m return_value \u001b[38;5;241m=\u001b[39m get_return_value(\n\u001b[1;32m   1322\u001b[0m     answer, \u001b[38;5;28mself\u001b[39m\u001b[38;5;241m.\u001b[39mgateway_client, \u001b[38;5;28mself\u001b[39m\u001b[38;5;241m.\u001b[39mtarget_id, \u001b[38;5;28mself\u001b[39m\u001b[38;5;241m.\u001b[39mname)\n\u001b[1;32m   1324\u001b[0m \u001b[38;5;28;01mfor\u001b[39;00m temp_arg \u001b[38;5;129;01min\u001b[39;00m temp_args:\n",
      "File \u001b[0;32m~/.local/lib/python3.10/site-packages/py4j/java_gateway.py:1038\u001b[0m, in \u001b[0;36mGatewayClient.send_command\u001b[0;34m(self, command, retry, binary)\u001b[0m\n\u001b[1;32m   1036\u001b[0m connection \u001b[38;5;241m=\u001b[39m \u001b[38;5;28mself\u001b[39m\u001b[38;5;241m.\u001b[39m_get_connection()\n\u001b[1;32m   1037\u001b[0m \u001b[38;5;28;01mtry\u001b[39;00m:\n\u001b[0;32m-> 1038\u001b[0m     response \u001b[38;5;241m=\u001b[39m \u001b[43mconnection\u001b[49m\u001b[38;5;241;43m.\u001b[39;49m\u001b[43msend_command\u001b[49m\u001b[43m(\u001b[49m\u001b[43mcommand\u001b[49m\u001b[43m)\u001b[49m\n\u001b[1;32m   1039\u001b[0m     \u001b[38;5;28;01mif\u001b[39;00m binary:\n\u001b[1;32m   1040\u001b[0m         \u001b[38;5;28;01mreturn\u001b[39;00m response, \u001b[38;5;28mself\u001b[39m\u001b[38;5;241m.\u001b[39m_create_connection_guard(connection)\n",
      "File \u001b[0;32m~/.local/lib/python3.10/site-packages/py4j/clientserver.py:511\u001b[0m, in \u001b[0;36mClientServerConnection.send_command\u001b[0;34m(self, command)\u001b[0m\n\u001b[1;32m    509\u001b[0m \u001b[38;5;28;01mtry\u001b[39;00m:\n\u001b[1;32m    510\u001b[0m     \u001b[38;5;28;01mwhile\u001b[39;00m \u001b[38;5;28;01mTrue\u001b[39;00m:\n\u001b[0;32m--> 511\u001b[0m         answer \u001b[38;5;241m=\u001b[39m smart_decode(\u001b[38;5;28;43mself\u001b[39;49m\u001b[38;5;241;43m.\u001b[39;49m\u001b[43mstream\u001b[49m\u001b[38;5;241;43m.\u001b[39;49m\u001b[43mreadline\u001b[49m\u001b[43m(\u001b[49m\u001b[43m)\u001b[49m[:\u001b[38;5;241m-\u001b[39m\u001b[38;5;241m1\u001b[39m])\n\u001b[1;32m    512\u001b[0m         logger\u001b[38;5;241m.\u001b[39mdebug(\u001b[38;5;124m\"\u001b[39m\u001b[38;5;124mAnswer received: \u001b[39m\u001b[38;5;132;01m{0}\u001b[39;00m\u001b[38;5;124m\"\u001b[39m\u001b[38;5;241m.\u001b[39mformat(answer))\n\u001b[1;32m    513\u001b[0m         \u001b[38;5;66;03m# Happens when a the other end is dead. There might be an empty\u001b[39;00m\n\u001b[1;32m    514\u001b[0m         \u001b[38;5;66;03m# answer before the socket raises an error.\u001b[39;00m\n",
      "File \u001b[0;32m/usr/lib/python3.10/socket.py:705\u001b[0m, in \u001b[0;36mSocketIO.readinto\u001b[0;34m(self, b)\u001b[0m\n\u001b[1;32m    703\u001b[0m \u001b[38;5;28;01mwhile\u001b[39;00m \u001b[38;5;28;01mTrue\u001b[39;00m:\n\u001b[1;32m    704\u001b[0m     \u001b[38;5;28;01mtry\u001b[39;00m:\n\u001b[0;32m--> 705\u001b[0m         \u001b[38;5;28;01mreturn\u001b[39;00m \u001b[38;5;28;43mself\u001b[39;49m\u001b[38;5;241;43m.\u001b[39;49m\u001b[43m_sock\u001b[49m\u001b[38;5;241;43m.\u001b[39;49m\u001b[43mrecv_into\u001b[49m\u001b[43m(\u001b[49m\u001b[43mb\u001b[49m\u001b[43m)\u001b[49m\n\u001b[1;32m    706\u001b[0m     \u001b[38;5;28;01mexcept\u001b[39;00m timeout:\n\u001b[1;32m    707\u001b[0m         \u001b[38;5;28mself\u001b[39m\u001b[38;5;241m.\u001b[39m_timeout_occurred \u001b[38;5;241m=\u001b[39m \u001b[38;5;28;01mTrue\u001b[39;00m\n",
      "\u001b[0;31mKeyboardInterrupt\u001b[0m: "
     ]
    }
   ],
   "source": [
    "final_df.head()"
   ]
  },
  {
   "cell_type": "code",
   "execution_count": null,
   "metadata": {},
   "outputs": [],
   "source": [
    "final_df.count()"
   ]
  },
  {
   "cell_type": "code",
   "execution_count": null,
   "metadata": {},
   "outputs": [],
   "source": []
  },
  {
   "cell_type": "code",
   "execution_count": null,
   "metadata": {},
   "outputs": [],
   "source": [
    "# print_class_distribution("
   ]
  },
  {
   "cell_type": "code",
   "execution_count": null,
   "metadata": {
    "id": "8S9bDPw4Zd4F"
   },
   "outputs": [
    {
     "name": "stderr",
     "output_type": "stream",
     "text": [
      "                                                                                \r"
     ]
    }
   ],
   "source": [
    "# final_df_sample = final_df.sample(fraction=0.1, seed=42)  # Sample 10% of the data\n",
    "# final_df_sample.show(2)"
   ]
  },
  {
   "cell_type": "code",
   "execution_count": 134,
   "metadata": {
    "id": "tQ5d95JvZd4F"
   },
   "outputs": [
    {
     "name": "stderr",
     "output_type": "stream",
     "text": [
      "                                                                                \r"
     ]
    }
   ],
   "source": [
    "final_df.write.option(\"header\", \"true\").csv(\"final_dataset_with_df2.csv\")"
   ]
  },
  {
   "cell_type": "code",
   "execution_count": null,
   "metadata": {},
   "outputs": [],
   "source": []
  }
 ],
 "metadata": {
  "colab": {
   "collapsed_sections": [
    "9D0DmZBMtv-_"
   ],
   "provenance": []
  },
  "kernelspec": {
   "display_name": "Python 3 (ipykernel)",
   "language": "python",
   "name": "python3"
  },
  "language_info": {
   "codemirror_mode": {
    "name": "ipython",
    "version": 3
   },
   "file_extension": ".py",
   "mimetype": "text/x-python",
   "name": "python",
   "nbconvert_exporter": "python",
   "pygments_lexer": "ipython3",
   "version": "3.10.12"
  }
 },
 "nbformat": 4,
 "nbformat_minor": 4
}
