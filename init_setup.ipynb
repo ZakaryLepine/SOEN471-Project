{
  "cells": [
    {
      "cell_type": "markdown",
      "metadata": {
        "id": "fS78XPa6zejQ"
      },
      "source": [
        "**title.basics.tsv.gz**\n",
        "- tconst (string) - alphanumeric unique identifier of the title\n",
        "- titleType (string) - the type/format of the title (e.g. movie, short, tvseries, tvepisode, video, etc)\n",
        "- primaryTitle (string) - the more popular title / the title used by the filmmakers on promotional materials at the point of release\n",
        "- startYear (YYYY) - represents the release year of a title. In the case of TV Series, it is the series start year\n",
        "- runtimeMinutes - primary runtime of the title, in minutes\n",
        "- genres (string array) - includes up to three genres associated with the title\n",
        "\n",
        "**title.crew.tsv.gz**\n",
        "- tconst (string) - alphanumeric unique identifier of the title\n",
        "- directors (array of nconsts) - director(s) of the given title\n",
        "- writers (array of nconsts) - writer(s) of the given title\n",
        "\n",
        "**title.ratings.tsv.gz**\n",
        "- tconst (string) - alphanumeric unique identifier of the title\n",
        "- averageRating - weighted average of all the individual user ratings\n",
        "\n",
        "**name.basics.tsv.gz**\n",
        "- nconst (string) - alphanumeric unique identifier of the name/person\n",
        "- primaryName (string) - name by which the person is most often credited\n",
        "\n",
        "**title.principals.tsv.gz**\n",
        "- tconst (string) - alphanumeric unique identifier of the title\n",
        "- nconst (string) - alphanumeric unique identifier of the name/person\n",
        "- category (string) - the category of job that person was in\n",
        "- job (string) - the specific job title if applicable, else '\\N'"
      ]
    },
    {
      "cell_type": "markdown",
      "metadata": {
        "id": "lu49tqKvw3UJ"
      },
      "source": [
        "# Setup"
      ]
    },
    {
      "cell_type": "markdown",
      "metadata": {
        "id": "HRDNYu253vyn"
      },
      "source": [
        "Pip installs"
      ]
    },
    {
      "cell_type": "code",
      "execution_count": 26,
      "metadata": {
        "colab": {
          "base_uri": "https://localhost:8080/"
        },
        "id": "LGLV2FuZ3xWB",
        "outputId": "7e728c6f-5af1-4ab0-ac23-8af3801cf27d"
      },
      "outputs": [
        {
          "output_type": "stream",
          "name": "stdout",
          "text": [
            "Requirement already satisfied: pyspark in /usr/local/lib/python3.10/dist-packages (3.5.1)\n",
            "Requirement already satisfied: py4j==0.10.9.7 in /usr/local/lib/python3.10/dist-packages (from pyspark) (0.10.9.7)\n"
          ]
        }
      ],
      "source": [
        "!pip install pyspark"
      ]
    },
    {
      "cell_type": "markdown",
      "metadata": {
        "id": "ddk7h3vrxarD"
      },
      "source": [
        "Python imports"
      ]
    },
    {
      "cell_type": "code",
      "execution_count": 27,
      "metadata": {
        "id": "UvigWpk-xYRl"
      },
      "outputs": [],
      "source": [
        "import os.path as path\n",
        "from pyspark.sql import SparkSession\n",
        "from pyspark.sql import column\n",
        "from pyspark.sql.functions import *\n",
        "import matplotlib.pyplot as plt"
      ]
    },
    {
      "cell_type": "code",
      "execution_count": 28,
      "metadata": {
        "id": "cHfuFFb6w1Ql"
      },
      "outputs": [],
      "source": [
        "title_basics_dataset = \"title.basics.tsv\"\n",
        "\n",
        "title_crew_dataset = \"title.crew.tsv\"\n",
        "\n",
        "title_ratings_dataset = \"title.ratings.tsv\"\n",
        "\n",
        "name_basics_dataset = \"name.basics.tsv\"\n",
        "\n",
        "title_principals_dataset = \"title.principals.tsv\"\n",
        "\n",
        "movie_description_dataset1 = \"movies_metadata.csv\"\n",
        "\n",
        "movie_description_dataset2 = \"mpst_full_data.csv\"\n",
        "\n",
        "\n",
        "if not(path.isfile(title_basics_dataset)):\n",
        "  !wget https://datasets.imdbws.com/title.basics.tsv.gz\n",
        "  !gzip -d title.basics.tsv.gz\n",
        "\n",
        "if not(path.isfile(title_crew_dataset)):\n",
        "  !wget https://datasets.imdbws.com/title.crew.tsv.gz\n",
        "  !gzip -d title.crew.tsv.gz\n",
        "\n",
        "if not(path.isfile(title_ratings_dataset)):\n",
        "  !wget https://datasets.imdbws.com/title.ratings.tsv.gz\n",
        "  !gzip -d title.ratings.tsv.gz\n",
        "\n",
        "if not(path.isfile(name_basics_dataset)):\n",
        "  !wget https://datasets.imdbws.com/name.basics.tsv.gz\n",
        "  !gzip -d name.basics.tsv.gz\n",
        "\n",
        "if not(path.isfile(title_principals_dataset)):\n",
        "  !wget https://datasets.imdbws.com/title.principals.tsv.gz\n",
        "  !gzip -d title.principals.tsv.gz\n",
        "\n",
        "if not(path.isfile(movie_description_dataset1)):\n",
        "  !wget https://raw.githubusercontent.com/ZakaryLepine/SOEN471-Project-Datasets/main/movies_metadata.csv\n",
        "\n",
        "if not(path.isfile(movie_description_dataset2)):\n",
        "  !wget https://raw.githubusercontent.com/ZakaryLepine/SOEN471-Project-Datasets/main/mpst_full_data.csv"
      ]
    },
    {
      "cell_type": "markdown",
      "metadata": {
        "id": "1irAm4LfxC8L"
      },
      "source": [
        "# Preparing Dataset"
      ]
    },
    {
      "cell_type": "markdown",
      "metadata": {
        "id": "r5Lir8bR4E4V"
      },
      "source": [
        "Helpers"
      ]
    },
    {
      "cell_type": "code",
      "execution_count": 29,
      "metadata": {
        "id": "WlU9Z7yX4Gqz"
      },
      "outputs": [],
      "source": [
        "def init_spark():\n",
        "  return SparkSession \\\n",
        "        .builder \\\n",
        "        .appName(\"Spark\") \\\n",
        "        .config(\"spark.executor.memory\", \"8g\") \\\n",
        "        .config(\"spark.driver.memory\", \"8g\") \\\n",
        "        .getOrCreate()\n",
        "\n",
        "spark = init_spark()\n"
      ]
    },
    {
      "cell_type": "markdown",
      "metadata": {
        "id": "MYMxKb0gxKCo"
      },
      "source": [
        "Create base dataframes"
      ]
    },
    {
      "cell_type": "code",
      "execution_count": 30,
      "metadata": {
        "colab": {
          "base_uri": "https://localhost:8080/",
          "height": 219
        },
        "id": "V96f6paZZd39",
        "outputId": "b9588ed5-abaa-4890-d6ab-d9927d8ff379"
      },
      "outputs": [
        {
          "output_type": "execute_result",
          "data": {
            "text/plain": [
              "<pyspark.sql.session.SparkSession at 0x7c22a773fb20>"
            ],
            "text/html": [
              "\n",
              "            <div>\n",
              "                <p><b>SparkSession - in-memory</b></p>\n",
              "                \n",
              "        <div>\n",
              "            <p><b>SparkContext</b></p>\n",
              "\n",
              "            <p><a href=\"http://3ef640847b7b:4040\">Spark UI</a></p>\n",
              "\n",
              "            <dl>\n",
              "              <dt>Version</dt>\n",
              "                <dd><code>v3.5.1</code></dd>\n",
              "              <dt>Master</dt>\n",
              "                <dd><code>local[*]</code></dd>\n",
              "              <dt>AppName</dt>\n",
              "                <dd><code>Spark</code></dd>\n",
              "            </dl>\n",
              "        </div>\n",
              "        \n",
              "            </div>\n",
              "        "
            ]
          },
          "metadata": {},
          "execution_count": 30
        }
      ],
      "source": [
        "spark"
      ]
    },
    {
      "cell_type": "code",
      "execution_count": 31,
      "metadata": {
        "id": "zRxYx6sYxNVv"
      },
      "outputs": [],
      "source": [
        "title_basics_df = spark.read.option(\"delimiter\", \"\\t\").option(\"header\", True).csv(title_basics_dataset)\n",
        "\n",
        "title_crew_df = spark.read.option(\"delimiter\", \"\\t\").option(\"header\", True).csv(title_crew_dataset)\n",
        "\n",
        "title_ratings_df = spark.read.option(\"delimiter\", \"\\t\").option(\"header\", True).csv(title_ratings_dataset)\n",
        "\n",
        "name_basics_df = spark.read.option(\"delimiter\", \"\\t\").option(\"header\", True).csv(name_basics_dataset)\n",
        "\n",
        "title_principals_df = spark.read.option(\"delimiter\", \"\\t\").option(\"header\", True).csv(title_principals_dataset)\n",
        "\n",
        "movie_description_df1 = spark.read.option(\"delimiter\", \",\").option(\"header\", True).csv(movie_description_dataset1)\n",
        "\n",
        "movie_description_df2 = spark.read.option(\"delimiter\", \",\").option(\"header\", True).csv(movie_description_dataset2)"
      ]
    },
    {
      "cell_type": "code",
      "execution_count": 32,
      "metadata": {
        "colab": {
          "base_uri": "https://localhost:8080/"
        },
        "id": "9u-SRnRH7ana",
        "outputId": "b6fa0c53-73b5-425b-fdc6-5a877a678813"
      },
      "outputs": [
        {
          "output_type": "stream",
          "name": "stdout",
          "text": [
            "+---------+---------+--------------------+--------------------+-------+---------+-------+--------------+--------------------+\n",
            "|   tconst|titleType|        primaryTitle|       originalTitle|isAdult|startYear|endYear|runtimeMinutes|              genres|\n",
            "+---------+---------+--------------------+--------------------+-------+---------+-------+--------------+--------------------+\n",
            "|tt0000001|    short|          Carmencita|          Carmencita|      0|     1894|     \\N|             1|   Documentary,Short|\n",
            "|tt0000002|    short|Le clown et ses c...|Le clown et ses c...|      0|     1892|     \\N|             5|     Animation,Short|\n",
            "|tt0000003|    short|      Pauvre Pierrot|      Pauvre Pierrot|      0|     1892|     \\N|             4|Animation,Comedy,...|\n",
            "|tt0000004|    short|         Un bon bock|         Un bon bock|      0|     1892|     \\N|            12|     Animation,Short|\n",
            "|tt0000005|    short|    Blacksmith Scene|    Blacksmith Scene|      0|     1893|     \\N|             1|        Comedy,Short|\n",
            "|tt0000006|    short|   Chinese Opium Den|   Chinese Opium Den|      0|     1894|     \\N|             1|               Short|\n",
            "|tt0000007|    short|Corbett and Court...|Corbett and Court...|      0|     1894|     \\N|             1|         Short,Sport|\n",
            "|tt0000008|    short|Edison Kinetoscop...|Edison Kinetoscop...|      0|     1894|     \\N|             1|   Documentary,Short|\n",
            "|tt0000009|    movie|          Miss Jerry|          Miss Jerry|      0|     1894|     \\N|            45|             Romance|\n",
            "|tt0000010|    short| Leaving the Factory|La sortie de l'us...|      0|     1895|     \\N|             1|   Documentary,Short|\n",
            "|tt0000011|    short|Akrobatisches Pot...|Akrobatisches Pot...|      0|     1895|     \\N|             1|   Documentary,Short|\n",
            "|tt0000012|    short|The Arrival of a ...|L'arrivée d'un tr...|      0|     1896|     \\N|             1|   Documentary,Short|\n",
            "|tt0000013|    short|The Photographica...|Le débarquement d...|      0|     1895|     \\N|             1|   Documentary,Short|\n",
            "|tt0000014|    short| The Waterer Watered|   L'arroseur arrosé|      0|     1895|     \\N|             1|        Comedy,Short|\n",
            "|tt0000015|    short| Autour d'une cabine| Autour d'une cabine|      0|     1894|     \\N|             2|     Animation,Short|\n",
            "|tt0000016|    short|Boat Leaving the ...|Barque sortant du...|      0|     1895|     \\N|             1|   Documentary,Short|\n",
            "|tt0000017|    short|Italienischer Bau...|Italienischer Bau...|      0|     1895|     \\N|             1|   Documentary,Short|\n",
            "|tt0000018|    short|Das boxende Känguruh|Das boxende Känguruh|      0|     1895|     \\N|             1|               Short|\n",
            "|tt0000019|    short|    The Clown Barber|    The Clown Barber|      0|     1898|     \\N|            \\N|        Comedy,Short|\n",
            "|tt0000020|    short|      The Derby 1895|      The Derby 1895|      0|     1895|     \\N|             1|Documentary,Short...|\n",
            "+---------+---------+--------------------+--------------------+-------+---------+-------+--------------+--------------------+\n",
            "only showing top 20 rows\n",
            "\n",
            "+---------+-------------------+---------+\n",
            "|   tconst|          directors|  writers|\n",
            "+---------+-------------------+---------+\n",
            "|tt0000001|          nm0005690|       \\N|\n",
            "|tt0000002|          nm0721526|       \\N|\n",
            "|tt0000003|          nm0721526|       \\N|\n",
            "|tt0000004|          nm0721526|       \\N|\n",
            "|tt0000005|          nm0005690|       \\N|\n",
            "|tt0000006|          nm0005690|       \\N|\n",
            "|tt0000007|nm0005690,nm0374658|       \\N|\n",
            "|tt0000008|          nm0005690|       \\N|\n",
            "|tt0000009|          nm0085156|nm0085156|\n",
            "|tt0000010|          nm0525910|       \\N|\n",
            "|tt0000011|          nm0804434|       \\N|\n",
            "|tt0000012|nm0525908,nm0525910|       \\N|\n",
            "|tt0000013|          nm0525910|       \\N|\n",
            "|tt0000014|          nm0525910|       \\N|\n",
            "|tt0000015|          nm0721526|       \\N|\n",
            "|tt0000016|          nm0525910|       \\N|\n",
            "|tt0000017|nm1587194,nm0804434|       \\N|\n",
            "|tt0000018|          nm0804434|       \\N|\n",
            "|tt0000019|          nm0932055|       \\N|\n",
            "|tt0000020|          nm0010291|       \\N|\n",
            "+---------+-------------------+---------+\n",
            "only showing top 20 rows\n",
            "\n",
            "+---------+-------------+--------+\n",
            "|   tconst|averageRating|numVotes|\n",
            "+---------+-------------+--------+\n",
            "|tt0000001|          5.7|    2037|\n",
            "|tt0000002|          5.7|     272|\n",
            "|tt0000003|          6.5|    1988|\n",
            "|tt0000004|          5.4|     178|\n",
            "|tt0000005|          6.2|    2746|\n",
            "|tt0000006|          5.1|     184|\n",
            "|tt0000007|          5.4|     852|\n",
            "|tt0000008|          5.4|    2182|\n",
            "|tt0000009|          5.3|     209|\n",
            "|tt0000010|          6.8|    7509|\n",
            "|tt0000011|          5.2|     385|\n",
            "|tt0000012|          7.4|   12804|\n",
            "|tt0000013|          5.7|    1947|\n",
            "|tt0000014|          7.1|    5809|\n",
            "|tt0000015|          6.1|    1158|\n",
            "|tt0000016|          5.9|    1565|\n",
            "|tt0000017|          4.6|     342|\n",
            "|tt0000018|          5.2|     622|\n",
            "|tt0000019|          5.1|      32|\n",
            "|tt0000020|          4.7|     374|\n",
            "+---------+-------------+--------+\n",
            "only showing top 20 rows\n",
            "\n",
            "+---------+-------------------+---------+---------+--------------------+--------------------+\n",
            "|   nconst|        primaryName|birthYear|deathYear|   primaryProfession|      knownForTitles|\n",
            "+---------+-------------------+---------+---------+--------------------+--------------------+\n",
            "|nm0000001|       Fred Astaire|     1899|     1987|actor,miscellaneo...|tt0072308,tt00504...|\n",
            "|nm0000002|      Lauren Bacall|     1924|     2014|actress,soundtrac...|tt0037382,tt00752...|\n",
            "|nm0000003|    Brigitte Bardot|     1934|       \\N|actress,music_dep...|tt0057345,tt00491...|\n",
            "|nm0000004|       John Belushi|     1949|     1982|actor,writer,musi...|tt0072562,tt00779...|\n",
            "|nm0000005|     Ingmar Bergman|     1918|     2007|writer,director,a...|tt0050986,tt00839...|\n",
            "|nm0000006|     Ingrid Bergman|     1915|     1982|actress,producer,...|tt0034583,tt00368...|\n",
            "|nm0000007|    Humphrey Bogart|     1899|     1957|actor,producer,mi...|tt0034583,tt00425...|\n",
            "|nm0000008|      Marlon Brando|     1924|     2004|actor,director,wr...|tt0078788,tt00686...|\n",
            "|nm0000009|     Richard Burton|     1925|     1984|actor,producer,di...|tt0061184,tt00878...|\n",
            "|nm0000010|       James Cagney|     1899|     1986|actor,director,pr...|tt0029870,tt00318...|\n",
            "|nm0000011|        Gary Cooper|     1901|     1961|actor,stunts,prod...|tt0044706,tt00341...|\n",
            "|nm0000012|        Bette Davis|     1908|     1989|actress,make_up_d...|tt0042192,tt00566...|\n",
            "|nm0000013|          Doris Day|     1922|     2019|actress,producer,...|tt0048317,tt00455...|\n",
            "|nm0000014|Olivia de Havilland|     1916|     2020|actress,soundtrac...|tt0031381,tt00414...|\n",
            "|nm0000015|         James Dean|     1931|     1955|actor,miscellaneo...|tt0048028,tt00485...|\n",
            "|nm0000016|    Georges Delerue|     1925|     1992|composer,music_de...|tt0091763,tt00963...|\n",
            "|nm0000017|   Marlene Dietrich|     1901|     1992|actress,music_dep...|tt0051201,tt00550...|\n",
            "|nm0000018|       Kirk Douglas|     1916|     2020|actor,producer,di...|tt0080736,tt00543...|\n",
            "|nm0000019|   Federico Fellini|     1920|     1993|writer,director,a...|tt0056801,tt00507...|\n",
            "|nm0000020|        Henry Fonda|     1905|     1982|actor,producer,mi...|tt0050083,tt00828...|\n",
            "+---------+-------------------+---------+---------+--------------------+--------------------+\n",
            "only showing top 20 rows\n",
            "\n",
            "+---------+--------+---------+---------------+--------------------+--------------+\n",
            "|   tconst|ordering|   nconst|       category|                 job|    characters|\n",
            "+---------+--------+---------+---------------+--------------------+--------------+\n",
            "|tt0000001|       1|nm1588970|           self|                  \\N|      [\"Self\"]|\n",
            "|tt0000001|       2|nm0005690|       director|                  \\N|            \\N|\n",
            "|tt0000001|       3|nm0005690|       producer|            producer|            \\N|\n",
            "|tt0000001|       4|nm0374658|cinematographer|director of photo...|            \\N|\n",
            "|tt0000002|       1|nm0721526|       director|                  \\N|            \\N|\n",
            "|tt0000002|       2|nm1335271|       composer|                  \\N|            \\N|\n",
            "|tt0000003|       1|nm0721526|       director|                  \\N|            \\N|\n",
            "|tt0000003|       2|nm1770680|       producer|            producer|            \\N|\n",
            "|tt0000003|       3|nm0721526|       producer|            producer|            \\N|\n",
            "|tt0000003|       4|nm1335271|       composer|                  \\N|            \\N|\n",
            "|tt0000003|       5|nm5442200|         editor|              editor|            \\N|\n",
            "|tt0000004|       1|nm0721526|       director|                  \\N|            \\N|\n",
            "|tt0000004|       2|nm1335271|       composer|                  \\N|            \\N|\n",
            "|tt0000005|       1|nm0443482|          actor|                  \\N|[\"Blacksmith\"]|\n",
            "|tt0000005|       2|nm0653042|          actor|                  \\N| [\"Assistant\"]|\n",
            "|tt0000005|       3|nm0249379|       producer|            producer|            \\N|\n",
            "|tt0000007|       1|nm0179163|          actor|                  \\N|            \\N|\n",
            "|tt0000007|       2|nm0183947|          actor|                  \\N|            \\N|\n",
            "|tt0000007|       3|nm0005690|       director|                  \\N|            \\N|\n",
            "|tt0000007|       4|nm0374658|       director|                  \\N|            \\N|\n",
            "+---------+--------+---------+---------------+--------------------+--------------+\n",
            "only showing top 20 rows\n",
            "\n",
            "+-----+---------------------+--------+--------------------+--------------------+-----+---------+-----------------+--------------------+--------------------+----------+--------------------+--------------------+--------------------+--------------------+--------------------+--------------------+--------------------+--------+--------------------+--------------------+--------+--------------------+-----------------+\n",
            "|adult|belongs_to_collection|  budget|              genres|            homepage|   id|  imdb_id|original_language|      original_title|            overview|popularity|         poster_path|production_companies|production_countries|        release_date|             revenue|             runtime|    spoken_languages|  status|             tagline|               title|   video|        vote_average|       vote_count|\n",
            "+-----+---------------------+--------+--------------------+--------------------+-----+---------+-----------------+--------------------+--------------------+----------+--------------------+--------------------+--------------------+--------------------+--------------------+--------------------+--------------------+--------+--------------------+--------------------+--------+--------------------+-----------------+\n",
            "|False| {'id': 10194, 'na...|30000000|[{'id': 16, 'name...|http://toystory.d...|  862|tt0114709|               en|           Toy Story|Led by Woody, And...| 21.946943|/rhIRbceoE9lR4veE...|[{'name': 'Pixar ...|[{'iso_3166_1': '...|          1995-10-30|           373554033|                81.0|[{'iso_639_1': 'e...|Released|                NULL|           Toy Story|   False|                 7.7|             5415|\n",
            "|False|                 NULL|65000000|[{'id': 12, 'name...|                NULL| 8844|tt0113497|               en|             Jumanji|When siblings Jud...| 17.015539|/vzmL6fP7aPKNKPRT...|[{'name': 'TriSta...|[{'iso_3166_1': '...|          1995-12-15|           262797249|               104.0|[{'iso_639_1': 'e...|Released|Roll the dice and...|             Jumanji|   False|                 6.9|             2413|\n",
            "|False| {'id': 119050, 'n...|       0|[{'id': 10749, 'n...|                NULL|15602|tt0113228|               en|    Grumpier Old Men|A family wedding ...|   11.7129|/6ksm1sjKMFLbO7UY...|[{'name': 'Warner...|[{'iso_3166_1': '...|          1995-12-22|                   0|               101.0|[{'iso_639_1': 'e...|Released|Still Yelling. St...|    Grumpier Old Men|   False|                 6.5|               92|\n",
            "|False|                 NULL|16000000|[{'id': 35, 'name...|                NULL|31357|tt0114885|               en|   Waiting to Exhale|\"Cheated on, mist...|    Bernie| Glo and Robin ta...| determined to fi...|            3.859495|/16XOMpEaLWkrcPqS...|[{'name': 'Twenti...|[{'iso_3166_1': '...|          1995-12-22|81452156|               127.0|[{'iso_639_1': 'e...|Released|Friends are the p...|Waiting to Exhale|\n",
            "|False| {'id': 96871, 'na...|       0|[{'id': 35, 'name...|                NULL|11862|tt0113041|               en|Father of the Bri...|Just when George ...|  8.387519|/e64sOI48hQXyru7n...|[{'name': 'Sandol...|[{'iso_3166_1': '...|          1995-02-10|            76578911|               106.0|[{'iso_639_1': 'e...|Released|Just When His Wor...|Father of the Bri...|   False|                 5.7|              173|\n",
            "|False|                 NULL|60000000|[{'id': 28, 'name...|                NULL|  949|tt0113277|               en|                Heat|Obsessive master ...| 17.924927|/zMyfPUelumio3tiD...|[{'name': 'Regenc...|[{'iso_3166_1': '...|          1995-12-15|           187436818|               170.0|[{'iso_639_1': 'e...|Released|A Los Angeles Cri...|                Heat|   False|                 7.7|             1886|\n",
            "|False|                 NULL|58000000|[{'id': 35, 'name...|                NULL|11860|tt0114319|               en|             Sabrina|An ugly duckling ...|  6.677277|/jQh15y5YB7bWz1Nt...|[{'name': 'Paramo...|[{'iso_3166_1': '...|          1995-12-15|                   0|               127.0|[{'iso_639_1': 'f...|Released|You are cordially...|             Sabrina|   False|                 6.2|              141|\n",
            "|False|                 NULL|       0|[{'id': 28, 'name...|                NULL|45325|tt0112302|               en|        Tom and Huck|A mischievous you...|  2.561161|/sGO5Qa55p7wTu7FJ...|[{'name': 'Walt D...|[{'iso_3166_1': '...|          1995-12-22|                   0|                97.0|[{'iso_639_1': 'e...|Released|The Original Bad ...|        Tom and Huck|   False|                 5.4|               45|\n",
            "|False|                 NULL|35000000|[{'id': 28, 'name...|                NULL| 9091|tt0114576|               en|        Sudden Death|International act...|   5.23158|/eoWvKD60lT95Ss1M...|[{'name': 'Univer...|[{'iso_3166_1': '...|          1995-12-22|            64350171|               106.0|[{'iso_639_1': 'e...|Released|Terror goes into ...|        Sudden Death|   False|                 5.5|              174|\n",
            "|False| {'id': 645, 'name...|58000000|[{'id': 12, 'name...|http://www.mgm.co...|  710|tt0113189|               en|           GoldenEye|James Bond must u...| 14.686036|/5c0ovjT41KnYIHYu...|[{'name': 'United...|[{'iso_3166_1': '...|          1995-11-16|           352194034|               130.0|[{'iso_639_1': 'e...|Released|No limits. No fea...|           GoldenEye|   False|                 6.6|             1194|\n",
            "|False|                 NULL|62000000|[{'id': 35, 'name...|                NULL| 9087|tt0112346|               en|The American Pres...|Widowed U.S. pres...|  6.318445|/lymPNGLZgPHuqM29...|[{'name': 'Columb...|[{'iso_3166_1': '...|          1995-11-17|           107879496|               106.0|[{'iso_639_1': 'e...|Released|Why can't the mos...|The American Pres...|   False|                 6.5|              199|\n",
            "|False|                 NULL|       0|[{'id': 35, 'name...|                NULL|12110|tt0112896|               en|Dracula: Dead and...|When a lawyer sho...|  5.430331|/xve4cgfYItnOhtzL...|[{'name': 'Columb...|[{'iso_3166_1': '...|          1995-12-22|                   0|                88.0|[{'iso_639_1': 'e...|Released|                NULL|Dracula: Dead and...|   False|                 5.7|              210|\n",
            "|False| {'id': 117693, 'n...|       0|[{'id': 10751, 'n...|                NULL|21032|tt0112453|               en|               Balto|An outcast half-w...| 12.140733|/gV5PCAVCPNxlOLFM...|[{'name': 'Univer...|[{'iso_3166_1': '...|          1995-12-22|            11348324|                78.0|[{'iso_639_1': 'e...|Released|Part Dog. Part Wo...|               Balto|   False|                 7.1|              423|\n",
            "|False|                 NULL|44000000|[{'id': 36, 'name...|                NULL|10858|tt0113987|               en|               Nixon|An all-star cast ...|     5.092|/cICkmCEiXRhvZmbu...|[{'name': 'Hollyw...|[{'iso_3166_1': '...|          1995-12-22|            13681765|               192.0|[{'iso_639_1': 'e...|Released|Triumphant in Vic...|               Nixon|   False|                 7.1|               72|\n",
            "|False|                 NULL|98000000|[{'id': 28, 'name...|                NULL| 1408|tt0112760|               en|    Cutthroat Island|Morgan Adams and ...|  7.284477|/odM9973kIv9hcjfH...|[{'name': 'Le Stu...|[{'iso_3166_1': '...|          1995-12-22|            10017322|               119.0|[{'iso_639_1': 'e...|Released|The Course Has Be...|    Cutthroat Island|   False|                 5.7|              137|\n",
            "|False|                 NULL|52000000|[{'id': 18, 'name...|                NULL|  524|tt0112641|               en|              Casino|The life of the g...| 10.137389|/xo517ibXBDdYQY81...|[{'name': 'Univer...|[{'iso_3166_1': '...|          1995-11-22|           116112375|               178.0|[{'iso_639_1': 'e...|Released|No one stays at t...|              Casino|   False|                 7.8|             1343|\n",
            "|False|                 NULL|16500000|[{'id': 18, 'name...|                NULL| 4584|tt0114388|               en|Sense and Sensibi...|Rich Mr. Dashwood...| 10.673167|/lA9HTy84Bb6ZwNey...|[{'name': 'Columb...|[{'iso_3166_1': '...|          1995-12-13|           135000000|               136.0|[{'iso_639_1': 'e...|Released|Lose your heart a...|Sense and Sensibi...|   False|                 7.2|              364|\n",
            "|False|                 NULL| 4000000|[{'id': 80, 'name...|                NULL|    5|tt0113101|               en|          Four Rooms|It's Ted the Bell...|  9.026586|/eQs5hh9rxrk1m4xH...|[{'name': 'Mirama...|[{'iso_3166_1': '...|          1995-12-09|             4300000|                98.0|[{'iso_639_1': 'e...|Released|Twelve outrageous...|          Four Rooms|   False|                 6.5|              539|\n",
            "|False| {'id': 3167, 'nam...|30000000|[{'id': 80, 'name...|                NULL| 9273|tt0112281|               en|Ace Ventura: When...|Summoned from an ...|  8.205448|/wRlGnJhEzcxBjvWt...|[{'name': 'O Ente...|[{'iso_3166_1': '...|          1995-11-10|           212385533|                90.0|[{'iso_639_1': 'e...|Released|New animals. New ...|Ace Ventura: When...|   False|                 6.1|             1128|\n",
            "|False|                 NULL|60000000|[{'id': 28, 'name...|                NULL|11517|tt0113845|               en|         Money Train|A vengeful New Yo...|  7.337906|/jSozzzVOR2kfXgTU...|[{'name': 'Columb...|[{'iso_3166_1': '...|          1995-11-21|            35431113|               103.0|[{'iso_639_1': 'e...|Released|Get on, or GET OU...|         Money Train|   False|                 5.4|              224|\n",
            "+-----+---------------------+--------+--------------------+--------------------+-----+---------+-----------------+--------------------+--------------------+----------+--------------------+--------------------+--------------------+--------------------+--------------------+--------------------+--------------------+--------+--------------------+--------------------+--------+--------------------+-----------------+\n",
            "only showing top 20 rows\n",
            "\n",
            "+--------------------+--------------------+--------------------+--------------------+--------------------+--------------------+\n",
            "|             imdb_id|               title|       plot_synopsis|                tags|               split|     synopsis_source|\n",
            "+--------------------+--------------------+--------------------+--------------------+--------------------+--------------------+\n",
            "|           tt0057603|I tre volti della...|\"Note: this synop...| mostly likely ca...| the concierge ap...| as she has appar...|\n",
            "|           tt1733125|Dungeons & Dragon...|Two thousand year...|            violence|               train|                imdb|\n",
            "|           tt0033045|The Shop Around t...|Matuschek's, a gi...|                NULL|                NULL|                NULL|\n",
            "|Klara Novak (Marg...| but this daily a...| and while Alfred...| they dream of so...| caring and unkno...| and the store is...|\n",
            "|Alfred reveals hi...|            romantic|                test|                imdb|                NULL|                NULL|\n",
            "|           tt0113862|  Mr. Holland's Opus|\"Glenn Holland, n...| he soon finds th...| he meets Vice Pr...| who comments on ...|\n",
            "|           tt0086250|            Scarface|\"In May 1980, a C...| they notice a ta...| which identifies...| and detain him i...|\n",
            "|           tt1315981|        A Single Man|\"George Falconer ...| reminding him of...| but he leaves.Th...| right after the ...|\n",
            "|           tt0249380|           Baise-moi|Baise-moi tells t...|                NULL|                NULL|                NULL|\n",
            "|             One day| Manu and her friend|       a drug addict| are accosted in ...| who take them to...|             screams|\n",
            "|           Meanwhile| Nadine returns h...| whom she strangl...| before leaving w...|       a drug dealer|     in another town|\n",
            "|    Later that night| having missed th...| Nadine meets Man...| if Nadine will d...| and embark on a ...|                NULL|\n",
            "|    In need of money| the girls hold u...| they are pulled ...| whom they kill. ...| who was also bei...| flees with them....|\n",
            "|  During their spree| the duo's crimes...| and become a poi...| with some people...| and others afrai...| she is shot by t...|\n",
            "|           tt0408790|          Flightplan|\"Kyle Pratt (Jodi...|\"\" against flight...| leaving the audi...| he sneaks back i...|\n",
            "|In this movie app...|mystery, suspense...|               train|                imdb|                NULL|                NULL|\n",
            "|           tt0021079|       Little Caesar|\"Small-time Itali...| Jr.) move from N...| while Joe wants ...| but Rico (whom t...|\n",
            "|           tt1615065|             Savages|\"The movie begins...| while Chon handl...| but Chon is the ...| and sells to mar...|\n",
            "|           tt0089606|   Mitt liv som hund|\"The action takes...| jag kan inte få ...|                NULL|                NULL|\n",
            "|In the town he en...| an assertive tom...|           likes him| and shows it by ...| a man who contin...| and Mr. Arvidsso...|\n",
            "+--------------------+--------------------+--------------------+--------------------+--------------------+--------------------+\n",
            "only showing top 20 rows\n",
            "\n"
          ]
        }
      ],
      "source": [
        "title_basics_df.show()\n",
        "title_crew_df.show()\n",
        "title_ratings_df.show()\n",
        "name_basics_df.show()\n",
        "title_principals_df.show()\n",
        "movie_description_df1.show()\n",
        "movie_description_df2.show()"
      ]
    },
    {
      "cell_type": "markdown",
      "metadata": {
        "id": "9D0DmZBMtv-_"
      },
      "source": [
        "## Filters"
      ]
    },
    {
      "cell_type": "markdown",
      "metadata": {
        "id": "cMId6SyA9ZMl"
      },
      "source": [
        "Filter entries for only movie entries"
      ]
    },
    {
      "cell_type": "code",
      "execution_count": 33,
      "metadata": {
        "id": "uDq_NnP4-FFn"
      },
      "outputs": [],
      "source": [
        "title_basics_df = title_basics_df.filter(title_basics_df.titleType == \"movie\")\n",
        "#title_basics_df.show()"
      ]
    },
    {
      "cell_type": "markdown",
      "metadata": {
        "id": "Pbsch7OA_vVB"
      },
      "source": [
        "Remove entries where the genres is null (\\N)"
      ]
    },
    {
      "cell_type": "code",
      "execution_count": 34,
      "metadata": {
        "id": "pZuAjCXp_yx6"
      },
      "outputs": [],
      "source": [
        "title_basics_df = title_basics_df.filter(title_basics_df.genres != \"\\\\N\")\n",
        "#title_basics_df.show()"
      ]
    },
    {
      "cell_type": "markdown",
      "metadata": {
        "id": "KK7j2P6otyw7"
      },
      "source": [
        "## Integration"
      ]
    },
    {
      "cell_type": "markdown",
      "metadata": {
        "id": "6zSQYii-BctZ"
      },
      "source": [
        "Separate genres and keep single genre"
      ]
    },
    {
      "cell_type": "markdown",
      "metadata": {
        "id": "lgIOI3tuyQwa"
      },
      "source": [
        "Cases:\n",
        "\n",
        "| In 0 | In 1 | In 2 |\n",
        "|------|------|------|\n",
        "| T    | T    | T    |\n",
        "| T    | T    | F    |\n",
        "| T    | F    | T    |\n",
        "| F    | T    | T    |\n",
        "| T    | T    | F    |\n",
        "| T    | F    | T    |\n",
        "| F    | T    | T    |\n",
        "| F    | F    | F    |"
      ]
    },
    {
      "cell_type": "code",
      "execution_count": 35,
      "metadata": {
        "colab": {
          "base_uri": "https://localhost:8080/",
          "height": 88
        },
        "id": "wuLOW7hzBe2l",
        "outputId": "66386ba3-4fde-4c3d-8564-e1361f69112d"
      },
      "outputs": [
        {
          "output_type": "execute_result",
          "data": {
            "text/plain": [
              "'\\n#title_basics_df.groupBy(\\'genres\\').count().orderBy(desc(\"count\")).show()\\n\\nintermediate_df = title_basics_df.withColumn(\"genre1\", genre_column.getItem(0))\\n\\ngenre_rows1 = intermediate_df.where((intermediate_df.genre1 == \"Drama\") | (intermediate_df.genre1 == \"Comedy\") | (intermediate_df.genre1 == \"Horror\") | (intermediate_df.genre1 == \"Thriller\") | (intermediate_df.genre1 == \"Romance\") | (intermediate_df.genre1 == \"Action\")).groupBy(\\'genre1\\').count().orderBy(\"genre1\").take(6)\\n\\nintermediate_df = title_basics_df.withColumn(\"genre2\", genre_column.getItem(1))\\n\\ngenre_rows2 = intermediate_df.where((intermediate_df.genre2 == \"Drama\") | (intermediate_df.genre2 == \"Comedy\") | (intermediate_df.genre2 == \"Horror\") | (intermediate_df.genre2 == \"Thriller\") | (intermediate_df.genre2 == \"Romance\") | (intermediate_df.genre2 == \"Action\")).groupBy(\\'genre2\\').count().orderBy(\"genre2\").take(6)\\n\\nintermediate_df = title_basics_df.withColumn(\"genre3\", genre_column.getItem(2))\\n\\ngenre_rows3 = intermediate_df.where((intermediate_df.genre3 == \"Drama\") | (intermediate_df.genre3 == \"Comedy\") | (intermediate_df.genre3 == \"Horror\") | (intermediate_df.genre3 == \"Thriller\") | (intermediate_df.genre3 == \"Romance\") | (intermediate_df.genre3 == \"Action\")).groupBy(\\'genre3\\').count().orderBy(\"genre3\").take(6)\\n\\nfor row in genre_rows1:\\n  if (row[\"genre1\"] == \"Action\"):\\n    action_entry_count = action_entry_count + row[\"count\"]\\n\\n  if (row[\"genre1\"] == \"Comedy\"):\\n    comedy_entry_count = comedy_entry_count + row[\"count\"]\\n\\n  if (row[\"genre1\"] == \"Drama\"):\\n    drama_entry_count = drama_entry_count + row[\"count\"]\\n\\n  if (row[\"genre1\"] == \"Horror\"):\\n    horror_entry_count = horror_entry_count + row[\"count\"]\\n\\n  if (row[\"genre1\"] == \"Romance\"):\\n    romance_entry_count = romance_entry_count + row[\"count\"]\\n\\n  if (row[\"genre1\"] == \"Thriller\"):\\n    thriller_entry_count = thriller_entry_count + row[\"count\"]\\n\\nfor row in genre_rows2:\\n  if (row[\"genre2\"] == \"Action\"):\\n    action_entry_count = action_entry_count + row[\"count\"]\\n\\n  if (row[\"genre2\"] == \"Comedy\"):\\n    comedy_entry_count = comedy_entry_count + row[\"count\"]\\n\\n  if (row[\"genre2\"] == \"Drama\"):\\n    drama_entry_count = drama_entry_count + row[\"count\"]\\n\\n  if (row[\"genre2\"] == \"Horror\"):\\n    horror_entry_count = horror_entry_count + row[\"count\"]\\n\\n  if (row[\"genre2\"] == \"Romance\"):\\n    romance_entry_count = romance_entry_count + row[\"count\"]\\n\\n  if (row[\"genre2\"] == \"Thriller\"):\\n    thriller_entry_count = thriller_entry_count + row[\"count\"]\\n\\nfor row in genre_rows3:\\n  if (row[\"genre3\"] == \"Action\"):\\n    action_entry_count = action_entry_count + row[\"count\"]\\n\\n  if (row[\"genre3\"] == \"Comedy\"):\\n    comedy_entry_count = comedy_entry_count + row[\"count\"]\\n\\n  if (row[\"genre3\"] == \"Drama\"):\\n    drama_entry_count = drama_entry_count + row[\"count\"]\\n\\n  if (row[\"genre3\"] == \"Horror\"):\\n    horror_entry_count = horror_entry_count + row[\"count\"]\\n\\n  if (row[\"genre3\"] == \"Romance\"):\\n    romance_entry_count = romance_entry_count + row[\"count\"]\\n\\n  if (row[\"genre3\"] == \"Thriller\"):\\n    thriller_entry_count = thriller_entry_count + row[\"count\"]\\n\\ngenre_count_dic = {\"Action\": action_entry_count, \"Comedy\": comedy_entry_count, \"Drama\": drama_entry_count, \"Horror\": horror_entry_count, \"Romance\": romance_entry_count, \"Thriller\": thriller_entry_count}\\nsorted_genre_count_dic = dict(sorted(genre_count_dic.items(), key=lambda item: item[1], reverse=True))\\nprint(sorted_genre_count_dic)\\n\\ngenre_column = split(title_basics_df[\"genres\"], \",\")\\n\\ntitle_basics_df = title_basics_df.withColumn(\"genre\", genre_column.getItem(0) if [genre_column.getItem(0), genre_column.getItem(1), genre_column.getItem(2)].index(\"Drama\") == 0 else        genre_column.getItem(0) if [genre_column.getItem(0), genre_column.getItem(1), genre_column.getItem(2)].index(\"Comedy\") == 0 else        genre_column.getItem(0) if [genre_column.getItem(0), genre_column.getItem(1), genre_column.getItem(2)].index(\"Action\") == 0 else        genre_column.getItem(0) if [genre_column.getItem(0), genre_column.getItem(1), genre_column.getItem(2)].index(\"Romance\") == 0 else        genre_column.getItem(0) if [genre_column.getItem(0), genre_column.getItem(1), genre_column.getItem(2)].index(\"Thriller\") == 0 else        genre_column.getItem(0) if [genre_column.getItem(0), genre_column.getItem(1), genre_column.getItem(2)].index(\"Horror\") == 0 else        genre_column.getItem(1) if [genre_column.getItem(0), genre_column.getItem(1), genre_column.getItem(2)].index(\"Drama\") == 1 else        genre_column.getItem(1) if [genre_column.getItem(0), genre_column.getItem(1), genre_column.getItem(2)].index(\"Comedy\") == 1 else        genre_column.getItem(1) if [genre_column.getItem(0), genre_column.getItem(1), genre_column.getItem(2)].index(\"Action\") == 1 else        genre_column.getItem(1) if [genre_column.getItem(0), genre_column.getItem(1), genre_column.getItem(2)].index(\"Romance\") == 1 else        genre_column.getItem(1) if [genre_column.getItem(0), genre_column.getItem(1), genre_column.getItem(2)].index(\"Thriller\") == 1 else        genre_column.getItem(1) if [genre_column.getItem(0), genre_column.getItem(1), genre_column.getItem(2)].index(\"Horror\") == 1 else        genre_column.getItem(2) if [genre_column.getItem(0), genre_column.getItem(1), genre_column.getItem(2)].index(\"Drama\") == 2 else        genre_column.getItem(2) if [genre_column.getItem(0), genre_column.getItem(1), genre_column.getItem(2)].index(\"Comedy\") == 2 else        genre_column.getItem(2) if [genre_column.getItem(0), genre_column.getItem(1), genre_column.getItem(2)].index(\"Action\") == 2 else        genre_column.getItem(2) if [genre_column.getItem(0), genre_column.getItem(1), genre_column.getItem(2)].index(\"Romance\") == 2 else        genre_column.getItem(2) if [genre_column.getItem(0), genre_column.getItem(1), genre_column.getItem(2)].index(\"Thriller\") == 2 else        genre_column.getItem(2) if [genre_column.getItem(0), genre_column.getItem(1), genre_column.getItem(2)].index(\"Horror\") == 2 else None)\\n'"
            ],
            "application/vnd.google.colaboratory.intrinsic+json": {
              "type": "string"
            }
          },
          "metadata": {},
          "execution_count": 35
        }
      ],
      "source": [
        "#When there are multiple genres:\n",
        "#if only 1 from the list is in the genre column -> pick genre from list\n",
        "#if multiple genres from the list is in the genre column -> weigh by count?\n",
        "drama_entry_count = 0\n",
        "comedy_entry_count = 0\n",
        "horror_entry_count = 0\n",
        "romance_entry_count = 0\n",
        "action_entry_count = 0\n",
        "thriller_entry_count = 0\n",
        "\n",
        "genre_column = split(title_basics_df[\"genres\"], \",\")\n",
        "\n",
        "genres_to_keep = [\"Drama\", \"Comedy\", \"Horror\", \"Thriller\", \"Romance\", \"Action\"]\n",
        "\n",
        "test = title_basics_df.filter(genre_column.getItem(0).isin(genres_to_keep))\n",
        "#test = title_basics_df.filter(genre_column.getItem(0).isin(genres_to_keep))\n",
        "test = test.withColumn(\"genre\", genre_column.getItem(0))\n",
        "\n",
        "test2 = title_basics_df.filter((genre_column.getItem(1).isin(genres_to_keep)) & ~(genre_column.getItem(0).isin(genres_to_keep) ))\n",
        "#test2 = title_basics_df.filter(genre_column.getItem(1).isin(genres_to_keep))\n",
        "test2 = test2.withColumn(\"genre\", genre_column.getItem(1))\n",
        "\n",
        "test3 = title_basics_df.filter((genre_column.getItem(2).isin(genres_to_keep)) & ~(genre_column.getItem(0).isin(genres_to_keep) | genre_column.getItem(1).isin(genres_to_keep)))\n",
        "#test3 = title_basics_df.filter(genre_column.getItem(2).isin(genres_to_keep))\n",
        "test3 = test3.withColumn(\"genre\", genre_column.getItem(2))\n",
        "\n",
        "title_basics_df = test.union(test2).union(test3)\n",
        "#title_basics_df.show()\n",
        "\n",
        "'''\n",
        "#title_basics_df.groupBy('genres').count().orderBy(desc(\"count\")).show()\n",
        "\n",
        "intermediate_df = title_basics_df.withColumn(\"genre1\", genre_column.getItem(0))\n",
        "\n",
        "genre_rows1 = intermediate_df.where((intermediate_df.genre1 == \"Drama\") | (intermediate_df.genre1 == \"Comedy\") | (intermediate_df.genre1 == \"Horror\") | (intermediate_df.genre1 == \"Thriller\") | (intermediate_df.genre1 == \"Romance\") | (intermediate_df.genre1 == \"Action\")).groupBy('genre1').count().orderBy(\"genre1\").take(6)\n",
        "\n",
        "intermediate_df = title_basics_df.withColumn(\"genre2\", genre_column.getItem(1))\n",
        "\n",
        "genre_rows2 = intermediate_df.where((intermediate_df.genre2 == \"Drama\") | (intermediate_df.genre2 == \"Comedy\") | (intermediate_df.genre2 == \"Horror\") | (intermediate_df.genre2 == \"Thriller\") | (intermediate_df.genre2 == \"Romance\") | (intermediate_df.genre2 == \"Action\")).groupBy('genre2').count().orderBy(\"genre2\").take(6)\n",
        "\n",
        "intermediate_df = title_basics_df.withColumn(\"genre3\", genre_column.getItem(2))\n",
        "\n",
        "genre_rows3 = intermediate_df.where((intermediate_df.genre3 == \"Drama\") | (intermediate_df.genre3 == \"Comedy\") | (intermediate_df.genre3 == \"Horror\") | (intermediate_df.genre3 == \"Thriller\") | (intermediate_df.genre3 == \"Romance\") | (intermediate_df.genre3 == \"Action\")).groupBy('genre3').count().orderBy(\"genre3\").take(6)\n",
        "\n",
        "for row in genre_rows1:\n",
        "  if (row[\"genre1\"] == \"Action\"):\n",
        "    action_entry_count = action_entry_count + row[\"count\"]\n",
        "\n",
        "  if (row[\"genre1\"] == \"Comedy\"):\n",
        "    comedy_entry_count = comedy_entry_count + row[\"count\"]\n",
        "\n",
        "  if (row[\"genre1\"] == \"Drama\"):\n",
        "    drama_entry_count = drama_entry_count + row[\"count\"]\n",
        "\n",
        "  if (row[\"genre1\"] == \"Horror\"):\n",
        "    horror_entry_count = horror_entry_count + row[\"count\"]\n",
        "\n",
        "  if (row[\"genre1\"] == \"Romance\"):\n",
        "    romance_entry_count = romance_entry_count + row[\"count\"]\n",
        "\n",
        "  if (row[\"genre1\"] == \"Thriller\"):\n",
        "    thriller_entry_count = thriller_entry_count + row[\"count\"]\n",
        "\n",
        "for row in genre_rows2:\n",
        "  if (row[\"genre2\"] == \"Action\"):\n",
        "    action_entry_count = action_entry_count + row[\"count\"]\n",
        "\n",
        "  if (row[\"genre2\"] == \"Comedy\"):\n",
        "    comedy_entry_count = comedy_entry_count + row[\"count\"]\n",
        "\n",
        "  if (row[\"genre2\"] == \"Drama\"):\n",
        "    drama_entry_count = drama_entry_count + row[\"count\"]\n",
        "\n",
        "  if (row[\"genre2\"] == \"Horror\"):\n",
        "    horror_entry_count = horror_entry_count + row[\"count\"]\n",
        "\n",
        "  if (row[\"genre2\"] == \"Romance\"):\n",
        "    romance_entry_count = romance_entry_count + row[\"count\"]\n",
        "\n",
        "  if (row[\"genre2\"] == \"Thriller\"):\n",
        "    thriller_entry_count = thriller_entry_count + row[\"count\"]\n",
        "\n",
        "for row in genre_rows3:\n",
        "  if (row[\"genre3\"] == \"Action\"):\n",
        "    action_entry_count = action_entry_count + row[\"count\"]\n",
        "\n",
        "  if (row[\"genre3\"] == \"Comedy\"):\n",
        "    comedy_entry_count = comedy_entry_count + row[\"count\"]\n",
        "\n",
        "  if (row[\"genre3\"] == \"Drama\"):\n",
        "    drama_entry_count = drama_entry_count + row[\"count\"]\n",
        "\n",
        "  if (row[\"genre3\"] == \"Horror\"):\n",
        "    horror_entry_count = horror_entry_count + row[\"count\"]\n",
        "\n",
        "  if (row[\"genre3\"] == \"Romance\"):\n",
        "    romance_entry_count = romance_entry_count + row[\"count\"]\n",
        "\n",
        "  if (row[\"genre3\"] == \"Thriller\"):\n",
        "    thriller_entry_count = thriller_entry_count + row[\"count\"]\n",
        "\n",
        "genre_count_dic = {\"Action\": action_entry_count, \"Comedy\": comedy_entry_count, \"Drama\": drama_entry_count, \"Horror\": horror_entry_count, \"Romance\": romance_entry_count, \"Thriller\": thriller_entry_count}\n",
        "sorted_genre_count_dic = dict(sorted(genre_count_dic.items(), key=lambda item: item[1], reverse=True))\n",
        "print(sorted_genre_count_dic)\n",
        "\n",
        "genre_column = split(title_basics_df[\"genres\"], \",\")\n",
        "\n",
        "title_basics_df = title_basics_df.withColumn(\"genre\", genre_column.getItem(0) if [genre_column.getItem(0), genre_column.getItem(1), genre_column.getItem(2)].index(\"Drama\") == 0 else \\\n",
        "       genre_column.getItem(0) if [genre_column.getItem(0), genre_column.getItem(1), genre_column.getItem(2)].index(\"Comedy\") == 0 else \\\n",
        "       genre_column.getItem(0) if [genre_column.getItem(0), genre_column.getItem(1), genre_column.getItem(2)].index(\"Action\") == 0 else \\\n",
        "       genre_column.getItem(0) if [genre_column.getItem(0), genre_column.getItem(1), genre_column.getItem(2)].index(\"Romance\") == 0 else \\\n",
        "       genre_column.getItem(0) if [genre_column.getItem(0), genre_column.getItem(1), genre_column.getItem(2)].index(\"Thriller\") == 0 else \\\n",
        "       genre_column.getItem(0) if [genre_column.getItem(0), genre_column.getItem(1), genre_column.getItem(2)].index(\"Horror\") == 0 else \\\n",
        "       genre_column.getItem(1) if [genre_column.getItem(0), genre_column.getItem(1), genre_column.getItem(2)].index(\"Drama\") == 1 else \\\n",
        "       genre_column.getItem(1) if [genre_column.getItem(0), genre_column.getItem(1), genre_column.getItem(2)].index(\"Comedy\") == 1 else \\\n",
        "       genre_column.getItem(1) if [genre_column.getItem(0), genre_column.getItem(1), genre_column.getItem(2)].index(\"Action\") == 1 else \\\n",
        "       genre_column.getItem(1) if [genre_column.getItem(0), genre_column.getItem(1), genre_column.getItem(2)].index(\"Romance\") == 1 else \\\n",
        "       genre_column.getItem(1) if [genre_column.getItem(0), genre_column.getItem(1), genre_column.getItem(2)].index(\"Thriller\") == 1 else \\\n",
        "       genre_column.getItem(1) if [genre_column.getItem(0), genre_column.getItem(1), genre_column.getItem(2)].index(\"Horror\") == 1 else \\\n",
        "       genre_column.getItem(2) if [genre_column.getItem(0), genre_column.getItem(1), genre_column.getItem(2)].index(\"Drama\") == 2 else \\\n",
        "       genre_column.getItem(2) if [genre_column.getItem(0), genre_column.getItem(1), genre_column.getItem(2)].index(\"Comedy\") == 2 else \\\n",
        "       genre_column.getItem(2) if [genre_column.getItem(0), genre_column.getItem(1), genre_column.getItem(2)].index(\"Action\") == 2 else \\\n",
        "       genre_column.getItem(2) if [genre_column.getItem(0), genre_column.getItem(1), genre_column.getItem(2)].index(\"Romance\") == 2 else \\\n",
        "       genre_column.getItem(2) if [genre_column.getItem(0), genre_column.getItem(1), genre_column.getItem(2)].index(\"Thriller\") == 2 else \\\n",
        "       genre_column.getItem(2) if [genre_column.getItem(0), genre_column.getItem(1), genre_column.getItem(2)].index(\"Horror\") == 2 else None)\n",
        "'''"
      ]
    },
    {
      "cell_type": "code",
      "execution_count": 36,
      "metadata": {
        "colab": {
          "base_uri": "https://localhost:8080/"
        },
        "id": "EThjJMxkZd4B",
        "outputId": "1b5a469f-48da-496a-b6cd-4b706ce66a38"
      },
      "outputs": [
        {
          "output_type": "stream",
          "name": "stdout",
          "text": [
            "+---------+-------------------+---------+\n",
            "|   tconst|          directors|  writers|\n",
            "+---------+-------------------+---------+\n",
            "|tt0000001|          nm0005690|       \\N|\n",
            "|tt0000002|          nm0721526|       \\N|\n",
            "|tt0000003|          nm0721526|       \\N|\n",
            "|tt0000004|          nm0721526|       \\N|\n",
            "|tt0000005|          nm0005690|       \\N|\n",
            "|tt0000006|          nm0005690|       \\N|\n",
            "|tt0000007|nm0005690,nm0374658|       \\N|\n",
            "|tt0000008|          nm0005690|       \\N|\n",
            "|tt0000009|          nm0085156|nm0085156|\n",
            "|tt0000010|          nm0525910|       \\N|\n",
            "|tt0000011|          nm0804434|       \\N|\n",
            "|tt0000012|nm0525908,nm0525910|       \\N|\n",
            "|tt0000013|          nm0525910|       \\N|\n",
            "|tt0000014|          nm0525910|       \\N|\n",
            "|tt0000015|          nm0721526|       \\N|\n",
            "|tt0000016|          nm0525910|       \\N|\n",
            "|tt0000017|nm1587194,nm0804434|       \\N|\n",
            "|tt0000018|          nm0804434|       \\N|\n",
            "|tt0000019|          nm0932055|       \\N|\n",
            "|tt0000020|          nm0010291|       \\N|\n",
            "+---------+-------------------+---------+\n",
            "only showing top 20 rows\n",
            "\n"
          ]
        }
      ],
      "source": [
        "title_crew_df.show()"
      ]
    },
    {
      "cell_type": "code",
      "execution_count": 37,
      "metadata": {
        "id": "SuMb81YZZd4B"
      },
      "outputs": [],
      "source": [
        "director_column = split(title_crew_df[\"directors\"], \",\")"
      ]
    },
    {
      "cell_type": "markdown",
      "metadata": {
        "id": "8c135HEGBfL-"
      },
      "source": [
        "Separate directors and keep single director"
      ]
    },
    {
      "cell_type": "code",
      "execution_count": 38,
      "metadata": {
        "id": "GV9SKRBhBh4Q"
      },
      "outputs": [],
      "source": [
        "director_column = split(title_crew_df[\"directors\"], \",\")\n",
        "title_crew_df = title_crew_df.withColumn(\"director\", director_column.getItem(0))\n",
        "#title_crew_df.show()\n",
        "title_crew_df = title_crew_df.drop(\"directors\")\n",
        "#title_crew_df.show()"
      ]
    },
    {
      "cell_type": "code",
      "execution_count": 39,
      "metadata": {
        "colab": {
          "base_uri": "https://localhost:8080/"
        },
        "id": "OhOrWR3MZd4B",
        "outputId": "c598bcf2-319d-490e-f628-6ad87ad98dc4"
      },
      "outputs": [
        {
          "output_type": "stream",
          "name": "stdout",
          "text": [
            "+---------+---------+---------+\n",
            "|   tconst|  writers| director|\n",
            "+---------+---------+---------+\n",
            "|tt0000001|       \\N|nm0005690|\n",
            "|tt0000002|       \\N|nm0721526|\n",
            "|tt0000003|       \\N|nm0721526|\n",
            "|tt0000004|       \\N|nm0721526|\n",
            "|tt0000005|       \\N|nm0005690|\n",
            "|tt0000006|       \\N|nm0005690|\n",
            "|tt0000007|       \\N|nm0005690|\n",
            "|tt0000008|       \\N|nm0005690|\n",
            "|tt0000009|nm0085156|nm0085156|\n",
            "|tt0000010|       \\N|nm0525910|\n",
            "|tt0000011|       \\N|nm0804434|\n",
            "|tt0000012|       \\N|nm0525908|\n",
            "|tt0000013|       \\N|nm0525910|\n",
            "|tt0000014|       \\N|nm0525910|\n",
            "|tt0000015|       \\N|nm0721526|\n",
            "|tt0000016|       \\N|nm0525910|\n",
            "|tt0000017|       \\N|nm1587194|\n",
            "|tt0000018|       \\N|nm0804434|\n",
            "|tt0000019|       \\N|nm0932055|\n",
            "|tt0000020|       \\N|nm0010291|\n",
            "+---------+---------+---------+\n",
            "only showing top 20 rows\n",
            "\n"
          ]
        }
      ],
      "source": [
        "title_crew_df.show()"
      ]
    },
    {
      "cell_type": "markdown",
      "metadata": {
        "id": "sf-Ktzz5BiIr"
      },
      "source": [
        "Separate writers and keep single writer"
      ]
    },
    {
      "cell_type": "code",
      "execution_count": 40,
      "metadata": {
        "id": "6FdVhv6-BkQm"
      },
      "outputs": [],
      "source": [
        "writer_column = split(title_crew_df[\"writers\"], \",\")\n",
        "title_crew_df = title_crew_df.withColumn(\"writer\", writer_column.getItem(0))\n",
        "#title_crew_df.show()\n",
        "title_crew_df = title_crew_df.drop(\"writers\")\n",
        "#title_crew_df.show()"
      ]
    },
    {
      "cell_type": "markdown",
      "metadata": {
        "id": "qbb0T_t_9S8X"
      },
      "source": [
        "Get director names"
      ]
    },
    {
      "cell_type": "code",
      "execution_count": 41,
      "metadata": {
        "id": "EdLgizgBgfFH"
      },
      "outputs": [],
      "source": [
        "director_df = title_crew_df.select(\"director\", \"tconst\")\n",
        "renamed_director_df = director_df.withColumnRenamed(\"director\", \"nconst\")\n",
        "\n",
        "director_id_name_df = renamed_director_df.join(name_basics_df, on=\"nconst\").select(\"tconst\", \"primaryName\")\n",
        "director_id_name_df = director_id_name_df.withColumnRenamed(\"primaryName\", \"directorPrimaryName\")\n",
        "#director_id_name_df.show()"
      ]
    },
    {
      "cell_type": "markdown",
      "metadata": {
        "id": "-UBj9JgFqoQ1"
      },
      "source": [
        "Get writer names"
      ]
    },
    {
      "cell_type": "code",
      "execution_count": 42,
      "metadata": {
        "id": "LVm79uwbhT4S"
      },
      "outputs": [],
      "source": [
        "writer_df = title_crew_df.select(\"writer\", \"tconst\")\n",
        "renamed_writer_df = writer_df.withColumnRenamed(\"writer\", \"nconst\")\n",
        "\n",
        "writer_id_name_df = renamed_writer_df.join(name_basics_df, on=\"nconst\").select(\"tconst\", \"primaryName\")\n",
        "writer_id_name_df = writer_id_name_df.withColumnRenamed(\"primaryName\", \"writerPrimaryName\")\n",
        "#writer_id_name_df.show()"
      ]
    },
    {
      "cell_type": "code",
      "execution_count": 43,
      "metadata": {
        "id": "BRBe2t6ixFp4"
      },
      "outputs": [],
      "source": [
        "title_basics_and_title_crew_and_title_ratings_df = title_basics_df.join(title_ratings_df, on=\"tconst\").join(director_id_name_df, on=\"tconst\").join(writer_id_name_df, on=\"tconst\")\n",
        "#title_basics_and_title_crew_and_title_ratings_df.show()"
      ]
    },
    {
      "cell_type": "code",
      "execution_count": 44,
      "metadata": {
        "colab": {
          "base_uri": "https://localhost:8080/"
        },
        "id": "w4rBzZXDZd4D",
        "outputId": "52729bd8-0664-46d3-82fd-5da72eb9d128"
      },
      "outputs": [
        {
          "output_type": "execute_result",
          "data": {
            "text/plain": [
              "['tconst',\n",
              " 'titleType',\n",
              " 'primaryTitle',\n",
              " 'originalTitle',\n",
              " 'isAdult',\n",
              " 'startYear',\n",
              " 'endYear',\n",
              " 'runtimeMinutes',\n",
              " 'genres',\n",
              " 'genre',\n",
              " 'averageRating',\n",
              " 'numVotes',\n",
              " 'directorPrimaryName',\n",
              " 'writerPrimaryName']"
            ]
          },
          "metadata": {},
          "execution_count": 44
        }
      ],
      "source": [
        "title_basics_and_title_crew_and_title_ratings_df.columns"
      ]
    },
    {
      "cell_type": "markdown",
      "metadata": {
        "id": "EB-7f259cxHO"
      },
      "source": [
        "Get actor names"
      ]
    },
    {
      "cell_type": "code",
      "execution_count": 45,
      "metadata": {
        "id": "tKPv94eZcy-5"
      },
      "outputs": [],
      "source": [
        "person_df = title_principals_df.select(\"tconst\", \"nconst\", \"category\")\n",
        "#person_df.show()\n",
        "\n",
        "actor_df = person_df.filter(person_df.category == \"actor\")\n",
        "#person_df = person_df.filter((person_df.category == \"self\") | (person_df.category == \"cinematographer\") | (person_df.category == \"composer\") | (person_df.category == \"producer\") | (person_df.category == \"editor\") | (person_df.category == \"actor\"))\n",
        "#actor_df.show()\n",
        "\n",
        "actor_df = actor_df.join(name_basics_df, on=\"nconst\").select(\"tconst\", \"primaryName\")\n",
        "actor_id_name_df = actor_df.withColumnRenamed(\"primaryName\", \"actorPrimaryName\")\n",
        "#actor_id_name_df.show()\n",
        "title_basics_and_title_crew_and_title_ratings_actor_df = actor_id_name_df.groupBy(\"tconst\").agg(collect_list('actorPrimaryName').alias(\"actors\"))\n",
        "title_basics_and_title_crew_and_title_ratings_actor_df = title_basics_and_title_crew_and_title_ratings_actor_df.withColumn(\"actor1\", title_basics_and_title_crew_and_title_ratings_actor_df.actors[0])\n",
        "title_basics_and_title_crew_and_title_ratings_actor_df = title_basics_and_title_crew_and_title_ratings_actor_df.withColumn(\"actor2\", title_basics_and_title_crew_and_title_ratings_actor_df.actors[1])\n",
        "title_basics_and_title_crew_and_title_ratings_actor_df = title_basics_and_title_crew_and_title_ratings_actor_df.withColumn(\"actor3\", title_basics_and_title_crew_and_title_ratings_actor_df.actors[2])\n",
        "title_basics_and_title_crew_and_title_ratings_actor_df = title_basics_and_title_crew_and_title_ratings_actor_df.withColumn(\"actor4\", title_basics_and_title_crew_and_title_ratings_actor_df.actors[3])\n",
        "title_basics_and_title_crew_and_title_ratings_actor_df = title_basics_and_title_crew_and_title_ratings_df.join(title_basics_and_title_crew_and_title_ratings_actor_df, on=\"tconst\")\n",
        "#.groupBy(\"actorPrimaryName\").pivot(\"tconst\").agg(first(\"actorPrimaryName\"))\n",
        "#(nth_value(\"actorPrimaryName\", 0).alias(\"actor1\"), nth_value(\"actorPrimaryName\", 1).alias(\"actor2\"), nth_value(\"actorPrimaryName\", 2).alias(\"actor3\"), nth_value(\"actorPrimaryName\", 3).alias(\"actor4\"))\n",
        "#test.show()\n",
        "#title_basics_and_title_crew_and_title_ratings_actor_df = title_basics_and_title_crew_and_title_ratings_df.join(actor_id_name_df, on=\"tconst\")\n",
        "#title_basics_and_title_crew_and_title_ratings_actor_df.show()"
      ]
    },
    {
      "cell_type": "markdown",
      "source": [
        "Get movie description"
      ],
      "metadata": {
        "id": "69wN6U3PW4nB"
      }
    },
    {
      "cell_type": "code",
      "source": [
        "movie_description_df1 = movie_description_df1.select(\"original_title\", \"overview\")\n",
        "movie_description_df1 = movie_description_df1.filter(movie_description_df1.overview.isNotNull())\n",
        "movie_description_df1 = movie_description_df1.withColumnRenamed(\"original_title\", \"primaryTitle\")\n",
        "title_basics_and_title_crew_and_title_ratings_actor_df = title_basics_and_title_crew_and_title_ratings_actor_df.join(movie_description_df1, on=\"primaryTitle\")"
      ],
      "metadata": {
        "id": "IFN6qvJCW95P"
      },
      "execution_count": 46,
      "outputs": []
    },
    {
      "cell_type": "code",
      "execution_count": 47,
      "metadata": {
        "colab": {
          "base_uri": "https://localhost:8080/"
        },
        "id": "T0aV5BmlZd4E",
        "outputId": "ccd228c4-22d2-482b-c4b0-96f499c49afe"
      },
      "outputs": [
        {
          "output_type": "execute_result",
          "data": {
            "text/plain": [
              "['primaryTitle',\n",
              " 'tconst',\n",
              " 'titleType',\n",
              " 'originalTitle',\n",
              " 'isAdult',\n",
              " 'startYear',\n",
              " 'endYear',\n",
              " 'runtimeMinutes',\n",
              " 'genres',\n",
              " 'genre',\n",
              " 'averageRating',\n",
              " 'numVotes',\n",
              " 'directorPrimaryName',\n",
              " 'writerPrimaryName',\n",
              " 'actors',\n",
              " 'actor1',\n",
              " 'actor2',\n",
              " 'actor3',\n",
              " 'actor4',\n",
              " 'overview']"
            ]
          },
          "metadata": {},
          "execution_count": 47
        }
      ],
      "source": [
        "title_basics_and_title_crew_and_title_ratings_actor_df.columns"
      ]
    },
    {
      "cell_type": "code",
      "execution_count": 48,
      "metadata": {
        "id": "-UjODokEsyKC"
      },
      "outputs": [],
      "source": [
        "final_df = title_basics_and_title_crew_and_title_ratings_actor_df.drop('titleType', 'originalTitle', 'isAdult', 'endYear', 'genres', 'numVotes', 'tconst', \"actors\")\n",
        "final_df = final_df.withColumnRenamed('primaryTitle', 'title')\n",
        "final_df = final_df.withColumnRenamed('startYear', 'year')\n",
        "final_df = final_df.withColumnRenamed('runtimeMinutes', 'runtime')\n",
        "final_df = final_df.withColumnRenamed('averageRating', 'rating')\n",
        "final_df = final_df.withColumnRenamed('directorPrimaryName', 'director')\n",
        "final_df = final_df.withColumnRenamed('writerPrimaryName', 'writer')\n",
        "final_df = final_df.withColumnRenamed('overview', 'description')\n",
        "\n",
        "# final_df.show()\n",
        "# final_df.persist()\n",
        "# final_df.repartition(1).write.option(\"header\", \"true\").save(\"mydata.csv\")\n"
      ]
    },
    {
      "cell_type": "code",
      "execution_count": 49,
      "metadata": {
        "id": "eF-UPI_-Zd4E"
      },
      "outputs": [],
      "source": [
        "# movies releaed after 2021 to reduce data\n",
        "final_df=final_df.filter(final_df.year.cast(\"int\") > 2021)"
      ]
    },
    {
      "cell_type": "code",
      "source": [
        "# Remove rows with null actor1 to actor4\n",
        "final_df = final_df.filter(final_df.actor1.isNotNull())\n",
        "final_df = final_df.filter(final_df.actor2.isNotNull())\n",
        "final_df = final_df.filter(final_df.actor3.isNotNull())\n",
        "final_df = final_df.filter(final_df.actor4.isNotNull())"
      ],
      "metadata": {
        "id": "uCuV9jZKvuMi"
      },
      "execution_count": 50,
      "outputs": []
    },
    {
      "cell_type": "code",
      "execution_count": 51,
      "metadata": {
        "colab": {
          "base_uri": "https://localhost:8080/"
        },
        "id": "LMUcahJ6Zd4E",
        "outputId": "5dd18867-13ce-49a7-8ee7-6d39245e39d4"
      },
      "outputs": [
        {
          "output_type": "execute_result",
          "data": {
            "text/plain": [
              "DataFrame[primaryTitle: string, tconst: string, titleType: string, originalTitle: string, isAdult: string, startYear: string, endYear: string, runtimeMinutes: string, genres: string, genre: string, averageRating: string, numVotes: string, directorPrimaryName: string, writerPrimaryName: string, actors: array<string>, actor1: string, actor2: string, actor3: string, actor4: string, overview: string]"
            ]
          },
          "metadata": {},
          "execution_count": 51
        }
      ],
      "source": [
        "title_basics_and_title_crew_and_title_ratings_actor_df"
      ]
    },
    {
      "cell_type": "code",
      "execution_count": 52,
      "metadata": {
        "colab": {
          "base_uri": "https://localhost:8080/"
        },
        "id": "AWoEkJ42Zd4F",
        "outputId": "61f11e7b-5b2b-4149-d6a7-2ea02228a86d"
      },
      "outputs": [
        {
          "output_type": "execute_result",
          "data": {
            "text/plain": [
              "['title',\n",
              " 'year',\n",
              " 'runtime',\n",
              " 'genre',\n",
              " 'rating',\n",
              " 'director',\n",
              " 'writer',\n",
              " 'actor1',\n",
              " 'actor2',\n",
              " 'actor3',\n",
              " 'actor4',\n",
              " 'description']"
            ]
          },
          "metadata": {},
          "execution_count": 52
        }
      ],
      "source": [
        "final_df.columns"
      ]
    },
    {
      "cell_type": "code",
      "source": [
        "final_df.show()"
      ],
      "metadata": {
        "colab": {
          "base_uri": "https://localhost:8080/"
        },
        "id": "y2fEJsk6f9Mg",
        "outputId": "b7ff10b5-e614-4a11-9226-de701f8280c8"
      },
      "execution_count": 53,
      "outputs": [
        {
          "output_type": "stream",
          "name": "stdout",
          "text": [
            "+--------------------+----+-------+--------+------+--------------------+--------------------+--------------------+--------------------+------------------+--------------------+--------------------+\n",
            "|               title|year|runtime|   genre|rating|            director|              writer|              actor1|              actor2|            actor3|              actor4|         description|\n",
            "+--------------------+----+-------+--------+------+--------------------+--------------------+--------------------+--------------------+------------------+--------------------+--------------------+\n",
            "|                Pepe|2024|    122|   Drama|   5.9|Nelson Carlo de L...|Nelson Carlo de L...|      Fareed Matjila|        Jhon Narváez|    Sor María Ríos| Shifafure Faustinus|\"Mario \"\"Cantinfl...|\n",
            "|Il sesso degli an...|2022|     91|  Comedy|   4.9|Leonardo Pieraccioni|     Filippo Bologna|    Vincenzo Salemme|  Massimo Ceccherini|  Lorenzo Ferrante|      Marcello Fonte|\"Here's an intere...|\n",
            "|               Blaze|2022|    101|   Drama|   6.0|  Del Kathryn Barton|        Huna Amweero|         John Waters|       Morgan Davies|          Remy Hii|         Simon Baker|This movie tells ...|\n",
            "|           Malicious|2023|     91|Thriller|   5.5|         John Fallon|         John Fallon|        Danilo Rocha|        Nick Baillie|       John Fallon|   Kevin Interdonato|A mystery woman t...|\n",
            "|            The Deal|2022|     80|   Drama|   4.4|        Koko Stambuk|         Frank Ariza|      Moises Gontran|         Manuel Vega|       Manuel Vega|     Christian Meier|It is approaching...|\n",
            "|            The Deal|2022|     80|   Drama|   4.4|        Koko Stambuk|         Frank Ariza|      Moises Gontran|         Manuel Vega|       Manuel Vega|     Christian Meier|A political thril...|\n",
            "|               Beast|2022|     93|  Action|   5.6|   Baltasar Kormákur|Jaime Primak Sull...|       Chris Gxalaba|          Idris Elba|    Liyabuya Gongo|   Mduduzi Mavimbela|Bruno loves his w...|\n",
            "|         Night Shift|2023|     82|  Horror|   5.3|      Benjamin China|      Benjamin China|            Tom Dang|Dennis William Gr...|     David Carrera|        Connor Price|\"A nebbish of a m...|\n",
            "|              Burden|2022|     95|   Drama|   5.7|        Ethan Hickey|        Ethan Hickey|         Kevin Bundy|       Eric Fleising|      Nicholas Fry|       Bobby Daniels|A probing portrai...|\n",
            "|            Delirium|2023|     89|  Horror|   6.2|     Arró Stefánsson|     Arró Stefánsson|Hjörtur Jóhann Jó...|Gudmundur Thorval...|Jóhann Sigurðarson|Steinþór Hróar St...|Set in a world wh...|\n",
            "|                 Tom|2022|     87|   Drama|   6.1|   Fabienne Berthaud|   Fabienne Berthaud|          Samir Arab|      Félix Maritaud|      Blaise Ludik|       Mathieu Morel|A white ex-GI goe...|\n",
            "|              Inside|2023|    105|   Drama|   5.5|   Vasilis Katsoupis|         Ben Hopkins|       Vincent Eaton|       Gene Bervoets|       Youl Samare|   Andrew Blumenthal|A mentally ill pa...|\n",
            "|              Inside|2023|    105|   Drama|   5.5|   Vasilis Katsoupis|         Ben Hopkins|       Vincent Eaton|       Gene Bervoets|       Youl Samare|   Andrew Blumenthal|An emotional and ...|\n",
            "|             Sublime|2022|    100|   Drama|   6.4|      Mariano Biasin|      Mariano Biasin|       Joaquín Arana|Teo Inama Chiabrando|     Javier Drolas|       Martín Miller|Admitted to Mt. A...|\n",
            "|             Rascals|2022|    105|  Action|   6.4|Jimmy Laporal-Trésor|  Sébastien Birchler|   Emerick Mamilonne|        Taddeo Kufus|   Missoum Slimani|          Mark Grosy|Rascals movie is ...|\n",
            "|              Hostel|2022|    134|  Comedy|   4.1|Sumanth Radhakris...|Sumanth Radhakris...|Korukkupettai Cha...|        Mint Bhaskar| Pallavaram Aravin|          Rana Edwin|Three backpackers...|\n",
            "|                 Maa|2022|    137|   Drama|   7.0|    Baljit Singh Deo|         Rana Ranbir|         Movie Crown|      Aashish Duggal|     Raghveer Boli|          Babbal Rai|The bliss of a bi...|\n",
            "|    The Great Escape|2023|     \\N|  Action|   8.7|        Sandeep J.L.|      Yadhu Krishnan|         Babu Antony|          Simon Kook|      Sandeep J.L.|     Evgeniya Antony|The Nazis, exaspe...|\n",
            "|                Taxi|2023|    124|  Action|   6.7|        Harish Sajja|        Harish Sajja|      Vasanth Sameer|   Praveen Yandamuri|    Saddam Hussain| Surinder Singh Bedi|A mouthy and feis...|\n",
            "|                Taxi|2023|    124|  Action|   6.7|        Harish Sajja|        Harish Sajja|      Vasanth Sameer|   Praveen Yandamuri|    Saddam Hussain| Surinder Singh Bedi|In Marseilles (Fr...|\n",
            "+--------------------+----+-------+--------+------+--------------------+--------------------+--------------------+--------------------+------------------+--------------------+--------------------+\n",
            "only showing top 20 rows\n",
            "\n"
          ]
        }
      ]
    },
    {
      "cell_type": "code",
      "execution_count": 54,
      "metadata": {
        "id": "8S9bDPw4Zd4F"
      },
      "outputs": [],
      "source": [
        "# final_df_sample = final_df.sample(fraction=0.1, seed=42)  # Sample 10% of the data\n",
        "# final_df_sample.show(2)"
      ]
    },
    {
      "cell_type": "code",
      "execution_count": 55,
      "metadata": {
        "id": "tQ5d95JvZd4F"
      },
      "outputs": [],
      "source": [
        "final_df.write.option(\"header\", \"true\").csv(\"final_dataset.csv\")"
      ]
    }
  ],
  "metadata": {
    "colab": {
      "collapsed_sections": [
        "9D0DmZBMtv-_"
      ],
      "provenance": []
    },
    "kernelspec": {
      "display_name": "Python 3 (ipykernel)",
      "language": "python",
      "name": "python3"
    },
    "language_info": {
      "codemirror_mode": {
        "name": "ipython",
        "version": 3
      },
      "file_extension": ".py",
      "mimetype": "text/x-python",
      "name": "python",
      "nbconvert_exporter": "python",
      "pygments_lexer": "ipython3",
      "version": "3.11.1"
    }
  },
  "nbformat": 4,
  "nbformat_minor": 0
}