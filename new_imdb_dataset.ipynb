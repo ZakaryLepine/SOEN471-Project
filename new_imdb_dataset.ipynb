{
 "cells": [
  {
   "cell_type": "code",
   "execution_count": 53,
   "id": "f6bb6c86-9c37-48e2-8f88-625e8e49aa69",
   "metadata": {},
   "outputs": [],
   "source": [
    "import os.path as path\n",
    "from pyspark.sql import SparkSession\n",
    "from pyspark.sql import column\n",
    "from pyspark.sql.functions import *\n",
    "import matplotlib.pyplot as plt\n",
    "\n",
    "from functools import reduce"
   ]
  },
  {
   "cell_type": "code",
   "execution_count": 54,
   "id": "2077578f-4439-47fe-876b-e1e18b0f0af0",
   "metadata": {},
   "outputs": [],
   "source": [
    "def init_spark():\n",
    "  return SparkSession \\\n",
    "        .builder \\\n",
    "        .appName(\"Spark\") \\\n",
    "        .config(\"spark.executor.memory\", \"8g\") \\\n",
    "        .config(\"spark.driver.memory\", \"8g\") \\\n",
    "        .getOrCreate()\n",
    "\n",
    "spark = init_spark()\n"
   ]
  },
  {
   "cell_type": "code",
   "execution_count": 55,
   "id": "96784e88-384c-491b-9787-5d7a3ce00c74",
   "metadata": {},
   "outputs": [],
   "source": [
    "# df = spark.read.option(\"delimiter\", \"\\t\").option(\"header\", True).csv(\"archive_imdb/action.csv\")\n",
    "\n",
    "genres_to_keep = [\"action\", \"adventure\", \"horror\", \"crime\", \"romance\"]\n"
   ]
  },
  {
   "cell_type": "code",
   "execution_count": 56,
   "id": "ea01dab9-3166-4a50-98f7-c8d231a35b4c",
   "metadata": {},
   "outputs": [],
   "source": [
    "dfs=[]\n",
    "  # distFile=spark.sparkContext.textFile(filename).map(parse_csv)\n",
    "for gen in genres_to_keep:\n",
    "    # final_df_read_act = spark.sparkContext.textFile(\"archive_imdb/\"+gen+\".csv\").map(parse_csv).withColumn(\"genre\",lit(gen))\n",
    "    final_df_read_act=spark.read.option(\"header\", \"true\").option(\"multiline\", \"true\").csv(\"archive_imdb/\"+gen+\".csv\").withColumn(\"genre\",lit(gen)).limit(10000)\n",
    "    dfs.append(final_df_read_act)\n",
    "\n",
    "def unionAll(dfs):\n",
    "    return reduce(DataFrame.unionAll, dfs)\n",
    "\n",
    "# Merge DataFrames\n",
    "merged_df = unionAll(dfs)\n"
   ]
  },
  {
   "cell_type": "code",
   "execution_count": 57,
   "id": "762eff16-5ac4-474c-8d50-ee251ab1ab2b",
   "metadata": {},
   "outputs": [
    {
     "data": {
      "text/plain": [
       "Row(movie_id='tt9114286', movie_name='Black Panther: Wakanda Forever', year='2022', certificate='PG-13', runtime='161 min', genre='action', rating='6.9', description=\"The people of Wakanda fight to protect their home from intervening world powers as they mourn the death of King T'Challa.\", director='Ryan Coogler', director_id='/name/nm3363032/', star=\"Letitia Wright, \\nLupita Nyong'o, \\nDanai Gurira, \\nWinston Duke\", star_id='/name/nm4004793/,/name/nm2143282/,/name/nm1775091/,/name/nm6328300/', votes='204835.0', gross(in $)=None)"
      ]
     },
     "execution_count": 57,
     "metadata": {},
     "output_type": "execute_result"
    }
   ],
   "source": [
    "merged_df.head()\n"
   ]
  },
  {
   "cell_type": "code",
   "execution_count": 58,
   "id": "38cd8b40-5e7f-4ef0-aac5-b63a45439eb6",
   "metadata": {},
   "outputs": [],
   "source": [
    "merged_df.count()\n",
    "df=merged_df"
   ]
  },
  {
   "cell_type": "code",
   "execution_count": 59,
   "id": "a33eb1d6-2f63-490b-9a0f-b1993ffe9ca2",
   "metadata": {},
   "outputs": [],
   "source": [
    "df=df.drop(\"year\",\"certificate\",\"runtime\",\"rating\",\"votes\",\"gross(in $)\",\"star_id\",\"director_id\")"
   ]
  },
  {
   "cell_type": "code",
   "execution_count": 60,
   "id": "c81a6ff0-d63f-48c3-87f5-65834dc7015d",
   "metadata": {},
   "outputs": [
    {
     "data": {
      "text/plain": [
       "['movie_id', 'movie_name', 'genre', 'description', 'director', 'star']"
      ]
     },
     "execution_count": 60,
     "metadata": {},
     "output_type": "execute_result"
    }
   ],
   "source": [
    "df.columns"
   ]
  },
  {
   "cell_type": "code",
   "execution_count": 61,
   "id": "12431540-0f5b-46e3-ae02-b209837c4156",
   "metadata": {},
   "outputs": [],
   "source": [
    "def show_null_values_distribution(df):\n",
    "    null_value_list = list()\n",
    "    for col_ in df.columns:\n",
    "        null_value_list.append(df.filter(df[col_]==\"\\\\N\").count())                     \n",
    "    plt.rcParams[\"figure.figsize\"] = (10,6)\n",
    "    columns = [col_ for col_ in df.columns]\n",
    "    \n",
    "    plt.figure(figsize=(10, 6))\n",
    "    plt.bar(columns, null_value_list, color='skyblue')\n",
    "    plt.xlabel('Columns')\n",
    "    plt.ylabel('Number of Null Values')\n",
    "    plt.ylim(0, df.count())\n",
    "    plt.title('Distribution of Null Values in Columns')\n",
    "    plt.xticks(rotation=45, ha='right')\n",
    "    plt.tight_layout()\n",
    "    plt.show()"
   ]
  },
  {
   "cell_type": "code",
   "execution_count": null,
   "id": "98f2a7f3-2c18-40c5-b554-41becc351144",
   "metadata": {},
   "outputs": [],
   "source": []
  },
  {
   "cell_type": "code",
   "execution_count": null,
   "id": "cff917a3-19eb-4c4c-aee2-86e67717ebd4",
   "metadata": {},
   "outputs": [],
   "source": []
  },
  {
   "cell_type": "code",
   "execution_count": 62,
   "id": "a3752a19-c153-4f2d-a7de-7dc0f771149e",
   "metadata": {},
   "outputs": [],
   "source": [
    "def drop_duplicates(df):\n",
    "    print(df.count())\n",
    "    train_df=df.dropDuplicates()\n",
    "    print(df.count())"
   ]
  },
  {
   "cell_type": "code",
   "execution_count": 63,
   "id": "e5623f9a-1208-47b9-ab63-6ad51f953fd7",
   "metadata": {},
   "outputs": [],
   "source": [
    "\n",
    "df = df.withColumn(\"actors\", split(df[\"star\"], \", \\n\"))\n",
    "\n",
    "df = df.withColumn(\"actor1\", df.actors[0])\n",
    "df = df.withColumn(\"actor2\", df.actors[1])\n",
    "df = df.withColumn(\"actor3\", df.actors[2])\n",
    "df=df.drop(\"actors\",\"star\")\n",
    "\n",
    " \n"
   ]
  },
  {
   "cell_type": "code",
   "execution_count": 64,
   "id": "bcbfcd7c-a76d-49ee-9e10-617c7c7387fa",
   "metadata": {},
   "outputs": [
    {
     "data": {
      "text/plain": [
       "Row(movie_id='tt9114286', movie_name='Black Panther: Wakanda Forever', genre='action', description=\"The people of Wakanda fight to protect their home from intervening world powers as they mourn the death of King T'Challa.\", director='Ryan Coogler', actor1='Letitia Wright', actor2=\"Lupita Nyong'o\", actor3='Danai Gurira')"
      ]
     },
     "execution_count": 64,
     "metadata": {},
     "output_type": "execute_result"
    }
   ],
   "source": [
    "df.head()"
   ]
  },
  {
   "cell_type": "code",
   "execution_count": 65,
   "id": "460d64e6-0800-48de-9ea8-0917913e0a49",
   "metadata": {},
   "outputs": [
    {
     "data": {
      "image/png": "[encoded data removed]",
      "text/plain": [
       "<Figure size 1000x600 with 1 Axes>"
      ]
     },
     "metadata": {},
     "output_type": "display_data"
    }
   ],
   "source": [
    "show_null_values_distribution(df)"
   ]
  },
  {
   "cell_type": "code",
   "execution_count": null,
   "id": "49aa1479-f017-4d51-9fbb-ecf8132eb0f3",
   "metadata": {},
   "outputs": [],
   "source": []
  },
  {
   "cell_type": "code",
   "execution_count": 66,
   "id": "66b3cd4c-7194-4dd5-afa4-c5c4599d92e5",
   "metadata": {},
   "outputs": [
    {
     "name": "stdout",
     "output_type": "stream",
     "text": [
      "50000\n",
      "50000\n"
     ]
    }
   ],
   "source": [
    "drop_duplicates(df)"
   ]
  },
  {
   "cell_type": "code",
   "execution_count": 67,
   "id": "c9e0388d-2b72-4bf9-ac21-6393011338b2",
   "metadata": {},
   "outputs": [],
   "source": [
    "def print_class_distribution(df):\n",
    "    # Group the DataFrame by the \"genre\" column and count the occurrences of each genre\n",
    "    genre_counts = df.groupBy(\"genre\").count()\n",
    "    \n",
    "    # Show the genre counts\n",
    "    genre_counts.show()"
   ]
  },
  {
   "cell_type": "code",
   "execution_count": 68,
   "id": "c45ce676-42e9-4976-a8a0-dafe9c2e92ea",
   "metadata": {},
   "outputs": [],
   "source": [
    "# df=df"
   ]
  },
  {
   "cell_type": "code",
   "execution_count": 69,
   "id": "97227a8b-e5ef-449b-88ff-fd6c28a0c65c",
   "metadata": {},
   "outputs": [
    {
     "name": "stdout",
     "output_type": "stream",
     "text": [
      "+---------+-----+\n",
      "|    genre|count|\n",
      "+---------+-----+\n",
      "|   action|10000|\n",
      "|adventure|10000|\n",
      "|   horror|10000|\n",
      "|    crime|10000|\n",
      "|  romance|10000|\n",
      "+---------+-----+\n",
      "\n"
     ]
    }
   ],
   "source": [
    "print_class_distribution(df)"
   ]
  },
  {
   "cell_type": "code",
   "execution_count": 70,
   "id": "343a263a-2b4b-43f1-9de2-b4b5576f2d92",
   "metadata": {},
   "outputs": [
    {
     "data": {
      "text/plain": [
       "DataFrame[movie_id: string, movie_name: string, genre: string, description: string, director: string, actor1: string, actor2: string, actor3: string]"
      ]
     },
     "execution_count": 70,
     "metadata": {},
     "output_type": "execute_result"
    }
   ],
   "source": [
    "df"
   ]
  },
  {
   "cell_type": "code",
   "execution_count": 71,
   "id": "93b3298c-c4e3-4a7e-9f62-fe90c33e5b70",
   "metadata": {},
   "outputs": [],
   "source": [
    "# df=df.drop(\"year\",\"certificate\",\"runtime\",\"rating\",\"gross(in $)\")"
   ]
  },
  {
   "cell_type": "code",
   "execution_count": 72,
   "id": "0e859784-e7a0-485d-b93e-fa6caaba75dd",
   "metadata": {},
   "outputs": [
    {
     "data": {
      "text/plain": [
       "['movie_id',\n",
       " 'movie_name',\n",
       " 'genre',\n",
       " 'description',\n",
       " 'director',\n",
       " 'actor1',\n",
       " 'actor2',\n",
       " 'actor3']"
      ]
     },
     "execution_count": 72,
     "metadata": {},
     "output_type": "execute_result"
    }
   ],
   "source": [
    "df.columns"
   ]
  },
  {
   "cell_type": "code",
   "execution_count": 73,
   "id": "69caf043-9182-4b20-aa08-51ef8b16c805",
   "metadata": {},
   "outputs": [],
   "source": [
    "df.write.option(\"header\", \"true\").csv(\"final_dataset_all_imdb.csv\")"
   ]
  },
  {
   "cell_type": "code",
   "execution_count": null,
   "id": "b97b1e7b-e9c4-425a-8282-cde82acd79d3",
   "metadata": {},
   "outputs": [],
   "source": []
  }
 ],
 "metadata": {
  "kernelspec": {
   "display_name": "Python 3 (ipykernel)",
   "language": "python",
   "name": "python3"
  },
  "language_info": {
   "codemirror_mode": {
    "name": "ipython",
    "version": 3
   },
   "file_extension": ".py",
   "mimetype": "text/x-python",
   "name": "python",
   "nbconvert_exporter": "python",
   "pygments_lexer": "ipython3",
   "version": "3.10.12"
  }
 },
 "nbformat": 4,
 "nbformat_minor": 5
}
