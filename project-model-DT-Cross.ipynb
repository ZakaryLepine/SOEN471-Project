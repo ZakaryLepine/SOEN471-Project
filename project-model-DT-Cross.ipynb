{
 "cells": [
  {
   "cell_type": "code",
   "execution_count": 1,
   "id": "5c8e3b1c817d6a84",
   "metadata": {
    "ExecuteTime": {
     "end_time": "2024-03-28T20:40:30.775319Z",
     "start_time": "2024-03-28T20:39:54.151190Z"
    },
    "collapsed": false,
    "jupyter": {
     "outputs_hidden": false
    }
   },
   "outputs": [
    {
     "name": "stdout",
     "output_type": "stream",
     "text": [
      "Defaulting to user installation because normal site-packages is not writeable\n",
      "Requirement already satisfied: seaborn in /home/umang/.local/lib/python3.10/site-packages (0.13.0)\n",
      "Requirement already satisfied: pandas>=1.2 in /home/umang/.local/lib/python3.10/site-packages (from seaborn) (2.1.2)\n",
      "Requirement already satisfied: numpy!=1.24.0,>=1.20 in /usr/local/lib/python3.10/dist-packages (from seaborn) (1.26.1)\n",
      "Requirement already satisfied: matplotlib!=3.6.1,>=3.3 in /usr/local/lib/python3.10/dist-packages (from seaborn) (3.8.1)\n",
      "Requirement already satisfied: pyparsing>=2.3.1 in /usr/lib/python3/dist-packages (from matplotlib!=3.6.1,>=3.3->seaborn) (2.4.7)\n",
      "Requirement already satisfied: cycler>=0.10 in /usr/local/lib/python3.10/dist-packages (from matplotlib!=3.6.1,>=3.3->seaborn) (0.12.1)\n",
      "Requirement already satisfied: packaging>=20.0 in /usr/local/lib/python3.10/dist-packages (from matplotlib!=3.6.1,>=3.3->seaborn) (23.2)\n",
      "Requirement already satisfied: python-dateutil>=2.7 in /usr/local/lib/python3.10/dist-packages (from matplotlib!=3.6.1,>=3.3->seaborn) (2.8.2)\n",
      "Requirement already satisfied: fonttools>=4.22.0 in /usr/local/lib/python3.10/dist-packages (from matplotlib!=3.6.1,>=3.3->seaborn) (4.44.0)\n",
      "Requirement already satisfied: contourpy>=1.0.1 in /usr/local/lib/python3.10/dist-packages (from matplotlib!=3.6.1,>=3.3->seaborn) (1.2.0)\n",
      "Requirement already satisfied: pillow>=8 in /usr/local/lib/python3.10/dist-packages (from matplotlib!=3.6.1,>=3.3->seaborn) (10.0.1)\n",
      "Requirement already satisfied: kiwisolver>=1.3.1 in /usr/local/lib/python3.10/dist-packages (from matplotlib!=3.6.1,>=3.3->seaborn) (1.4.5)\n",
      "Requirement already satisfied: pytz>=2020.1 in /home/umang/.local/lib/python3.10/site-packages (from pandas>=1.2->seaborn) (2023.3.post1)\n",
      "Requirement already satisfied: tzdata>=2022.1 in /home/umang/.local/lib/python3.10/site-packages (from pandas>=1.2->seaborn) (2023.3)\n",
      "Requirement already satisfied: six>=1.5 in /usr/lib/python3/dist-packages (from python-dateutil>=2.7->matplotlib!=3.6.1,>=3.3->seaborn) (1.16.0)\n",
      "Defaulting to user installation because normal site-packages is not writeable\n",
      "Requirement already satisfied: nltk in /home/umang/.local/lib/python3.10/site-packages (3.8.1)\n",
      "Requirement already satisfied: regex>=2021.8.3 in /home/umang/.local/lib/python3.10/site-packages (from nltk) (2023.12.25)\n",
      "Requirement already satisfied: tqdm in /home/umang/.local/lib/python3.10/site-packages (from nltk) (4.66.2)\n",
      "Requirement already satisfied: click in /home/umang/.local/lib/python3.10/site-packages (from nltk) (8.1.7)\n",
      "Requirement already satisfied: joblib in /home/umang/.local/lib/python3.10/site-packages (from nltk) (1.3.2)\n",
      "Defaulting to user installation because normal site-packages is not writeable\n",
      "Requirement already satisfied: wordcloud in /home/umang/.local/lib/python3.10/site-packages (1.9.3)\n",
      "Requirement already satisfied: numpy>=1.6.1 in /usr/local/lib/python3.10/dist-packages (from wordcloud) (1.26.1)\n",
      "Requirement already satisfied: matplotlib in /usr/local/lib/python3.10/dist-packages (from wordcloud) (3.8.1)\n",
      "Requirement already satisfied: pillow in /usr/local/lib/python3.10/dist-packages (from wordcloud) (10.0.1)\n",
      "Requirement already satisfied: cycler>=0.10 in /usr/local/lib/python3.10/dist-packages (from matplotlib->wordcloud) (0.12.1)\n",
      "Requirement already satisfied: packaging>=20.0 in /usr/local/lib/python3.10/dist-packages (from matplotlib->wordcloud) (23.2)\n",
      "Requirement already satisfied: kiwisolver>=1.3.1 in /usr/local/lib/python3.10/dist-packages (from matplotlib->wordcloud) (1.4.5)\n",
      "Requirement already satisfied: python-dateutil>=2.7 in /usr/local/lib/python3.10/dist-packages (from matplotlib->wordcloud) (2.8.2)\n",
      "Requirement already satisfied: fonttools>=4.22.0 in /usr/local/lib/python3.10/dist-packages (from matplotlib->wordcloud) (4.44.0)\n",
      "Requirement already satisfied: pyparsing>=2.3.1 in /usr/lib/python3/dist-packages (from matplotlib->wordcloud) (2.4.7)\n",
      "Requirement already satisfied: contourpy>=1.0.1 in /usr/local/lib/python3.10/dist-packages (from matplotlib->wordcloud) (1.2.0)\n",
      "Requirement already satisfied: six>=1.5 in /usr/lib/python3/dist-packages (from python-dateutil>=2.7->matplotlib->wordcloud) (1.16.0)\n"
     ]
    }
   ],
   "source": [
    "!pip install seaborn\n",
    "!pip install nltk\n",
    "!pip install wordcloud"
   ]
  },
  {
   "cell_type": "code",
   "execution_count": 2,
   "id": "initial_id",
   "metadata": {
    "ExecuteTime": {
     "end_time": "2024-03-28T20:40:44.329018Z",
     "start_time": "2024-03-28T20:40:30.783515Z"
    }
   },
   "outputs": [],
   "source": [
    "import pandas as pd\n",
    "import numpy as np\n",
    "import matplotlib.pyplot as plt\n",
    "import seaborn as sns\n",
    "import re\n",
    "from nltk.tokenize import word_tokenize\n",
    "from nltk.stem import WordNetLemmatizer\n",
    "from nltk.corpus import stopwords\n",
    "from wordcloud import WordCloud"
   ]
  },
  {
   "cell_type": "code",
   "execution_count": 3,
   "id": "58be404e-eb80-479b-8ee5-633a73fea693",
   "metadata": {},
   "outputs": [],
   "source": [
    "import os.path as path\n",
    "from pyspark.sql import SparkSession\n",
    "from pyspark.sql import column\n",
    "from pyspark.sql.functions import *\n",
    "import matplotlib.pyplot as plt\n",
    "from pyspark.ml.feature import StringIndexer, VectorAssembler,OneHotEncoder\n",
    "from pyspark.ml import Pipeline\n",
    "from pyspark.mllib.util import MLUtils\n",
    "from pyspark.mllib.evaluation import MulticlassMetrics\n",
    "from pyspark.ml.evaluation import MulticlassClassificationEvaluator\n",
    "from pyspark.ml.classification import DecisionTreeClassifier\n",
    "from pyspark.ml.tuning import ParamGridBuilder, CrossValidator"
   ]
  },
  {
   "cell_type": "code",
   "execution_count": 4,
   "id": "80e95008-2ae6-40c8-bc78-cc92118eb66d",
   "metadata": {},
   "outputs": [
    {
     "name": "stderr",
     "output_type": "stream",
     "text": [
      "24/04/03 18:34:43 WARN Utils: Your hostname, DESKTOP-968IKC4 resolves to a loopback address: 127.0.1.1; using 172.31.102.226 instead (on interface eth0)\n",
      "24/04/03 18:34:43 WARN Utils: Set SPARK_LOCAL_IP if you need to bind to another address\n",
      "WARNING: An illegal reflective access operation has occurred\n",
      "WARNING: Illegal reflective access by org.apache.spark.unsafe.Platform (file:/home/umang/.local/lib/python3.10/site-packages/pyspark/jars/spark-unsafe_2.12-3.2.2.jar) to constructor java.nio.DirectByteBuffer(long,int)\n",
      "WARNING: Please consider reporting this to the maintainers of org.apache.spark.unsafe.Platform\n",
      "WARNING: Use --illegal-access=warn to enable warnings of further illegal reflective access operations\n",
      "WARNING: All illegal access operations will be denied in a future release\n",
      "Using Spark's default log4j profile: org/apache/spark/log4j-defaults.properties\n",
      "Setting default log level to \"WARN\".\n",
      "To adjust logging level use sc.setLogLevel(newLevel). For SparkR, use setLogLevel(newLevel).\n",
      "24/04/03 18:34:44 WARN NativeCodeLoader: Unable to load native-hadoop library for your platform... using builtin-java classes where applicable\n",
      "24/04/03 18:34:45 WARN Utils: Service 'SparkUI' could not bind on port 4040. Attempting port 4041.\n",
      "24/04/03 18:34:45 WARN Utils: Service 'SparkUI' could not bind on port 4041. Attempting port 4042.\n"
     ]
    }
   ],
   "source": [
    "def init_spark():\n",
    "  return SparkSession \\\n",
    "        .builder \\\n",
    "        .appName(\"Big data project\") \\\n",
    "        .config(\"spark.executor.memory\", \"16g\") \\\n",
    "        .config(\"spark.driver.memory\", \"16g\") \\\n",
    "        .getOrCreate()\n",
    "\n",
    "spark = init_spark()"
   ]
  },
  {
   "cell_type": "code",
   "execution_count": 5,
   "id": "19654b49-0406-435c-8ca1-0b30c6ab91bb",
   "metadata": {},
   "outputs": [],
   "source": [
    "def get_data_dataframe(dir=\"final_dataset.csv\"):\n",
    "    # Specify the directory where the CSV files are saved\n",
    "    csv_directory = dir\n",
    "    \n",
    "    # Read the CSV files back into a DataFrame\n",
    "    final_df_read = spark.read.option(\"header\", \"true\").option(\"multiline\", \"true\").csv(csv_directory)\n",
    "    \n",
    "    # Add a random column to shuffle data randomly\n",
    "    shuffled_df = final_df_read.withColumn(\"rand\", rand())\n",
    "    shuffled_df = shuffled_df.orderBy(\"rand\")\n",
    "    final_df_read = shuffled_df.drop(\"rand\")\n",
    "    return final_df_read\n",
    "\n"
   ]
  },
  {
   "cell_type": "code",
   "execution_count": 6,
   "id": "bfc7f32c-2b4e-463e-af66-2d6e3fa7972b",
   "metadata": {},
   "outputs": [],
   "source": [
    "df=get_data_dataframe(\"final_dataset_all_imdb.csv\").limit(20000)\n"
   ]
  },
  {
   "cell_type": "code",
   "execution_count": 7,
   "id": "92d518e7-324e-4739-aa7b-9c117590c377",
   "metadata": {},
   "outputs": [
    {
     "data": {
      "text/plain": [
       "['movie_id',\n",
       " 'movie_name',\n",
       " 'genre',\n",
       " 'description',\n",
       " 'director',\n",
       " 'actor1',\n",
       " 'actor2',\n",
       " 'actor3']"
      ]
     },
     "execution_count": 7,
     "metadata": {},
     "output_type": "execute_result"
    }
   ],
   "source": [
    "df.columns"
   ]
  },
  {
   "cell_type": "code",
   "execution_count": 8,
   "id": "96318541-5cdd-4628-a452-32ec642eaf7c",
   "metadata": {},
   "outputs": [
    {
     "data": {
      "text/plain": [
       "[Row(movie_id='tt1464539', movie_name='House of Last Things', genre='horror', description='A mind-bending thriller set in Portland, Oregon about an unspoken tragedy and its effects on a house, its temporary caretakers and the owners, a classical music critic and his wife on a recuperative trip to Italy.', director='Michael Bartlett', actor1='Lindsey Haun', actor2='Blake Berris', actor3='RJ Mitte'),\n",
       " Row(movie_id='tt2926810', movie_name='ABCs of Death 2', genre='horror', description='Another 26-chapter anthology that showcases death in all its vicious wonder and brutal beauty.', director='Rodney Ascher, \\nJulian Barratt, \\nRobert Boocheck, \\nAlejandro Brugués, \\nKristina Buozyte, \\nAlexandre Bustillo, \\nLarry Fessenden, \\nJulian Gilbey, \\nJim Hosking, \\nLancelot Oduwa Imasuen, \\nE.L. Katz, \\nAharon Keshales, \\nSteven Kostanski, \\nMarvin Kren, \\nJuan Martínez Moreno, \\nErik Matti, \\nWolfgang Matzl, \\nJulien Maury, \\nRobert Morgan, \\nChris Nash, \\nVincenzo Natali, \\nHajime Ohata, \\nNavot Papushado, \\nBill Plympton, \\nDennison Ramalho, \\nTodd Rohal, \\nJerome Sable, \\nBruno Samper, \\nJen Soska, \\nSylvia Soska, \\nSôichi Umezawa', actor1='Eric Jacobus', actor2='Andy Nyman', actor3='Simon Barrett')]"
      ]
     },
     "execution_count": 8,
     "metadata": {},
     "output_type": "execute_result"
    }
   ],
   "source": [
    "df.take(2)"
   ]
  },
  {
   "cell_type": "code",
   "execution_count": 9,
   "id": "cbc9754f-d96b-4693-9686-751f8ae24571",
   "metadata": {},
   "outputs": [],
   "source": [
    "# df.drop(\"director\",\"actor2\",\"actor3\")"
   ]
  },
  {
   "cell_type": "code",
   "execution_count": 10,
   "id": "a8c1bf1b-3c52-4f7c-9485-3c39bb138d07",
   "metadata": {},
   "outputs": [
    {
     "name": "stderr",
     "output_type": "stream",
     "text": [
      "[nltk_data] Downloading package punkt to /home/umang/nltk_data...\n",
      "[nltk_data]   Package punkt is already up-to-date!\n",
      "[nltk_data] Downloading package stopwords to /home/umang/nltk_data...\n",
      "[nltk_data]   Package stopwords is already up-to-date!\n",
      "[nltk_data] Downloading package wordnet to /home/umang/nltk_data...\n",
      "[nltk_data]   Package wordnet is already up-to-date!\n"
     ]
    }
   ],
   "source": [
    "import nltk\n",
    "nltk.download('punkt')\n",
    "nltk.download('stopwords')\n",
    "nltk.download('wordnet')\n",
    "\n",
    "stopword = set(stopwords.words('english'))\n",
    "\n",
    "def preprocessing(text):\n",
    "    # Convert text to lowercase\n",
    "    text = text.lower()\n",
    "    \n",
    "    # Remove punctuation using regular expressions\n",
    "    text = re.sub(r'[^\\w\\s]', '', text)\n",
    "    \n",
    "    # Remove specific characters #, @, and $\n",
    "    text = re.sub(r'[#@\\$]', '', text)\n",
    "    \n",
    "    # tokenize and convert to list\n",
    "    tokens = word_tokenize(text)\n",
    "    \n",
    "    ## Lemmatize it \n",
    "    lemmatizer  = WordNetLemmatizer()\n",
    "    \n",
    "    ## lemmatize each token\n",
    "   # text = [lemmatizer.lemmatize(token) for token in tokens]\n",
    "    text = text.split()\n",
    "    \n",
    "    text = [word for word in text if word not in stopword]\n",
    "    \n",
    "    \n",
    "    return \" \".join(text) "
   ]
  },
  {
   "cell_type": "code",
   "execution_count": 11,
   "id": "d3312b75-5150-4bff-917f-f20cf13cbc1e",
   "metadata": {},
   "outputs": [],
   "source": [
    "# pdd=df.toPandas()\n",
    "# # pdd.drop_duplicates(inplace = True)\n",
    "# # pdd.dropna( inplace = True )\n",
    "# pdd.size"
   ]
  },
  {
   "cell_type": "code",
   "execution_count": 12,
   "id": "67e71c1d-ea5e-43e0-ae62-b592c7c5d314",
   "metadata": {},
   "outputs": [],
   "source": [
    "from pyspark.ml.feature import RegexTokenizer, StopWordsRemover, CountVectorizer, IDF, StringIndexer\n",
    "from pyspark.ml.feature import VectorAssembler\n",
    "from pyspark.ml.classification import RandomForestClassifier,RandomForestClassificationModel"
   ]
  },
  {
   "cell_type": "code",
   "execution_count": null,
   "id": "ab36f563-9453-4c4a-80ed-bdceb3f04750",
   "metadata": {},
   "outputs": [],
   "source": []
  },
  {
   "cell_type": "code",
   "execution_count": 13,
   "id": "232f0be3-65ec-4978-a4f6-0fc0b8738442",
   "metadata": {},
   "outputs": [],
   "source": [
    "# df=combined_train_df"
   ]
  },
  {
   "cell_type": "code",
   "execution_count": 14,
   "id": "358a2add-d7c9-4a4c-8b74-e715dc2e2a97",
   "metadata": {},
   "outputs": [],
   "source": [
    "# df\n",
    "# "
   ]
  },
  {
   "cell_type": "code",
   "execution_count": 15,
   "id": "24c1171c-2197-4e1b-8807-e3cf72246aaa",
   "metadata": {},
   "outputs": [],
   "source": [
    "# Remove duplicate rows\n",
    "df = df.dropDuplicates()\n",
    "\n",
    "# Remove rows with null values\n",
    "# df_no_null = df_no_duplicates.dropna()\n"
   ]
  },
  {
   "cell_type": "code",
   "execution_count": 16,
   "id": "40158697-09ab-4cb8-a585-1d36049adb37",
   "metadata": {},
   "outputs": [
    {
     "data": {
      "text/plain": [
       "20000"
      ]
     },
     "execution_count": 16,
     "metadata": {},
     "output_type": "execute_result"
    }
   ],
   "source": [
    "df.count()"
   ]
  },
  {
   "cell_type": "code",
   "execution_count": 17,
   "id": "b97c2339-01f6-400a-9a1e-c12aefa016c6",
   "metadata": {},
   "outputs": [],
   "source": [
    "# df=df_no_duplicates"
   ]
  },
  {
   "cell_type": "code",
   "execution_count": 18,
   "id": "302eb5e8-9b6b-49db-b83c-682eab8786fb",
   "metadata": {},
   "outputs": [],
   "source": [
    "# df = df.select([sum (col(c).isNull().cast(\"int\")).alias(c) for c in df.columns])\n",
    "\n",
    "# # Show the count of null values for each column\n",
    "# df.show()\n"
   ]
  },
  {
   "cell_type": "code",
   "execution_count": 19,
   "id": "b43824c7-7de8-4c77-b2d8-631bf0eb668a",
   "metadata": {},
   "outputs": [],
   "source": [
    "df = df.dropna()"
   ]
  },
  {
   "cell_type": "code",
   "execution_count": 20,
   "id": "78f91e52-916f-4acf-9dc7-177fd0642708",
   "metadata": {},
   "outputs": [
    {
     "name": "stderr",
     "output_type": "stream",
     "text": [
      "                                                                                \r"
     ]
    }
   ],
   "source": [
    "# df = df.select([sum (col(c).isNull().cast(\"int\")).alias(c) for c in df.columns])\n",
    "\n",
    "# # Show the count of null values for each column\n",
    "# df.show()\n",
    "# Tokenization, stop word removal, and TF-IDF transformation for text data\n",
    "director_indexer = StringIndexer(inputCol=\"director\", outputCol=\"director_indexed\")\n",
    "actor1_indexer = StringIndexer(inputCol=\"actor1\", outputCol=\"actor1_indexed\")\n",
    "actor2_indexer = StringIndexer(inputCol=\"actor2\", outputCol=\"actor2_indexed\")\n",
    "actor3_indexer = StringIndexer(inputCol=\"actor3\", outputCol=\"actor3_indexed\")\n",
    "\n",
    "tokenizer = RegexTokenizer(inputCol=\"description\", outputCol=\"words\", pattern=\"\\\\W\")\n",
    "remover = StopWordsRemover(inputCol=\"words\", outputCol=\"filtered_words\")\n",
    "vectorizer = CountVectorizer(inputCol=\"filtered_words\", outputCol=\"raw_features\")\n",
    "idf = IDF(inputCol=\"raw_features\", outputCol=\"description_clean\")\n",
    "\n",
    "# Encoding genre labels\n",
    "genre_indexer = StringIndexer(inputCol=\"genre\", outputCol=\"label\")\n",
    "\n",
    "assembler = VectorAssembler(inputCols=[\"description_clean\"], outputCol=\"features\")\n",
    "\n",
    "\n",
    "pipeline = Pipeline(stages=[director_indexer,actor1_indexer,actor2_indexer,actor3_indexer,tokenizer,remover,vectorizer, idf,genre_indexer,assembler])\n",
    "transformed_df = pipeline.fit(df).transform(df)\n",
    "# Combine the preprocessed text features with the genre labels\n",
    "# combined_train_df = genre_indexer.fit(transformed_train_df).transform(transformed_train_df)\n"
   ]
  },
  {
   "cell_type": "code",
   "execution_count": 21,
   "id": "f6dead36-bbb6-4ae1-b138-6ed713802b1b",
   "metadata": {},
   "outputs": [],
   "source": [
    "df=transformed_df"
   ]
  },
  {
   "cell_type": "code",
   "execution_count": 22,
   "id": "20c2799e-0e3a-4a06-87c3-a8861a234f6c",
   "metadata": {},
   "outputs": [
    {
     "name": "stderr",
     "output_type": "stream",
     "text": [
      "24/04/03 18:34:54 WARN DAGScheduler: Broadcasting large task binary with size 4.4 MiB\n",
      "                                                                                \r"
     ]
    },
    {
     "name": "stdout",
     "output_type": "stream",
     "text": [
      "Training set count: 15325\n"
     ]
    },
    {
     "name": "stderr",
     "output_type": "stream",
     "text": [
      "24/04/03 18:34:55 WARN DAGScheduler: Broadcasting large task binary with size 4.4 MiB\n"
     ]
    },
    {
     "name": "stdout",
     "output_type": "stream",
     "text": [
      "Testing set count: 3760\n"
     ]
    }
   ],
   "source": [
    "# Split the data into training and testing sets\n",
    "train_df, test_df = df.randomSplit([0.8, 0.2], seed=42)\n",
    "\n",
    "# Show the number of rows in each set\n",
    "print(\"Training set count:\", train_df.count())\n",
    "print(\"Testing set count:\", test_df.count())"
   ]
  },
  {
   "cell_type": "code",
   "execution_count": 23,
   "id": "ef336288-2735-41dc-a3ff-03bc5ab579ba",
   "metadata": {},
   "outputs": [
    {
     "name": "stderr",
     "output_type": "stream",
     "text": [
      "24/04/03 18:34:56 WARN DAGScheduler: Broadcasting large task binary with size 4.4 MiB\n",
      "                                                                                \r"
     ]
    },
    {
     "name": "stdout",
     "output_type": "stream",
     "text": [
      "+---------+-----+\n",
      "|    genre|count|\n",
      "+---------+-----+\n",
      "|    crime| 3114|\n",
      "|adventure| 2968|\n",
      "|   action| 3089|\n",
      "|  romance| 3067|\n",
      "|   horror| 3087|\n",
      "+---------+-----+\n",
      "\n"
     ]
    },
    {
     "name": "stderr",
     "output_type": "stream",
     "text": [
      "24/04/03 18:34:57 WARN DAGScheduler: Broadcasting large task binary with size 4.4 MiB\n"
     ]
    },
    {
     "name": "stdout",
     "output_type": "stream",
     "text": [
      "       genre  count\n",
      "0      crime   3114\n",
      "1  adventure   2968\n",
      "2     action   3089\n",
      "3    romance   3067\n",
      "4     horror   3087\n"
     ]
    },
    {
     "data": {
      "image/png": "[encoded data removed]",
      "text/plain": [
       "<Figure size 800x600 with 1 Axes>"
      ]
     },
     "metadata": {},
     "output_type": "display_data"
    },
    {
     "name": "stderr",
     "output_type": "stream",
     "text": [
      "24/04/03 18:34:58 WARN DAGScheduler: Broadcasting large task binary with size 4.4 MiB\n"
     ]
    },
    {
     "name": "stdout",
     "output_type": "stream",
     "text": [
      "+---------+-----+\n",
      "|    genre|count|\n",
      "+---------+-----+\n",
      "|    crime|  759|\n",
      "|   action|  744|\n",
      "|adventure|  754|\n",
      "|  romance|  743|\n",
      "|   horror|  760|\n",
      "+---------+-----+\n",
      "\n"
     ]
    },
    {
     "name": "stderr",
     "output_type": "stream",
     "text": [
      "24/04/03 18:34:58 WARN DAGScheduler: Broadcasting large task binary with size 4.4 MiB\n"
     ]
    },
    {
     "name": "stdout",
     "output_type": "stream",
     "text": [
      "       genre  count\n",
      "0      crime    759\n",
      "1     action    744\n",
      "2  adventure    754\n",
      "3    romance    743\n",
      "4     horror    760\n"
     ]
    },
    {
     "data": {
      "image/png": "[encoded data removed]",
      "text/plain": [
       "<Figure size 800x600 with 1 Axes>"
      ]
     },
     "metadata": {},
     "output_type": "display_data"
    }
   ],
   "source": [
    "def print_class_distribution(df):\n",
    "    # Group the DataFrame by the \"genre\" column and count the occurrences of each genre\n",
    "    genre_counts = df.groupBy(\"genre\").count()\n",
    "    # Show the genre counts\n",
    "    genre_counts.show()\n",
    "    class_counts = genre_counts.toPandas()\n",
    "    print(class_counts)\n",
    "    plt.figure(figsize=(8, 6))\n",
    "    sns.barplot(x=\"genre\", y=\"count\", data=class_counts)\n",
    "    plt.title(\"Class Distribution\")\n",
    "    plt.xlabel(\"Class\")\n",
    "    plt.ylabel(\"Count\")\n",
    "    plt.show()\n",
    "    \n",
    "\n",
    "# def show_class_frequency_distribution(df):\n",
    "#        # Plot class distribution\n",
    "#     plt.figure(figsize=(8, 6))\n",
    "#     sns.barplot(x=\"class\", y=\"count\", data=class_counts)\n",
    "#     plt.title(\"Class Distribution\")\n",
    "#     plt.xlabel(\"Class\")\n",
    "#     plt.ylabel(\"Count\")\n",
    "#     plt.show()\n",
    "#     plt.savefig(plots_dir + '/class_distribution.jpeg', dpi=300, bbox_inches='tight')\n",
    "    #plt.show()\n",
    "print_class_distribution(train_df)\n",
    "print_class_distribution(test_df)"
   ]
  },
  {
   "cell_type": "code",
   "execution_count": 24,
   "id": "4ea2740a-8119-4bc7-abf4-22b7f4d379e4",
   "metadata": {},
   "outputs": [
    {
     "data": {
      "text/plain": [
       "DataFrame[movie_id: string, movie_name: string, genre: string, description: string, director: string, actor1: string, actor2: string, actor3: string, director_indexed: double, actor1_indexed: double, actor2_indexed: double, actor3_indexed: double, words: array<string>, filtered_words: array<string>, raw_features: vector, description_clean: vector, label: double, features: vector]"
      ]
     },
     "execution_count": 24,
     "metadata": {},
     "output_type": "execute_result"
    }
   ],
   "source": [
    "df"
   ]
  },
  {
   "cell_type": "code",
   "execution_count": 25,
   "id": "8eb32f3a-969c-4313-a1a3-ca1d572af4f0",
   "metadata": {},
   "outputs": [],
   "source": [
    "# show_class_frequency_distribution(\"./"
   ]
  },
  {
   "cell_type": "code",
   "execution_count": 26,
   "id": "6d406242-3993-4f3d-90ce-ab7c725de230",
   "metadata": {},
   "outputs": [],
   "source": [
    "def print_and_return_mapping_of_index_to_label(df,predicting='genre'):\n",
    "    # Collect distinct pairs of (label, genre)\n",
    "    label_genre_mapping = df.select(\"label\", predicting).distinct().collect()\n",
    "    map={}\n",
    "    # Print the mapping\n",
    "    for mapping in label_genre_mapping:\n",
    "        print(\"Label %s is mapped to genre '%s'\" % (mapping.label, mapping.genre))\n",
    "        map[mapping.label]= mapping.genre\n",
    "    return map"
   ]
  },
  {
   "cell_type": "code",
   "execution_count": 27,
   "id": "f5f28439-27b8-43b1-8c43-5b995d7909eb",
   "metadata": {},
   "outputs": [
    {
     "name": "stdout",
     "output_type": "stream",
     "text": [
      "Label 1.0 is mapped to genre 'horror'\n",
      "Label 0.0 is mapped to genre 'crime'\n",
      "Label 4.0 is mapped to genre 'adventure'\n",
      "Label 3.0 is mapped to genre 'romance'\n",
      "Label 2.0 is mapped to genre 'action'\n"
     ]
    }
   ],
   "source": [
    "mapping=print_and_return_mapping_of_index_to_label(df)"
   ]
  },
  {
   "cell_type": "code",
   "execution_count": 28,
   "id": "a67e479b-c6d3-4b5e-8dab-ab337d1fd6b6",
   "metadata": {},
   "outputs": [
    {
     "data": {
      "text/plain": [
       "{1.0: 'horror', 0.0: 'crime', 4.0: 'adventure', 3.0: 'romance', 2.0: 'action'}"
      ]
     },
     "execution_count": 28,
     "metadata": {},
     "output_type": "execute_result"
    }
   ],
   "source": [
    "mapping"
   ]
  },
  {
   "cell_type": "code",
   "execution_count": 31,
   "id": "0500c0f4-61da-40a0-bbe1-4a89f0b99182",
   "metadata": {},
   "outputs": [],
   "source": [
    "# Train the model\n",
    "# model = pipeline.fit(train_df)\n",
    "# Define the Random Forest classifier\n",
    "dt_classifier = DecisionTreeClassifier(featuresCol = 'features', labelCol = 'label', maxBins=60000)\n",
    "\n",
    "\n",
    "\n",
    "# Make predictions\n",
    "# predictions = model.transform(test_df)"
   ]
  },
  {
   "cell_type": "code",
   "execution_count": 32,
   "id": "ef3808de-e191-48da-abfc-a0493dff72fe",
   "metadata": {},
   "outputs": [],
   "source": [
    "# # Train the Random Forest classifier\n",
    "# model = dt_classifier.fit(df)"
   ]
  },
  {
   "cell_type": "code",
   "execution_count": 33,
   "id": "3035a813-b0cf-407c-9731-e25fc904c2b8",
   "metadata": {},
   "outputs": [],
   "source": [
    "# rfc_path = \"models/rfc\"\n",
    "\n",
    "# rfc_model_path = \"models/rfc_model\"\n"
   ]
  },
  {
   "cell_type": "code",
   "execution_count": 34,
   "id": "933cf887-fa09-480b-94c3-864b50563520",
   "metadata": {},
   "outputs": [],
   "source": [
    "# rf_classifier.save(rfc_path)\n",
    "# model.save(rfc_model_path)"
   ]
  },
  {
   "cell_type": "code",
   "execution_count": 35,
   "id": "d9c677ab-1c1e-4c81-9cd6-90949430cef4",
   "metadata": {},
   "outputs": [],
   "source": [
    "# model = RandomForestClassificationModel.load(rfc_model_path)"
   ]
  },
  {
   "cell_type": "code",
   "execution_count": 36,
   "id": "95bb5a43-b60a-41ed-95fa-c2930bea8933",
   "metadata": {},
   "outputs": [
    {
     "name": "stderr",
     "output_type": "stream",
     "text": [
      "24/04/03 18:35:28 WARN DAGScheduler: Broadcasting large task binary with size 3.3 MiB\n",
      "24/04/03 18:35:31 WARN DAGScheduler: Broadcasting large task binary with size 3.3 MiB\n",
      "[Stage 50:>                                                         (0 + 1) / 1]\r"
     ]
    }
   ],
   "source": [
    "evaluator = MulticlassClassificationEvaluator(labelCol=\"label\", predictionCol=\"prediction\", metricName=\"accuracy\")"
   ]
  },
  {
   "cell_type": "code",
   "execution_count": 39,
   "id": "30312db9-9732-4a02-96a7-2277ce25655f",
   "metadata": {},
   "outputs": [],
   "source": [
    "# Create ParamGrid for Cross Validation\n",
    "rfparamGrid = (ParamGridBuilder()\n",
    "             .addGrid(dt_classifier.maxDepth, [2, 5, 10])\n",
    "             .addGrid(dt_classifier.maxBins, [30000,40000,35000])\n",
    "             .build())\n",
    "\n",
    "# Create 5-fold CrossValidator\n",
    "rfcv = CrossValidator(estimator = dt_classifier,\n",
    "                      estimatorParamMaps = rfparamGrid,\n",
    "                      evaluator = evaluator,\n",
    "                      numFolds = 5)"
   ]
  },
  {
   "cell_type": "code",
   "execution_count": 41,
   "id": "c77f1552-821b-4623-950c-e96054f1820f",
   "metadata": {},
   "outputs": [
    {
     "name": "stderr",
     "output_type": "stream",
     "text": [
      "24/04/03 18:40:25 WARN CacheManager: Asked to cache already cached data.\n",
      "24/04/03 18:40:25 WARN CacheManager: Asked to cache already cached data.\n",
      "24/04/03 18:40:25 WARN DAGScheduler: Broadcasting large task binary with size 4.5 MiB\n",
      "24/04/03 18:40:25 WARN DAGScheduler: Broadcasting large task binary with size 4.5 MiB\n",
      "24/04/03 18:40:25 WARN DecisionTreeMetadata: DecisionTree reducing maxBins from 30000 to 12284 (= number of training instances)\n",
      "24/04/03 18:40:25 WARN DAGScheduler: Broadcasting large task binary with size 4.7 MiB\n",
      "24/04/03 18:40:30 WARN DAGScheduler: Broadcasting large task binary with size 5.1 MiB\n",
      "24/04/03 18:40:34 WARN DAGScheduler: Broadcasting large task binary with size 5.1 MiB\n",
      "24/04/03 18:40:35 WARN DAGScheduler: Broadcasting large task binary with size 5.1 MiB\n",
      "24/04/03 18:40:36 WARN DAGScheduler: Broadcasting large task binary with size 5.1 MiB\n",
      "24/04/03 18:40:37 WARN DAGScheduler: Broadcasting large task binary with size 5.1 MiB\n",
      "24/04/03 18:40:37 WARN DAGScheduler: Broadcasting large task binary with size 5.1 MiB\n",
      "24/04/03 18:40:38 WARN DAGScheduler: Broadcasting large task binary with size 5.1 MiB\n",
      "24/04/03 18:40:40 WARN DAGScheduler: Broadcasting large task binary with size 5.1 MiB\n",
      "24/04/03 18:40:41 WARN DAGScheduler: Broadcasting large task binary with size 5.1 MiB\n",
      "24/04/03 18:40:42 WARN DAGScheduler: Broadcasting large task binary with size 5.1 MiB\n",
      "24/04/03 18:40:42 WARN DAGScheduler: Broadcasting large task binary with size 4.5 MiB\n",
      "24/04/03 18:40:42 WARN DAGScheduler: Broadcasting large task binary with size 4.5 MiB\n",
      "24/04/03 18:40:42 WARN DAGScheduler: Broadcasting large task binary with size 4.5 MiB\n",
      "24/04/03 18:40:42 WARN DecisionTreeMetadata: DecisionTree reducing maxBins from 40000 to 12284 (= number of training instances)\n",
      "24/04/03 18:40:42 WARN DAGScheduler: Broadcasting large task binary with size 4.7 MiB\n",
      "24/04/03 18:40:43 WARN DAGScheduler: Broadcasting large task binary with size 5.1 MiB\n",
      "24/04/03 18:40:45 WARN DAGScheduler: Broadcasting large task binary with size 5.1 MiB\n",
      "24/04/03 18:40:47 WARN DAGScheduler: Broadcasting large task binary with size 4.5 MiB\n",
      "24/04/03 18:40:53 WARN DAGScheduler: Broadcasting large task binary with size 5.1 MiB\n",
      "24/04/03 18:40:56 WARN DAGScheduler: Broadcasting large task binary with size 5.1 MiB\n",
      "24/04/03 18:40:58 WARN DAGScheduler: Broadcasting large task binary with size 4.5 MiB\n",
      "24/04/03 18:40:58 WARN DAGScheduler: Broadcasting large task binary with size 4.5 MiB\n",
      "24/04/03 18:40:58 WARN DAGScheduler: Broadcasting large task binary with size 4.5 MiB\n",
      "24/04/03 18:40:58 WARN DecisionTreeMetadata: DecisionTree reducing maxBins from 35000 to 12284 (= number of training instances)\n",
      "24/04/03 18:40:58 WARN DAGScheduler: Broadcasting large task binary with size 4.7 MiB\n",
      "24/04/03 18:41:09 WARN DAGScheduler: Broadcasting large task binary with size 5.1 MiB\n",
      "24/04/03 18:41:12 WARN DAGScheduler: Broadcasting large task binary with size 5.1 MiB\n",
      "24/04/03 18:41:14 WARN DAGScheduler: Broadcasting large task binary with size 4.5 MiB\n",
      "24/04/03 18:41:14 WARN DAGScheduler: Broadcasting large task binary with size 4.5 MiB\n",
      "24/04/03 18:41:14 WARN DAGScheduler: Broadcasting large task binary with size 4.5 MiB\n",
      "24/04/03 18:41:14 WARN DecisionTreeMetadata: DecisionTree reducing maxBins from 30000 to 12284 (= number of training instances)\n",
      "24/04/03 18:41:14 WARN DAGScheduler: Broadcasting large task binary with size 4.7 MiB\n",
      "24/04/03 18:41:25 WARN DAGScheduler: Broadcasting large task binary with size 5.1 MiB\n",
      "24/04/03 18:41:28 WARN DAGScheduler: Broadcasting large task binary with size 5.1 MiB\n",
      "24/04/03 18:41:29 WARN DAGScheduler: Broadcasting large task binary with size 5.1 MiB\n",
      "24/04/03 18:41:30 WARN DAGScheduler: Broadcasting large task binary with size 5.1 MiB\n",
      "24/04/03 18:41:31 WARN DAGScheduler: Broadcasting large task binary with size 5.1 MiB\n",
      "24/04/03 18:41:33 WARN DAGScheduler: Broadcasting large task binary with size 4.5 MiB\n",
      "24/04/03 18:41:33 WARN DAGScheduler: Broadcasting large task binary with size 4.5 MiB\n",
      "24/04/03 18:41:33 WARN DAGScheduler: Broadcasting large task binary with size 4.5 MiB\n",
      "24/04/03 18:41:33 WARN DecisionTreeMetadata: DecisionTree reducing maxBins from 40000 to 12284 (= number of training instances)\n",
      "24/04/03 18:41:33 WARN DAGScheduler: Broadcasting large task binary with size 4.7 MiB\n",
      "24/04/03 18:41:44 WARN DAGScheduler: Broadcasting large task binary with size 5.1 MiB\n",
      "24/04/03 18:41:47 WARN DAGScheduler: Broadcasting large task binary with size 5.1 MiB\n",
      "24/04/03 18:41:48 WARN DAGScheduler: Broadcasting large task binary with size 5.1 MiB\n",
      "24/04/03 18:41:49 WARN DAGScheduler: Broadcasting large task binary with size 5.1 MiB\n",
      "24/04/03 18:41:50 WARN DAGScheduler: Broadcasting large task binary with size 5.1 MiB\n",
      "24/04/03 18:41:52 WARN DAGScheduler: Broadcasting large task binary with size 4.5 MiB\n",
      "24/04/03 18:41:52 WARN DAGScheduler: Broadcasting large task binary with size 4.5 MiB\n",
      "24/04/03 18:41:52 WARN DAGScheduler: Broadcasting large task binary with size 4.5 MiB\n",
      "24/04/03 18:41:52 WARN DecisionTreeMetadata: DecisionTree reducing maxBins from 35000 to 12284 (= number of training instances)\n",
      "24/04/03 18:41:52 WARN DAGScheduler: Broadcasting large task binary with size 4.7 MiB\n",
      "24/04/03 18:42:03 WARN DAGScheduler: Broadcasting large task binary with size 5.1 MiB\n",
      "24/04/03 18:42:06 WARN DAGScheduler: Broadcasting large task binary with size 5.1 MiB\n",
      "24/04/03 18:42:07 WARN DAGScheduler: Broadcasting large task binary with size 5.1 MiB\n",
      "24/04/03 18:42:08 WARN DAGScheduler: Broadcasting large task binary with size 5.1 MiB\n",
      "24/04/03 18:42:10 WARN DAGScheduler: Broadcasting large task binary with size 5.1 MiB\n",
      "24/04/03 18:42:11 WARN DAGScheduler: Broadcasting large task binary with size 4.5 MiB\n",
      "24/04/03 18:42:11 WARN DAGScheduler: Broadcasting large task binary with size 4.5 MiB\n",
      "24/04/03 18:42:11 WARN DAGScheduler: Broadcasting large task binary with size 4.5 MiB\n",
      "24/04/03 18:42:11 WARN DecisionTreeMetadata: DecisionTree reducing maxBins from 30000 to 12284 (= number of training instances)\n",
      "24/04/03 18:42:11 WARN DAGScheduler: Broadcasting large task binary with size 4.7 MiB\n",
      "24/04/03 18:42:22 WARN DAGScheduler: Broadcasting large task binary with size 5.1 MiB\n",
      "24/04/03 18:42:25 WARN DAGScheduler: Broadcasting large task binary with size 5.1 MiB\n",
      "24/04/03 18:42:26 WARN DAGScheduler: Broadcasting large task binary with size 5.1 MiB\n",
      "24/04/03 18:42:27 WARN DAGScheduler: Broadcasting large task binary with size 5.1 MiB\n",
      "24/04/03 18:42:28 WARN DAGScheduler: Broadcasting large task binary with size 5.1 MiB\n",
      "24/04/03 18:42:30 WARN DAGScheduler: Broadcasting large task binary with size 5.1 MiB\n",
      "24/04/03 18:42:32 WARN DAGScheduler: Broadcasting large task binary with size 5.1 MiB\n",
      "24/04/03 18:42:34 WARN DAGScheduler: Broadcasting large task binary with size 5.1 MiB\n",
      "24/04/03 18:42:35 WARN DAGScheduler: Broadcasting large task binary with size 5.1 MiB\n",
      "24/04/03 18:42:37 WARN DAGScheduler: Broadcasting large task binary with size 5.1 MiB\n",
      "24/04/03 18:42:39 WARN DAGScheduler: Broadcasting large task binary with size 4.5 MiB\n",
      "24/04/03 18:42:39 WARN DAGScheduler: Broadcasting large task binary with size 4.5 MiB\n",
      "24/04/03 18:42:39 WARN DAGScheduler: Broadcasting large task binary with size 4.5 MiB\n",
      "24/04/03 18:42:39 WARN DecisionTreeMetadata: DecisionTree reducing maxBins from 40000 to 12284 (= number of training instances)\n",
      "24/04/03 18:42:39 WARN DAGScheduler: Broadcasting large task binary with size 4.7 MiB\n",
      "24/04/03 18:42:50 WARN DAGScheduler: Broadcasting large task binary with size 5.1 MiB\n",
      "24/04/03 18:42:54 WARN DAGScheduler: Broadcasting large task binary with size 5.1 MiB\n",
      "24/04/03 18:42:55 WARN DAGScheduler: Broadcasting large task binary with size 5.1 MiB\n",
      "24/04/03 18:42:56 WARN DAGScheduler: Broadcasting large task binary with size 5.1 MiB\n",
      "24/04/03 18:42:57 WARN DAGScheduler: Broadcasting large task binary with size 5.1 MiB\n",
      "24/04/03 18:42:58 WARN DAGScheduler: Broadcasting large task binary with size 5.1 MiB\n",
      "24/04/03 18:43:00 WARN DAGScheduler: Broadcasting large task binary with size 5.1 MiB\n",
      "24/04/03 18:43:01 WARN DAGScheduler: Broadcasting large task binary with size 5.1 MiB\n",
      "24/04/03 18:43:03 WARN DAGScheduler: Broadcasting large task binary with size 5.1 MiB\n",
      "24/04/03 18:43:04 WARN DAGScheduler: Broadcasting large task binary with size 5.1 MiB\n",
      "24/04/03 18:43:06 WARN DAGScheduler: Broadcasting large task binary with size 4.5 MiB\n",
      "24/04/03 18:43:06 WARN DAGScheduler: Broadcasting large task binary with size 4.5 MiB\n",
      "24/04/03 18:43:06 WARN DAGScheduler: Broadcasting large task binary with size 4.5 MiB\n",
      "24/04/03 18:43:06 WARN DecisionTreeMetadata: DecisionTree reducing maxBins from 35000 to 12284 (= number of training instances)\n",
      "24/04/03 18:43:06 WARN DAGScheduler: Broadcasting large task binary with size 4.7 MiB\n",
      "24/04/03 18:43:17 WARN DAGScheduler: Broadcasting large task binary with size 5.1 MiB\n",
      "24/04/03 18:43:20 WARN DAGScheduler: Broadcasting large task binary with size 5.1 MiB\n",
      "24/04/03 18:43:21 WARN DAGScheduler: Broadcasting large task binary with size 5.1 MiB\n",
      "24/04/03 18:43:22 WARN DAGScheduler: Broadcasting large task binary with size 5.1 MiB\n",
      "24/04/03 18:43:23 WARN DAGScheduler: Broadcasting large task binary with size 5.1 MiB\n",
      "24/04/03 18:43:25 WARN DAGScheduler: Broadcasting large task binary with size 5.1 MiB\n",
      "24/04/03 18:43:27 WARN DAGScheduler: Broadcasting large task binary with size 5.1 MiB\n",
      "24/04/03 18:43:28 WARN DAGScheduler: Broadcasting large task binary with size 5.1 MiB\n",
      "24/04/03 18:43:30 WARN DAGScheduler: Broadcasting large task binary with size 5.1 MiB\n",
      "24/04/03 18:43:31 WARN DAGScheduler: Broadcasting large task binary with size 5.1 MiB\n",
      "24/04/03 18:43:33 WARN DAGScheduler: Broadcasting large task binary with size 4.5 MiB\n",
      "24/04/03 18:43:33 WARN DAGScheduler: Broadcasting large task binary with size 4.5 MiB\n",
      "24/04/03 18:43:34 WARN DAGScheduler: Broadcasting large task binary with size 4.5 MiB\n",
      "24/04/03 18:43:34 WARN DecisionTreeMetadata: DecisionTree reducing maxBins from 30000 to 12174 (= number of training instances)\n",
      "24/04/03 18:43:34 WARN DAGScheduler: Broadcasting large task binary with size 4.7 MiB\n",
      "24/04/03 18:43:45 WARN DAGScheduler: Broadcasting large task binary with size 5.1 MiB\n",
      "24/04/03 18:43:48 WARN DAGScheduler: Broadcasting large task binary with size 5.1 MiB\n",
      "24/04/03 18:43:49 WARN DAGScheduler: Broadcasting large task binary with size 4.5 MiB\n",
      "24/04/03 18:43:50 WARN DAGScheduler: Broadcasting large task binary with size 4.5 MiB\n",
      "24/04/03 18:43:50 WARN DAGScheduler: Broadcasting large task binary with size 4.5 MiB\n",
      "24/04/03 18:43:50 WARN DecisionTreeMetadata: DecisionTree reducing maxBins from 40000 to 12174 (= number of training instances)\n",
      "24/04/03 18:43:50 WARN DAGScheduler: Broadcasting large task binary with size 4.7 MiB\n",
      "24/04/03 18:44:00 WARN DAGScheduler: Broadcasting large task binary with size 5.1 MiB\n",
      "24/04/03 18:44:04 WARN DAGScheduler: Broadcasting large task binary with size 5.1 MiB\n",
      "24/04/03 18:44:05 WARN DAGScheduler: Broadcasting large task binary with size 4.5 MiB\n",
      "24/04/03 18:44:05 WARN DAGScheduler: Broadcasting large task binary with size 4.5 MiB\n",
      "24/04/03 18:44:05 WARN DAGScheduler: Broadcasting large task binary with size 4.5 MiB\n",
      "24/04/03 18:44:05 WARN DecisionTreeMetadata: DecisionTree reducing maxBins from 35000 to 12174 (= number of training instances)\n",
      "24/04/03 18:44:05 WARN DAGScheduler: Broadcasting large task binary with size 4.7 MiB\n",
      "24/04/03 18:44:15 WARN DAGScheduler: Broadcasting large task binary with size 5.1 MiB\n",
      "24/04/03 18:44:19 WARN DAGScheduler: Broadcasting large task binary with size 5.1 MiB\n",
      "24/04/03 18:44:20 WARN DAGScheduler: Broadcasting large task binary with size 4.5 MiB\n",
      "24/04/03 18:44:20 WARN DAGScheduler: Broadcasting large task binary with size 4.5 MiB\n",
      "24/04/03 18:44:20 WARN DAGScheduler: Broadcasting large task binary with size 4.5 MiB\n",
      "24/04/03 18:44:20 WARN DecisionTreeMetadata: DecisionTree reducing maxBins from 30000 to 12174 (= number of training instances)\n",
      "24/04/03 18:44:20 WARN DAGScheduler: Broadcasting large task binary with size 4.7 MiB\n",
      "24/04/03 18:44:31 WARN DAGScheduler: Broadcasting large task binary with size 5.1 MiB\n",
      "24/04/03 18:44:34 WARN DAGScheduler: Broadcasting large task binary with size 5.1 MiB\n",
      "24/04/03 18:44:35 WARN DAGScheduler: Broadcasting large task binary with size 5.1 MiB\n",
      "24/04/03 18:44:36 WARN DAGScheduler: Broadcasting large task binary with size 5.1 MiB\n",
      "24/04/03 18:44:37 WARN DAGScheduler: Broadcasting large task binary with size 5.1 MiB\n",
      "24/04/03 18:44:39 WARN DAGScheduler: Broadcasting large task binary with size 4.5 MiB\n",
      "24/04/03 18:44:39 WARN DAGScheduler: Broadcasting large task binary with size 4.5 MiB\n",
      "24/04/03 18:44:39 WARN DAGScheduler: Broadcasting large task binary with size 4.5 MiB\n",
      "24/04/03 18:44:39 WARN DecisionTreeMetadata: DecisionTree reducing maxBins from 40000 to 12174 (= number of training instances)\n",
      "24/04/03 18:44:39 WARN DAGScheduler: Broadcasting large task binary with size 4.7 MiB\n",
      "24/04/03 18:44:50 WARN DAGScheduler: Broadcasting large task binary with size 5.1 MiB\n",
      "24/04/03 18:44:53 WARN DAGScheduler: Broadcasting large task binary with size 5.1 MiB\n",
      "24/04/03 18:44:54 WARN DAGScheduler: Broadcasting large task binary with size 5.1 MiB\n",
      "24/04/03 18:44:55 WARN DAGScheduler: Broadcasting large task binary with size 5.1 MiB\n",
      "24/04/03 18:44:56 WARN DAGScheduler: Broadcasting large task binary with size 5.1 MiB\n",
      "24/04/03 18:44:58 WARN DAGScheduler: Broadcasting large task binary with size 4.5 MiB\n",
      "24/04/03 18:44:58 WARN DAGScheduler: Broadcasting large task binary with size 4.5 MiB\n",
      "24/04/03 18:44:58 WARN DAGScheduler: Broadcasting large task binary with size 4.5 MiB\n",
      "24/04/03 18:44:58 WARN DecisionTreeMetadata: DecisionTree reducing maxBins from 35000 to 12174 (= number of training instances)\n",
      "24/04/03 18:44:58 WARN DAGScheduler: Broadcasting large task binary with size 4.7 MiB\n",
      "24/04/03 18:45:08 WARN DAGScheduler: Broadcasting large task binary with size 5.1 MiB\n",
      "24/04/03 18:45:12 WARN DAGScheduler: Broadcasting large task binary with size 5.1 MiB\n",
      "24/04/03 18:45:13 WARN DAGScheduler: Broadcasting large task binary with size 5.1 MiB\n",
      "24/04/03 18:45:14 WARN DAGScheduler: Broadcasting large task binary with size 5.1 MiB\n",
      "24/04/03 18:45:15 WARN DAGScheduler: Broadcasting large task binary with size 5.1 MiB\n",
      "24/04/03 18:45:16 WARN DAGScheduler: Broadcasting large task binary with size 4.5 MiB\n",
      "24/04/03 18:45:17 WARN DAGScheduler: Broadcasting large task binary with size 4.5 MiB\n",
      "24/04/03 18:45:17 WARN DAGScheduler: Broadcasting large task binary with size 4.5 MiB\n",
      "24/04/03 18:45:17 WARN DecisionTreeMetadata: DecisionTree reducing maxBins from 30000 to 12174 (= number of training instances)\n",
      "24/04/03 18:45:17 WARN DAGScheduler: Broadcasting large task binary with size 4.7 MiB\n",
      "24/04/03 18:45:27 WARN DAGScheduler: Broadcasting large task binary with size 5.1 MiB\n",
      "24/04/03 18:45:30 WARN DAGScheduler: Broadcasting large task binary with size 5.1 MiB\n",
      "24/04/03 18:45:32 WARN DAGScheduler: Broadcasting large task binary with size 5.1 MiB\n",
      "24/04/03 18:45:33 WARN DAGScheduler: Broadcasting large task binary with size 5.1 MiB\n",
      "24/04/03 18:45:34 WARN DAGScheduler: Broadcasting large task binary with size 5.1 MiB\n",
      "24/04/03 18:45:35 WARN DAGScheduler: Broadcasting large task binary with size 5.1 MiB\n",
      "24/04/03 18:45:36 WARN DAGScheduler: Broadcasting large task binary with size 5.1 MiB\n",
      "24/04/03 18:45:38 WARN DAGScheduler: Broadcasting large task binary with size 5.1 MiB\n",
      "24/04/03 18:45:39 WARN DAGScheduler: Broadcasting large task binary with size 5.1 MiB\n",
      "24/04/03 18:45:41 WARN DAGScheduler: Broadcasting large task binary with size 5.1 MiB\n",
      "24/04/03 18:45:42 WARN DAGScheduler: Broadcasting large task binary with size 4.5 MiB\n",
      "24/04/03 18:45:43 WARN DAGScheduler: Broadcasting large task binary with size 4.5 MiB\n",
      "24/04/03 18:45:43 WARN DAGScheduler: Broadcasting large task binary with size 4.5 MiB\n",
      "24/04/03 18:45:43 WARN DecisionTreeMetadata: DecisionTree reducing maxBins from 40000 to 12174 (= number of training instances)\n",
      "24/04/03 18:45:43 WARN DAGScheduler: Broadcasting large task binary with size 4.7 MiB\n",
      "24/04/03 18:45:54 WARN DAGScheduler: Broadcasting large task binary with size 5.1 MiB\n",
      "24/04/03 18:45:57 WARN DAGScheduler: Broadcasting large task binary with size 5.1 MiB\n",
      "24/04/03 18:45:58 WARN DAGScheduler: Broadcasting large task binary with size 5.1 MiB\n",
      "24/04/03 18:45:59 WARN DAGScheduler: Broadcasting large task binary with size 5.1 MiB\n",
      "24/04/03 18:46:01 WARN DAGScheduler: Broadcasting large task binary with size 5.1 MiB\n",
      "24/04/03 18:46:02 WARN DAGScheduler: Broadcasting large task binary with size 5.1 MiB\n",
      "24/04/03 18:46:03 WARN DAGScheduler: Broadcasting large task binary with size 5.1 MiB\n",
      "24/04/03 18:46:04 WARN DAGScheduler: Broadcasting large task binary with size 5.1 MiB\n",
      "24/04/03 18:46:06 WARN DAGScheduler: Broadcasting large task binary with size 5.1 MiB\n",
      "24/04/03 18:46:07 WARN DAGScheduler: Broadcasting large task binary with size 5.1 MiB\n",
      "24/04/03 18:46:09 WARN DAGScheduler: Broadcasting large task binary with size 4.5 MiB\n",
      "24/04/03 18:46:09 WARN DAGScheduler: Broadcasting large task binary with size 4.5 MiB\n",
      "24/04/03 18:46:09 WARN DAGScheduler: Broadcasting large task binary with size 4.5 MiB\n",
      "24/04/03 18:46:09 WARN DecisionTreeMetadata: DecisionTree reducing maxBins from 35000 to 12174 (= number of training instances)\n",
      "24/04/03 18:46:09 WARN DAGScheduler: Broadcasting large task binary with size 4.7 MiB\n",
      "24/04/03 18:46:20 WARN DAGScheduler: Broadcasting large task binary with size 5.1 MiB\n",
      "24/04/03 18:46:23 WARN DAGScheduler: Broadcasting large task binary with size 5.1 MiB\n",
      "24/04/03 18:46:24 WARN DAGScheduler: Broadcasting large task binary with size 5.1 MiB\n",
      "24/04/03 18:46:25 WARN DAGScheduler: Broadcasting large task binary with size 5.1 MiB\n",
      "24/04/03 18:46:27 WARN DAGScheduler: Broadcasting large task binary with size 5.1 MiB\n",
      "24/04/03 18:46:28 WARN DAGScheduler: Broadcasting large task binary with size 5.1 MiB\n",
      "24/04/03 18:46:29 WARN DAGScheduler: Broadcasting large task binary with size 5.1 MiB\n",
      "24/04/03 18:46:31 WARN DAGScheduler: Broadcasting large task binary with size 5.1 MiB\n",
      "24/04/03 18:46:32 WARN DAGScheduler: Broadcasting large task binary with size 5.1 MiB\n",
      "24/04/03 18:46:34 WARN DAGScheduler: Broadcasting large task binary with size 5.1 MiB\n",
      "24/04/03 18:46:35 WARN DAGScheduler: Broadcasting large task binary with size 4.5 MiB\n",
      "24/04/03 18:46:36 WARN DAGScheduler: Broadcasting large task binary with size 4.5 MiB\n",
      "24/04/03 18:46:36 WARN DAGScheduler: Broadcasting large task binary with size 4.5 MiB\n",
      "24/04/03 18:46:36 WARN DecisionTreeMetadata: DecisionTree reducing maxBins from 30000 to 12275 (= number of training instances)\n",
      "24/04/03 18:46:36 WARN DAGScheduler: Broadcasting large task binary with size 4.7 MiB\n",
      "24/04/03 18:46:47 WARN DAGScheduler: Broadcasting large task binary with size 5.1 MiB\n",
      "24/04/03 18:46:50 WARN DAGScheduler: Broadcasting large task binary with size 5.1 MiB\n",
      "24/04/03 18:46:51 WARN DAGScheduler: Broadcasting large task binary with size 4.5 MiB\n",
      "24/04/03 18:46:52 WARN DAGScheduler: Broadcasting large task binary with size 4.5 MiB\n",
      "24/04/03 18:46:52 WARN DAGScheduler: Broadcasting large task binary with size 4.5 MiB\n",
      "24/04/03 18:46:52 WARN DecisionTreeMetadata: DecisionTree reducing maxBins from 40000 to 12275 (= number of training instances)\n",
      "24/04/03 18:46:52 WARN DAGScheduler: Broadcasting large task binary with size 4.7 MiB\n",
      "24/04/03 18:47:03 WARN DAGScheduler: Broadcasting large task binary with size 5.1 MiB\n",
      "24/04/03 18:47:06 WARN DAGScheduler: Broadcasting large task binary with size 5.1 MiB\n",
      "24/04/03 18:47:07 WARN DAGScheduler: Broadcasting large task binary with size 4.5 MiB\n",
      "24/04/03 18:47:08 WARN DAGScheduler: Broadcasting large task binary with size 4.5 MiB\n",
      "24/04/03 18:47:08 WARN DAGScheduler: Broadcasting large task binary with size 4.5 MiB\n",
      "24/04/03 18:47:08 WARN DecisionTreeMetadata: DecisionTree reducing maxBins from 35000 to 12275 (= number of training instances)\n",
      "24/04/03 18:47:08 WARN DAGScheduler: Broadcasting large task binary with size 4.7 MiB\n",
      "24/04/03 18:47:18 WARN DAGScheduler: Broadcasting large task binary with size 5.1 MiB\n",
      "24/04/03 18:47:22 WARN DAGScheduler: Broadcasting large task binary with size 5.1 MiB\n",
      "24/04/03 18:47:23 WARN DAGScheduler: Broadcasting large task binary with size 4.5 MiB\n",
      "24/04/03 18:47:23 WARN DAGScheduler: Broadcasting large task binary with size 4.5 MiB\n",
      "24/04/03 18:47:23 WARN DAGScheduler: Broadcasting large task binary with size 4.5 MiB\n",
      "24/04/03 18:47:23 WARN DecisionTreeMetadata: DecisionTree reducing maxBins from 30000 to 12275 (= number of training instances)\n",
      "24/04/03 18:47:23 WARN DAGScheduler: Broadcasting large task binary with size 4.7 MiB\n",
      "24/04/03 18:47:33 WARN DAGScheduler: Broadcasting large task binary with size 5.1 MiB\n",
      "24/04/03 18:47:37 WARN DAGScheduler: Broadcasting large task binary with size 5.1 MiB\n",
      "24/04/03 18:47:38 WARN DAGScheduler: Broadcasting large task binary with size 5.1 MiB\n",
      "24/04/03 18:47:39 WARN DAGScheduler: Broadcasting large task binary with size 5.1 MiB\n",
      "24/04/03 18:47:40 WARN DAGScheduler: Broadcasting large task binary with size 5.1 MiB\n",
      "24/04/03 18:47:42 WARN DAGScheduler: Broadcasting large task binary with size 4.5 MiB\n",
      "24/04/03 18:47:42 WARN DAGScheduler: Broadcasting large task binary with size 4.5 MiB\n",
      "24/04/03 18:47:42 WARN DAGScheduler: Broadcasting large task binary with size 4.5 MiB\n",
      "24/04/03 18:47:42 WARN DecisionTreeMetadata: DecisionTree reducing maxBins from 40000 to 12275 (= number of training instances)\n",
      "24/04/03 18:47:42 WARN DAGScheduler: Broadcasting large task binary with size 4.7 MiB\n",
      "24/04/03 18:47:53 WARN DAGScheduler: Broadcasting large task binary with size 5.1 MiB\n",
      "24/04/03 18:47:57 WARN DAGScheduler: Broadcasting large task binary with size 5.1 MiB\n",
      "24/04/03 18:47:58 WARN DAGScheduler: Broadcasting large task binary with size 5.1 MiB\n",
      "24/04/03 18:47:59 WARN DAGScheduler: Broadcasting large task binary with size 5.1 MiB\n",
      "24/04/03 18:48:00 WARN DAGScheduler: Broadcasting large task binary with size 5.1 MiB\n",
      "24/04/03 18:48:01 WARN DAGScheduler: Broadcasting large task binary with size 4.5 MiB\n",
      "24/04/03 18:48:01 WARN DAGScheduler: Broadcasting large task binary with size 4.5 MiB\n",
      "24/04/03 18:48:02 WARN DAGScheduler: Broadcasting large task binary with size 4.5 MiB\n",
      "24/04/03 18:48:02 WARN DecisionTreeMetadata: DecisionTree reducing maxBins from 35000 to 12275 (= number of training instances)\n",
      "24/04/03 18:48:02 WARN DAGScheduler: Broadcasting large task binary with size 4.7 MiB\n",
      "24/04/03 18:48:12 WARN DAGScheduler: Broadcasting large task binary with size 5.1 MiB\n",
      "24/04/03 18:48:15 WARN DAGScheduler: Broadcasting large task binary with size 5.1 MiB\n",
      "24/04/03 18:48:17 WARN DAGScheduler: Broadcasting large task binary with size 5.1 MiB\n",
      "24/04/03 18:48:18 WARN DAGScheduler: Broadcasting large task binary with size 5.1 MiB\n",
      "24/04/03 18:48:19 WARN DAGScheduler: Broadcasting large task binary with size 5.1 MiB\n",
      "24/04/03 18:48:20 WARN DAGScheduler: Broadcasting large task binary with size 4.5 MiB\n",
      "24/04/03 18:48:20 WARN DAGScheduler: Broadcasting large task binary with size 4.5 MiB\n",
      "24/04/03 18:48:20 WARN DAGScheduler: Broadcasting large task binary with size 4.5 MiB\n",
      "24/04/03 18:48:20 WARN DecisionTreeMetadata: DecisionTree reducing maxBins from 30000 to 12275 (= number of training instances)\n",
      "24/04/03 18:48:20 WARN DAGScheduler: Broadcasting large task binary with size 4.7 MiB\n",
      "24/04/03 18:48:31 WARN DAGScheduler: Broadcasting large task binary with size 5.1 MiB\n",
      "24/04/03 18:48:34 WARN DAGScheduler: Broadcasting large task binary with size 5.1 MiB\n",
      "24/04/03 18:48:35 WARN DAGScheduler: Broadcasting large task binary with size 5.1 MiB\n",
      "24/04/03 18:48:36 WARN DAGScheduler: Broadcasting large task binary with size 5.1 MiB\n",
      "24/04/03 18:48:38 WARN DAGScheduler: Broadcasting large task binary with size 5.1 MiB\n",
      "24/04/03 18:48:39 WARN DAGScheduler: Broadcasting large task binary with size 5.1 MiB\n",
      "24/04/03 18:48:40 WARN DAGScheduler: Broadcasting large task binary with size 5.1 MiB\n",
      "24/04/03 18:48:42 WARN DAGScheduler: Broadcasting large task binary with size 5.1 MiB\n",
      "24/04/03 18:48:43 WARN DAGScheduler: Broadcasting large task binary with size 5.1 MiB\n",
      "24/04/03 18:48:44 WARN DAGScheduler: Broadcasting large task binary with size 5.1 MiB\n",
      "24/04/03 18:48:46 WARN DAGScheduler: Broadcasting large task binary with size 4.5 MiB\n",
      "24/04/03 18:48:46 WARN DAGScheduler: Broadcasting large task binary with size 4.5 MiB\n",
      "24/04/03 18:48:46 WARN DAGScheduler: Broadcasting large task binary with size 4.5 MiB\n",
      "24/04/03 18:48:46 WARN DecisionTreeMetadata: DecisionTree reducing maxBins from 40000 to 12275 (= number of training instances)\n",
      "24/04/03 18:48:46 WARN DAGScheduler: Broadcasting large task binary with size 4.7 MiB\n",
      "24/04/03 18:48:57 WARN DAGScheduler: Broadcasting large task binary with size 5.1 MiB\n",
      "24/04/03 18:49:00 WARN DAGScheduler: Broadcasting large task binary with size 5.1 MiB\n",
      "24/04/03 18:49:01 WARN DAGScheduler: Broadcasting large task binary with size 5.1 MiB\n",
      "24/04/03 18:49:03 WARN DAGScheduler: Broadcasting large task binary with size 5.1 MiB\n",
      "24/04/03 18:49:04 WARN DAGScheduler: Broadcasting large task binary with size 5.1 MiB\n",
      "24/04/03 18:49:05 WARN DAGScheduler: Broadcasting large task binary with size 5.1 MiB\n",
      "24/04/03 18:49:06 WARN DAGScheduler: Broadcasting large task binary with size 5.1 MiB\n",
      "24/04/03 18:49:08 WARN DAGScheduler: Broadcasting large task binary with size 5.1 MiB\n",
      "24/04/03 18:49:09 WARN DAGScheduler: Broadcasting large task binary with size 5.1 MiB\n",
      "24/04/03 18:49:11 WARN DAGScheduler: Broadcasting large task binary with size 5.1 MiB\n",
      "24/04/03 18:49:12 WARN DAGScheduler: Broadcasting large task binary with size 4.5 MiB\n",
      "24/04/03 18:49:12 WARN DAGScheduler: Broadcasting large task binary with size 4.5 MiB\n",
      "24/04/03 18:49:12 WARN DAGScheduler: Broadcasting large task binary with size 4.5 MiB\n",
      "24/04/03 18:49:12 WARN DecisionTreeMetadata: DecisionTree reducing maxBins from 35000 to 12275 (= number of training instances)\n",
      "24/04/03 18:49:13 WARN DAGScheduler: Broadcasting large task binary with size 4.7 MiB\n",
      "24/04/03 18:49:23 WARN DAGScheduler: Broadcasting large task binary with size 5.1 MiB\n",
      "24/04/03 18:49:27 WARN DAGScheduler: Broadcasting large task binary with size 5.1 MiB\n",
      "24/04/03 18:49:28 WARN DAGScheduler: Broadcasting large task binary with size 5.1 MiB\n",
      "24/04/03 18:49:29 WARN DAGScheduler: Broadcasting large task binary with size 5.1 MiB\n",
      "24/04/03 18:49:30 WARN DAGScheduler: Broadcasting large task binary with size 5.1 MiB\n",
      "24/04/03 18:49:31 WARN DAGScheduler: Broadcasting large task binary with size 5.1 MiB\n",
      "24/04/03 18:49:32 WARN DAGScheduler: Broadcasting large task binary with size 5.1 MiB\n",
      "24/04/03 18:49:34 WARN DAGScheduler: Broadcasting large task binary with size 5.1 MiB\n",
      "24/04/03 18:49:35 WARN DAGScheduler: Broadcasting large task binary with size 5.1 MiB\n",
      "24/04/03 18:49:37 WARN DAGScheduler: Broadcasting large task binary with size 5.1 MiB\n",
      "24/04/03 18:49:38 WARN DAGScheduler: Broadcasting large task binary with size 4.5 MiB\n",
      "24/04/03 18:49:39 WARN DAGScheduler: Broadcasting large task binary with size 4.5 MiB\n",
      "24/04/03 18:49:39 WARN DAGScheduler: Broadcasting large task binary with size 4.5 MiB\n",
      "24/04/03 18:49:39 WARN DecisionTreeMetadata: DecisionTree reducing maxBins from 30000 to 12264 (= number of training instances)\n",
      "24/04/03 18:49:39 WARN DAGScheduler: Broadcasting large task binary with size 4.7 MiB\n",
      "24/04/03 18:49:50 WARN DAGScheduler: Broadcasting large task binary with size 5.1 MiB\n",
      "24/04/03 18:49:53 WARN DAGScheduler: Broadcasting large task binary with size 5.1 MiB\n",
      "24/04/03 18:49:55 WARN DAGScheduler: Broadcasting large task binary with size 4.5 MiB\n",
      "24/04/03 18:49:55 WARN DAGScheduler: Broadcasting large task binary with size 4.5 MiB\n",
      "24/04/03 18:49:55 WARN DAGScheduler: Broadcasting large task binary with size 4.5 MiB\n",
      "24/04/03 18:49:55 WARN DecisionTreeMetadata: DecisionTree reducing maxBins from 40000 to 12264 (= number of training instances)\n",
      "24/04/03 18:49:55 WARN DAGScheduler: Broadcasting large task binary with size 4.7 MiB\n",
      "24/04/03 18:50:06 WARN DAGScheduler: Broadcasting large task binary with size 5.1 MiB\n",
      "24/04/03 18:50:09 WARN DAGScheduler: Broadcasting large task binary with size 5.1 MiB\n",
      "24/04/03 18:50:10 WARN DAGScheduler: Broadcasting large task binary with size 4.5 MiB\n",
      "24/04/03 18:50:11 WARN DAGScheduler: Broadcasting large task binary with size 4.5 MiB\n",
      "24/04/03 18:50:11 WARN DAGScheduler: Broadcasting large task binary with size 4.5 MiB\n",
      "24/04/03 18:50:11 WARN DecisionTreeMetadata: DecisionTree reducing maxBins from 35000 to 12264 (= number of training instances)\n",
      "24/04/03 18:50:11 WARN DAGScheduler: Broadcasting large task binary with size 4.7 MiB\n",
      "24/04/03 18:50:21 WARN DAGScheduler: Broadcasting large task binary with size 5.1 MiB\n",
      "24/04/03 18:50:24 WARN DAGScheduler: Broadcasting large task binary with size 5.1 MiB\n",
      "24/04/03 18:50:26 WARN DAGScheduler: Broadcasting large task binary with size 4.5 MiB\n",
      "24/04/03 18:50:26 WARN DAGScheduler: Broadcasting large task binary with size 4.5 MiB\n",
      "24/04/03 18:50:26 WARN DAGScheduler: Broadcasting large task binary with size 4.5 MiB\n",
      "24/04/03 18:50:26 WARN DecisionTreeMetadata: DecisionTree reducing maxBins from 30000 to 12264 (= number of training instances)\n",
      "24/04/03 18:50:26 WARN DAGScheduler: Broadcasting large task binary with size 4.7 MiB\n",
      "24/04/03 18:50:36 WARN DAGScheduler: Broadcasting large task binary with size 5.1 MiB\n",
      "24/04/03 18:50:39 WARN DAGScheduler: Broadcasting large task binary with size 5.1 MiB\n",
      "24/04/03 18:50:41 WARN DAGScheduler: Broadcasting large task binary with size 5.1 MiB\n",
      "24/04/03 18:50:42 WARN DAGScheduler: Broadcasting large task binary with size 5.1 MiB\n",
      "24/04/03 18:50:43 WARN DAGScheduler: Broadcasting large task binary with size 5.1 MiB\n",
      "24/04/03 18:50:44 WARN DAGScheduler: Broadcasting large task binary with size 4.5 MiB\n",
      "24/04/03 18:50:44 WARN DAGScheduler: Broadcasting large task binary with size 4.5 MiB\n",
      "24/04/03 18:50:44 WARN DAGScheduler: Broadcasting large task binary with size 4.5 MiB\n",
      "24/04/03 18:50:44 WARN DecisionTreeMetadata: DecisionTree reducing maxBins from 40000 to 12264 (= number of training instances)\n",
      "24/04/03 18:50:45 WARN DAGScheduler: Broadcasting large task binary with size 4.7 MiB\n",
      "24/04/03 18:50:55 WARN DAGScheduler: Broadcasting large task binary with size 5.1 MiB\n",
      "24/04/03 18:50:59 WARN DAGScheduler: Broadcasting large task binary with size 5.1 MiB\n",
      "24/04/03 18:51:00 WARN DAGScheduler: Broadcasting large task binary with size 5.1 MiB\n",
      "24/04/03 18:51:01 WARN DAGScheduler: Broadcasting large task binary with size 5.1 MiB\n",
      "24/04/03 18:51:02 WARN DAGScheduler: Broadcasting large task binary with size 5.1 MiB\n",
      "24/04/03 18:51:03 WARN DAGScheduler: Broadcasting large task binary with size 4.5 MiB\n",
      "24/04/03 18:51:04 WARN DAGScheduler: Broadcasting large task binary with size 4.5 MiB\n",
      "24/04/03 18:51:04 WARN DAGScheduler: Broadcasting large task binary with size 4.5 MiB\n",
      "24/04/03 18:51:04 WARN DecisionTreeMetadata: DecisionTree reducing maxBins from 35000 to 12264 (= number of training instances)\n",
      "24/04/03 18:51:04 WARN DAGScheduler: Broadcasting large task binary with size 4.7 MiB\n",
      "24/04/03 18:51:14 WARN DAGScheduler: Broadcasting large task binary with size 5.1 MiB\n",
      "24/04/03 18:51:17 WARN DAGScheduler: Broadcasting large task binary with size 5.1 MiB\n",
      "24/04/03 18:51:19 WARN DAGScheduler: Broadcasting large task binary with size 5.1 MiB\n",
      "24/04/03 18:51:20 WARN DAGScheduler: Broadcasting large task binary with size 5.1 MiB\n",
      "24/04/03 18:51:21 WARN DAGScheduler: Broadcasting large task binary with size 5.1 MiB\n",
      "24/04/03 18:51:22 WARN DAGScheduler: Broadcasting large task binary with size 4.5 MiB\n",
      "24/04/03 18:51:22 WARN DAGScheduler: Broadcasting large task binary with size 4.5 MiB\n",
      "24/04/03 18:51:22 WARN DAGScheduler: Broadcasting large task binary with size 4.5 MiB\n",
      "24/04/03 18:51:22 WARN DecisionTreeMetadata: DecisionTree reducing maxBins from 30000 to 12264 (= number of training instances)\n",
      "24/04/03 18:51:23 WARN DAGScheduler: Broadcasting large task binary with size 4.7 MiB\n",
      "24/04/03 18:51:33 WARN DAGScheduler: Broadcasting large task binary with size 5.1 MiB\n",
      "24/04/03 18:51:36 WARN DAGScheduler: Broadcasting large task binary with size 5.1 MiB\n",
      "24/04/03 18:51:37 WARN DAGScheduler: Broadcasting large task binary with size 5.1 MiB\n",
      "24/04/03 18:51:38 WARN DAGScheduler: Broadcasting large task binary with size 5.1 MiB\n",
      "24/04/03 18:51:39 WARN DAGScheduler: Broadcasting large task binary with size 5.1 MiB\n",
      "24/04/03 18:51:41 WARN DAGScheduler: Broadcasting large task binary with size 5.1 MiB\n",
      "24/04/03 18:51:42 WARN DAGScheduler: Broadcasting large task binary with size 5.1 MiB\n",
      "24/04/03 18:51:43 WARN DAGScheduler: Broadcasting large task binary with size 5.1 MiB\n",
      "24/04/03 18:51:45 WARN DAGScheduler: Broadcasting large task binary with size 5.1 MiB\n",
      "24/04/03 18:51:46 WARN DAGScheduler: Broadcasting large task binary with size 5.1 MiB\n",
      "24/04/03 18:51:48 WARN DAGScheduler: Broadcasting large task binary with size 4.5 MiB\n",
      "24/04/03 18:51:48 WARN DAGScheduler: Broadcasting large task binary with size 4.5 MiB\n",
      "24/04/03 18:51:48 WARN DAGScheduler: Broadcasting large task binary with size 4.5 MiB\n",
      "24/04/03 18:51:48 WARN DecisionTreeMetadata: DecisionTree reducing maxBins from 40000 to 12264 (= number of training instances)\n",
      "24/04/03 18:51:48 WARN DAGScheduler: Broadcasting large task binary with size 4.7 MiB\n",
      "24/04/03 18:51:59 WARN DAGScheduler: Broadcasting large task binary with size 5.1 MiB\n",
      "24/04/03 18:52:02 WARN DAGScheduler: Broadcasting large task binary with size 5.1 MiB\n",
      "24/04/03 18:52:03 WARN DAGScheduler: Broadcasting large task binary with size 5.1 MiB\n",
      "24/04/03 18:52:04 WARN DAGScheduler: Broadcasting large task binary with size 5.1 MiB\n",
      "24/04/03 18:52:06 WARN DAGScheduler: Broadcasting large task binary with size 5.1 MiB\n",
      "24/04/03 18:52:07 WARN DAGScheduler: Broadcasting large task binary with size 5.1 MiB\n",
      "24/04/03 18:52:08 WARN DAGScheduler: Broadcasting large task binary with size 5.1 MiB\n",
      "24/04/03 18:52:10 WARN DAGScheduler: Broadcasting large task binary with size 5.1 MiB\n",
      "24/04/03 18:52:11 WARN DAGScheduler: Broadcasting large task binary with size 5.1 MiB\n",
      "24/04/03 18:52:13 WARN DAGScheduler: Broadcasting large task binary with size 5.1 MiB\n",
      "24/04/03 18:52:14 WARN DAGScheduler: Broadcasting large task binary with size 4.5 MiB\n",
      "24/04/03 18:52:14 WARN DAGScheduler: Broadcasting large task binary with size 4.5 MiB\n",
      "24/04/03 18:52:14 WARN DAGScheduler: Broadcasting large task binary with size 4.5 MiB\n",
      "24/04/03 18:52:14 WARN DecisionTreeMetadata: DecisionTree reducing maxBins from 35000 to 12264 (= number of training instances)\n",
      "24/04/03 18:52:15 WARN DAGScheduler: Broadcasting large task binary with size 4.7 MiB\n",
      "24/04/03 18:52:25 WARN DAGScheduler: Broadcasting large task binary with size 5.1 MiB\n",
      "24/04/03 18:52:29 WARN DAGScheduler: Broadcasting large task binary with size 5.1 MiB\n",
      "24/04/03 18:52:30 WARN DAGScheduler: Broadcasting large task binary with size 5.1 MiB\n",
      "24/04/03 18:52:31 WARN DAGScheduler: Broadcasting large task binary with size 5.1 MiB\n",
      "24/04/03 18:52:32 WARN DAGScheduler: Broadcasting large task binary with size 5.1 MiB\n",
      "24/04/03 18:52:33 WARN DAGScheduler: Broadcasting large task binary with size 5.1 MiB\n",
      "24/04/03 18:52:35 WARN DAGScheduler: Broadcasting large task binary with size 5.1 MiB\n",
      "24/04/03 18:52:36 WARN DAGScheduler: Broadcasting large task binary with size 5.1 MiB\n",
      "24/04/03 18:52:37 WARN DAGScheduler: Broadcasting large task binary with size 5.1 MiB\n",
      "24/04/03 18:52:39 WARN DAGScheduler: Broadcasting large task binary with size 5.1 MiB\n",
      "24/04/03 18:52:41 WARN DAGScheduler: Broadcasting large task binary with size 4.5 MiB\n",
      "24/04/03 18:52:41 WARN DAGScheduler: Broadcasting large task binary with size 4.5 MiB\n",
      "24/04/03 18:52:42 WARN DAGScheduler: Broadcasting large task binary with size 4.5 MiB\n",
      "24/04/03 18:52:42 WARN DecisionTreeMetadata: DecisionTree reducing maxBins from 30000 to 12303 (= number of training instances)\n",
      "24/04/03 18:52:42 WARN DAGScheduler: Broadcasting large task binary with size 4.7 MiB\n",
      "24/04/03 18:52:54 WARN DAGScheduler: Broadcasting large task binary with size 5.1 MiB\n",
      "24/04/03 18:52:57 WARN DAGScheduler: Broadcasting large task binary with size 5.1 MiB\n",
      "24/04/03 18:52:59 WARN DAGScheduler: Broadcasting large task binary with size 4.5 MiB\n",
      "24/04/03 18:52:59 WARN DAGScheduler: Broadcasting large task binary with size 4.5 MiB\n",
      "24/04/03 18:52:59 WARN DAGScheduler: Broadcasting large task binary with size 4.5 MiB\n",
      "24/04/03 18:52:59 WARN DecisionTreeMetadata: DecisionTree reducing maxBins from 40000 to 12303 (= number of training instances)\n",
      "24/04/03 18:52:59 WARN DAGScheduler: Broadcasting large task binary with size 4.7 MiB\n",
      "24/04/03 18:53:10 WARN DAGScheduler: Broadcasting large task binary with size 5.1 MiB\n",
      "24/04/03 18:53:13 WARN DAGScheduler: Broadcasting large task binary with size 5.1 MiB\n",
      "24/04/03 18:53:15 WARN DAGScheduler: Broadcasting large task binary with size 4.5 MiB\n",
      "24/04/03 18:53:15 WARN DAGScheduler: Broadcasting large task binary with size 4.5 MiB\n",
      "24/04/03 18:53:15 WARN DAGScheduler: Broadcasting large task binary with size 4.5 MiB\n",
      "24/04/03 18:53:15 WARN DecisionTreeMetadata: DecisionTree reducing maxBins from 35000 to 12303 (= number of training instances)\n",
      "24/04/03 18:53:15 WARN DAGScheduler: Broadcasting large task binary with size 4.7 MiB\n",
      "24/04/03 18:53:25 WARN DAGScheduler: Broadcasting large task binary with size 5.1 MiB\n",
      "24/04/03 18:53:29 WARN DAGScheduler: Broadcasting large task binary with size 5.1 MiB\n",
      "24/04/03 18:53:30 WARN DAGScheduler: Broadcasting large task binary with size 4.5 MiB\n",
      "24/04/03 18:53:30 WARN DAGScheduler: Broadcasting large task binary with size 4.5 MiB\n",
      "24/04/03 18:53:30 WARN DAGScheduler: Broadcasting large task binary with size 4.5 MiB\n",
      "24/04/03 18:53:30 WARN DecisionTreeMetadata: DecisionTree reducing maxBins from 30000 to 12303 (= number of training instances)\n",
      "24/04/03 18:53:30 WARN DAGScheduler: Broadcasting large task binary with size 4.7 MiB\n",
      "24/04/03 18:53:41 WARN DAGScheduler: Broadcasting large task binary with size 5.1 MiB\n",
      "24/04/03 18:53:45 WARN DAGScheduler: Broadcasting large task binary with size 5.1 MiB\n",
      "24/04/03 18:53:46 WARN DAGScheduler: Broadcasting large task binary with size 5.1 MiB\n",
      "24/04/03 18:53:47 WARN DAGScheduler: Broadcasting large task binary with size 5.1 MiB\n",
      "24/04/03 18:53:48 WARN DAGScheduler: Broadcasting large task binary with size 5.1 MiB\n",
      "24/04/03 18:53:49 WARN DAGScheduler: Broadcasting large task binary with size 4.5 MiB\n",
      "24/04/03 18:53:50 WARN DAGScheduler: Broadcasting large task binary with size 4.5 MiB\n",
      "24/04/03 18:53:50 WARN DAGScheduler: Broadcasting large task binary with size 4.5 MiB\n",
      "24/04/03 18:53:50 WARN DecisionTreeMetadata: DecisionTree reducing maxBins from 40000 to 12303 (= number of training instances)\n",
      "24/04/03 18:53:50 WARN DAGScheduler: Broadcasting large task binary with size 4.7 MiB\n",
      "24/04/03 18:54:00 WARN DAGScheduler: Broadcasting large task binary with size 5.1 MiB\n",
      "24/04/03 18:54:04 WARN DAGScheduler: Broadcasting large task binary with size 5.1 MiB\n",
      "24/04/03 18:54:05 WARN DAGScheduler: Broadcasting large task binary with size 5.1 MiB\n",
      "24/04/03 18:54:06 WARN DAGScheduler: Broadcasting large task binary with size 5.1 MiB\n",
      "24/04/03 18:54:07 WARN DAGScheduler: Broadcasting large task binary with size 5.1 MiB\n",
      "24/04/03 18:54:08 WARN DAGScheduler: Broadcasting large task binary with size 4.5 MiB\n",
      "24/04/03 18:54:09 WARN DAGScheduler: Broadcasting large task binary with size 4.5 MiB\n",
      "24/04/03 18:54:09 WARN DAGScheduler: Broadcasting large task binary with size 4.5 MiB\n",
      "24/04/03 18:54:09 WARN DecisionTreeMetadata: DecisionTree reducing maxBins from 35000 to 12303 (= number of training instances)\n",
      "24/04/03 18:54:09 WARN DAGScheduler: Broadcasting large task binary with size 4.7 MiB\n",
      "24/04/03 18:54:19 WARN DAGScheduler: Broadcasting large task binary with size 5.1 MiB\n",
      "24/04/03 18:54:23 WARN DAGScheduler: Broadcasting large task binary with size 5.1 MiB\n",
      "24/04/03 18:54:24 WARN DAGScheduler: Broadcasting large task binary with size 5.1 MiB\n",
      "24/04/03 18:54:25 WARN DAGScheduler: Broadcasting large task binary with size 5.1 MiB\n",
      "24/04/03 18:54:26 WARN DAGScheduler: Broadcasting large task binary with size 5.1 MiB\n",
      "24/04/03 18:54:27 WARN DAGScheduler: Broadcasting large task binary with size 4.5 MiB\n",
      "24/04/03 18:54:27 WARN DAGScheduler: Broadcasting large task binary with size 4.5 MiB\n",
      "24/04/03 18:54:28 WARN DAGScheduler: Broadcasting large task binary with size 4.5 MiB\n",
      "24/04/03 18:54:28 WARN DecisionTreeMetadata: DecisionTree reducing maxBins from 30000 to 12303 (= number of training instances)\n",
      "24/04/03 18:54:28 WARN DAGScheduler: Broadcasting large task binary with size 4.7 MiB\n",
      "24/04/03 18:54:38 WARN DAGScheduler: Broadcasting large task binary with size 5.1 MiB\n",
      "24/04/03 18:54:42 WARN DAGScheduler: Broadcasting large task binary with size 5.1 MiB\n",
      "24/04/03 18:54:43 WARN DAGScheduler: Broadcasting large task binary with size 5.1 MiB\n",
      "24/04/03 18:54:44 WARN DAGScheduler: Broadcasting large task binary with size 5.1 MiB\n",
      "24/04/03 18:54:45 WARN DAGScheduler: Broadcasting large task binary with size 5.1 MiB\n",
      "24/04/03 18:54:46 WARN DAGScheduler: Broadcasting large task binary with size 5.1 MiB\n",
      "24/04/03 18:54:48 WARN DAGScheduler: Broadcasting large task binary with size 5.1 MiB\n",
      "24/04/03 18:54:49 WARN DAGScheduler: Broadcasting large task binary with size 5.1 MiB\n",
      "24/04/03 18:54:50 WARN DAGScheduler: Broadcasting large task binary with size 5.1 MiB\n",
      "24/04/03 18:54:52 WARN DAGScheduler: Broadcasting large task binary with size 5.1 MiB\n",
      "24/04/03 18:54:54 WARN DAGScheduler: Broadcasting large task binary with size 4.5 MiB\n",
      "24/04/03 18:54:54 WARN DAGScheduler: Broadcasting large task binary with size 4.5 MiB\n",
      "24/04/03 18:54:54 WARN DAGScheduler: Broadcasting large task binary with size 4.5 MiB\n",
      "24/04/03 18:54:54 WARN DecisionTreeMetadata: DecisionTree reducing maxBins from 40000 to 12303 (= number of training instances)\n",
      "24/04/03 18:54:54 WARN DAGScheduler: Broadcasting large task binary with size 4.7 MiB\n",
      "24/04/03 18:55:05 WARN DAGScheduler: Broadcasting large task binary with size 5.1 MiB\n",
      "24/04/03 18:55:08 WARN DAGScheduler: Broadcasting large task binary with size 5.1 MiB\n",
      "24/04/03 18:55:09 WARN DAGScheduler: Broadcasting large task binary with size 5.1 MiB\n",
      "24/04/03 18:55:10 WARN DAGScheduler: Broadcasting large task binary with size 5.1 MiB\n",
      "24/04/03 18:55:11 WARN DAGScheduler: Broadcasting large task binary with size 5.1 MiB\n",
      "24/04/03 18:55:12 WARN DAGScheduler: Broadcasting large task binary with size 5.1 MiB\n",
      "24/04/03 18:55:14 WARN DAGScheduler: Broadcasting large task binary with size 5.1 MiB\n",
      "24/04/03 18:55:15 WARN DAGScheduler: Broadcasting large task binary with size 5.1 MiB\n",
      "24/04/03 18:55:17 WARN DAGScheduler: Broadcasting large task binary with size 5.1 MiB\n",
      "24/04/03 18:55:18 WARN DAGScheduler: Broadcasting large task binary with size 5.1 MiB\n",
      "24/04/03 18:55:20 WARN DAGScheduler: Broadcasting large task binary with size 4.5 MiB\n",
      "24/04/03 18:55:20 WARN DAGScheduler: Broadcasting large task binary with size 4.5 MiB\n",
      "24/04/03 18:55:20 WARN DAGScheduler: Broadcasting large task binary with size 4.5 MiB\n",
      "24/04/03 18:55:20 WARN DecisionTreeMetadata: DecisionTree reducing maxBins from 35000 to 12303 (= number of training instances)\n",
      "24/04/03 18:55:20 WARN DAGScheduler: Broadcasting large task binary with size 4.7 MiB\n",
      "24/04/03 18:55:30 WARN DAGScheduler: Broadcasting large task binary with size 5.1 MiB\n",
      "24/04/03 18:55:34 WARN DAGScheduler: Broadcasting large task binary with size 5.1 MiB\n",
      "24/04/03 18:55:35 WARN DAGScheduler: Broadcasting large task binary with size 5.1 MiB\n",
      "24/04/03 18:55:36 WARN DAGScheduler: Broadcasting large task binary with size 5.1 MiB\n",
      "24/04/03 18:55:37 WARN DAGScheduler: Broadcasting large task binary with size 5.1 MiB\n",
      "24/04/03 18:55:38 WARN DAGScheduler: Broadcasting large task binary with size 5.1 MiB\n",
      "24/04/03 18:55:40 WARN DAGScheduler: Broadcasting large task binary with size 5.1 MiB\n",
      "24/04/03 18:55:41 WARN DAGScheduler: Broadcasting large task binary with size 5.1 MiB\n",
      "24/04/03 18:55:43 WARN DAGScheduler: Broadcasting large task binary with size 5.1 MiB\n",
      "24/04/03 18:55:44 WARN DAGScheduler: Broadcasting large task binary with size 5.1 MiB\n",
      "24/04/03 18:55:46 WARN DAGScheduler: Broadcasting large task binary with size 4.5 MiB\n",
      "24/04/03 18:55:46 WARN DAGScheduler: Broadcasting large task binary with size 4.4 MiB\n",
      "24/04/03 18:55:47 WARN DAGScheduler: Broadcasting large task binary with size 4.4 MiB\n",
      "24/04/03 18:55:47 WARN DecisionTreeMetadata: DecisionTree reducing maxBins from 30000 to 15325 (= number of training instances)\n",
      "24/04/03 18:55:47 WARN DAGScheduler: Broadcasting large task binary with size 4.7 MiB\n",
      "24/04/03 18:56:01 WARN DAGScheduler: Broadcasting large task binary with size 5.1 MiB\n",
      "24/04/03 18:56:05 WARN DAGScheduler: Broadcasting large task binary with size 5.1 MiB\n",
      "24/04/03 18:56:07 WARN DAGScheduler: Broadcasting large task binary with size 5.1 MiB\n",
      "24/04/03 18:56:08 WARN DAGScheduler: Broadcasting large task binary with size 5.1 MiB\n",
      "24/04/03 18:56:10 WARN DAGScheduler: Broadcasting large task binary with size 5.1 MiB\n",
      "24/04/03 18:56:11 WARN DAGScheduler: Broadcasting large task binary with size 5.1 MiB\n",
      "24/04/03 18:56:13 WARN DAGScheduler: Broadcasting large task binary with size 5.1 MiB\n",
      "24/04/03 18:56:15 WARN DAGScheduler: Broadcasting large task binary with size 5.1 MiB\n",
      "24/04/03 18:56:17 WARN DAGScheduler: Broadcasting large task binary with size 5.1 MiB\n",
      "24/04/03 18:56:18 WARN DAGScheduler: Broadcasting large task binary with size 5.1 MiB\n",
      "                                                                                \r"
     ]
    }
   ],
   "source": [
    "cv_model = rfcv.fit(train_df)\n"
   ]
  },
  {
   "cell_type": "code",
   "execution_count": 42,
   "id": "8e38d0b1-fee5-49cf-b82d-5fff29e269f7",
   "metadata": {},
   "outputs": [],
   "source": [
    "best_dt_model = cv_model.bestModel"
   ]
  },
  {
   "cell_type": "code",
   "execution_count": 43,
   "id": "9f87bd95-cd87-4695-bdaa-6f7da8607a3d",
   "metadata": {},
   "outputs": [
    {
     "data": {
      "text/plain": [
       "DecisionTreeClassificationModel: uid=DecisionTreeClassifier_364f0c1d2b9f, depth=10, numNodes=225, numClasses=5, numFeatures=27999"
      ]
     },
     "execution_count": 43,
     "metadata": {},
     "output_type": "execute_result"
    }
   ],
   "source": [
    "best_dt_model"
   ]
  },
  {
   "cell_type": "code",
   "execution_count": 44,
   "id": "015aa503-b77d-4bd9-85d7-d6dfa6c824e8",
   "metadata": {},
   "outputs": [
    {
     "data": {
      "text/plain": [
       "SparseVector(27999, {0: 0.003, 3: 0.0006, 4: 0.0039, 6: 0.0028, 7: 0.002, 8: 0.0027, 9: 0.2846, 11: 0.0051, 12: 0.0017, 13: 0.0061, 14: 0.0011, 15: 0.0082, 16: 0.0013, 17: 0.004, 20: 0.0008, 21: 0.0793, 22: 0.0038, 23: 0.0028, 24: 0.0023, 25: 0.0434, 27: 0.0008, 29: 0.0011, 31: 0.0024, 32: 0.0013, 37: 0.0008, 39: 0.0013, 43: 0.0481, 47: 0.0015, 48: 0.0028, 51: 0.001, 54: 0.0068, 55: 0.0619, 56: 0.0052, 59: 0.0012, 63: 0.0043, 65: 0.0034, 66: 0.0018, 71: 0.0049, 85: 0.0345, 86: 0.002, 89: 0.0011, 90: 0.0029, 93: 0.0042, 100: 0.0016, 104: 0.005, 120: 0.0031, 123: 0.001, 128: 0.0016, 145: 0.0028, 150: 0.044, 152: 0.0019, 164: 0.0011, 166: 0.0018, 179: 0.0018, 183: 0.0364, 185: 0.0041, 187: 0.005, 197: 0.0018, 200: 0.0012, 204: 0.0038, 207: 0.0016, 211: 0.004, 220: 0.0607, 228: 0.0728, 249: 0.0038, 250: 0.0014, 267: 0.0028, 273: 0.0029, 297: 0.0018, 338: 0.0036, 345: 0.004, 346: 0.0049, 358: 0.004, 462: 0.0035, 510: 0.0053, 514: 0.0018, 519: 0.0021, 538: 0.0025, 586: 0.0019, 734: 0.0032, 768: 0.0072, 868: 0.0033, 981: 0.0026, 1048: 0.0024, 1134: 0.0029, 1204: 0.003, 1284: 0.0015, 1357: 0.0022, 1627: 0.0031, 1673: 0.0049, 1752: 0.0037, 4810: 0.0015})"
      ]
     },
     "execution_count": 44,
     "metadata": {},
     "output_type": "execute_result"
    }
   ],
   "source": [
    "best_dt_model.featureImportances"
   ]
  },
  {
   "cell_type": "code",
   "execution_count": 45,
   "id": "b0d9bfc5-14b6-4312-90be-edd3b21dec58",
   "metadata": {},
   "outputs": [
    {
     "name": "stderr",
     "output_type": "stream",
     "text": [
      "24/04/03 18:59:05 WARN DAGScheduler: Broadcasting large task binary with size 4.5 MiB\n"
     ]
    },
    {
     "name": "stdout",
     "output_type": "stream",
     "text": [
      "Test set accuracy = 0.30\n"
     ]
    }
   ],
   "source": [
    "predictions = best_dt_model.transform(test_df)\n",
    "accuracy = evaluator.evaluate(predictions)\n",
    "print(\"Test set accuracy = {:.2f}\".format(accuracy))"
   ]
  },
  {
   "cell_type": "code",
   "execution_count": 46,
   "id": "a725488e-9494-4994-856a-4b2bf2646346",
   "metadata": {},
   "outputs": [
    {
     "name": "stderr",
     "output_type": "stream",
     "text": [
      "24/04/03 18:59:22 WARN DAGScheduler: Broadcasting large task binary with size 4.5 MiB\n"
     ]
    },
    {
     "data": {
      "text/plain": [
       "[Row(genre='crime', label=0.0, prediction=0.0),\n",
       " Row(genre='action', label=2.0, prediction=4.0),\n",
       " Row(genre='adventure', label=4.0, prediction=3.0),\n",
       " Row(genre='adventure', label=4.0, prediction=4.0),\n",
       " Row(genre='adventure', label=4.0, prediction=4.0),\n",
       " Row(genre='adventure', label=4.0, prediction=4.0),\n",
       " Row(genre='crime', label=0.0, prediction=4.0),\n",
       " Row(genre='adventure', label=4.0, prediction=4.0),\n",
       " Row(genre='adventure', label=4.0, prediction=0.0),\n",
       " Row(genre='action', label=2.0, prediction=4.0),\n",
       " Row(genre='adventure', label=4.0, prediction=4.0),\n",
       " Row(genre='romance', label=3.0, prediction=4.0),\n",
       " Row(genre='adventure', label=4.0, prediction=4.0),\n",
       " Row(genre='adventure', label=4.0, prediction=4.0),\n",
       " Row(genre='horror', label=1.0, prediction=4.0),\n",
       " Row(genre='horror', label=1.0, prediction=4.0),\n",
       " Row(genre='adventure', label=4.0, prediction=4.0),\n",
       " Row(genre='crime', label=0.0, prediction=3.0),\n",
       " Row(genre='crime', label=0.0, prediction=0.0),\n",
       " Row(genre='romance', label=3.0, prediction=3.0),\n",
       " Row(genre='crime', label=0.0, prediction=4.0),\n",
       " Row(genre='crime', label=0.0, prediction=4.0),\n",
       " Row(genre='romance', label=3.0, prediction=3.0),\n",
       " Row(genre='romance', label=3.0, prediction=3.0),\n",
       " Row(genre='crime', label=0.0, prediction=4.0),\n",
       " Row(genre='crime', label=0.0, prediction=4.0),\n",
       " Row(genre='adventure', label=4.0, prediction=4.0),\n",
       " Row(genre='romance', label=3.0, prediction=4.0),\n",
       " Row(genre='adventure', label=4.0, prediction=4.0),\n",
       " Row(genre='crime', label=0.0, prediction=4.0)]"
      ]
     },
     "execution_count": 46,
     "metadata": {},
     "output_type": "execute_result"
    }
   ],
   "source": [
    "predictions.select(\"genre\",\"label\",\"prediction\").head(30)"
   ]
  },
  {
   "cell_type": "code",
   "execution_count": 47,
   "id": "bcf261ca-feec-44bf-a33b-d682d9c9014e",
   "metadata": {},
   "outputs": [],
   "source": [
    "\n",
    "\n",
    "def print_statistis(predictions):\n",
    "\n",
    "    # Compute raw scores on the test set\n",
    "    predictionAndLabels = predictions.rdd.map(lambda lp: (lp.prediction, lp.label))\n",
    "    \n",
    "    # Instantiate metrics object\n",
    "    metrics = MulticlassMetrics(predictionAndLabels)\n",
    "    confusion_matrix = metrics.confusionMatrix().toArray()\n",
    "    \n",
    "    # Overall statistics\n",
    "    precision = metrics.precision(1.0)\n",
    "    recall = metrics.recall(1.0)\n",
    "    f1Score = metrics.fMeasure(1.0)\n",
    "    total_predictions = confusion_matrix.sum(axis=1)\n",
    "    print(\"Summary Stats\")\n",
    "    print(\"Precision = %s\" % precision)\n",
    "    print(\"Recall = %s\" % recall)\n",
    "    print(\"F1 Score = %s\" % f1Score)\n",
    "    \n",
    "    # Statistics by class\n",
    "    labels = predictions.rdd.map(lambda lp: lp.label).distinct().collect()\n",
    "    accuracies = {}\n",
    "    for label in sorted(labels):\n",
    "        # print(\"______________________\"+mapping[label]+\"_____________________\")\n",
    "        print(\"Class %s precision = %s\" % (label, metrics.precision(label)))\n",
    "        print(\"Class %s recall = %s\" % (label, metrics.recall(label)))\n",
    "        print(\"Class %s F1 Measure = %s\" % (label, metrics.fMeasure(label, beta=1.0)))\n",
    "        \n",
    "    \n",
    "    # Calculate the accuracy for each label\n",
    "    print(total_predictions)\n",
    "    for label in range(len(total_predictions)):\n",
    "        correct_predictions = confusion_matrix[label, label]\n",
    "        accuracy = correct_predictions / total_predictions[label]\n",
    "        accuracies[label] = accuracy\n",
    "    \n",
    "    # Print accuracies for each label\n",
    "    for label, accuracy in accuracies.items():\n",
    "        print(\"Accuracy for label %s: %s\" % (label, accuracy))\n"
   ]
  },
  {
   "cell_type": "code",
   "execution_count": 48,
   "id": "c2554d92-a669-412f-b66c-f2e716abf29e",
   "metadata": {},
   "outputs": [
    {
     "name": "stderr",
     "output_type": "stream",
     "text": [
      "/home/umang/.local/lib/python3.10/site-packages/pyspark/sql/context.py:125: FutureWarning: Deprecated in 3.0.0. Use SparkSession.builder.getOrCreate() instead.\n",
      "  warnings.warn(\n",
      "24/04/03 18:59:27 WARN DAGScheduler: Broadcasting large task binary with size 4.5 MiB\n",
      "24/04/03 18:59:28 WARN DAGScheduler: Broadcasting large task binary with size 4.5 MiB\n",
      "24/04/03 19:00:35 WARN DAGScheduler: Broadcasting large task binary with size 4.5 MiB\n"
     ]
    },
    {
     "name": "stdout",
     "output_type": "stream",
     "text": [
      "Summary Stats\n",
      "Precision = 0.6474820143884892\n",
      "Recall = 0.11842105263157894\n",
      "F1 Score = 0.20022246941045604\n"
     ]
    },
    {
     "name": "stderr",
     "output_type": "stream",
     "text": [
      "[Stage 1546:>                                                       (0 + 1) / 1]\r"
     ]
    },
    {
     "name": "stdout",
     "output_type": "stream",
     "text": [
      "Class 0.0 precision = 0.5032467532467533\n",
      "Class 0.0 recall = 0.20421607378129117\n",
      "Class 0.0 F1 Measure = 0.29053420805998126\n",
      "Class 1.0 precision = 0.6474820143884892\n",
      "Class 1.0 recall = 0.11842105263157894\n",
      "Class 1.0 F1 Measure = 0.20022246941045604\n",
      "Class 2.0 precision = 0.2916666666666667\n",
      "Class 2.0 recall = 0.028225806451612902\n",
      "Class 2.0 F1 Measure = 0.051470588235294115\n",
      "Class 3.0 precision = 0.6228813559322034\n",
      "Class 3.0 recall = 0.19784656796769853\n",
      "Class 3.0 F1 Measure = 0.30030643513789584\n",
      "Class 4.0 precision = 0.23494176372712147\n",
      "Class 4.0 recall = 0.9363395225464191\n",
      "Class 4.0 F1 Measure = 0.3756318169725991\n",
      "[759. 760. 744. 743. 754.]\n",
      "Accuracy for label 0: 0.20421607378129117\n",
      "Accuracy for label 1: 0.11842105263157894\n",
      "Accuracy for label 2: 0.028225806451612902\n",
      "Accuracy for label 3: 0.19784656796769853\n",
      "Accuracy for label 4: 0.9363395225464191\n"
     ]
    },
    {
     "name": "stderr",
     "output_type": "stream",
     "text": [
      "                                                                                \r"
     ]
    }
   ],
   "source": [
    "print_statistis(predictions)\n"
   ]
  },
  {
   "cell_type": "code",
   "execution_count": null,
   "id": "74c03928-f265-4532-8411-ec1bc70f09ee",
   "metadata": {},
   "outputs": [],
   "source": []
  },
  {
   "cell_type": "code",
   "execution_count": 49,
   "id": "ff0fcbb4-0dda-47c9-82a3-d59dad4b5b0f",
   "metadata": {},
   "outputs": [
    {
     "name": "stderr",
     "output_type": "stream",
     "text": [
      "24/04/03 19:01:42 WARN DAGScheduler: Broadcasting large task binary with size 4.5 MiB\n",
      "24/04/03 19:01:43 WARN DAGScheduler: Broadcasting large task binary with size 4.5 MiB\n",
      "                                                                                \r"
     ]
    }
   ],
   "source": [
    "predictionAndLabels = predictions.rdd.map(lambda lp: (lp.prediction, lp.label))\n",
    "    \n",
    "    # Instantiate metrics object\n",
    "metrics = MulticlassMetrics(predictionAndLabels)\n",
    "confusion_matrix = metrics.confusionMatrix().toArray()\n",
    "# confusion_matrix_pd = confusion_matrix.toPandas()\n",
    "\n",
    "# Create the confusion matrix plot using Seaborn\n"
   ]
  },
  {
   "cell_type": "code",
   "execution_count": null,
   "id": "c7ebbd77-5544-4708-b1f2-ec9a4363e7b6",
   "metadata": {},
   "outputs": [],
   "source": []
  },
  {
   "cell_type": "code",
   "execution_count": 50,
   "id": "ed06b2fa-9e5e-4529-aab6-8996d186e603",
   "metadata": {},
   "outputs": [],
   "source": [
    "confusion_matrix_df = pd.DataFrame(confusion_matrix, index=[mapping[i] for i in range(confusion_matrix.shape[0])], columns=[mapping[i] for i in range(confusion_matrix.shape[1])])\n"
   ]
  },
  {
   "cell_type": "code",
   "execution_count": 51,
   "id": "33e9914b-bfe7-4708-ad6b-d6a2c69cd51f",
   "metadata": {},
   "outputs": [
    {
     "data": {
      "image/png": "[encoded data removed]",
      "text/plain": [
       "<Figure size 640x480 with 2 Axes>"
      ]
     },
     "metadata": {},
     "output_type": "display_data"
    }
   ],
   "source": [
    "sns.heatmap(confusion_matrix_df, annot=True, fmt=\"g\", cmap=\"Blues\")\n",
    "\n",
    "# Add labels and title\n",
    "plt.xlabel(\"Actual Label\")\n",
    "plt.ylabel(\"Predicted Label\")\n",
    "plt.title(\"Confusion Matrix\")\n",
    "\n",
    "# Show plot\n",
    "plt.show()"
   ]
  },
  {
   "cell_type": "code",
   "execution_count": 55,
   "id": "5afb1399-8939-4515-8d16-ea9a05d43a70",
   "metadata": {},
   "outputs": [],
   "source": [
    "from pyspark.mllib.evaluation import BinaryClassificationMetrics\n",
    "\n",
    "# Scala version implements .roc() and .pr()\n",
    "# Python: https://spark.apache.org/docs/latest/api/python/_modules/pyspark/mllib/common.html\n",
    "# Scala: https://spark.apache.org/docs/latest/api/java/org/apache/spark/mllib/evaluation/BinaryClassificationMetrics.html\n",
    "class CurveMetrics(BinaryClassificationMetrics):\n",
    "    def __init__(self, *args):\n",
    "        super(CurveMetrics, self).__init__(*args)\n",
    "\n",
    "    def _to_list(self, rdd):\n",
    "        points = []\n",
    "        # Note this collect could be inefficient for large datasets \n",
    "        # considering there may be one probability per datapoint (at most)\n",
    "        # The Scala version takes a numBins parameter, \n",
    "        # but it doesn't seem possible to pass this from Python to Java\n",
    "        for row in rdd.collect():\n",
    "            # Results are returned as type scala.Tuple2, \n",
    "            # which doesn't appear to have a py4j mapping\n",
    "            points += [(float(row._1()), float(row._2()))]\n",
    "        return points\n",
    "\n",
    "    def get_curve(self, method):\n",
    "        rdd = getattr(self._java_model, method)().toJavaRDD()\n",
    "        return self._to_list(rdd)"
   ]
  },
  {
   "cell_type": "code",
   "execution_count": 58,
   "id": "6541031b-9f5f-4b57-93bd-27437636df8a",
   "metadata": {},
   "outputs": [
    {
     "name": "stderr",
     "output_type": "stream",
     "text": [
      "24/04/03 19:15:54 WARN DAGScheduler: Broadcasting large task binary with size 4.5 MiB\n",
      "24/04/03 19:15:54 WARN DAGScheduler: Broadcasting large task binary with size 4.5 MiB\n"
     ]
    },
    {
     "data": {
      "text/plain": [
       "[<matplotlib.lines.Line2D at 0x7feeb2d0d030>]"
      ]
     },
     "execution_count": 58,
     "metadata": {},
     "output_type": "execute_result"
    },
    {
     "data": {
      "image/png": "[encoded data removed]",
      "text/plain": [
       "<Figure size 640x480 with 1 Axes>"
      ]
     },
     "metadata": {},
     "output_type": "display_data"
    }
   ],
   "source": [
    "\n",
    "# Returns as a list (false positive rate, true positive rate)\n",
    "preds = predictions.select('label','prediction').rdd.map(lambda row: (float(row['prediction']), float(row['label'])))\n",
    "points = CurveMetrics(preds).get_curve('roc')\n",
    "\n",
    "plt.figure()\n",
    "x_val = [x[0] for x in points]\n",
    "y_val = [x[1] for x in points]\n",
    "# plt.title(title)\n",
    "plt.xlabel(\"FPR\")\n",
    "plt.ylabel(\"TPR\")\n",
    "plt.plot(x_val, y_val)"
   ]
  },
  {
   "cell_type": "code",
   "execution_count": null,
   "id": "77f9046e-9c40-4b03-8022-1c9a00cd7b45",
   "metadata": {},
   "outputs": [],
   "source": []
  }
 ],
 "metadata": {
  "kernelspec": {
   "display_name": "Python 3 (ipykernel)",
   "language": "python",
   "name": "python3"
  },
  "language_info": {
   "codemirror_mode": {
    "name": "ipython",
    "version": 3
   },
   "file_extension": ".py",
   "mimetype": "text/x-python",
   "name": "python",
   "nbconvert_exporter": "python",
   "pygments_lexer": "ipython3",
   "version": "3.10.12"
  }
 },
 "nbformat": 4,
 "nbformat_minor": 5
}
