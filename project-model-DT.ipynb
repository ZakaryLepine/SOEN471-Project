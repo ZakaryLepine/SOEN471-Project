{
 "cells": [
  {
   "cell_type": "code",
   "execution_count": 1,
   "id": "5c8e3b1c817d6a84",
   "metadata": {
    "ExecuteTime": {
     "end_time": "2024-03-28T20:40:30.775319Z",
     "start_time": "2024-03-28T20:39:54.151190Z"
    },
    "collapsed": false,
    "jupyter": {
     "outputs_hidden": false
    }
   },
   "outputs": [
    {
     "name": "stdout",
     "output_type": "stream",
     "text": [
      "Defaulting to user installation because normal site-packages is not writeable\n",
      "Requirement already satisfied: seaborn in /home/umang/.local/lib/python3.10/site-packages (0.13.0)\n",
      "Requirement already satisfied: matplotlib!=3.6.1,>=3.3 in /usr/local/lib/python3.10/dist-packages (from seaborn) (3.8.1)\n",
      "Requirement already satisfied: numpy!=1.24.0,>=1.20 in /usr/local/lib/python3.10/dist-packages (from seaborn) (1.26.1)\n",
      "Requirement already satisfied: pandas>=1.2 in /home/umang/.local/lib/python3.10/site-packages (from seaborn) (2.1.2)\n",
      "Requirement already satisfied: contourpy>=1.0.1 in /usr/local/lib/python3.10/dist-packages (from matplotlib!=3.6.1,>=3.3->seaborn) (1.2.0)\n",
      "Requirement already satisfied: kiwisolver>=1.3.1 in /usr/local/lib/python3.10/dist-packages (from matplotlib!=3.6.1,>=3.3->seaborn) (1.4.5)\n",
      "Requirement already satisfied: packaging>=20.0 in /usr/local/lib/python3.10/dist-packages (from matplotlib!=3.6.1,>=3.3->seaborn) (23.2)\n",
      "Requirement already satisfied: cycler>=0.10 in /usr/local/lib/python3.10/dist-packages (from matplotlib!=3.6.1,>=3.3->seaborn) (0.12.1)\n",
      "Requirement already satisfied: pyparsing>=2.3.1 in /usr/lib/python3/dist-packages (from matplotlib!=3.6.1,>=3.3->seaborn) (2.4.7)\n",
      "Requirement already satisfied: python-dateutil>=2.7 in /usr/local/lib/python3.10/dist-packages (from matplotlib!=3.6.1,>=3.3->seaborn) (2.8.2)\n",
      "Requirement already satisfied: pillow>=8 in /usr/local/lib/python3.10/dist-packages (from matplotlib!=3.6.1,>=3.3->seaborn) (10.0.1)\n",
      "Requirement already satisfied: fonttools>=4.22.0 in /usr/local/lib/python3.10/dist-packages (from matplotlib!=3.6.1,>=3.3->seaborn) (4.44.0)\n",
      "Requirement already satisfied: tzdata>=2022.1 in /home/umang/.local/lib/python3.10/site-packages (from pandas>=1.2->seaborn) (2023.3)\n",
      "Requirement already satisfied: pytz>=2020.1 in /home/umang/.local/lib/python3.10/site-packages (from pandas>=1.2->seaborn) (2023.3.post1)\n",
      "Requirement already satisfied: six>=1.5 in /usr/lib/python3/dist-packages (from python-dateutil>=2.7->matplotlib!=3.6.1,>=3.3->seaborn) (1.16.0)\n",
      "Defaulting to user installation because normal site-packages is not writeable\n",
      "Requirement already satisfied: nltk in /home/umang/.local/lib/python3.10/site-packages (3.8.1)\n",
      "Requirement already satisfied: joblib in /home/umang/.local/lib/python3.10/site-packages (from nltk) (1.3.2)\n",
      "Requirement already satisfied: regex>=2021.8.3 in /home/umang/.local/lib/python3.10/site-packages (from nltk) (2023.12.25)\n",
      "Requirement already satisfied: tqdm in /home/umang/.local/lib/python3.10/site-packages (from nltk) (4.66.2)\n",
      "Requirement already satisfied: click in /home/umang/.local/lib/python3.10/site-packages (from nltk) (8.1.7)\n",
      "Defaulting to user installation because normal site-packages is not writeable\n",
      "Requirement already satisfied: wordcloud in /home/umang/.local/lib/python3.10/site-packages (1.9.3)\n",
      "Requirement already satisfied: pillow in /usr/local/lib/python3.10/dist-packages (from wordcloud) (10.0.1)\n",
      "Requirement already satisfied: numpy>=1.6.1 in /usr/local/lib/python3.10/dist-packages (from wordcloud) (1.26.1)\n",
      "Requirement already satisfied: matplotlib in /usr/local/lib/python3.10/dist-packages (from wordcloud) (3.8.1)\n",
      "Requirement already satisfied: python-dateutil>=2.7 in /usr/local/lib/python3.10/dist-packages (from matplotlib->wordcloud) (2.8.2)\n",
      "Requirement already satisfied: pyparsing>=2.3.1 in /usr/lib/python3/dist-packages (from matplotlib->wordcloud) (2.4.7)\n",
      "Requirement already satisfied: fonttools>=4.22.0 in /usr/local/lib/python3.10/dist-packages (from matplotlib->wordcloud) (4.44.0)\n",
      "Requirement already satisfied: contourpy>=1.0.1 in /usr/local/lib/python3.10/dist-packages (from matplotlib->wordcloud) (1.2.0)\n",
      "Requirement already satisfied: packaging>=20.0 in /usr/local/lib/python3.10/dist-packages (from matplotlib->wordcloud) (23.2)\n",
      "Requirement already satisfied: cycler>=0.10 in /usr/local/lib/python3.10/dist-packages (from matplotlib->wordcloud) (0.12.1)\n",
      "Requirement already satisfied: kiwisolver>=1.3.1 in /usr/local/lib/python3.10/dist-packages (from matplotlib->wordcloud) (1.4.5)\n",
      "Requirement already satisfied: six>=1.5 in /usr/lib/python3/dist-packages (from python-dateutil>=2.7->matplotlib->wordcloud) (1.16.0)\n"
     ]
    }
   ],
   "source": [
    "!pip install seaborn\n",
    "!pip install nltk\n",
    "!pip install wordcloud"
   ]
  },
  {
   "cell_type": "code",
   "execution_count": 2,
   "id": "initial_id",
   "metadata": {
    "ExecuteTime": {
     "end_time": "2024-03-28T20:40:44.329018Z",
     "start_time": "2024-03-28T20:40:30.783515Z"
    }
   },
   "outputs": [],
   "source": [
    "import pandas as pd\n",
    "import numpy as np\n",
    "import matplotlib.pyplot as plt\n",
    "import seaborn as sns\n",
    "import re\n",
    "from nltk.tokenize import word_tokenize\n",
    "from nltk.stem import WordNetLemmatizer\n",
    "from nltk.corpus import stopwords\n",
    "from wordcloud import WordCloud"
   ]
  },
  {
   "cell_type": "code",
   "execution_count": 3,
   "id": "58be404e-eb80-479b-8ee5-633a73fea693",
   "metadata": {},
   "outputs": [],
   "source": [
    "import os.path as path\n",
    "from pyspark.sql import SparkSession\n",
    "from pyspark.sql import column\n",
    "from pyspark.sql.functions import *\n",
    "import matplotlib.pyplot as plt\n",
    "from pyspark.ml.feature import StringIndexer, VectorAssembler,OneHotEncoder\n",
    "from pyspark.ml import Pipeline\n",
    "from pyspark.mllib.util import MLUtils\n",
    "from pyspark.mllib.evaluation import MulticlassMetrics\n",
    "from pyspark.ml.evaluation import MulticlassClassificationEvaluator\n",
    "from pyspark.ml.classification import DecisionTreeClassifier\n",
    "from pyspark.ml.tuning import ParamGridBuilder, CrossValidator"
   ]
  },
  {
   "cell_type": "code",
   "execution_count": 4,
   "id": "80e95008-2ae6-40c8-bc78-cc92118eb66d",
   "metadata": {},
   "outputs": [
    {
     "name": "stderr",
     "output_type": "stream",
     "text": [
      "24/04/03 18:19:37 WARN Utils: Your hostname, DESKTOP-968IKC4 resolves to a loopback address: 127.0.1.1; using 172.31.102.226 instead (on interface eth0)\n",
      "24/04/03 18:19:37 WARN Utils: Set SPARK_LOCAL_IP if you need to bind to another address\n",
      "WARNING: An illegal reflective access operation has occurred\n",
      "WARNING: Illegal reflective access by org.apache.spark.unsafe.Platform (file:/home/umang/.local/lib/python3.10/site-packages/pyspark/jars/spark-unsafe_2.12-3.2.2.jar) to constructor java.nio.DirectByteBuffer(long,int)\n",
      "WARNING: Please consider reporting this to the maintainers of org.apache.spark.unsafe.Platform\n",
      "WARNING: Use --illegal-access=warn to enable warnings of further illegal reflective access operations\n",
      "WARNING: All illegal access operations will be denied in a future release\n",
      "Using Spark's default log4j profile: org/apache/spark/log4j-defaults.properties\n",
      "Setting default log level to \"WARN\".\n",
      "To adjust logging level use sc.setLogLevel(newLevel). For SparkR, use setLogLevel(newLevel).\n",
      "24/04/03 18:19:38 WARN NativeCodeLoader: Unable to load native-hadoop library for your platform... using builtin-java classes where applicable\n",
      "24/04/03 18:19:39 WARN Utils: Service 'SparkUI' could not bind on port 4040. Attempting port 4041.\n"
     ]
    }
   ],
   "source": [
    "def init_spark():\n",
    "  return SparkSession \\\n",
    "        .builder \\\n",
    "        .appName(\"Big data project\") \\\n",
    "        .config(\"spark.executor.memory\", \"16g\") \\\n",
    "        .config(\"spark.driver.memory\", \"16g\") \\\n",
    "        .getOrCreate()\n",
    "\n",
    "spark = init_spark()"
   ]
  },
  {
   "cell_type": "code",
   "execution_count": 5,
   "id": "19654b49-0406-435c-8ca1-0b30c6ab91bb",
   "metadata": {},
   "outputs": [],
   "source": [
    "def get_data_dataframe(dir=\"final_dataset.csv\"):\n",
    "    # Specify the directory where the CSV files are saved\n",
    "    csv_directory = dir\n",
    "    \n",
    "    # Read the CSV files back into a DataFrame\n",
    "    final_df_read = spark.read.option(\"header\", \"true\").option(\"multiline\", \"true\").csv(csv_directory)\n",
    "    \n",
    "    # Add a random column to shuffle data randomly\n",
    "    shuffled_df = final_df_read.withColumn(\"rand\", rand())\n",
    "    shuffled_df = shuffled_df.orderBy(\"rand\")\n",
    "    final_df_read = shuffled_df.drop(\"rand\")\n",
    "    return final_df_read\n",
    "\n"
   ]
  },
  {
   "cell_type": "code",
   "execution_count": 6,
   "id": "bfc7f32c-2b4e-463e-af66-2d6e3fa7972b",
   "metadata": {},
   "outputs": [],
   "source": [
    "df=get_data_dataframe(\"final_dataset_all_imdb.csv\").limit(20000)\n"
   ]
  },
  {
   "cell_type": "code",
   "execution_count": 7,
   "id": "92d518e7-324e-4739-aa7b-9c117590c377",
   "metadata": {},
   "outputs": [
    {
     "data": {
      "text/plain": [
       "['movie_id',\n",
       " 'movie_name',\n",
       " 'genre',\n",
       " 'description',\n",
       " 'director',\n",
       " 'actor1',\n",
       " 'actor2',\n",
       " 'actor3']"
      ]
     },
     "execution_count": 7,
     "metadata": {},
     "output_type": "execute_result"
    }
   ],
   "source": [
    "df.columns"
   ]
  },
  {
   "cell_type": "code",
   "execution_count": 8,
   "id": "96318541-5cdd-4628-a452-32ec642eaf7c",
   "metadata": {},
   "outputs": [
    {
     "data": {
      "text/plain": [
       "[Row(movie_id='tt11010888', movie_name='Student Body', genre='horror', description=\"High-school student Jane Shipley seeks to mend her splintering relationship with childhood best friend Merritt and fit in with her rebellious peers. When Jane's math teacher oversteps his ...                See full summary\\xa0»\", director='Lee Ann Kurr', actor1='Christian Camargo', actor2='Montse Hernandez', actor3='Cheyenne Haynes'),\n",
       " Row(movie_id='tt0097626', movie_name='Johnny Handsome', genre='crime', description='After being double crossed and thrown in jail, a deformed gangster gets a new face and rehabilitation, but his desire for revenge looms.', director='Walter Hill', actor1='Mickey Rourke', actor2='Ellen Barkin', actor3='Elizabeth McGovern')]"
      ]
     },
     "execution_count": 8,
     "metadata": {},
     "output_type": "execute_result"
    }
   ],
   "source": [
    "df.take(2)"
   ]
  },
  {
   "cell_type": "code",
   "execution_count": 9,
   "id": "cbc9754f-d96b-4693-9686-751f8ae24571",
   "metadata": {},
   "outputs": [],
   "source": [
    "# df.drop(\"director\",\"actor2\",\"actor3\")"
   ]
  },
  {
   "cell_type": "code",
   "execution_count": 10,
   "id": "a8c1bf1b-3c52-4f7c-9485-3c39bb138d07",
   "metadata": {},
   "outputs": [
    {
     "name": "stderr",
     "output_type": "stream",
     "text": [
      "[nltk_data] Downloading package punkt to /home/umang/nltk_data...\n",
      "[nltk_data]   Package punkt is already up-to-date!\n",
      "[nltk_data] Downloading package stopwords to /home/umang/nltk_data...\n",
      "[nltk_data]   Package stopwords is already up-to-date!\n",
      "[nltk_data] Downloading package wordnet to /home/umang/nltk_data...\n",
      "[nltk_data]   Package wordnet is already up-to-date!\n"
     ]
    }
   ],
   "source": [
    "import nltk\n",
    "nltk.download('punkt')\n",
    "nltk.download('stopwords')\n",
    "nltk.download('wordnet')\n",
    "\n",
    "stopword = set(stopwords.words('english'))\n",
    "\n",
    "def preprocessing(text):\n",
    "    # Convert text to lowercase\n",
    "    text = text.lower()\n",
    "    \n",
    "    # Remove punctuation using regular expressions\n",
    "    text = re.sub(r'[^\\w\\s]', '', text)\n",
    "    \n",
    "    # Remove specific characters #, @, and $\n",
    "    text = re.sub(r'[#@\\$]', '', text)\n",
    "    \n",
    "    # tokenize and convert to list\n",
    "    tokens = word_tokenize(text)\n",
    "    \n",
    "    ## Lemmatize it \n",
    "    lemmatizer  = WordNetLemmatizer()\n",
    "    \n",
    "    ## lemmatize each token\n",
    "   # text = [lemmatizer.lemmatize(token) for token in tokens]\n",
    "    text = text.split()\n",
    "    \n",
    "    text = [word for word in text if word not in stopword]\n",
    "    \n",
    "    \n",
    "    return \" \".join(text) "
   ]
  },
  {
   "cell_type": "code",
   "execution_count": 11,
   "id": "d3312b75-5150-4bff-917f-f20cf13cbc1e",
   "metadata": {},
   "outputs": [],
   "source": [
    "# pdd=df.toPandas()\n",
    "# # pdd.drop_duplicates(inplace = True)\n",
    "# # pdd.dropna( inplace = True )\n",
    "# pdd.size"
   ]
  },
  {
   "cell_type": "code",
   "execution_count": 12,
   "id": "67e71c1d-ea5e-43e0-ae62-b592c7c5d314",
   "metadata": {},
   "outputs": [],
   "source": [
    "from pyspark.ml.feature import RegexTokenizer, StopWordsRemover, CountVectorizer, IDF, StringIndexer\n",
    "from pyspark.ml.feature import VectorAssembler\n",
    "from pyspark.ml.classification import RandomForestClassifier,RandomForestClassificationModel"
   ]
  },
  {
   "cell_type": "code",
   "execution_count": null,
   "id": "ab36f563-9453-4c4a-80ed-bdceb3f04750",
   "metadata": {},
   "outputs": [],
   "source": []
  },
  {
   "cell_type": "code",
   "execution_count": 13,
   "id": "232f0be3-65ec-4978-a4f6-0fc0b8738442",
   "metadata": {},
   "outputs": [],
   "source": [
    "# df=combined_train_df"
   ]
  },
  {
   "cell_type": "code",
   "execution_count": 14,
   "id": "358a2add-d7c9-4a4c-8b74-e715dc2e2a97",
   "metadata": {},
   "outputs": [],
   "source": [
    "# df\n",
    "# "
   ]
  },
  {
   "cell_type": "code",
   "execution_count": 15,
   "id": "24c1171c-2197-4e1b-8807-e3cf72246aaa",
   "metadata": {},
   "outputs": [],
   "source": [
    "# Remove duplicate rows\n",
    "df = df.dropDuplicates()\n",
    "\n",
    "# Remove rows with null values\n",
    "# df_no_null = df_no_duplicates.dropna()\n"
   ]
  },
  {
   "cell_type": "code",
   "execution_count": 16,
   "id": "40158697-09ab-4cb8-a585-1d36049adb37",
   "metadata": {},
   "outputs": [
    {
     "data": {
      "text/plain": [
       "20000"
      ]
     },
     "execution_count": 16,
     "metadata": {},
     "output_type": "execute_result"
    }
   ],
   "source": [
    "df.count()"
   ]
  },
  {
   "cell_type": "code",
   "execution_count": 17,
   "id": "b97c2339-01f6-400a-9a1e-c12aefa016c6",
   "metadata": {},
   "outputs": [],
   "source": [
    "# df=df_no_duplicates"
   ]
  },
  {
   "cell_type": "code",
   "execution_count": 18,
   "id": "302eb5e8-9b6b-49db-b83c-682eab8786fb",
   "metadata": {},
   "outputs": [],
   "source": [
    "# df = df.select([sum (col(c).isNull().cast(\"int\")).alias(c) for c in df.columns])\n",
    "\n",
    "# # Show the count of null values for each column\n",
    "# df.show()\n"
   ]
  },
  {
   "cell_type": "code",
   "execution_count": 19,
   "id": "b43824c7-7de8-4c77-b2d8-631bf0eb668a",
   "metadata": {},
   "outputs": [],
   "source": [
    "df = df.dropna()"
   ]
  },
  {
   "cell_type": "code",
   "execution_count": 20,
   "id": "78f91e52-916f-4acf-9dc7-177fd0642708",
   "metadata": {},
   "outputs": [
    {
     "name": "stderr",
     "output_type": "stream",
     "text": [
      "                                                                                \r"
     ]
    }
   ],
   "source": [
    "# df = df.select([sum (col(c).isNull().cast(\"int\")).alias(c) for c in df.columns])\n",
    "\n",
    "# # Show the count of null values for each column\n",
    "# df.show()\n",
    "# Tokenization, stop word removal, and TF-IDF transformation for text data\n",
    "director_indexer = StringIndexer(inputCol=\"director\", outputCol=\"director_indexed\")\n",
    "actor1_indexer = StringIndexer(inputCol=\"actor1\", outputCol=\"actor1_indexed\")\n",
    "actor2_indexer = StringIndexer(inputCol=\"actor2\", outputCol=\"actor2_indexed\")\n",
    "actor3_indexer = StringIndexer(inputCol=\"actor3\", outputCol=\"actor3_indexed\")\n",
    "\n",
    "tokenizer = RegexTokenizer(inputCol=\"description\", outputCol=\"words\", pattern=\"\\\\W\")\n",
    "remover = StopWordsRemover(inputCol=\"words\", outputCol=\"filtered_words\")\n",
    "vectorizer = CountVectorizer(inputCol=\"filtered_words\", outputCol=\"raw_features\")\n",
    "idf = IDF(inputCol=\"raw_features\", outputCol=\"description_clean\")\n",
    "\n",
    "# Encoding genre labels\n",
    "genre_indexer = StringIndexer(inputCol=\"genre\", outputCol=\"label\")\n",
    "\n",
    "assembler = VectorAssembler(inputCols=[\"description_clean\"], outputCol=\"features\")\n",
    "\n",
    "\n",
    "pipeline = Pipeline(stages=[director_indexer,actor1_indexer,actor2_indexer,actor3_indexer,tokenizer,remover,vectorizer, idf,genre_indexer,assembler])\n",
    "transformed_df = pipeline.fit(df).transform(df)\n",
    "# Combine the preprocessed text features with the genre labels\n",
    "# combined_train_df = genre_indexer.fit(transformed_train_df).transform(transformed_train_df)\n"
   ]
  },
  {
   "cell_type": "code",
   "execution_count": 21,
   "id": "f6dead36-bbb6-4ae1-b138-6ed713802b1b",
   "metadata": {},
   "outputs": [],
   "source": [
    "df=transformed_df"
   ]
  },
  {
   "cell_type": "code",
   "execution_count": 22,
   "id": "20c2799e-0e3a-4a06-87c3-a8861a234f6c",
   "metadata": {},
   "outputs": [
    {
     "name": "stderr",
     "output_type": "stream",
     "text": [
      "24/04/03 18:20:33 WARN DAGScheduler: Broadcasting large task binary with size 4.4 MiB\n",
      "                                                                                \r"
     ]
    },
    {
     "name": "stdout",
     "output_type": "stream",
     "text": [
      "Training set count: 15330\n"
     ]
    },
    {
     "name": "stderr",
     "output_type": "stream",
     "text": [
      "24/04/03 18:20:34 WARN DAGScheduler: Broadcasting large task binary with size 4.4 MiB\n"
     ]
    },
    {
     "name": "stdout",
     "output_type": "stream",
     "text": [
      "Testing set count: 3761\n"
     ]
    }
   ],
   "source": [
    "# Split the data into training and testing sets\n",
    "train_df, test_df = df.randomSplit([0.8, 0.2], seed=42)\n",
    "\n",
    "# Show the number of rows in each set\n",
    "print(\"Training set count:\", train_df.count())\n",
    "print(\"Testing set count:\", test_df.count())"
   ]
  },
  {
   "cell_type": "code",
   "execution_count": 23,
   "id": "ef336288-2735-41dc-a3ff-03bc5ab579ba",
   "metadata": {},
   "outputs": [
    {
     "name": "stderr",
     "output_type": "stream",
     "text": [
      "24/04/03 18:20:35 WARN DAGScheduler: Broadcasting large task binary with size 4.4 MiB\n"
     ]
    },
    {
     "name": "stdout",
     "output_type": "stream",
     "text": [
      "+---------+-----+\n",
      "|    genre|count|\n",
      "+---------+-----+\n",
      "|adventure| 2994|\n",
      "|  romance| 3078|\n",
      "|   horror| 3108|\n",
      "|    crime| 3135|\n",
      "|   action| 3015|\n",
      "+---------+-----+\n",
      "\n"
     ]
    },
    {
     "name": "stderr",
     "output_type": "stream",
     "text": [
      "24/04/03 18:20:36 WARN DAGScheduler: Broadcasting large task binary with size 4.4 MiB\n"
     ]
    },
    {
     "name": "stdout",
     "output_type": "stream",
     "text": [
      "       genre  count\n",
      "0  adventure   2994\n",
      "1    romance   3078\n",
      "2     horror   3108\n",
      "3      crime   3135\n",
      "4     action   3015\n"
     ]
    },
    {
     "data": {
      "image/png": "[encoded data removed]",
      "text/plain": [
       "<Figure size 800x600 with 1 Axes>"
      ]
     },
     "metadata": {},
     "output_type": "display_data"
    },
    {
     "name": "stderr",
     "output_type": "stream",
     "text": [
      "24/04/03 18:20:37 WARN DAGScheduler: Broadcasting large task binary with size 4.4 MiB\n"
     ]
    },
    {
     "name": "stdout",
     "output_type": "stream",
     "text": [
      "+---------+-----+\n",
      "|    genre|count|\n",
      "+---------+-----+\n",
      "|adventure|  731|\n",
      "|   horror|  810|\n",
      "|   action|  751|\n",
      "|  romance|  743|\n",
      "|    crime|  726|\n",
      "+---------+-----+\n",
      "\n"
     ]
    },
    {
     "name": "stderr",
     "output_type": "stream",
     "text": [
      "24/04/03 18:20:37 WARN DAGScheduler: Broadcasting large task binary with size 4.4 MiB\n"
     ]
    },
    {
     "name": "stdout",
     "output_type": "stream",
     "text": [
      "       genre  count\n",
      "0  adventure    731\n",
      "1     horror    810\n",
      "2     action    751\n",
      "3    romance    743\n",
      "4      crime    726\n"
     ]
    },
    {
     "data": {
      "image/png": "[encoded data removed]",
      "text/plain": [
       "<Figure size 800x600 with 1 Axes>"
      ]
     },
     "metadata": {},
     "output_type": "display_data"
    }
   ],
   "source": [
    "def print_class_distribution(df):\n",
    "    # Group the DataFrame by the \"genre\" column and count the occurrences of each genre\n",
    "    genre_counts = df.groupBy(\"genre\").count()\n",
    "    # Show the genre counts\n",
    "    genre_counts.show()\n",
    "    class_counts = genre_counts.toPandas()\n",
    "    print(class_counts)\n",
    "    plt.figure(figsize=(8, 6))\n",
    "    sns.barplot(x=\"genre\", y=\"count\", data=class_counts)\n",
    "    plt.title(\"Class Distribution\")\n",
    "    plt.xlabel(\"Class\")\n",
    "    plt.ylabel(\"Count\")\n",
    "    plt.show()\n",
    "    \n",
    "\n",
    "# def show_class_frequency_distribution(df):\n",
    "#        # Plot class distribution\n",
    "#     plt.figure(figsize=(8, 6))\n",
    "#     sns.barplot(x=\"class\", y=\"count\", data=class_counts)\n",
    "#     plt.title(\"Class Distribution\")\n",
    "#     plt.xlabel(\"Class\")\n",
    "#     plt.ylabel(\"Count\")\n",
    "#     plt.show()\n",
    "#     plt.savefig(plots_dir + '/class_distribution.jpeg', dpi=300, bbox_inches='tight')\n",
    "    #plt.show()\n",
    "print_class_distribution(train_df)\n",
    "print_class_distribution(test_df)"
   ]
  },
  {
   "cell_type": "code",
   "execution_count": 24,
   "id": "4ea2740a-8119-4bc7-abf4-22b7f4d379e4",
   "metadata": {},
   "outputs": [
    {
     "data": {
      "text/plain": [
       "DataFrame[movie_id: string, movie_name: string, genre: string, description: string, director: string, actor1: string, actor2: string, actor3: string, director_indexed: double, actor1_indexed: double, actor2_indexed: double, actor3_indexed: double, words: array<string>, filtered_words: array<string>, raw_features: vector, description_clean: vector, label: double, features: vector]"
      ]
     },
     "execution_count": 24,
     "metadata": {},
     "output_type": "execute_result"
    }
   ],
   "source": [
    "df"
   ]
  },
  {
   "cell_type": "code",
   "execution_count": 25,
   "id": "8eb32f3a-969c-4313-a1a3-ca1d572af4f0",
   "metadata": {},
   "outputs": [],
   "source": [
    "# show_class_frequency_distribution(\"./"
   ]
  },
  {
   "cell_type": "code",
   "execution_count": 26,
   "id": "6d406242-3993-4f3d-90ce-ab7c725de230",
   "metadata": {},
   "outputs": [],
   "source": [
    "def print_and_return_mapping_of_index_to_label(df,predicting='genre'):\n",
    "    # Collect distinct pairs of (label, genre)\n",
    "    label_genre_mapping = df.select(\"label\", predicting).distinct().collect()\n",
    "    map={}\n",
    "    # Print the mapping\n",
    "    for mapping in label_genre_mapping:\n",
    "        print(\"Label %s is mapped to genre '%s'\" % (mapping.label, mapping.genre))\n",
    "        map[mapping.label]= mapping.genre\n",
    "    return map"
   ]
  },
  {
   "cell_type": "code",
   "execution_count": 27,
   "id": "f5f28439-27b8-43b1-8c43-5b995d7909eb",
   "metadata": {},
   "outputs": [
    {
     "name": "stdout",
     "output_type": "stream",
     "text": [
      "Label 0.0 is mapped to genre 'horror'\n",
      "Label 1.0 is mapped to genre 'crime'\n",
      "Label 3.0 is mapped to genre 'action'\n",
      "Label 4.0 is mapped to genre 'adventure'\n",
      "Label 2.0 is mapped to genre 'romance'\n"
     ]
    }
   ],
   "source": [
    "mapping=print_and_return_mapping_of_index_to_label(df)"
   ]
  },
  {
   "cell_type": "code",
   "execution_count": 28,
   "id": "a67e479b-c6d3-4b5e-8dab-ab337d1fd6b6",
   "metadata": {},
   "outputs": [
    {
     "data": {
      "text/plain": [
       "{0.0: 'horror', 1.0: 'crime', 3.0: 'action', 4.0: 'adventure', 2.0: 'romance'}"
      ]
     },
     "execution_count": 28,
     "metadata": {},
     "output_type": "execute_result"
    }
   ],
   "source": [
    "mapping"
   ]
  },
  {
   "cell_type": "code",
   "execution_count": 29,
   "id": "0500c0f4-61da-40a0-bbe1-4a89f0b99182",
   "metadata": {},
   "outputs": [],
   "source": [
    "# Train the model\n",
    "# model = pipeline.fit(train_df)\n",
    "# Define the Random Forest classifier\n",
    "dt_classifier = DecisionTreeClassifier(featuresCol = 'features', labelCol = 'label', maxBins=60000)\n",
    "\n",
    "\n",
    "\n",
    "# Make predictions\n",
    "# predictions = model.transform(test_df)"
   ]
  },
  {
   "cell_type": "code",
   "execution_count": 30,
   "id": "ef3808de-e191-48da-abfc-a0493dff72fe",
   "metadata": {},
   "outputs": [
    {
     "name": "stderr",
     "output_type": "stream",
     "text": [
      "24/04/03 18:20:47 WARN DAGScheduler: Broadcasting large task binary with size 2.6 MiB\n",
      "24/04/03 18:20:47 WARN DAGScheduler: Broadcasting large task binary with size 2.6 MiB\n",
      "24/04/03 18:20:48 WARN DecisionTreeMetadata: DecisionTree reducing maxBins from 60000 to 19091 (= number of training instances)\n",
      "24/04/03 18:20:48 WARN DAGScheduler: Broadcasting large task binary with size 2.9 MiB\n",
      "24/04/03 18:21:01 WARN DAGScheduler: Broadcasting large task binary with size 3.3 MiB\n",
      "24/04/03 18:21:07 WARN DAGScheduler: Broadcasting large task binary with size 3.3 MiB\n",
      "24/04/03 18:21:10 WARN DAGScheduler: Broadcasting large task binary with size 3.3 MiB\n",
      "24/04/03 18:21:13 WARN DAGScheduler: Broadcasting large task binary with size 3.3 MiB\n",
      "24/04/03 18:21:16 WARN DAGScheduler: Broadcasting large task binary with size 3.3 MiB\n",
      "                                                                                \r"
     ]
    }
   ],
   "source": [
    "# Train the Random Forest classifier\n",
    "model = dt_classifier.fit(df)"
   ]
  },
  {
   "cell_type": "code",
   "execution_count": 31,
   "id": "3035a813-b0cf-407c-9731-e25fc904c2b8",
   "metadata": {},
   "outputs": [],
   "source": [
    "# rfc_path = \"models/rfc\"\n",
    "\n",
    "# rfc_model_path = \"models/rfc_model\"\n"
   ]
  },
  {
   "cell_type": "code",
   "execution_count": 32,
   "id": "933cf887-fa09-480b-94c3-864b50563520",
   "metadata": {},
   "outputs": [],
   "source": [
    "# rf_classifier.save(rfc_path)\n",
    "# model.save(rfc_model_path)"
   ]
  },
  {
   "cell_type": "code",
   "execution_count": 33,
   "id": "d9c677ab-1c1e-4c81-9cd6-90949430cef4",
   "metadata": {},
   "outputs": [],
   "source": [
    "# model = RandomForestClassificationModel.load(rfc_model_path)"
   ]
  },
  {
   "cell_type": "code",
   "execution_count": 34,
   "id": "95bb5a43-b60a-41ed-95fa-c2930bea8933",
   "metadata": {},
   "outputs": [],
   "source": [
    "evaluator = MulticlassClassificationEvaluator(labelCol=\"label\", predictionCol=\"prediction\", metricName=\"accuracy\")"
   ]
  },
  {
   "cell_type": "code",
   "execution_count": 35,
   "id": "c77f1552-821b-4623-950c-e96054f1820f",
   "metadata": {},
   "outputs": [
    {
     "name": "stderr",
     "output_type": "stream",
     "text": [
      "24/04/03 18:24:29 WARN DAGScheduler: Broadcasting large task binary with size 4.4 MiB\n"
     ]
    },
    {
     "name": "stdout",
     "output_type": "stream",
     "text": [
      "Accuracy: 0.26907737303908535\n"
     ]
    },
    {
     "name": "stderr",
     "output_type": "stream",
     "text": [
      "                                                                                \r"
     ]
    }
   ],
   "source": [
    "predictions = model.transform(test_df)\n",
    "\n",
    "accuracy = evaluator.evaluate(predictions)\n",
    "print(\"Accuracy:\", accuracy)"
   ]
  },
  {
   "cell_type": "code",
   "execution_count": 36,
   "id": "015aa503-b77d-4bd9-85d7-d6dfa6c824e8",
   "metadata": {},
   "outputs": [
    {
     "data": {
      "text/plain": [
       "SparseVector(28077, {0: 0.0024, 3: 0.0005, 6: 0.0025, 8: 0.4469, 11: 0.0017, 21: 0.137, 40: 0.0928, 48: 0.002, 53: 0.0022, 57: 0.0023, 58: 0.1243, 87: 0.0066, 114: 0.0112, 176: 0.0049, 197: 0.0075, 200: 0.122, 307: 0.0084, 404: 0.0098, 423: 0.0066, 740: 0.0018, 1438: 0.005, 4493: 0.0019})"
      ]
     },
     "execution_count": 36,
     "metadata": {},
     "output_type": "execute_result"
    }
   ],
   "source": [
    "model.featureImportances"
   ]
  },
  {
   "cell_type": "code",
   "execution_count": null,
   "id": "b0d9bfc5-14b6-4312-90be-edd3b21dec58",
   "metadata": {},
   "outputs": [],
   "source": []
  },
  {
   "cell_type": "code",
   "execution_count": 37,
   "id": "a725488e-9494-4994-856a-4b2bf2646346",
   "metadata": {},
   "outputs": [
    {
     "name": "stderr",
     "output_type": "stream",
     "text": [
      "24/04/03 18:24:30 WARN DAGScheduler: Broadcasting large task binary with size 4.4 MiB\n",
      "                                                                                \r"
     ]
    },
    {
     "data": {
      "text/plain": [
       "[Row(genre='adventure', label=4.0, prediction=2.0),\n",
       " Row(genre='adventure', label=4.0, prediction=4.0),\n",
       " Row(genre='adventure', label=4.0, prediction=4.0),\n",
       " Row(genre='adventure', label=4.0, prediction=4.0),\n",
       " Row(genre='horror', label=0.0, prediction=4.0),\n",
       " Row(genre='horror', label=0.0, prediction=4.0),\n",
       " Row(genre='action', label=3.0, prediction=4.0),\n",
       " Row(genre='adventure', label=4.0, prediction=4.0),\n",
       " Row(genre='romance', label=2.0, prediction=2.0),\n",
       " Row(genre='adventure', label=4.0, prediction=4.0),\n",
       " Row(genre='romance', label=2.0, prediction=4.0),\n",
       " Row(genre='adventure', label=4.0, prediction=4.0),\n",
       " Row(genre='romance', label=2.0, prediction=2.0),\n",
       " Row(genre='adventure', label=4.0, prediction=4.0),\n",
       " Row(genre='adventure', label=4.0, prediction=4.0),\n",
       " Row(genre='adventure', label=4.0, prediction=4.0),\n",
       " Row(genre='horror', label=0.0, prediction=2.0),\n",
       " Row(genre='adventure', label=4.0, prediction=2.0),\n",
       " Row(genre='crime', label=1.0, prediction=2.0),\n",
       " Row(genre='romance', label=2.0, prediction=4.0),\n",
       " Row(genre='romance', label=2.0, prediction=4.0),\n",
       " Row(genre='adventure', label=4.0, prediction=4.0),\n",
       " Row(genre='crime', label=1.0, prediction=1.0),\n",
       " Row(genre='crime', label=1.0, prediction=4.0),\n",
       " Row(genre='crime', label=1.0, prediction=4.0),\n",
       " Row(genre='adventure', label=4.0, prediction=2.0),\n",
       " Row(genre='adventure', label=4.0, prediction=4.0),\n",
       " Row(genre='horror', label=0.0, prediction=0.0),\n",
       " Row(genre='adventure', label=4.0, prediction=4.0),\n",
       " Row(genre='adventure', label=4.0, prediction=4.0)]"
      ]
     },
     "execution_count": 37,
     "metadata": {},
     "output_type": "execute_result"
    }
   ],
   "source": [
    "predictions.select(\"genre\",\"label\",\"prediction\").head(30)"
   ]
  },
  {
   "cell_type": "code",
   "execution_count": 38,
   "id": "bcf261ca-feec-44bf-a33b-d682d9c9014e",
   "metadata": {},
   "outputs": [],
   "source": [
    "\n",
    "\n",
    "def print_statistis(predictions):\n",
    "\n",
    "    # Compute raw scores on the test set\n",
    "    predictionAndLabels = predictions.rdd.map(lambda lp: (lp.prediction, lp.label))\n",
    "    \n",
    "    # Instantiate metrics object\n",
    "    metrics = MulticlassMetrics(predictionAndLabels)\n",
    "    confusion_matrix = metrics.confusionMatrix().toArray()\n",
    "    \n",
    "    # Overall statistics\n",
    "    precision = metrics.precision(1.0)\n",
    "    recall = metrics.recall(1.0)\n",
    "    f1Score = metrics.fMeasure(1.0)\n",
    "    total_predictions = confusion_matrix.sum(axis=1)\n",
    "    print(\"Summary Stats\")\n",
    "    print(\"Precision = %s\" % precision)\n",
    "    print(\"Recall = %s\" % recall)\n",
    "    print(\"F1 Score = %s\" % f1Score)\n",
    "    \n",
    "    # Statistics by class\n",
    "    labels = predictions.rdd.map(lambda lp: lp.label).distinct().collect()\n",
    "    accuracies = {}\n",
    "    for label in sorted(labels):\n",
    "        # print(\"______________________\"+mapping[label]+\"_____________________\")\n",
    "        print(\"Class %s precision = %s\" % (label, metrics.precision(label)))\n",
    "        print(\"Class %s recall = %s\" % (label, metrics.recall(label)))\n",
    "        print(\"Class %s F1 Measure = %s\" % (label, metrics.fMeasure(label, beta=1.0)))\n",
    "        \n",
    "    \n",
    "    # Calculate the accuracy for each label\n",
    "    print(total_predictions)\n",
    "    for label in range(len(total_predictions)):\n",
    "        correct_predictions = confusion_matrix[label, label]\n",
    "        accuracy = correct_predictions / total_predictions[label]\n",
    "        accuracies[label] = accuracy\n",
    "    \n",
    "    # Print accuracies for each label\n",
    "    for label, accuracy in accuracies.items():\n",
    "        print(\"Accuracy for label %s: %s\" % (label, accuracy))\n"
   ]
  },
  {
   "cell_type": "code",
   "execution_count": 39,
   "id": "c2554d92-a669-412f-b66c-f2e716abf29e",
   "metadata": {},
   "outputs": [
    {
     "name": "stderr",
     "output_type": "stream",
     "text": [
      "/home/umang/.local/lib/python3.10/site-packages/pyspark/sql/context.py:125: FutureWarning: Deprecated in 3.0.0. Use SparkSession.builder.getOrCreate() instead.\n",
      "  warnings.warn(\n",
      "24/04/03 18:24:31 WARN DAGScheduler: Broadcasting large task binary with size 4.5 MiB\n",
      "24/04/03 18:24:33 WARN DAGScheduler: Broadcasting large task binary with size 4.5 MiB\n",
      "24/04/03 18:25:41 WARN DAGScheduler: Broadcasting large task binary with size 4.5 MiB\n"
     ]
    },
    {
     "name": "stdout",
     "output_type": "stream",
     "text": [
      "Summary Stats\n",
      "Precision = 0.5431472081218274\n",
      "Recall = 0.14738292011019283\n",
      "F1 Score = 0.23185265438786565\n"
     ]
    },
    {
     "name": "stderr",
     "output_type": "stream",
     "text": [
      "[Stage 69:>                                                         (0 + 1) / 1]\r"
     ]
    },
    {
     "name": "stdout",
     "output_type": "stream",
     "text": [
      "Class 0.0 precision = 0.6016260162601627\n",
      "Class 0.0 recall = 0.09135802469135802\n",
      "Class 0.0 F1 Measure = 0.15862808145766347\n",
      "Class 1.0 precision = 0.5431472081218274\n",
      "Class 1.0 recall = 0.14738292011019283\n",
      "Class 1.0 F1 Measure = 0.23185265438786565\n",
      "Class 2.0 precision = 0.6331877729257642\n",
      "Class 2.0 recall = 0.19515477792732167\n",
      "Class 2.0 F1 Measure = 0.29835390946502055\n",
      "Class 3.0 precision = 1.0\n",
      "Class 3.0 recall = 0.002663115845539281\n",
      "Class 3.0 F1 Measure = 0.005312084993359894\n",
      "Class 4.0 precision = 0.2130841121495327\n",
      "Class 4.0 recall = 0.9357045143638851\n",
      "Class 4.0 F1 Measure = 0.34712002029941647\n",
      "[810. 726. 743. 751. 731.]\n",
      "Accuracy for label 0: 0.09135802469135802\n",
      "Accuracy for label 1: 0.14738292011019283\n",
      "Accuracy for label 2: 0.19515477792732167\n",
      "Accuracy for label 3: 0.002663115845539281\n",
      "Accuracy for label 4: 0.9357045143638851\n"
     ]
    },
    {
     "name": "stderr",
     "output_type": "stream",
     "text": [
      "                                                                                \r"
     ]
    }
   ],
   "source": [
    "print_statistis(predictions)\n"
   ]
  },
  {
   "cell_type": "code",
   "execution_count": null,
   "id": "74c03928-f265-4532-8411-ec1bc70f09ee",
   "metadata": {},
   "outputs": [],
   "source": []
  },
  {
   "cell_type": "code",
   "execution_count": 40,
   "id": "ff0fcbb4-0dda-47c9-82a3-d59dad4b5b0f",
   "metadata": {},
   "outputs": [
    {
     "name": "stderr",
     "output_type": "stream",
     "text": [
      "24/04/03 18:27:11 WARN DAGScheduler: Broadcasting large task binary with size 4.5 MiB\n",
      "24/04/03 18:27:11 WARN DAGScheduler: Broadcasting large task binary with size 4.5 MiB\n",
      "                                                                                \r"
     ]
    }
   ],
   "source": [
    "predictionAndLabels = predictions.rdd.map(lambda lp: (lp.prediction, lp.label))\n",
    "    \n",
    "    # Instantiate metrics object\n",
    "metrics = MulticlassMetrics(predictionAndLabels)\n",
    "confusion_matrix = metrics.confusionMatrix().toArray()\n",
    "# confusion_matrix_pd = confusion_matrix.toPandas()\n",
    "\n",
    "# Create the confusion matrix plot using Seaborn\n"
   ]
  },
  {
   "cell_type": "code",
   "execution_count": null,
   "id": "c7ebbd77-5544-4708-b1f2-ec9a4363e7b6",
   "metadata": {},
   "outputs": [],
   "source": []
  },
  {
   "cell_type": "code",
   "execution_count": 41,
   "id": "ed06b2fa-9e5e-4529-aab6-8996d186e603",
   "metadata": {},
   "outputs": [],
   "source": [
    "confusion_matrix_df = pd.DataFrame(confusion_matrix, index=[mapping[i] for i in range(confusion_matrix.shape[0])], columns=[mapping[i] for i in range(confusion_matrix.shape[1])])\n"
   ]
  },
  {
   "cell_type": "code",
   "execution_count": 42,
   "id": "33e9914b-bfe7-4708-ad6b-d6a2c69cd51f",
   "metadata": {},
   "outputs": [
    {
     "data": {
      "image/png": "[encoded data removed]",
      "text/plain": [
       "<Figure size 640x480 with 2 Axes>"
      ]
     },
     "metadata": {},
     "output_type": "display_data"
    }
   ],
   "source": [
    "sns.heatmap(confusion_matrix_df, annot=True, fmt=\"g\", cmap=\"Blues\")\n",
    "\n",
    "# Add labels and title\n",
    "plt.xlabel(\"Actual Label\")\n",
    "plt.ylabel(\"Predicted Label\")\n",
    "plt.title(\"Confusion Matrix\")\n",
    "\n",
    "# Show plot\n",
    "plt.show()"
   ]
  },
  {
   "cell_type": "code",
   "execution_count": null,
   "id": "6541031b-9f5f-4b57-93bd-27437636df8a",
   "metadata": {},
   "outputs": [],
   "source": []
  }
 ],
 "metadata": {
  "kernelspec": {
   "display_name": "Python 3 (ipykernel)",
   "language": "python",
   "name": "python3"
  },
  "language_info": {
   "codemirror_mode": {
    "name": "ipython",
    "version": 3
   },
   "file_extension": ".py",
   "mimetype": "text/x-python",
   "name": "python",
   "nbconvert_exporter": "python",
   "pygments_lexer": "ipython3",
   "version": "3.10.12"
  }
 },
 "nbformat": 4,
 "nbformat_minor": 5
}
