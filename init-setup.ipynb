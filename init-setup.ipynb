{
 "cells": [
  {
   "cell_type": "markdown",
   "metadata": {
    "id": "fS78XPa6zejQ"
   },
   "source": [
    "**title.basics.tsv.gz**\n",
    "- tconst (string) - alphanumeric unique identifier of the title\n",
    "- titleType (string) - the type/format of the title (e.g. movie, short, tvseries, tvepisode, video, etc)\n",
    "- primaryTitle (string) - the more popular title / the title used by the filmmakers on promotional materials at the point of release\n",
    "- startYear (YYYY) - represents the release year of a title. In the case of TV Series, it is the series start year\n",
    "- runtimeMinutes - primary runtime of the title, in minutes\n",
    "- genres (string array) - includes up to three genres associated with the title\n",
    "\n",
    "**title.crew.tsv.gz**\n",
    "- tconst (string) - alphanumeric unique identifier of the title\n",
    "- directors (array of nconsts) - director(s) of the given title\n",
    "- writers (array of nconsts) - writer(s) of the given title\n",
    "\n",
    "**title.ratings.tsv.gz**\n",
    "- tconst (string) - alphanumeric unique identifier of the title\n",
    "- averageRating - weighted average of all the individual user ratings\n",
    "\n",
    "**name.basics.tsv.gz**\n",
    "- nconst (string) - alphanumeric unique identifier of the name/person\n",
    "- primaryName (string) - name by which the person is most often credited\n",
    "\n",
    "**title.principals.tsv.gz**\n",
    "- tconst (string) - alphanumeric unique identifier of the title\n",
    "- nconst (string) - alphanumeric unique identifier of the name/person\n",
    "- category (string) - the category of job that person was in\n",
    "- job (string) - the specific job title if applicable, else '\\N'"
   ]
  },
  {
   "cell_type": "markdown",
   "metadata": {
    "id": "lu49tqKvw3UJ"
   },
   "source": [
    "# Setup"
   ]
  },
  {
   "cell_type": "markdown",
   "metadata": {
    "id": "HRDNYu253vyn"
   },
   "source": [
    "Pip installs"
   ]
  },
  {
   "cell_type": "code",
   "execution_count": 1,
   "metadata": {
    "colab": {
     "base_uri": "https://localhost:8080/"
    },
    "id": "LGLV2FuZ3xWB",
    "outputId": "1d5d7c73-8686-4239-b15a-15b9a204b757"
   },
   "outputs": [
    {
     "name": "stdout",
     "output_type": "stream",
     "text": [
      "Requirement already satisfied: pyspark in d:\\python-installed (3.5.0)"
     ]
    },
    {
     "name": "stderr",
     "output_type": "stream",
     "text": [
      "\n",
      "[notice] A new release of pip available: 22.3.1 -> 24.0\n",
      "[notice] To update, run: python.exe -m pip install --upgrade pip\n"
     ]
    },
    {
     "name": "stdout",
     "output_type": "stream",
     "text": [
      "\n",
      "Requirement already satisfied: py4j==0.10.9.7 in d:\\python-installed (from pyspark) (0.10.9.7)\n"
     ]
    }
   ],
   "source": [
    "!pip install pyspark"
   ]
  },
  {
   "cell_type": "markdown",
   "metadata": {
    "id": "ddk7h3vrxarD"
   },
   "source": [
    "Python imports"
   ]
  },
  {
   "cell_type": "code",
   "execution_count": 2,
   "metadata": {
    "id": "UvigWpk-xYRl"
   },
   "outputs": [],
   "source": [
    "import os.path as path\n",
    "from pyspark.sql import SparkSession\n",
    "from pyspark.sql import column\n",
    "from pyspark.sql.functions import *\n",
    "import matplotlib.pyplot as plt"
   ]
  },
  {
   "cell_type": "code",
   "execution_count": 5,
   "metadata": {
    "colab": {
     "base_uri": "https://localhost:8080/"
    },
    "id": "cHfuFFb6w1Ql",
    "outputId": "e93d05c5-7272-47e2-dd4e-95175fff4b46"
   },
   "outputs": [
    {
     "name": "stderr",
     "output_type": "stream",
     "text": [
      "'wget' is not recognized as an internal or external command,\n",
      "operable program or batch file.\n",
      "'gzip' is not recognized as an internal or external command,\n",
      "operable program or batch file.\n",
      "'wget' is not recognized as an internal or external command,\n",
      "operable program or batch file.\n",
      "'gzip' is not recognized as an internal or external command,\n",
      "operable program or batch file.\n",
      "'wget' is not recognized as an internal or external command,\n",
      "operable program or batch file.\n",
      "'gzip' is not recognized as an internal or external command,\n",
      "operable program or batch file.\n",
      "'wget' is not recognized as an internal or external command,\n",
      "operable program or batch file.\n",
      "'gzip' is not recognized as an internal or external command,\n",
      "operable program or batch file.\n",
      "'wget' is not recognized as an internal or external command,\n",
      "operable program or batch file.\n",
      "'gzip' is not recognized as an internal or external command,\n",
      "operable program or batch file.\n"
     ]
    }
   ],
   "source": [
    "title_basics_dataset = \"title.basics.tsv\"\n",
    "\n",
    "title_crew_dataset = \"title.crew.tsv\"\n",
    "\n",
    "title_ratings_dataset = \"title.ratings.tsv\"\n",
    "\n",
    "name_basics_dataset = \"name.basics.tsv\"\n",
    "\n",
    "title_principals_dataset = \"title.principals.tsv\"\n",
    "\n",
    "if not(path.isfile(title_basics_dataset)):\n",
    "  !wget https://datasets.imdbws.com/title.basics.tsv.gz\n",
    "  !gzip -d title.basics.tsv.gz\n",
    "\n",
    "if not(path.isfile(title_crew_dataset)):\n",
    "  !wget https://datasets.imdbws.com/title.crew.tsv.gz\n",
    "  !gzip -d title.crew.tsv.gz\n",
    "\n",
    "if not(path.isfile(title_ratings_dataset)):\n",
    "  !wget https://datasets.imdbws.com/title.ratings.tsv.gz\n",
    "  !gzip -d title.ratings.tsv.gz\n",
    "\n",
    "if not(path.isfile(name_basics_dataset)):\n",
    "  !wget https://datasets.imdbws.com/name.basics.tsv.gz\n",
    "  !gzip -d name.basics.tsv.gz\n",
    "\n",
    "if not(path.isfile(title_principals_dataset)):\n",
    "  !wget https://datasets.imdbws.com/title.principals.tsv.gz\n",
    "  !gzip -d title.principals.tsv.gz"
   ]
  },
  {
   "cell_type": "markdown",
   "metadata": {
    "id": "1irAm4LfxC8L"
   },
   "source": [
    "# Preparing Dataset"
   ]
  },
  {
   "cell_type": "markdown",
   "metadata": {
    "id": "r5Lir8bR4E4V"
   },
   "source": [
    "Helpers"
   ]
  },
  {
   "cell_type": "code",
   "execution_count": 4,
   "metadata": {
    "id": "WlU9Z7yX4Gqz"
   },
   "outputs": [],
   "source": [
    "def init_spark():\n",
    "  return SparkSession \\\n",
    "        .builder \\\n",
    "        .appName(\"Spark\") \\\n",
    "        .config(\"spark.executor.memory\", \"8g\") \\\n",
    "        .config(\"spark.driver.memory\", \"8g\") \\\n",
    "        .getOrCreate()\n",
    "\n",
    "spark = init_spark()\n"
   ]
  },
  {
   "cell_type": "markdown",
   "metadata": {
    "id": "MYMxKb0gxKCo"
   },
   "source": [
    "Create base dataframes"
   ]
  },
  {
   "cell_type": "code",
   "execution_count": 5,
   "metadata": {},
   "outputs": [
    {
     "data": {
      "text/html": [
       "\n",
       "            <div>\n",
       "                <p><b>SparkSession - in-memory</b></p>\n",
       "                \n",
       "        <div>\n",
       "            <p><b>SparkContext</b></p>\n",
       "\n",
       "            <p><a href=\"http://host.docker.internal:4040\">Spark UI</a></p>\n",
       "\n",
       "            <dl>\n",
       "              <dt>Version</dt>\n",
       "                <dd><code>v3.5.0</code></dd>\n",
       "              <dt>Master</dt>\n",
       "                <dd><code>local[*]</code></dd>\n",
       "              <dt>AppName</dt>\n",
       "                <dd><code>Spark</code></dd>\n",
       "            </dl>\n",
       "        </div>\n",
       "        \n",
       "            </div>\n",
       "        "
      ],
      "text/plain": [
       "<pyspark.sql.session.SparkSession at 0x2691eaf6d50>"
      ]
     },
     "execution_count": 5,
     "metadata": {},
     "output_type": "execute_result"
    }
   ],
   "source": [
    "spark"
   ]
  },
  {
   "cell_type": "code",
   "execution_count": 5,
   "metadata": {
    "id": "zRxYx6sYxNVv"
   },
   "outputs": [
    {
     "ename": "NameError",
     "evalue": "name 'title_basics_dataset' is not defined",
     "output_type": "error",
     "traceback": [
      "\u001b[1;31m---------------------------------------------------------------------------\u001b[0m",
      "\u001b[1;31mNameError\u001b[0m                                 Traceback (most recent call last)",
      "Cell \u001b[1;32mIn[5], line 1\u001b[0m\n\u001b[1;32m----> 1\u001b[0m title_basics_df \u001b[38;5;241m=\u001b[39m spark\u001b[38;5;241m.\u001b[39mread\u001b[38;5;241m.\u001b[39moption(\u001b[38;5;124m\"\u001b[39m\u001b[38;5;124mdelimiter\u001b[39m\u001b[38;5;124m\"\u001b[39m, \u001b[38;5;124m\"\u001b[39m\u001b[38;5;130;01m\\t\u001b[39;00m\u001b[38;5;124m\"\u001b[39m)\u001b[38;5;241m.\u001b[39moption(\u001b[38;5;124m\"\u001b[39m\u001b[38;5;124mheader\u001b[39m\u001b[38;5;124m\"\u001b[39m, \u001b[38;5;28;01mTrue\u001b[39;00m)\u001b[38;5;241m.\u001b[39mcsv(\u001b[43mtitle_basics_dataset\u001b[49m)\n\u001b[0;32m      3\u001b[0m title_crew_df \u001b[38;5;241m=\u001b[39m spark\u001b[38;5;241m.\u001b[39mread\u001b[38;5;241m.\u001b[39moption(\u001b[38;5;124m\"\u001b[39m\u001b[38;5;124mdelimiter\u001b[39m\u001b[38;5;124m\"\u001b[39m, \u001b[38;5;124m\"\u001b[39m\u001b[38;5;130;01m\\t\u001b[39;00m\u001b[38;5;124m\"\u001b[39m)\u001b[38;5;241m.\u001b[39moption(\u001b[38;5;124m\"\u001b[39m\u001b[38;5;124mheader\u001b[39m\u001b[38;5;124m\"\u001b[39m, \u001b[38;5;28;01mTrue\u001b[39;00m)\u001b[38;5;241m.\u001b[39mcsv(title_crew_dataset)\n\u001b[0;32m      5\u001b[0m title_ratings_df \u001b[38;5;241m=\u001b[39m spark\u001b[38;5;241m.\u001b[39mread\u001b[38;5;241m.\u001b[39moption(\u001b[38;5;124m\"\u001b[39m\u001b[38;5;124mdelimiter\u001b[39m\u001b[38;5;124m\"\u001b[39m, \u001b[38;5;124m\"\u001b[39m\u001b[38;5;130;01m\\t\u001b[39;00m\u001b[38;5;124m\"\u001b[39m)\u001b[38;5;241m.\u001b[39moption(\u001b[38;5;124m\"\u001b[39m\u001b[38;5;124mheader\u001b[39m\u001b[38;5;124m\"\u001b[39m, \u001b[38;5;28;01mTrue\u001b[39;00m)\u001b[38;5;241m.\u001b[39mcsv(title_ratings_dataset)\n",
      "\u001b[1;31mNameError\u001b[0m: name 'title_basics_dataset' is not defined"
     ]
    }
   ],
   "source": [
    "title_basics_df = spark.read.option(\"delimiter\", \"\\t\").option(\"header\", True).csv(title_basics_dataset)\n",
    "\n",
    "title_crew_df = spark.read.option(\"delimiter\", \"\\t\").option(\"header\", True).csv(title_crew_dataset)\n",
    "\n",
    "title_ratings_df = spark.read.option(\"delimiter\", \"\\t\").option(\"header\", True).csv(title_ratings_dataset)\n",
    "\n",
    "name_basics_df = spark.read.option(\"delimiter\", \"\\t\").option(\"header\", True).csv(name_basics_dataset)\n",
    "\n",
    "title_principals_df = spark.read.option(\"delimiter\", \"\\t\").option(\"header\", True).csv(title_principals_dataset)"
   ]
  },
  {
   "cell_type": "code",
   "execution_count": null,
   "metadata": {
    "colab": {
     "base_uri": "https://localhost:8080/"
    },
    "id": "9u-SRnRH7ana",
    "outputId": "d70edbc7-83a6-4064-f347-df74e3cb331d"
   },
   "outputs": [],
   "source": [
    "title_basics_df.show()\n",
    "title_crew_df.show()\n",
    "title_ratings_df.show()\n",
    "name_basics_df.show()\n",
    "title_principals_df.show()"
   ]
  },
  {
   "cell_type": "markdown",
   "metadata": {
    "id": "9D0DmZBMtv-_"
   },
   "source": [
    "## Filters"
   ]
  },
  {
   "cell_type": "markdown",
   "metadata": {
    "id": "cMId6SyA9ZMl"
   },
   "source": [
    "Filter entries for only movie entries"
   ]
  },
  {
   "cell_type": "code",
   "execution_count": null,
   "metadata": {
    "id": "uDq_NnP4-FFn"
   },
   "outputs": [],
   "source": [
    "title_basics_df = title_basics_df.filter(title_basics_df.titleType == \"movie\")\n",
    "#title_basics_df.show()"
   ]
  },
  {
   "cell_type": "markdown",
   "metadata": {
    "id": "Pbsch7OA_vVB"
   },
   "source": [
    "Remove entries where the genres is null (\\N)"
   ]
  },
  {
   "cell_type": "code",
   "execution_count": null,
   "metadata": {
    "id": "pZuAjCXp_yx6"
   },
   "outputs": [],
   "source": [
    "title_basics_df = title_basics_df.filter(title_basics_df.genres != \"\\\\N\")\n",
    "#title_basics_df.show()"
   ]
  },
  {
   "cell_type": "markdown",
   "metadata": {
    "id": "KK7j2P6otyw7"
   },
   "source": [
    "## Integration"
   ]
  },
  {
   "cell_type": "markdown",
   "metadata": {
    "id": "6zSQYii-BctZ"
   },
   "source": [
    "Separate genres and keep single genre"
   ]
  },
  {
   "cell_type": "markdown",
   "metadata": {
    "id": "lgIOI3tuyQwa"
   },
   "source": [
    "Cases:\n",
    "\n",
    "| In 0 | In 1 | In 2 |\n",
    "|------|------|------|\n",
    "| T    | T    | T    |\n",
    "| T    | T    | F    |\n",
    "| T    | F    | T    |\n",
    "| F    | T    | T    |\n",
    "| T    | T    | F    |\n",
    "| T    | F    | T    |\n",
    "| F    | T    | T    |\n",
    "| F    | F    | F    |"
   ]
  },
  {
   "cell_type": "code",
   "execution_count": null,
   "metadata": {
    "colab": {
     "base_uri": "https://localhost:8080/",
     "height": 71
    },
    "id": "wuLOW7hzBe2l",
    "outputId": "22732afb-8ae9-405c-abc1-28683a8631a8"
   },
   "outputs": [],
   "source": [
    "#When there are multiple genres:\n",
    "#if only 1 from the list is in the genre column -> pick genre from list\n",
    "#if multiple genres from the list is in the genre column -> weigh by count?\n",
    "drama_entry_count = 0\n",
    "comedy_entry_count = 0\n",
    "horror_entry_count = 0\n",
    "romance_entry_count = 0\n",
    "action_entry_count = 0\n",
    "thriller_entry_count = 0\n",
    "\n",
    "genre_column = split(title_basics_df[\"genres\"], \",\")\n",
    "\n",
    "genres_to_keep = [\"Drama\", \"Comedy\", \"Horror\", \"Thriller\", \"Romance\", \"Action\"]\n",
    "\n",
    "test = title_basics_df.filter(genre_column.getItem(0).isin(genres_to_keep))\n",
    "#test = title_basics_df.filter(genre_column.getItem(0).isin(genres_to_keep))\n",
    "test = test.withColumn(\"genre\", genre_column.getItem(0))\n",
    "\n",
    "test2 = title_basics_df.filter((genre_column.getItem(1).isin(genres_to_keep)) & ~(genre_column.getItem(0).isin(genres_to_keep) ))\n",
    "#test2 = title_basics_df.filter(genre_column.getItem(1).isin(genres_to_keep))\n",
    "test2 = test2.withColumn(\"genre\", genre_column.getItem(1))\n",
    "\n",
    "test3 = title_basics_df.filter((genre_column.getItem(2).isin(genres_to_keep)) & ~(genre_column.getItem(0).isin(genres_to_keep) | genre_column.getItem(1).isin(genres_to_keep)))\n",
    "#test3 = title_basics_df.filter(genre_column.getItem(2).isin(genres_to_keep))\n",
    "test3 = test3.withColumn(\"genre\", genre_column.getItem(2))\n",
    "\n",
    "title_basics_df = test.union(test2).union(test3)\n",
    "#title_basics_df.show()\n",
    "\n",
    "'''\n",
    "#title_basics_df.groupBy('genres').count().orderBy(desc(\"count\")).show()\n",
    "\n",
    "intermediate_df = title_basics_df.withColumn(\"genre1\", genre_column.getItem(0))\n",
    "\n",
    "genre_rows1 = intermediate_df.where((intermediate_df.genre1 == \"Drama\") | (intermediate_df.genre1 == \"Comedy\") | (intermediate_df.genre1 == \"Horror\") | (intermediate_df.genre1 == \"Thriller\") | (intermediate_df.genre1 == \"Romance\") | (intermediate_df.genre1 == \"Action\")).groupBy('genre1').count().orderBy(\"genre1\").take(6)\n",
    "\n",
    "intermediate_df = title_basics_df.withColumn(\"genre2\", genre_column.getItem(1))\n",
    "\n",
    "genre_rows2 = intermediate_df.where((intermediate_df.genre2 == \"Drama\") | (intermediate_df.genre2 == \"Comedy\") | (intermediate_df.genre2 == \"Horror\") | (intermediate_df.genre2 == \"Thriller\") | (intermediate_df.genre2 == \"Romance\") | (intermediate_df.genre2 == \"Action\")).groupBy('genre2').count().orderBy(\"genre2\").take(6)\n",
    "\n",
    "intermediate_df = title_basics_df.withColumn(\"genre3\", genre_column.getItem(2))\n",
    "\n",
    "genre_rows3 = intermediate_df.where((intermediate_df.genre3 == \"Drama\") | (intermediate_df.genre3 == \"Comedy\") | (intermediate_df.genre3 == \"Horror\") | (intermediate_df.genre3 == \"Thriller\") | (intermediate_df.genre3 == \"Romance\") | (intermediate_df.genre3 == \"Action\")).groupBy('genre3').count().orderBy(\"genre3\").take(6)\n",
    "\n",
    "for row in genre_rows1:\n",
    "  if (row[\"genre1\"] == \"Action\"):\n",
    "    action_entry_count = action_entry_count + row[\"count\"]\n",
    "\n",
    "  if (row[\"genre1\"] == \"Comedy\"):\n",
    "    comedy_entry_count = comedy_entry_count + row[\"count\"]\n",
    "\n",
    "  if (row[\"genre1\"] == \"Drama\"):\n",
    "    drama_entry_count = drama_entry_count + row[\"count\"]\n",
    "\n",
    "  if (row[\"genre1\"] == \"Horror\"):\n",
    "    horror_entry_count = horror_entry_count + row[\"count\"]\n",
    "\n",
    "  if (row[\"genre1\"] == \"Romance\"):\n",
    "    romance_entry_count = romance_entry_count + row[\"count\"]\n",
    "\n",
    "  if (row[\"genre1\"] == \"Thriller\"):\n",
    "    thriller_entry_count = thriller_entry_count + row[\"count\"]\n",
    "\n",
    "for row in genre_rows2:\n",
    "  if (row[\"genre2\"] == \"Action\"):\n",
    "    action_entry_count = action_entry_count + row[\"count\"]\n",
    "\n",
    "  if (row[\"genre2\"] == \"Comedy\"):\n",
    "    comedy_entry_count = comedy_entry_count + row[\"count\"]\n",
    "\n",
    "  if (row[\"genre2\"] == \"Drama\"):\n",
    "    drama_entry_count = drama_entry_count + row[\"count\"]\n",
    "\n",
    "  if (row[\"genre2\"] == \"Horror\"):\n",
    "    horror_entry_count = horror_entry_count + row[\"count\"]\n",
    "\n",
    "  if (row[\"genre2\"] == \"Romance\"):\n",
    "    romance_entry_count = romance_entry_count + row[\"count\"]\n",
    "\n",
    "  if (row[\"genre2\"] == \"Thriller\"):\n",
    "    thriller_entry_count = thriller_entry_count + row[\"count\"]\n",
    "\n",
    "for row in genre_rows3:\n",
    "  if (row[\"genre3\"] == \"Action\"):\n",
    "    action_entry_count = action_entry_count + row[\"count\"]\n",
    "\n",
    "  if (row[\"genre3\"] == \"Comedy\"):\n",
    "    comedy_entry_count = comedy_entry_count + row[\"count\"]\n",
    "\n",
    "  if (row[\"genre3\"] == \"Drama\"):\n",
    "    drama_entry_count = drama_entry_count + row[\"count\"]\n",
    "\n",
    "  if (row[\"genre3\"] == \"Horror\"):\n",
    "    horror_entry_count = horror_entry_count + row[\"count\"]\n",
    "\n",
    "  if (row[\"genre3\"] == \"Romance\"):\n",
    "    romance_entry_count = romance_entry_count + row[\"count\"]\n",
    "\n",
    "  if (row[\"genre3\"] == \"Thriller\"):\n",
    "    thriller_entry_count = thriller_entry_count + row[\"count\"]\n",
    "\n",
    "genre_count_dic = {\"Action\": action_entry_count, \"Comedy\": comedy_entry_count, \"Drama\": drama_entry_count, \"Horror\": horror_entry_count, \"Romance\": romance_entry_count, \"Thriller\": thriller_entry_count}\n",
    "sorted_genre_count_dic = dict(sorted(genre_count_dic.items(), key=lambda item: item[1], reverse=True))\n",
    "print(sorted_genre_count_dic)\n",
    "\n",
    "genre_column = split(title_basics_df[\"genres\"], \",\")\n",
    "\n",
    "title_basics_df = title_basics_df.withColumn(\"genre\", genre_column.getItem(0) if [genre_column.getItem(0), genre_column.getItem(1), genre_column.getItem(2)].index(\"Drama\") == 0 else \\\n",
    "       genre_column.getItem(0) if [genre_column.getItem(0), genre_column.getItem(1), genre_column.getItem(2)].index(\"Comedy\") == 0 else \\\n",
    "       genre_column.getItem(0) if [genre_column.getItem(0), genre_column.getItem(1), genre_column.getItem(2)].index(\"Action\") == 0 else \\\n",
    "       genre_column.getItem(0) if [genre_column.getItem(0), genre_column.getItem(1), genre_column.getItem(2)].index(\"Romance\") == 0 else \\\n",
    "       genre_column.getItem(0) if [genre_column.getItem(0), genre_column.getItem(1), genre_column.getItem(2)].index(\"Thriller\") == 0 else \\\n",
    "       genre_column.getItem(0) if [genre_column.getItem(0), genre_column.getItem(1), genre_column.getItem(2)].index(\"Horror\") == 0 else \\\n",
    "       genre_column.getItem(1) if [genre_column.getItem(0), genre_column.getItem(1), genre_column.getItem(2)].index(\"Drama\") == 1 else \\\n",
    "       genre_column.getItem(1) if [genre_column.getItem(0), genre_column.getItem(1), genre_column.getItem(2)].index(\"Comedy\") == 1 else \\\n",
    "       genre_column.getItem(1) if [genre_column.getItem(0), genre_column.getItem(1), genre_column.getItem(2)].index(\"Action\") == 1 else \\\n",
    "       genre_column.getItem(1) if [genre_column.getItem(0), genre_column.getItem(1), genre_column.getItem(2)].index(\"Romance\") == 1 else \\\n",
    "       genre_column.getItem(1) if [genre_column.getItem(0), genre_column.getItem(1), genre_column.getItem(2)].index(\"Thriller\") == 1 else \\\n",
    "       genre_column.getItem(1) if [genre_column.getItem(0), genre_column.getItem(1), genre_column.getItem(2)].index(\"Horror\") == 1 else \\\n",
    "       genre_column.getItem(2) if [genre_column.getItem(0), genre_column.getItem(1), genre_column.getItem(2)].index(\"Drama\") == 2 else \\\n",
    "       genre_column.getItem(2) if [genre_column.getItem(0), genre_column.getItem(1), genre_column.getItem(2)].index(\"Comedy\") == 2 else \\\n",
    "       genre_column.getItem(2) if [genre_column.getItem(0), genre_column.getItem(1), genre_column.getItem(2)].index(\"Action\") == 2 else \\\n",
    "       genre_column.getItem(2) if [genre_column.getItem(0), genre_column.getItem(1), genre_column.getItem(2)].index(\"Romance\") == 2 else \\\n",
    "       genre_column.getItem(2) if [genre_column.getItem(0), genre_column.getItem(1), genre_column.getItem(2)].index(\"Thriller\") == 2 else \\\n",
    "       genre_column.getItem(2) if [genre_column.getItem(0), genre_column.getItem(1), genre_column.getItem(2)].index(\"Horror\") == 2 else None)\n",
    "'''"
   ]
  },
  {
   "cell_type": "code",
   "execution_count": null,
   "metadata": {},
   "outputs": [],
   "source": [
    "title_crew_df.show()"
   ]
  },
  {
   "cell_type": "code",
   "execution_count": null,
   "metadata": {},
   "outputs": [],
   "source": [
    "director_column = split(title_crew_df[\"directors\"], \",\")"
   ]
  },
  {
   "cell_type": "markdown",
   "metadata": {
    "id": "8c135HEGBfL-"
   },
   "source": [
    "Separate directors and keep single director"
   ]
  },
  {
   "cell_type": "code",
   "execution_count": null,
   "metadata": {
    "id": "GV9SKRBhBh4Q"
   },
   "outputs": [],
   "source": [
    "director_column = split(title_crew_df[\"directors\"], \",\")\n",
    "title_crew_df = title_crew_df.withColumn(\"director\", director_column.getItem(0))\n",
    "#title_crew_df.show()\n",
    "title_crew_df = title_crew_df.drop(\"directors\")\n",
    "#title_crew_df.show()"
   ]
  },
  {
   "cell_type": "code",
   "execution_count": null,
   "metadata": {},
   "outputs": [],
   "source": [
    "title_crew_df.show()"
   ]
  },
  {
   "cell_type": "markdown",
   "metadata": {
    "id": "sf-Ktzz5BiIr"
   },
   "source": [
    "Separate writers and keep single writer"
   ]
  },
  {
   "cell_type": "code",
   "execution_count": null,
   "metadata": {
    "id": "6FdVhv6-BkQm"
   },
   "outputs": [],
   "source": [
    "writer_column = split(title_crew_df[\"writers\"], \",\")\n",
    "title_crew_df = title_crew_df.withColumn(\"writer\", writer_column.getItem(0))\n",
    "#title_crew_df.show()\n",
    "title_crew_df = title_crew_df.drop(\"writers\")\n",
    "#title_crew_df.show()"
   ]
  },
  {
   "cell_type": "markdown",
   "metadata": {
    "id": "qbb0T_t_9S8X"
   },
   "source": [
    "Get director names"
   ]
  },
  {
   "cell_type": "code",
   "execution_count": null,
   "metadata": {
    "id": "EdLgizgBgfFH"
   },
   "outputs": [],
   "source": [
    "director_df = title_crew_df.select(\"director\", \"tconst\")\n",
    "renamed_director_df = director_df.withColumnRenamed(\"director\", \"nconst\")\n",
    "\n",
    "director_id_name_df = renamed_director_df.join(name_basics_df, on=\"nconst\").select(\"tconst\", \"primaryName\")\n",
    "director_id_name_df = director_id_name_df.withColumnRenamed(\"primaryName\", \"directorPrimaryName\")\n",
    "#director_id_name_df.show()"
   ]
  },
  {
   "cell_type": "markdown",
   "metadata": {
    "id": "-UBj9JgFqoQ1"
   },
   "source": [
    "Get writer names"
   ]
  },
  {
   "cell_type": "code",
   "execution_count": null,
   "metadata": {
    "id": "LVm79uwbhT4S"
   },
   "outputs": [],
   "source": [
    "writer_df = title_crew_df.select(\"writer\", \"tconst\")\n",
    "renamed_writer_df = writer_df.withColumnRenamed(\"writer\", \"nconst\")\n",
    "\n",
    "writer_id_name_df = renamed_writer_df.join(name_basics_df, on=\"nconst\").select(\"tconst\", \"primaryName\")\n",
    "writer_id_name_df = writer_id_name_df.withColumnRenamed(\"primaryName\", \"writerPrimaryName\")\n",
    "#writer_id_name_df.show()"
   ]
  },
  {
   "cell_type": "code",
   "execution_count": null,
   "metadata": {
    "id": "BRBe2t6ixFp4"
   },
   "outputs": [],
   "source": [
    "title_basics_and_title_crew_and_title_ratings_df = title_basics_df.join(title_ratings_df, on=\"tconst\").join(director_id_name_df, on=\"tconst\").join(writer_id_name_df, on=\"tconst\")\n",
    "#title_basics_and_title_crew_and_title_ratings_df.show()"
   ]
  },
  {
   "cell_type": "code",
   "execution_count": null,
   "metadata": {},
   "outputs": [],
   "source": [
    "title_basics_and_title_crew_and_title_ratings_df.columns"
   ]
  },
  {
   "cell_type": "markdown",
   "metadata": {
    "id": "EB-7f259cxHO"
   },
   "source": [
    "Get actor names"
   ]
  },
  {
   "cell_type": "code",
   "execution_count": null,
   "metadata": {
    "id": "tKPv94eZcy-5"
   },
   "outputs": [],
   "source": [
    "person_df = title_principals_df.select(\"tconst\", \"nconst\", \"category\")\n",
    "#person_df.show()\n",
    "\n",
    "actor_df = person_df.filter(person_df.category == \"actor\")\n",
    "#person_df = person_df.filter((person_df.category == \"self\") | (person_df.category == \"cinematographer\") | (person_df.category == \"composer\") | (person_df.category == \"producer\") | (person_df.category == \"editor\") | (person_df.category == \"actor\"))\n",
    "#actor_df.show()\n",
    "\n",
    "actor_df = actor_df.join(name_basics_df, on=\"nconst\").select(\"tconst\", \"primaryName\")\n",
    "actor_id_name_df = actor_df.withColumnRenamed(\"primaryName\", \"actorPrimaryName\")\n",
    "#actor_id_name_df.show()\n",
    "title_basics_and_title_crew_and_title_ratings_actor_df = actor_id_name_df.groupBy(\"tconst\").agg(collect_list('actorPrimaryName').alias(\"actors\"))\n",
    "title_basics_and_title_crew_and_title_ratings_actor_df = title_basics_and_title_crew_and_title_ratings_actor_df.withColumn(\"actor1\", title_basics_and_title_crew_and_title_ratings_actor_df.actors[0])\n",
    "title_basics_and_title_crew_and_title_ratings_actor_df = title_basics_and_title_crew_and_title_ratings_actor_df.withColumn(\"actor2\", title_basics_and_title_crew_and_title_ratings_actor_df.actors[1])\n",
    "title_basics_and_title_crew_and_title_ratings_actor_df = title_basics_and_title_crew_and_title_ratings_actor_df.withColumn(\"actor3\", title_basics_and_title_crew_and_title_ratings_actor_df.actors[2])\n",
    "title_basics_and_title_crew_and_title_ratings_actor_df = title_basics_and_title_crew_and_title_ratings_actor_df.withColumn(\"actor4\", title_basics_and_title_crew_and_title_ratings_actor_df.actors[3])\n",
    "title_basics_and_title_crew_and_title_ratings_actor_df = title_basics_and_title_crew_and_title_ratings_df.join(actor_id_name_df, on=\"tconst\")\n",
    "#.groupBy(\"actorPrimaryName\").pivot(\"tconst\").agg(first(\"actorPrimaryName\"))\n",
    "#(nth_value(\"actorPrimaryName\", 0).alias(\"actor1\"), nth_value(\"actorPrimaryName\", 1).alias(\"actor2\"), nth_value(\"actorPrimaryName\", 2).alias(\"actor3\"), nth_value(\"actorPrimaryName\", 3).alias(\"actor4\"))\n",
    "#test.show()\n",
    "#title_basics_and_title_crew_and_title_ratings_actor_df = title_basics_and_title_crew_and_title_ratings_df.join(actor_id_name_df, on=\"tconst\")\n",
    "#title_basics_and_title_crew_and_title_ratings_actor_df.show()"
   ]
  },
  {
   "cell_type": "code",
   "execution_count": null,
   "metadata": {},
   "outputs": [],
   "source": [
    "title_basics_and_title_crew_and_title_ratings_actor_df.columns"
   ]
  },
  {
   "cell_type": "code",
   "execution_count": null,
   "metadata": {
    "id": "-UjODokEsyKC"
   },
   "outputs": [],
   "source": [
    "final_df = title_basics_and_title_crew_and_title_ratings_actor_df.drop('titleType', 'originalTitle', 'isAdult', 'endYear', 'genres', 'numVotes', 'tconst', \"actors\")\n",
    "final_df = final_df.withColumnRenamed('primaryTitle', 'title')\n",
    "final_df = final_df.withColumnRenamed('startYear', 'year')\n",
    "final_df = final_df.withColumnRenamed('runtimeMinutes', 'runtime')\n",
    "final_df = final_df.withColumnRenamed('averageRating', 'rating')\n",
    "final_df = final_df.withColumnRenamed('directorPrimaryName', 'director')\n",
    "final_df = final_df.withColumnRenamed('writerPrimaryName', 'writer')\n",
    "# final_df.show()\n",
    "# final_df.persist()\n",
    "# final_df.repartition(1).write.option(\"header\", \"true\").save(\"mydata.csv\")\n"
   ]
  },
  {
   "cell_type": "code",
   "execution_count": null,
   "metadata": {},
   "outputs": [],
   "source": [
    "# movies releaed after 2021 to reduce data\n",
    "final_df=final_df.filter(final_df.year.cast(\"int\") > 2021)"
   ]
  },
  {
   "cell_type": "code",
   "execution_count": null,
   "metadata": {},
   "outputs": [],
   "source": [
    "title_basics_and_title_crew_and_title_ratings_actor_df"
   ]
  },
  {
   "cell_type": "code",
   "execution_count": null,
   "metadata": {},
   "outputs": [],
   "source": [
    "final_df.columns"
   ]
  },
  {
   "cell_type": "code",
   "execution_count": null,
   "metadata": {},
   "outputs": [],
   "source": [
    "# final_df_sample = final_df.sample(fraction=0.1, seed=42)  # Sample 10% of the data\n",
    "# final_df_sample.show(2)"
   ]
  },
  {
   "cell_type": "code",
   "execution_count": null,
   "metadata": {},
   "outputs": [],
   "source": [
    "final_df.write.option(\"header\", \"true\").csv(\"final_dataset.csv\")"
   ]
  }
 ],
 "metadata": {
  "colab": {
   "collapsed_sections": [
    "9D0DmZBMtv-_"
   ],
   "provenance": []
  },
  "kernelspec": {
   "display_name": "Python 3 (ipykernel)",
   "language": "python",
   "name": "python3"
  },
  "language_info": {
   "codemirror_mode": {
    "name": "ipython",
    "version": 3
   },
   "file_extension": ".py",
   "mimetype": "text/x-python",
   "name": "python",
   "nbconvert_exporter": "python",
   "pygments_lexer": "ipython3",
   "version": "3.10.12"
  }
 },
 "nbformat": 4,
 "nbformat_minor": 4
}
