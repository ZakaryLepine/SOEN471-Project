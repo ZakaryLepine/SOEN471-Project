{
 "cells": [
  {
   "cell_type": "code",
   "outputs": [
    {
     "name": "stdout",
     "output_type": "stream",
     "text": [
      "Requirement already satisfied: seaborn in d:\\python-installed\\lib\\site-packages (0.13.2)"
     ]
    },
    {
     "name": "stderr",
     "output_type": "stream",
     "text": [
      "\n",
      "[notice] A new release of pip available: 22.3.1 -> 24.0\n",
      "[notice] To update, run: python.exe -m pip install --upgrade pip\n"
     ]
    },
    {
     "name": "stdout",
     "output_type": "stream",
     "text": [
      "\n",
      "Requirement already satisfied: numpy!=1.24.0,>=1.20 in d:\\python-installed (from seaborn) (1.26.3)\n",
      "Requirement already satisfied: pandas>=1.2 in d:\\python-installed (from seaborn) (2.2.0)\n",
      "Requirement already satisfied: matplotlib!=3.6.1,>=3.4 in d:\\python-installed\\lib\\site-packages (from seaborn) (3.8.3)\n",
      "Requirement already satisfied: contourpy>=1.0.1 in d:\\python-installed\\lib\\site-packages (from matplotlib!=3.6.1,>=3.4->seaborn) (1.2.0)\n",
      "Requirement already satisfied: cycler>=0.10 in d:\\python-installed\\lib\\site-packages (from matplotlib!=3.6.1,>=3.4->seaborn) (0.12.1)\n",
      "Requirement already satisfied: fonttools>=4.22.0 in d:\\python-installed\\lib\\site-packages (from matplotlib!=3.6.1,>=3.4->seaborn) (4.49.0)\n",
      "Requirement already satisfied: kiwisolver>=1.3.1 in d:\\python-installed\\lib\\site-packages (from matplotlib!=3.6.1,>=3.4->seaborn) (1.4.5)\n",
      "Requirement already satisfied: packaging>=20.0 in d:\\python-installed (from matplotlib!=3.6.1,>=3.4->seaborn) (23.2)\n",
      "Requirement already satisfied: pillow>=8 in d:\\python-installed\\lib\\site-packages (from matplotlib!=3.6.1,>=3.4->seaborn) (10.2.0)\n",
      "Requirement already satisfied: pyparsing>=2.3.1 in d:\\python-installed\\lib\\site-packages (from matplotlib!=3.6.1,>=3.4->seaborn) (3.1.1)\n",
      "Requirement already satisfied: python-dateutil>=2.7 in d:\\python-installed (from matplotlib!=3.6.1,>=3.4->seaborn) (2.8.2)\n",
      "Requirement already satisfied: pytz>=2020.1 in d:\\python-installed (from pandas>=1.2->seaborn) (2023.3.post1)\n",
      "Requirement already satisfied: tzdata>=2022.7 in d:\\python-installed (from pandas>=1.2->seaborn) (2023.4)\n",
      "Requirement already satisfied: six>=1.5 in d:\\python-installed (from python-dateutil>=2.7->matplotlib!=3.6.1,>=3.4->seaborn) (1.16.0)\n",
      "Requirement already satisfied: nltk in d:\\python-installed\\lib\\site-packages (3.8.1)"
     ]
    },
    {
     "name": "stderr",
     "output_type": "stream",
     "text": [
      "\n",
      "[notice] A new release of pip available: 22.3.1 -> 24.0\n",
      "[notice] To update, run: python.exe -m pip install --upgrade pip\n"
     ]
    },
    {
     "name": "stdout",
     "output_type": "stream",
     "text": [
      "\n",
      "Requirement already satisfied: click in d:\\python-installed (from nltk) (8.1.7)\n",
      "Requirement already satisfied: joblib in d:\\python-installed\\lib\\site-packages (from nltk) (1.3.2)\n",
      "Requirement already satisfied: regex>=2021.8.3 in d:\\python-installed\\lib\\site-packages (from nltk) (2023.12.25)\n",
      "Requirement already satisfied: tqdm in d:\\python-installed\\lib\\site-packages (from nltk) (4.66.2)\n",
      "Requirement already satisfied: colorama in d:\\python-installed (from click->nltk) (0.4.6)\n",
      "Requirement already satisfied: wordcloud in d:\\python-installed\\lib\\site-packages (1.9.3)\n",
      "Requirement already satisfied: numpy>=1.6.1 in d:\\python-installed (from wordcloud) (1.26.3)\n",
      "Requirement already satisfied: pillow in d:\\python-installed\\lib\\site-packages (from wordcloud) (10.2.0)\n",
      "Requirement already satisfied: matplotlib in d:\\python-installed\\lib\\site-packages (from wordcloud) (3.8.3)\n",
      "Requirement already satisfied: contourpy>=1.0.1 in d:\\python-installed\\lib\\site-packages (from matplotlib->wordcloud) (1.2.0)\n",
      "Requirement already satisfied: cycler>=0.10 in d:\\python-installed\\lib\\site-packages (from matplotlib->wordcloud) (0.12.1)\n",
      "Requirement already satisfied: fonttools>=4.22.0 in d:\\python-installed\\lib\\site-packages (from matplotlib->wordcloud) (4.49.0)\n",
      "Requirement already satisfied: kiwisolver>=1.3.1 in d:\\python-installed\\lib\\site-packages (from matplotlib->wordcloud) (1.4.5)\n",
      "Requirement already satisfied: packaging>=20.0 in d:\\python-installed (from matplotlib->wordcloud) (23.2)\n",
      "Requirement already satisfied: pyparsing>=2.3.1 in d:\\python-installed\\lib\\site-packages (from matplotlib->wordcloud) (3.1.1)\n",
      "Requirement already satisfied: python-dateutil>=2.7 in d:\\python-installed (from matplotlib->wordcloud) (2.8.2)\n",
      "Requirement already satisfied: six>=1.5 in d:\\python-installed (from python-dateutil>=2.7->matplotlib->wordcloud) (1.16.0)\n"
     ]
    },
    {
     "name": "stderr",
     "output_type": "stream",
     "text": [
      "\n",
      "[notice] A new release of pip available: 22.3.1 -> 24.0\n",
      "[notice] To update, run: python.exe -m pip install --upgrade pip\n"
     ]
    }
   ],
   "source": [
    "!pip install seaborn\n",
    "!pip install nltk\n",
    "!pip install wordcloud"
   ],
   "metadata": {
    "collapsed": false,
    "ExecuteTime": {
     "end_time": "2024-03-28T20:40:30.775319Z",
     "start_time": "2024-03-28T20:39:54.151190Z"
    }
   },
   "id": "5c8e3b1c817d6a84",
   "execution_count": 1
  },
  {
   "cell_type": "code",
   "execution_count": 2,
   "id": "initial_id",
   "metadata": {
    "collapsed": true,
    "ExecuteTime": {
     "end_time": "2024-03-28T20:40:44.329018Z",
     "start_time": "2024-03-28T20:40:30.783515Z"
    }
   },
   "outputs": [],
   "source": [
    "import pandas as pd\n",
    "import numpy as np\n",
    "import matplotlib.pyplot as plt\n",
    "import seaborn as sns\n",
    "import re\n",
    "from nltk.tokenize import word_tokenize\n",
    "from nltk.stem import WordNetLemmatizer\n",
    "from nltk.corpus import stopwords\n",
    "from wordcloud import WordCloud"
   ]
  },
  {
   "cell_type": "code",
   "outputs": [],
   "source": [
    "train_data = pd.read_csv(\"./Genre Classification Dataset/train_data.txt\", delimiter=':::', header=None,engine='python')"
   ],
   "metadata": {
    "collapsed": false,
    "ExecuteTime": {
     "end_time": "2024-03-28T20:46:41.465103Z",
     "start_time": "2024-03-28T20:46:39.705571Z"
    }
   },
   "id": "b5a90d56c9f40256",
   "execution_count": 3
  },
  {
   "cell_type": "code",
   "outputs": [],
   "source": [
    "test_data  = pd.read_csv(\"./Genre Classification Dataset/test_data.txt\", delimiter=':::' ,header = None ,engine='python')"
   ],
   "metadata": {
    "collapsed": false,
    "ExecuteTime": {
     "end_time": "2024-03-28T20:46:45.785057Z",
     "start_time": "2024-03-28T20:46:44.611333Z"
    }
   },
   "id": "5f0318d58b081559",
   "execution_count": 4
  },
  {
   "cell_type": "code",
   "outputs": [],
   "source": [
    "test_data_solution  = pd.read_csv(\"./Genre Classification Dataset/test_data_solution.txt\", delimiter=':::' ,header = None ,engine='python')"
   ],
   "metadata": {
    "collapsed": false,
    "ExecuteTime": {
     "end_time": "2024-03-28T20:46:47.888154Z",
     "start_time": "2024-03-28T20:46:46.762814Z"
    }
   },
   "id": "4eda8bf66d5b61f7",
   "execution_count": 5
  },
  {
   "cell_type": "code",
   "outputs": [
    {
     "name": "stdout",
     "output_type": "stream",
     "text": [
      "shape (54214, 4)\n"
     ]
    },
    {
     "data": {
      "text/plain": "   0                                   1           2  \\\n0  1       Oscar et la dame rose (2009)       drama    \n1  2                       Cupid (1997)    thriller    \n2  3   Young, Wild and Wonderful (1980)       adult    \n3  4              The Secret Sin (1915)       drama    \n4  5             The Unrecovered (2007)       drama    \n\n                                                   3  \n0   Listening in to a conversation between his do...  \n1   A brother and sister with a past incestuous r...  \n2   As the bus empties the students for their fie...  \n3   To help their unemployed father make ends mee...  \n4   The film's title refers not only to the un-re...  ",
      "text/html": "<div>\n<style scoped>\n    .dataframe tbody tr th:only-of-type {\n        vertical-align: middle;\n    }\n\n    .dataframe tbody tr th {\n        vertical-align: top;\n    }\n\n    .dataframe thead th {\n        text-align: right;\n    }\n</style>\n<table border=\"1\" class=\"dataframe\">\n  <thead>\n    <tr style=\"text-align: right;\">\n      <th></th>\n      <th>0</th>\n      <th>1</th>\n      <th>2</th>\n      <th>3</th>\n    </tr>\n  </thead>\n  <tbody>\n    <tr>\n      <th>0</th>\n      <td>1</td>\n      <td>Oscar et la dame rose (2009)</td>\n      <td>drama</td>\n      <td>Listening in to a conversation between his do...</td>\n    </tr>\n    <tr>\n      <th>1</th>\n      <td>2</td>\n      <td>Cupid (1997)</td>\n      <td>thriller</td>\n      <td>A brother and sister with a past incestuous r...</td>\n    </tr>\n    <tr>\n      <th>2</th>\n      <td>3</td>\n      <td>Young, Wild and Wonderful (1980)</td>\n      <td>adult</td>\n      <td>As the bus empties the students for their fie...</td>\n    </tr>\n    <tr>\n      <th>3</th>\n      <td>4</td>\n      <td>The Secret Sin (1915)</td>\n      <td>drama</td>\n      <td>To help their unemployed father make ends mee...</td>\n    </tr>\n    <tr>\n      <th>4</th>\n      <td>5</td>\n      <td>The Unrecovered (2007)</td>\n      <td>drama</td>\n      <td>The film's title refers not only to the un-re...</td>\n    </tr>\n  </tbody>\n</table>\n</div>"
     },
     "execution_count": 6,
     "metadata": {},
     "output_type": "execute_result"
    }
   ],
   "source": [
    "## View train data \n",
    "print(\"shape\",train_data.shape)\n",
    "train_data.head()"
   ],
   "metadata": {
    "collapsed": false,
    "ExecuteTime": {
     "end_time": "2024-03-28T20:46:49.327972Z",
     "start_time": "2024-03-28T20:46:49.286071Z"
    }
   },
   "id": "53b4b06f0693852",
   "execution_count": 6
  },
  {
   "cell_type": "code",
   "outputs": [
    {
     "data": {
      "text/plain": "   id                               Title       Genre  \\\n0   1       Oscar et la dame rose (2009)       drama    \n1   2                       Cupid (1997)    thriller    \n2   3   Young, Wild and Wonderful (1980)       adult    \n3   4              The Secret Sin (1915)       drama    \n4   5             The Unrecovered (2007)       drama    \n\n                                         Description  \n0   Listening in to a conversation between his do...  \n1   A brother and sister with a past incestuous r...  \n2   As the bus empties the students for their fie...  \n3   To help their unemployed father make ends mee...  \n4   The film's title refers not only to the un-re...  ",
      "text/html": "<div>\n<style scoped>\n    .dataframe tbody tr th:only-of-type {\n        vertical-align: middle;\n    }\n\n    .dataframe tbody tr th {\n        vertical-align: top;\n    }\n\n    .dataframe thead th {\n        text-align: right;\n    }\n</style>\n<table border=\"1\" class=\"dataframe\">\n  <thead>\n    <tr style=\"text-align: right;\">\n      <th></th>\n      <th>id</th>\n      <th>Title</th>\n      <th>Genre</th>\n      <th>Description</th>\n    </tr>\n  </thead>\n  <tbody>\n    <tr>\n      <th>0</th>\n      <td>1</td>\n      <td>Oscar et la dame rose (2009)</td>\n      <td>drama</td>\n      <td>Listening in to a conversation between his do...</td>\n    </tr>\n    <tr>\n      <th>1</th>\n      <td>2</td>\n      <td>Cupid (1997)</td>\n      <td>thriller</td>\n      <td>A brother and sister with a past incestuous r...</td>\n    </tr>\n    <tr>\n      <th>2</th>\n      <td>3</td>\n      <td>Young, Wild and Wonderful (1980)</td>\n      <td>adult</td>\n      <td>As the bus empties the students for their fie...</td>\n    </tr>\n    <tr>\n      <th>3</th>\n      <td>4</td>\n      <td>The Secret Sin (1915)</td>\n      <td>drama</td>\n      <td>To help their unemployed father make ends mee...</td>\n    </tr>\n    <tr>\n      <th>4</th>\n      <td>5</td>\n      <td>The Unrecovered (2007)</td>\n      <td>drama</td>\n      <td>The film's title refers not only to the un-re...</td>\n    </tr>\n  </tbody>\n</table>\n</div>"
     },
     "execution_count": 7,
     "metadata": {},
     "output_type": "execute_result"
    }
   ],
   "source": [
    "train_data.columns = [\"id\", \"Title\", \"Genre\", \"Description\"]\n",
    "train_data.head()"
   ],
   "metadata": {
    "collapsed": false,
    "ExecuteTime": {
     "end_time": "2024-03-28T20:46:52.013066Z",
     "start_time": "2024-03-28T20:46:51.997839Z"
    }
   },
   "id": "dd12adb2c61299bd",
   "execution_count": 7
  },
  {
   "cell_type": "code",
   "outputs": [],
   "source": [
    "train_data.drop_duplicates(inplace = True)"
   ],
   "metadata": {
    "collapsed": false,
    "ExecuteTime": {
     "end_time": "2024-03-28T20:46:55.315014Z",
     "start_time": "2024-03-28T20:46:55.045509Z"
    }
   },
   "id": "1155bc4b090a13f2",
   "execution_count": 8
  },
  {
   "cell_type": "code",
   "outputs": [],
   "source": [
    "train_data.dropna( inplace = True )"
   ],
   "metadata": {
    "collapsed": false,
    "ExecuteTime": {
     "end_time": "2024-03-28T20:46:56.569462Z",
     "start_time": "2024-03-28T20:46:56.521764Z"
    }
   },
   "id": "d1d7f0fbbbb4bb3e",
   "execution_count": 9
  },
  {
   "cell_type": "code",
   "outputs": [
    {
     "name": "stderr",
     "output_type": "stream",
     "text": [
      "[nltk_data] Downloading package punkt to\n",
      "[nltk_data]     C:\\Users\\Raveena\\AppData\\Roaming\\nltk_data...\n",
      "[nltk_data]   Package punkt is already up-to-date!\n",
      "[nltk_data] Downloading package stopwords to\n",
      "[nltk_data]     C:\\Users\\Raveena\\AppData\\Roaming\\nltk_data...\n",
      "[nltk_data]   Package stopwords is already up-to-date!\n",
      "[nltk_data] Downloading package wordnet to\n",
      "[nltk_data]     C:\\Users\\Raveena\\AppData\\Roaming\\nltk_data...\n",
      "[nltk_data]   Package wordnet is already up-to-date!\n"
     ]
    }
   ],
   "source": [
    "import nltk\n",
    "nltk.download('punkt')\n",
    "nltk.download('stopwords')\n",
    "nltk.download('wordnet')\n",
    "\n",
    "stopword = set(stopwords.words('english'))\n",
    "\n",
    "def preprocessing(text):\n",
    "    # Convert text to lowercase\n",
    "    text = text.lower()\n",
    "    \n",
    "    # Remove punctuation using regular expressions\n",
    "    text = re.sub(r'[^\\w\\s]', '', text)\n",
    "    \n",
    "    # Remove specific characters #, @, and $\n",
    "    text = re.sub(r'[#@\\$]', '', text)\n",
    "    \n",
    "    # tokenize and convert to list\n",
    "    tokens = word_tokenize(text)\n",
    "    \n",
    "    ## Lemmatize it \n",
    "    lemmatizer  = WordNetLemmatizer()\n",
    "    \n",
    "    ## lemmatize each token\n",
    "   # text = [lemmatizer.lemmatize(token) for token in tokens]\n",
    "    text = text.split()\n",
    "    \n",
    "    text = [word for word in text if word not in stopword]\n",
    "    \n",
    "    \n",
    "    return \" \".join(text) "
   ],
   "metadata": {
    "collapsed": false,
    "ExecuteTime": {
     "end_time": "2024-03-28T20:46:59.098633Z",
     "start_time": "2024-03-28T20:46:58.618075Z"
    }
   },
   "id": "1830a925279018c7",
   "execution_count": 10
  },
  {
   "cell_type": "code",
   "outputs": [
    {
     "name": "stdout",
     "output_type": "stream",
     "text": [
      "Genre\n",
      "drama           13613\n",
      "documentary     13096\n",
      "comedy           7447\n",
      "short            5073\n",
      "horror           2204\n",
      "thriller         1591\n",
      "action           1315\n",
      "western          1032\n",
      "reality-tv        884\n",
      "family            784\n",
      "adventure         775\n",
      "music             731\n",
      "romance           672\n",
      "sci-fi            647\n",
      "adult             590\n",
      "crime             505\n",
      "animation         498\n",
      "sport             432\n",
      "talk-show         391\n",
      "fantasy           323\n",
      "mystery           319\n",
      "musical           277\n",
      "biography         265\n",
      "history           243\n",
      "game-show         194\n",
      "news              181\n",
      "war               132\n",
      "Name: count, dtype: int64\n"
     ]
    }
   ],
   "source": [
    "# Predefined genres list\n",
    "# predefined_genres = [\"comedy\", \"horror\", \"thriller\", \"action\"]\n",
    "# \n",
    "# # Convert genre column in train_data to lowercase\n",
    "# train_data['Genre'] = train_data['Genre'].str.lower()\n",
    "# \n",
    "# print(train_data[\"Genre\"].value_counts())\n",
    "# \n",
    "# # # Convert predefined genres list to lowercase\n",
    "# predefined_genres = [genre.lower() for genre in predefined_genres]\n",
    "# \n",
    "# # # Filter the training data to keep only rows with genres in the predefined list\n",
    "# data = train_data[train_data['Genre'].isin(predefined_genres)]\n",
    "# \n",
    "# # Reset index if needed\n",
    "# data.reset_index(drop=True, inplace=True)\n",
    "# \n",
    "# # Display the filtered data\n",
    "# print(data.head())\n",
    "\n",
    "# Display the count of each genre in the filtered data\n",
    "print(train_data[\"Genre\"].value_counts())"
   ],
   "metadata": {
    "collapsed": false,
    "ExecuteTime": {
     "end_time": "2024-03-28T20:47:05.328183Z",
     "start_time": "2024-03-28T20:47:05.310634Z"
    }
   },
   "id": "cbe7e2394d9b0763",
   "execution_count": 11
  },
  {
   "cell_type": "code",
   "outputs": [
    {
     "data": {
      "text/plain": "<Figure size 2000x1000 with 1 Axes>",
      "image/png": "[encoded data removed]"
     },
     "metadata": {},
     "output_type": "display_data"
    }
   ],
   "source": [
    "# Create a histogram of genre distribution\n",
    "plt.figure(figsize=(20, 10))\n",
    "plt.hist(train_data[\"Genre\"],bins =27 , color='blue', alpha=0.7)\n",
    "plt.title(\"Genre Distribution\")\n",
    "plt.xlabel(\"Genres\")\n",
    "plt.ylabel(\"Frequency\")\n",
    "plt.xticks(rotation=90)\n",
    "plt.show()"
   ],
   "metadata": {
    "collapsed": false,
    "ExecuteTime": {
     "end_time": "2024-03-28T20:47:12.143127Z",
     "start_time": "2024-03-28T20:47:10.069900Z"
    }
   },
   "id": "f1d9cc3ce16be6d6",
   "execution_count": 12
  },
  {
   "cell_type": "code",
   "outputs": [
    {
     "data": {
      "text/plain": "   id                               Title       Genre  \\\n0   1       Oscar et la dame rose (2009)       drama    \n1   2                       Cupid (1997)    thriller    \n2   3   Young, Wild and Wonderful (1980)       adult    \n3   4              The Secret Sin (1915)       drama    \n4   5             The Unrecovered (2007)       drama    \n\n                                         Description  \n0   Listening in to a conversation between his do...  \n1   A brother and sister with a past incestuous r...  \n2   As the bus empties the students for their fie...  \n3   To help their unemployed father make ends mee...  \n4   The film's title refers not only to the un-re...  ",
      "text/html": "<div>\n<style scoped>\n    .dataframe tbody tr th:only-of-type {\n        vertical-align: middle;\n    }\n\n    .dataframe tbody tr th {\n        vertical-align: top;\n    }\n\n    .dataframe thead th {\n        text-align: right;\n    }\n</style>\n<table border=\"1\" class=\"dataframe\">\n  <thead>\n    <tr style=\"text-align: right;\">\n      <th></th>\n      <th>id</th>\n      <th>Title</th>\n      <th>Genre</th>\n      <th>Description</th>\n    </tr>\n  </thead>\n  <tbody>\n    <tr>\n      <th>0</th>\n      <td>1</td>\n      <td>Oscar et la dame rose (2009)</td>\n      <td>drama</td>\n      <td>Listening in to a conversation between his do...</td>\n    </tr>\n    <tr>\n      <th>1</th>\n      <td>2</td>\n      <td>Cupid (1997)</td>\n      <td>thriller</td>\n      <td>A brother and sister with a past incestuous r...</td>\n    </tr>\n    <tr>\n      <th>2</th>\n      <td>3</td>\n      <td>Young, Wild and Wonderful (1980)</td>\n      <td>adult</td>\n      <td>As the bus empties the students for their fie...</td>\n    </tr>\n    <tr>\n      <th>3</th>\n      <td>4</td>\n      <td>The Secret Sin (1915)</td>\n      <td>drama</td>\n      <td>To help their unemployed father make ends mee...</td>\n    </tr>\n    <tr>\n      <th>4</th>\n      <td>5</td>\n      <td>The Unrecovered (2007)</td>\n      <td>drama</td>\n      <td>The film's title refers not only to the un-re...</td>\n    </tr>\n  </tbody>\n</table>\n</div>"
     },
     "execution_count": 13,
     "metadata": {},
     "output_type": "execute_result"
    }
   ],
   "source": [
    "# data = train_data.drop([\"Title\",\"id\"] , axis = 1) # will drop column \n",
    "# data.head()\n",
    "\n",
    "# Reset index if needed\n",
    "train_data.reset_index(drop=True, inplace=True)\n",
    "\n",
    "# Display the filtered data\n",
    "train_data.head()"
   ],
   "metadata": {
    "collapsed": false,
    "ExecuteTime": {
     "end_time": "2024-03-28T20:47:15.203818Z",
     "start_time": "2024-03-28T20:47:15.138448Z"
    }
   },
   "id": "980d776915ab3f9c",
   "execution_count": 13
  },
  {
   "cell_type": "code",
   "outputs": [
    {
     "data": {
      "text/plain": "   id                               Title       Genre  \\\n0   1       Oscar et la dame rose (2009)       drama    \n1   2                       Cupid (1997)    thriller    \n2   3   Young, Wild and Wonderful (1980)       adult    \n3   4              The Secret Sin (1915)       drama    \n4   5             The Unrecovered (2007)       drama    \n\n                                         Description  \\\n0   Listening in to a conversation between his do...   \n1   A brother and sister with a past incestuous r...   \n2   As the bus empties the students for their fie...   \n3   To help their unemployed father make ends mee...   \n4   The film's title refers not only to the un-re...   \n\n                                  Despcription_clean  \n0  listening conversation doctor parents 10yearol...  \n1  brother sister past incestuous relationship cu...  \n2  bus empties students field trip museum natural...  \n3  help unemployed father make ends meet edith tw...  \n4  films title refers unrecovered bodies ground z...  ",
      "text/html": "<div>\n<style scoped>\n    .dataframe tbody tr th:only-of-type {\n        vertical-align: middle;\n    }\n\n    .dataframe tbody tr th {\n        vertical-align: top;\n    }\n\n    .dataframe thead th {\n        text-align: right;\n    }\n</style>\n<table border=\"1\" class=\"dataframe\">\n  <thead>\n    <tr style=\"text-align: right;\">\n      <th></th>\n      <th>id</th>\n      <th>Title</th>\n      <th>Genre</th>\n      <th>Description</th>\n      <th>Despcription_clean</th>\n    </tr>\n  </thead>\n  <tbody>\n    <tr>\n      <th>0</th>\n      <td>1</td>\n      <td>Oscar et la dame rose (2009)</td>\n      <td>drama</td>\n      <td>Listening in to a conversation between his do...</td>\n      <td>listening conversation doctor parents 10yearol...</td>\n    </tr>\n    <tr>\n      <th>1</th>\n      <td>2</td>\n      <td>Cupid (1997)</td>\n      <td>thriller</td>\n      <td>A brother and sister with a past incestuous r...</td>\n      <td>brother sister past incestuous relationship cu...</td>\n    </tr>\n    <tr>\n      <th>2</th>\n      <td>3</td>\n      <td>Young, Wild and Wonderful (1980)</td>\n      <td>adult</td>\n      <td>As the bus empties the students for their fie...</td>\n      <td>bus empties students field trip museum natural...</td>\n    </tr>\n    <tr>\n      <th>3</th>\n      <td>4</td>\n      <td>The Secret Sin (1915)</td>\n      <td>drama</td>\n      <td>To help their unemployed father make ends mee...</td>\n      <td>help unemployed father make ends meet edith tw...</td>\n    </tr>\n    <tr>\n      <th>4</th>\n      <td>5</td>\n      <td>The Unrecovered (2007)</td>\n      <td>drama</td>\n      <td>The film's title refers not only to the un-re...</td>\n      <td>films title refers unrecovered bodies ground z...</td>\n    </tr>\n  </tbody>\n</table>\n</div>"
     },
     "execution_count": 14,
     "metadata": {},
     "output_type": "execute_result"
    }
   ],
   "source": [
    "train_data[\"Despcription_clean\"] =  train_data[\"Description\"].apply(preprocessing)\n",
    "train_data.head()"
   ],
   "metadata": {
    "collapsed": false,
    "ExecuteTime": {
     "end_time": "2024-03-28T20:47:46.567987Z",
     "start_time": "2024-03-28T20:47:17.934467Z"
    }
   },
   "id": "91c93be0fcf1c1f6",
   "execution_count": 14
  },
  {
   "cell_type": "code",
   "outputs": [],
   "source": [
    "from sklearn.ensemble import RandomForestClassifier \n",
    "from sklearn.feature_extraction.text import CountVectorizer\n",
    "from sklearn.feature_extraction.text import TfidfVectorizer\n",
    "from sklearn.model_selection import train_test_split\n",
    "\n",
    "from sklearn.metrics import classification_report,confusion_matrix,ConfusionMatrixDisplay"
   ],
   "metadata": {
    "collapsed": false,
    "ExecuteTime": {
     "end_time": "2024-03-28T20:54:32.018966Z",
     "start_time": "2024-03-28T20:54:32.007563Z"
    }
   },
   "id": "e75fa9e1deb49c15",
   "execution_count": 19
  },
  {
   "cell_type": "code",
   "outputs": [
    {
     "data": {
      "text/plain": "[' action ',\n ' adult ',\n ' adventure ',\n ' animation ',\n ' biography ',\n ' comedy ',\n ' crime ',\n ' documentary ',\n ' drama ',\n ' family ',\n ' fantasy ',\n ' game-show ',\n ' history ',\n ' horror ',\n ' music ',\n ' musical ',\n ' mystery ',\n ' news ',\n ' reality-tv ',\n ' romance ',\n ' sci-fi ',\n ' short ',\n ' sport ',\n ' talk-show ',\n ' thriller ',\n ' war ',\n ' western ']"
     },
     "execution_count": 20,
     "metadata": {},
     "output_type": "execute_result"
    }
   ],
   "source": [
    "#Convert sentiment labels to numerical values for modeling\n",
    "from sklearn.preprocessing import LabelEncoder\n",
    "label_encoder = LabelEncoder()\n",
    "train_data['Genre_encoded'] = label_encoder.fit_transform(train_data['Genre'])\n",
    "train_data['Genre_encoded']\n",
    "\n",
    "class_names= list(label_encoder.classes_)\n",
    "class_names   "
   ],
   "metadata": {
    "collapsed": false,
    "ExecuteTime": {
     "end_time": "2024-03-28T20:54:33.430292Z",
     "start_time": "2024-03-28T20:54:33.408273Z"
    }
   },
   "id": "50f24286c1c552e3",
   "execution_count": 20
  },
  {
   "cell_type": "code",
   "outputs": [],
   "source": [
    "## Split the data\n",
    "x = train_data[\"Despcription_clean\"]\n",
    "y = train_data[\"Genre\"]\n",
    "\n",
    "x_train ,x_test ,y_train ,y_test = train_test_split(x ,y ,test_size = 0.2)"
   ],
   "metadata": {
    "collapsed": false,
    "ExecuteTime": {
     "end_time": "2024-03-28T20:54:36.537492Z",
     "start_time": "2024-03-28T20:54:36.505913Z"
    }
   },
   "id": "6b91402efa49fb2a",
   "execution_count": 21
  },
  {
   "cell_type": "code",
   "outputs": [],
   "source": [
    "## Using TfidfVectorizer technique\n",
    "vectorizer = TfidfVectorizer()\n",
    "x_train2 = vectorizer.fit_transform(x_train)\n",
    "x_test2 =  vectorizer.transform(x_test)"
   ],
   "metadata": {
    "collapsed": false,
    "ExecuteTime": {
     "end_time": "2024-03-28T20:54:44.347825Z",
     "start_time": "2024-03-28T20:54:37.969847Z"
    }
   },
   "id": "3c41c5be5abf9e36",
   "execution_count": 22
  },
  {
   "cell_type": "code",
   "outputs": [],
   "source": [
    "from sklearn.model_selection import GridSearchCV\n",
    "from sklearn.ensemble import RandomForestClassifier\n",
    "from sklearn.metrics import classification_report\n",
    "\n",
    "# Define parameter grid for hyperparameter tuning\n",
    "param_grid = {\n",
    "    'n_estimators': [50, 100, 200],\n",
    "    'max_depth': [None, 10, 20],\n",
    "    'min_samples_split': [2, 5, 10],\n",
    "    'min_samples_leaf': [1, 2, 4]\n",
    "}\n",
    "\n",
    "# Instantiate the Random Forest classifier with random_state\n",
    "rf = RandomForestClassifier(random_state=42)\n",
    "\n",
    "# Instantiate GridSearchCV with Random Forest classifier and parameter grid\n",
    "grid_search = GridSearchCV(estimator=rf, param_grid=param_grid, cv=5, n_jobs=1)\n",
    "\n",
    "# Perform cross-validation with GridSearchCV\n",
    "grid_search.fit(x_train2, y_train)\n",
    "\n",
    "# Get the best model from GridSearchCV\n",
    "best_rf = grid_search.best_estimator_\n",
    "\n",
    "# Evaluate the best model\n",
    "train_score = best_rf.score(x_train2, y_train)\n",
    "test_score = best_rf.score(x_test2, y_test)\n",
    "print(\"Best Random Forest Model - Train Score:\", train_score)\n",
    "print(\"Best Random Forest Model - Test Score:\", test_score)\n",
    "\n",
    "# Make predictions and print classification report\n",
    "y_pred = best_rf.predict(x_test2)\n",
    "print(classification_report(y_test, y_pred))\n",
    "\n",
    "\n",
    "# from sklearn.model_selection import cross_val_score\n",
    "# \n",
    "# \n",
    "# # Create a Random Forest model\n",
    "# # random_forest = RandomForestClassifier(n_estimators=100, max_depth=10)\n",
    "# random_forest = RandomForestClassifier()\n",
    "# # Perform cross-validation\n",
    "# cv_scores = cross_val_score(random_forest, x_train2, y_train, cv=5)\n",
    "# \n",
    "# # Fit the model with GridSearchCV\n",
    "# random_forest.fit(x_train2, y_train)\n",
    "# \n",
    "# \n",
    "# print(\"Random Forest - Train Score:\",random_forest.score(x_train2, y_train))\n",
    "# print(\"Random Forest - Test Score:\", random_forest.score(x_test2, y_test))\n",
    "# \n",
    "# y_pred = random_forest.predict(x_test2)\n",
    "# print(classification_report(y_pred ,y_test))\n",
    "\n",
    "# Perform cross-validation\n",
    "# cv_scores = cross_val_score(random_forest, x_train2, y_train, cv=5)\n",
    "\n",
    "# # Print the cross-validation scores\n",
    "# print(\"Cross-Validation Scores:\", cv_scores)\n",
    "# \n",
    "# # Print the mean and standard deviation of the cross-validation scores\n",
    "# print(\"Mean CV Score:\", cv_scores.mean())\n",
    "# print(\"Std Dev CV Score:\", cv_scores.std())\n",
    "\n",
    "# cm = confusion_matrix(y_test, y_pred)\n",
    "# \n",
    "# plt.figure(figsize=(15, 15))  # Adjust the figure size as needed\n",
    "# sns.heatmap(cm, annot=True, fmt='d', cbar=False, \n",
    "#             xticklabels=class_names, yticklabels=class_names)  # Replace 'class_names' with your class labels\n",
    "# plt.xlabel('Predicted Labels')\n",
    "# plt.ylabel('True Labels')\n",
    "# plt.title('Confusion Matrix Heatmap')\n",
    "# plt.show()\n"
   ],
   "metadata": {
    "collapsed": false,
    "is_executing": true,
    "ExecuteTime": {
     "start_time": "2024-03-22T22:35:02.600427Z"
    }
   },
   "id": "f726e72d10e9a7e0",
   "execution_count": null
  },
  {
   "cell_type": "code",
   "outputs": [],
   "source": [
    "from sklearn.ensemble import RandomForestClassifier, GradientBoostingClassifier\n",
    "from sklearn.linear_model import LogisticRegression\n",
    "from sklearn.model_selection import train_test_split\n",
    "from sklearn.metrics import accuracy_score\n",
    "\n",
    "# Step 1: Train base models\n",
    "# X_train, X_test, y_train, y_test = train_test_split(features, labels, test_size=0.2, random_state=42)\n",
    "\n",
    "# Step 2: TF-IDF vectorization\n",
    "tfidf_vectorizer = TfidfVectorizer()\n",
    "x_train_tfidf = tfidf_vectorizer.fit_transform(x_train)\n",
    "x_test_tfidf = tfidf_vectorizer.transform(x_test)\n",
    "\n",
    "# Step 3: Train base models\n",
    "rf_model = RandomForestClassifier()\n",
    "rf_model.fit(x_train_tfidf, y_train)\n",
    "\n",
    "gb_model = GradientBoostingClassifier()\n",
    "gb_model.fit(x_train_tfidf, y_train)\n",
    "\n",
    "# Step 4: Make predictions with base models\n",
    "rf_predictions = rf_model.predict(x_test_tfidf)\n",
    "gb_predictions = gb_model.predict(x_test_tfidf)\n",
    "\n",
    "# Step 5: Train meta-model\n",
    "meta_features = np.column_stack((rf_predictions, gb_predictions))\n",
    "meta_model = LogisticRegression()\n",
    "meta_model.fit(meta_features, y_test)\n",
    "\n",
    "# Step 6: Evaluate accuracy\n",
    "final_accuracy = meta_model.score(meta_features, y_test)\n",
    "print(\"Final Accuracy:\", final_accuracy)"
   ],
   "metadata": {
    "collapsed": false,
    "is_executing": true,
    "ExecuteTime": {
     "start_time": "2024-03-28T21:00:34.176787Z"
    }
   },
   "id": "1e04aed51d25b13a",
   "execution_count": null
  },
  {
   "cell_type": "code",
   "outputs": [
    {
     "ename": "NameError",
     "evalue": "name 'x_train2' is not defined",
     "output_type": "error",
     "traceback": [
      "\u001B[1;31m---------------------------------------------------------------------------\u001B[0m",
      "\u001B[1;31mNameError\u001B[0m                                 Traceback (most recent call last)",
      "Cell \u001B[1;32mIn[1], line 8\u001B[0m\n\u001B[0;32m      5\u001B[0m rf \u001B[38;5;241m=\u001B[39m RandomForestClassifier(n_estimators\u001B[38;5;241m=\u001B[39m\u001B[38;5;241m500\u001B[39m, max_depth\u001B[38;5;241m=\u001B[39m\u001B[38;5;241m50\u001B[39m, min_samples_split\u001B[38;5;241m=\u001B[39m\u001B[38;5;241m50\u001B[39m, min_samples_leaf\u001B[38;5;241m=\u001B[39m\u001B[38;5;241m50\u001B[39m, random_state\u001B[38;5;241m=\u001B[39m\u001B[38;5;241m42\u001B[39m)\n\u001B[0;32m      7\u001B[0m \u001B[38;5;66;03m# Fit the Random Forest classifier to the training data\u001B[39;00m\n\u001B[1;32m----> 8\u001B[0m rf\u001B[38;5;241m.\u001B[39mfit(\u001B[43mx_train2\u001B[49m, y_train)\n\u001B[0;32m     10\u001B[0m \u001B[38;5;66;03m# Evaluate the Random Forest classifier\u001B[39;00m\n\u001B[0;32m     11\u001B[0m train_score \u001B[38;5;241m=\u001B[39m rf\u001B[38;5;241m.\u001B[39mscore(x_train2, y_train)\n",
      "\u001B[1;31mNameError\u001B[0m: name 'x_train2' is not defined"
     ]
    }
   ],
   "source": [
    "#working random forest classifier\n",
    "from sklearn.ensemble import RandomForestClassifier\n",
    "from sklearn.metrics import classification_report\n",
    "\n",
    "# Instantiate the Random Forest classifier with the specified hyperparameters\n",
    "rf = RandomForestClassifier(n_estimators=500, max_depth=50, min_samples_split=50, min_samples_leaf=50, random_state=42)\n",
    "\n",
    "# Fit the Random Forest classifier to the training data\n",
    "rf.fit(x_train2, y_train)\n",
    "\n",
    "# Evaluate the Random Forest classifier\n",
    "train_score = rf.score(x_train2, y_train)\n",
    "test_score = rf.score(x_test2, y_test)\n",
    "print(\"Random Forest Model - Train Score:\", train_score)\n",
    "print(\"Random Forest Model - Test Score:\", test_score)\n",
    "\n",
    "# Make predictions and print classification report\n",
    "y_pred = rf.predict(x_test2)\n",
    "print(classification_report(y_test, y_pred))"
   ],
   "metadata": {
    "collapsed": false,
    "ExecuteTime": {
     "end_time": "2024-03-28T22:43:27.923529Z",
     "start_time": "2024-03-28T22:43:21.959320Z"
    }
   },
   "id": "44232067396d70d9",
   "execution_count": 1
  },
  {
   "cell_type": "code",
   "outputs": [],
   "source": [],
   "metadata": {
    "collapsed": false
   },
   "id": "121b2c596795818d"
  }
 ],
 "metadata": {
  "kernelspec": {
   "display_name": "Python 3",
   "language": "python",
   "name": "python3"
  },
  "language_info": {
   "codemirror_mode": {
    "name": "ipython",
    "version": 2
   },
   "file_extension": ".py",
   "mimetype": "text/x-python",
   "name": "python",
   "nbconvert_exporter": "python",
   "pygments_lexer": "ipython2",
   "version": "2.7.6"
  }
 },
 "nbformat": 4,
 "nbformat_minor": 5
}
