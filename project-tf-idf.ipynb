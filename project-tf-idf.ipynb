{
 "cells": [
  {
   "cell_type": "code",
   "outputs": [],
   "source": [
    "#scikit learn tf-idf\n",
    "import pandas as pd\n",
    "from sklearn.feature_extraction.text import TfidfVectorizer\n",
    "from sklearn.ensemble import RandomForestClassifier\n",
    "from sklearn.model_selection import train_test_split\n",
    "from sklearn.metrics import classification_report\n",
    "\n",
    "# Load your dataset\n",
    "# Assuming df is your DataFrame with columns: title, director, writer, actor1, actor2, actor3, actor4, and plot\n",
    "# Adjust the file path as per your data\n",
    "df = pd.read_csv(\"final_dataset_with_df2.csv\")\n",
    "\n",
    "# Combine data from all columns into a single feature column\n",
    "df['combined_text'] = df['title'] + ' ' + df['director'] + ' ' + df['writer'] + ' ' + df['actor1'] + ' ' + df['actor2'] + ' ' + df['actor3'] + ' ' + df['actor4'] + ' ' + df['plot']\n",
    "\n",
    "# Initialize TF-IDF vectorizer\n",
    "tfidf_vectorizer = TfidfVectorizer()\n",
    "\n",
    "# Fit and transform the combined text using TF-IDF vectorizer\n",
    "X = tfidf_vectorizer.fit_transform(df['combined_text'])\n",
    "\n",
    "# Define target variable\n",
    "y = df['genre']  # Specify the target column for classification\n",
    "\n",
    "# Split the dataset into training and testing sets\n",
    "X_train, X_test, y_train, y_test = train_test_split(X, y, test_size=0.3, random_state=42)\n",
    "\n",
    "# Initialize Random Forest classifier\n",
    "rf_classifier = RandomForestClassifier(n_estimators=500, max_depth=50, min_samples_split=50, min_samples_leaf=50, random_state=42)\n",
    "\n",
    "# Train the classifier\n",
    "rf_classifier.fit(X_train, y_train)\n",
    "\n",
    "# Make predictions on the test set\n",
    "y_pred = rf_classifier.predict(X_test)\n",
    "\n",
    "# Evaluate the classifier\n",
    "print(classification_report(y_test, y_pred))"
   ],
   "metadata": {
    "collapsed": false
   },
   "id": "5c8e3b1c817d6a84",
   "execution_count": null
  },
  {
   "cell_type": "code",
   "outputs": [],
   "source": [],
   "metadata": {
    "collapsed": false
   },
   "id": "121b2c596795818d"
  }
 ],
 "metadata": {
  "kernelspec": {
   "display_name": "Python 3",
   "language": "python",
   "name": "python3"
  },
  "language_info": {
   "codemirror_mode": {
    "name": "ipython",
    "version": 2
   },
   "file_extension": ".py",
   "mimetype": "text/x-python",
   "name": "python",
   "nbconvert_exporter": "python",
   "pygments_lexer": "ipython2",
   "version": "2.7.6"
  }
 },
 "nbformat": 4,
 "nbformat_minor": 5
}
